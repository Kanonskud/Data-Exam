{
  "nbformat": 4,
  "nbformat_minor": 0,
  "metadata": {
    "colab": {
      "name": "EXAM.ipynb",
      "provenance": [],
      "collapsed_sections": [],
      "mount_file_id": "1y9I0QeyARFtvlBMLULI2AJKBEPacgZZh",
      "authorship_tag": "ABX9TyOrdRdg53qQl0Y/t+gOH9Hm",
      "include_colab_link": true
    },
    "kernelspec": {
      "name": "python3",
      "display_name": "Python 3"
    },
    "accelerator": "GPU"
  },
  "cells": [
    {
      "cell_type": "markdown",
      "metadata": {
        "id": "view-in-github",
        "colab_type": "text"
      },
      "source": [
        "<a href=\"https://colab.research.google.com/github/Kanonskud/Data-Exam/blob/main/EXAM.ipynb\" target=\"_parent\"><img src=\"https://colab.research.google.com/assets/colab-badge.svg\" alt=\"Open In Colab\"/></a>"
      ]
    },
    {
      "cell_type": "code",
      "metadata": {
        "id": "891pWqvFc6WI"
      },
      "source": [
        "pip install selenium"
      ],
      "execution_count": null,
      "outputs": []
    },
    {
      "cell_type": "code",
      "metadata": {
        "id": "K1hVOi3Wds6C"
      },
      "source": [
        "!pip install selenium\r\n",
        "!apt-get update # to update ubuntu to correctly run apt install\r\n",
        "!apt install chromium-chromedriver\r\n",
        "!cp /usr/lib/chromium-browser/chromedriver /usr/bin\r\n",
        "import sys\r\n",
        "sys.path.insert(0,'/usr/lib/chromium-browser/chromedriver')\r\n",
        "from selenium import webdriver\r\n",
        "\r\n"
      ],
      "execution_count": null,
      "outputs": []
    },
    {
      "cell_type": "code",
      "metadata": {
        "colab": {
          "base_uri": "https://localhost:8080/"
        },
        "id": "EYgU7yI7HA-5",
        "outputId": "9db0f49b-26c7-4259-f750-c9f5f9acbef5"
      },
      "source": [
        "pip install yfinance"
      ],
      "execution_count": 2,
      "outputs": [
        {
          "output_type": "stream",
          "text": [
            "Collecting yfinance\n",
            "  Downloading https://files.pythonhosted.org/packages/7a/e8/b9d7104d3a4bf39924799067592d9e59119fcfc900a425a12e80a3123ec8/yfinance-0.1.55.tar.gz\n",
            "Requirement already satisfied: pandas>=0.24 in /usr/local/lib/python3.6/dist-packages (from yfinance) (1.1.5)\n",
            "Requirement already satisfied: numpy>=1.15 in /usr/local/lib/python3.6/dist-packages (from yfinance) (1.19.5)\n",
            "Requirement already satisfied: requests>=2.20 in /usr/local/lib/python3.6/dist-packages (from yfinance) (2.23.0)\n",
            "Requirement already satisfied: multitasking>=0.0.7 in /usr/local/lib/python3.6/dist-packages (from yfinance) (0.0.9)\n",
            "Collecting lxml>=4.5.1\n",
            "\u001b[?25l  Downloading https://files.pythonhosted.org/packages/bd/78/56a7c88a57d0d14945472535d0df9fb4bbad7d34ede658ec7961635c790e/lxml-4.6.2-cp36-cp36m-manylinux1_x86_64.whl (5.5MB)\n",
            "\u001b[K     |████████████████████████████████| 5.5MB 17.5MB/s \n",
            "\u001b[?25hRequirement already satisfied: pytz>=2017.2 in /usr/local/lib/python3.6/dist-packages (from pandas>=0.24->yfinance) (2018.9)\n",
            "Requirement already satisfied: python-dateutil>=2.7.3 in /usr/local/lib/python3.6/dist-packages (from pandas>=0.24->yfinance) (2.8.1)\n",
            "Requirement already satisfied: urllib3!=1.25.0,!=1.25.1,<1.26,>=1.21.1 in /usr/local/lib/python3.6/dist-packages (from requests>=2.20->yfinance) (1.24.3)\n",
            "Requirement already satisfied: certifi>=2017.4.17 in /usr/local/lib/python3.6/dist-packages (from requests>=2.20->yfinance) (2020.12.5)\n",
            "Requirement already satisfied: idna<3,>=2.5 in /usr/local/lib/python3.6/dist-packages (from requests>=2.20->yfinance) (2.10)\n",
            "Requirement already satisfied: chardet<4,>=3.0.2 in /usr/local/lib/python3.6/dist-packages (from requests>=2.20->yfinance) (3.0.4)\n",
            "Requirement already satisfied: six>=1.5 in /usr/local/lib/python3.6/dist-packages (from python-dateutil>=2.7.3->pandas>=0.24->yfinance) (1.15.0)\n",
            "Building wheels for collected packages: yfinance\n",
            "  Building wheel for yfinance (setup.py) ... \u001b[?25l\u001b[?25hdone\n",
            "  Created wheel for yfinance: filename=yfinance-0.1.55-py2.py3-none-any.whl size=22616 sha256=f35148220eea8d347ac028c044a3d5c90dd7d39a5728bf246c419138ff5a5d83\n",
            "  Stored in directory: /root/.cache/pip/wheels/04/98/cc/2702a4242d60bdc14f48b4557c427ded1fe92aedf257d4565c\n",
            "Successfully built yfinance\n",
            "Installing collected packages: lxml, yfinance\n",
            "  Found existing installation: lxml 4.2.6\n",
            "    Uninstalling lxml-4.2.6:\n",
            "      Successfully uninstalled lxml-4.2.6\n",
            "Successfully installed lxml-4.6.2 yfinance-0.1.55\n"
          ],
          "name": "stdout"
        }
      ]
    },
    {
      "cell_type": "code",
      "metadata": {
        "colab": {
          "base_uri": "https://localhost:8080/"
        },
        "id": "_Esebs3oHTug",
        "outputId": "21b8f307-b1f5-4d36-8dab-39d655995a93"
      },
      "source": [
        "pip install git+https://github.com/quantopian/pyfolio\r\n"
      ],
      "execution_count": 3,
      "outputs": [
        {
          "output_type": "stream",
          "text": [
            "Collecting git+https://github.com/quantopian/pyfolio\n",
            "  Cloning https://github.com/quantopian/pyfolio to /tmp/pip-req-build-qmgl9lrl\n",
            "  Running command git clone -q https://github.com/quantopian/pyfolio /tmp/pip-req-build-qmgl9lrl\n",
            "Requirement already satisfied: ipython>=3.2.3 in /usr/local/lib/python3.6/dist-packages (from pyfolio==0.9.2+75.g4b901f6) (5.5.0)\n",
            "Requirement already satisfied: matplotlib>=1.4.0 in /usr/local/lib/python3.6/dist-packages (from pyfolio==0.9.2+75.g4b901f6) (3.2.2)\n",
            "Requirement already satisfied: numpy>=1.11.1 in /usr/local/lib/python3.6/dist-packages (from pyfolio==0.9.2+75.g4b901f6) (1.19.5)\n",
            "Requirement already satisfied: pandas>=0.18.1 in /usr/local/lib/python3.6/dist-packages (from pyfolio==0.9.2+75.g4b901f6) (1.1.5)\n",
            "Requirement already satisfied: pytz>=2014.10 in /usr/local/lib/python3.6/dist-packages (from pyfolio==0.9.2+75.g4b901f6) (2018.9)\n",
            "Requirement already satisfied: scipy>=0.14.0 in /usr/local/lib/python3.6/dist-packages (from pyfolio==0.9.2+75.g4b901f6) (1.4.1)\n",
            "Requirement already satisfied: scikit-learn>=0.16.1 in /usr/local/lib/python3.6/dist-packages (from pyfolio==0.9.2+75.g4b901f6) (0.22.2.post1)\n",
            "Requirement already satisfied: seaborn>=0.7.1 in /usr/local/lib/python3.6/dist-packages (from pyfolio==0.9.2+75.g4b901f6) (0.11.1)\n",
            "Collecting empyrical>=0.5.0\n",
            "\u001b[?25l  Downloading https://files.pythonhosted.org/packages/74/43/1b997c21411c6ab7c96dc034e160198272c7a785aeea7654c9bcf98bec83/empyrical-0.5.5.tar.gz (52kB)\n",
            "\u001b[K     |████████████████████████████████| 61kB 9.2MB/s \n",
            "\u001b[?25hRequirement already satisfied: simplegeneric>0.8 in /usr/local/lib/python3.6/dist-packages (from ipython>=3.2.3->pyfolio==0.9.2+75.g4b901f6) (0.8.1)\n",
            "Requirement already satisfied: decorator in /usr/local/lib/python3.6/dist-packages (from ipython>=3.2.3->pyfolio==0.9.2+75.g4b901f6) (4.4.2)\n",
            "Requirement already satisfied: prompt-toolkit<2.0.0,>=1.0.4 in /usr/local/lib/python3.6/dist-packages (from ipython>=3.2.3->pyfolio==0.9.2+75.g4b901f6) (1.0.18)\n",
            "Requirement already satisfied: pexpect; sys_platform != \"win32\" in /usr/local/lib/python3.6/dist-packages (from ipython>=3.2.3->pyfolio==0.9.2+75.g4b901f6) (4.8.0)\n",
            "Requirement already satisfied: traitlets>=4.2 in /usr/local/lib/python3.6/dist-packages (from ipython>=3.2.3->pyfolio==0.9.2+75.g4b901f6) (4.3.3)\n",
            "Requirement already satisfied: pygments in /usr/local/lib/python3.6/dist-packages (from ipython>=3.2.3->pyfolio==0.9.2+75.g4b901f6) (2.6.1)\n",
            "Requirement already satisfied: pickleshare in /usr/local/lib/python3.6/dist-packages (from ipython>=3.2.3->pyfolio==0.9.2+75.g4b901f6) (0.7.5)\n",
            "Requirement already satisfied: setuptools>=18.5 in /usr/local/lib/python3.6/dist-packages (from ipython>=3.2.3->pyfolio==0.9.2+75.g4b901f6) (51.3.3)\n",
            "Requirement already satisfied: pyparsing!=2.0.4,!=2.1.2,!=2.1.6,>=2.0.1 in /usr/local/lib/python3.6/dist-packages (from matplotlib>=1.4.0->pyfolio==0.9.2+75.g4b901f6) (2.4.7)\n",
            "Requirement already satisfied: kiwisolver>=1.0.1 in /usr/local/lib/python3.6/dist-packages (from matplotlib>=1.4.0->pyfolio==0.9.2+75.g4b901f6) (1.3.1)\n",
            "Requirement already satisfied: python-dateutil>=2.1 in /usr/local/lib/python3.6/dist-packages (from matplotlib>=1.4.0->pyfolio==0.9.2+75.g4b901f6) (2.8.1)\n",
            "Requirement already satisfied: cycler>=0.10 in /usr/local/lib/python3.6/dist-packages (from matplotlib>=1.4.0->pyfolio==0.9.2+75.g4b901f6) (0.10.0)\n",
            "Requirement already satisfied: joblib>=0.11 in /usr/local/lib/python3.6/dist-packages (from scikit-learn>=0.16.1->pyfolio==0.9.2+75.g4b901f6) (1.0.0)\n",
            "Requirement already satisfied: pandas-datareader>=0.2 in /usr/local/lib/python3.6/dist-packages (from empyrical>=0.5.0->pyfolio==0.9.2+75.g4b901f6) (0.9.0)\n",
            "Requirement already satisfied: wcwidth in /usr/local/lib/python3.6/dist-packages (from prompt-toolkit<2.0.0,>=1.0.4->ipython>=3.2.3->pyfolio==0.9.2+75.g4b901f6) (0.2.5)\n",
            "Requirement already satisfied: six>=1.9.0 in /usr/local/lib/python3.6/dist-packages (from prompt-toolkit<2.0.0,>=1.0.4->ipython>=3.2.3->pyfolio==0.9.2+75.g4b901f6) (1.15.0)\n",
            "Requirement already satisfied: ptyprocess>=0.5 in /usr/local/lib/python3.6/dist-packages (from pexpect; sys_platform != \"win32\"->ipython>=3.2.3->pyfolio==0.9.2+75.g4b901f6) (0.7.0)\n",
            "Requirement already satisfied: ipython-genutils in /usr/local/lib/python3.6/dist-packages (from traitlets>=4.2->ipython>=3.2.3->pyfolio==0.9.2+75.g4b901f6) (0.2.0)\n",
            "Requirement already satisfied: requests>=2.19.0 in /usr/local/lib/python3.6/dist-packages (from pandas-datareader>=0.2->empyrical>=0.5.0->pyfolio==0.9.2+75.g4b901f6) (2.23.0)\n",
            "Requirement already satisfied: lxml in /usr/local/lib/python3.6/dist-packages (from pandas-datareader>=0.2->empyrical>=0.5.0->pyfolio==0.9.2+75.g4b901f6) (4.6.2)\n",
            "Requirement already satisfied: chardet<4,>=3.0.2 in /usr/local/lib/python3.6/dist-packages (from requests>=2.19.0->pandas-datareader>=0.2->empyrical>=0.5.0->pyfolio==0.9.2+75.g4b901f6) (3.0.4)\n",
            "Requirement already satisfied: certifi>=2017.4.17 in /usr/local/lib/python3.6/dist-packages (from requests>=2.19.0->pandas-datareader>=0.2->empyrical>=0.5.0->pyfolio==0.9.2+75.g4b901f6) (2020.12.5)\n",
            "Requirement already satisfied: idna<3,>=2.5 in /usr/local/lib/python3.6/dist-packages (from requests>=2.19.0->pandas-datareader>=0.2->empyrical>=0.5.0->pyfolio==0.9.2+75.g4b901f6) (2.10)\n",
            "Requirement already satisfied: urllib3!=1.25.0,!=1.25.1,<1.26,>=1.21.1 in /usr/local/lib/python3.6/dist-packages (from requests>=2.19.0->pandas-datareader>=0.2->empyrical>=0.5.0->pyfolio==0.9.2+75.g4b901f6) (1.24.3)\n",
            "Building wheels for collected packages: pyfolio, empyrical\n",
            "  Building wheel for pyfolio (setup.py) ... \u001b[?25l\u001b[?25hdone\n",
            "  Created wheel for pyfolio: filename=pyfolio-0.9.2+75.g4b901f6-cp36-none-any.whl size=75764 sha256=8a433f32b8b0d65b95164ba313a3293299662a85ff2cc3153dc3877177410f09\n",
            "  Stored in directory: /tmp/pip-ephem-wheel-cache-asbkb316/wheels/62/7d/a7/3e462442ba7d63c35414176627c886340521dc3dbc0893ce9f\n",
            "  Building wheel for empyrical (setup.py) ... \u001b[?25l\u001b[?25hdone\n",
            "  Created wheel for empyrical: filename=empyrical-0.5.5-cp36-none-any.whl size=39765 sha256=df208f87f40a42beba05f0eca7e5ed3dfb60e54a2bbdce1466a2ff34706b5b87\n",
            "  Stored in directory: /root/.cache/pip/wheels/ea/b2/c8/6769d8444d2f2e608fae2641833110668d0ffd1abeb2e9f3fc\n",
            "Successfully built pyfolio empyrical\n",
            "Installing collected packages: empyrical, pyfolio\n",
            "Successfully installed empyrical-0.5.5 pyfolio-0.9.2+75.g4b901f6\n"
          ],
          "name": "stdout"
        }
      ]
    },
    {
      "cell_type": "code",
      "metadata": {
        "colab": {
          "base_uri": "https://localhost:8080/"
        },
        "id": "lkx3ITllHUeA",
        "outputId": "c4de88cb-1afa-415b-fb15-b7001417c3c8"
      },
      "source": [
        "pip install backtrader"
      ],
      "execution_count": 4,
      "outputs": [
        {
          "output_type": "stream",
          "text": [
            "Collecting backtrader\n",
            "\u001b[?25l  Downloading https://files.pythonhosted.org/packages/1a/bf/78aadd993e2719d6764603465fde163ba6ec15cf0e81f13e39ca13451348/backtrader-1.9.76.123-py2.py3-none-any.whl (410kB)\n",
            "\r\u001b[K     |▉                               | 10kB 27.0MB/s eta 0:00:01\r\u001b[K     |█▋                              | 20kB 31.0MB/s eta 0:00:01\r\u001b[K     |██▍                             | 30kB 23.9MB/s eta 0:00:01\r\u001b[K     |███▏                            | 40kB 27.6MB/s eta 0:00:01\r\u001b[K     |████                            | 51kB 26.1MB/s eta 0:00:01\r\u001b[K     |████▉                           | 61kB 28.7MB/s eta 0:00:01\r\u001b[K     |█████▋                          | 71kB 18.0MB/s eta 0:00:01\r\u001b[K     |██████▍                         | 81kB 19.4MB/s eta 0:00:01\r\u001b[K     |███████▏                        | 92kB 18.1MB/s eta 0:00:01\r\u001b[K     |████████                        | 102kB 18.2MB/s eta 0:00:01\r\u001b[K     |████████▉                       | 112kB 18.2MB/s eta 0:00:01\r\u001b[K     |█████████▋                      | 122kB 18.2MB/s eta 0:00:01\r\u001b[K     |██████████▍                     | 133kB 18.2MB/s eta 0:00:01\r\u001b[K     |███████████▏                    | 143kB 18.2MB/s eta 0:00:01\r\u001b[K     |████████████                    | 153kB 18.2MB/s eta 0:00:01\r\u001b[K     |████████████▉                   | 163kB 18.2MB/s eta 0:00:01\r\u001b[K     |█████████████▋                  | 174kB 18.2MB/s eta 0:00:01\r\u001b[K     |██████████████▍                 | 184kB 18.2MB/s eta 0:00:01\r\u001b[K     |███████████████▏                | 194kB 18.2MB/s eta 0:00:01\r\u001b[K     |████████████████                | 204kB 18.2MB/s eta 0:00:01\r\u001b[K     |████████████████▉               | 215kB 18.2MB/s eta 0:00:01\r\u001b[K     |█████████████████▋              | 225kB 18.2MB/s eta 0:00:01\r\u001b[K     |██████████████████▍             | 235kB 18.2MB/s eta 0:00:01\r\u001b[K     |███████████████████▏            | 245kB 18.2MB/s eta 0:00:01\r\u001b[K     |████████████████████            | 256kB 18.2MB/s eta 0:00:01\r\u001b[K     |████████████████████▊           | 266kB 18.2MB/s eta 0:00:01\r\u001b[K     |█████████████████████▋          | 276kB 18.2MB/s eta 0:00:01\r\u001b[K     |██████████████████████▍         | 286kB 18.2MB/s eta 0:00:01\r\u001b[K     |███████████████████████▏        | 296kB 18.2MB/s eta 0:00:01\r\u001b[K     |████████████████████████        | 307kB 18.2MB/s eta 0:00:01\r\u001b[K     |████████████████████████▊       | 317kB 18.2MB/s eta 0:00:01\r\u001b[K     |█████████████████████████▋      | 327kB 18.2MB/s eta 0:00:01\r\u001b[K     |██████████████████████████▍     | 337kB 18.2MB/s eta 0:00:01\r\u001b[K     |███████████████████████████▏    | 348kB 18.2MB/s eta 0:00:01\r\u001b[K     |████████████████████████████    | 358kB 18.2MB/s eta 0:00:01\r\u001b[K     |████████████████████████████▊   | 368kB 18.2MB/s eta 0:00:01\r\u001b[K     |█████████████████████████████▋  | 378kB 18.2MB/s eta 0:00:01\r\u001b[K     |██████████████████████████████▍ | 389kB 18.2MB/s eta 0:00:01\r\u001b[K     |███████████████████████████████▏| 399kB 18.2MB/s eta 0:00:01\r\u001b[K     |████████████████████████████████| 409kB 18.2MB/s eta 0:00:01\r\u001b[K     |████████████████████████████████| 419kB 18.2MB/s \n",
            "\u001b[?25hInstalling collected packages: backtrader\n",
            "Successfully installed backtrader-1.9.76.123\n"
          ],
          "name": "stdout"
        }
      ]
    },
    {
      "cell_type": "code",
      "metadata": {
        "colab": {
          "base_uri": "https://localhost:8080/"
        },
        "id": "GaV26JhNG_HY",
        "outputId": "f39d6c8c-0fc0-410d-8db1-cce1deea14d9"
      },
      "source": [
        "\r\n",
        "import matplotlib.mlab as mlab\r\n",
        "import matplotlib.pyplot as plt\r\n",
        "import yfinance as yf\r\n",
        "import numpy as np\r\n",
        "import random\r\n",
        "import pandas as pd\r\n",
        "from pandas_datareader import data as pdr \r\n",
        "#import pandas as pdr\r\n",
        "#%matplotlib inline\r\n",
        "from scipy import stats\r\n",
        "from scipy.stats import norm, t\r\n",
        "from matplotlib import style\r\n",
        "import bs4 as bs\r\n",
        "import requests\r\n",
        "import datetime\r\n",
        "import pyfolio as pf\r\n",
        "import pytz\r\n",
        "from os import listdir\r\n",
        "\r\n",
        "# Import warnings and add a filter to ignore them\r\n",
        "import warnings\r\n",
        "warnings.simplefilter('ignore')\r\n",
        "# Import XGBoost\r\n",
        "import xgboost\r\n",
        "# XGBoost Classifier\r\n",
        "from xgboost import XGBClassifier\r\n",
        "# Classification report and confusion matrix\r\n",
        "from sklearn.metrics import classification_report\r\n",
        "from sklearn.metrics import confusion_matrix\r\n",
        "# Cross validation\r\n",
        "from sklearn.model_selection import KFold\r\n",
        "from sklearn.model_selection import cross_val_score\r\n",
        "import seaborn as sn\r\n",
        "from backtrader.feeds import PandasData"
      ],
      "execution_count": 5,
      "outputs": [
        {
          "output_type": "stream",
          "text": [
            "/usr/local/lib/python3.6/dist-packages/pyfolio/pos.py:27: UserWarning: Module \"zipline.assets\" not found; multipliers will not be applied to position notionals.\n",
            "  'Module \"zipline.assets\" not found; multipliers will not be applied'\n"
          ],
          "name": "stderr"
        }
      ]
    },
    {
      "cell_type": "markdown",
      "metadata": {
        "id": "NDJ1J89E-Fs0"
      },
      "source": [
        "# Defining and initializing the scraper for Investing.com"
      ]
    },
    {
      "cell_type": "code",
      "metadata": {
        "id": "WhhlyzV_c12P"
      },
      "source": [
        "from selenium import webdriver\r\n",
        "from time import sleep\r\n",
        "import errno    \r\n",
        "import os\r\n",
        "import os.path\r\n",
        "import datetime\r\n",
        "import sys\r\n",
        "import numpy as np\r\n",
        "import pandas as pd\r\n",
        "import requests\r\n",
        "from bs4 import BeautifulSoup\r\n",
        "from functools import reduce\r\n",
        "\r\n",
        "xpath_nextpage = '//div[@id=\"paginationWrap\"]//div[last()]/a'\r\n",
        "xpath_msg = '//div[contains(@class,\"mainComment\")]//div[contains(@class,\"commentText\")]//span[@class=\"js-text\"]'\r\n",
        "xpath_date = '//div[contains(@class,\"mainComment\")]//div[contains(@class,\"commentBody\")]//span[@class=\"js-date\"]'\r\n",
        "\r\n",
        "comments_list = []\r\n",
        "\r\n",
        "def build_chrome_options():\r\n",
        "    chrome_options = webdriver.ChromeOptions()\r\n",
        "    chrome_options.accept_untrusted_certs = True\r\n",
        "    chrome_options.assume_untrusted_cert_issuer = True\r\n",
        "    # chrome configuration\r\n",
        "    # More: https://github.com/SeleniumHQ/docker-selenium/issues/89\r\n",
        "    # And: https://github.com/SeleniumHQ/docker-selenium/issues/87\r\n",
        "    chrome_options.add_argument(\"incognito\")\r\n",
        "    chrome_options.add_argument(\"--no-sandbox\")\r\n",
        "    chrome_options.add_argument(\"--window-size=1024,800\")\r\n",
        "    chrome_options.add_argument(\"disable-extensions\")\r\n",
        "    chrome_options.add_argument(\"--start-maximized\")\r\n",
        "    chrome_options.add_argument(\"--test-type=browser\")\r\n",
        "    chrome_options.add_argument(\"--disable-impl-side-painting\")\r\n",
        "    chrome_options.add_argument(\"--disable-setuid-sandbox\")\r\n",
        "    chrome_options.add_argument(\"--disable-seccomp-filter-sandbox\")\r\n",
        "    chrome_options.add_argument(\"--disable-breakpad\")\r\n",
        "    chrome_options.add_argument(\"--disable-client-side-phishing-detection\")\r\n",
        "    chrome_options.add_argument(\"--disable-cast\")\r\n",
        "    chrome_options.add_argument(\"--disable-cast-streaming-hw-encoding\")\r\n",
        "    chrome_options.add_argument(\"--disable-cloud-import\")\r\n",
        "    chrome_options.add_argument(\"--disable-popup-blocking\")\r\n",
        "    chrome_options.add_argument(\"--ignore-certificate-errors\")\r\n",
        "    chrome_options.add_argument(\"--disable-session-crashed-bubble\")\r\n",
        "    chrome_options.add_argument(\"--disable-ipv6\")\r\n",
        "    chrome_options.add_argument('--headless')\r\n",
        "    chrome_options.add_argument('--disable-dev-shm-usage')\r\n",
        "    chrome_options.add_argument(\"--allow-http-screen-capture\")\r\n",
        "    return chrome_options \r\n",
        "\r\n",
        "def init():\r\n",
        "    global driver\r\n",
        "    driver = webdriver.Chrome('chromedriver', options=build_chrome_options())\r\n",
        "\r\n",
        "def connect(page):\r\n",
        "    driver.get('https://www.investing.com/equities/tweed-marijuana-inc-commentary/' + str(page))\r\n",
        "\r\n",
        "def scrap():\r\n",
        "    msgs = driver.find_elements_by_xpath(xpath_msg)\r\n",
        "    dates = driver.find_elements_by_xpath(xpath_date)\r\n",
        "    \r\n",
        "    try:\r\n",
        "        for i in range(len(msgs)):\r\n",
        "            soup = BeautifulSoup(msgs[i].text, 'html.parser').decode(\"utf-8\")\r\n",
        "            time = dates[i].text\r\n",
        "            \r\n",
        "            comment_dict = {\r\n",
        "                \"date\": time,\r\n",
        "                \"comment\": soup\r\n",
        "            }\r\n",
        "            \r\n",
        "            print(comment_dict)\r\n",
        "            \r\n",
        "            comments_list.append(comment_dict)\r\n",
        "\r\n",
        "    finally:\r\n",
        "        print(\"done scraping\")\r\n",
        "\r\n",
        "\r\n",
        "def main(argv):\r\n",
        "    #angiv aktier man vil scrape i listen\r\n",
        "    init()\r\n",
        "    max_pages = 49\r\n",
        "\r\n",
        "    page = 1\r\n",
        "    while page < max_pages:\r\n",
        "        connect(page)\r\n",
        "        sleep(3)\r\n",
        "        scrap()\r\n",
        "        print(\"success\")\r\n",
        "        page += 1\r\n",
        "\r\n",
        "    df = pd.DataFrame(comments_list)\r\n",
        "    df.to_csv('test.csv')\r\n",
        "    comments_list.clear()\r\n",
        "\r\n",
        "\r\n",
        "if __name__ == \"__main__\":\r\n",
        "    main(sys.argv)"
      ],
      "execution_count": null,
      "outputs": []
    },
    {
      "cell_type": "code",
      "metadata": {
        "id": "QGK9Kk-OlAhF"
      },
      "source": [
        "\r\n",
        "df = pd.read_csv('test.csv')"
      ],
      "execution_count": null,
      "outputs": []
    },
    {
      "cell_type": "markdown",
      "metadata": {
        "id": "yxx7D8DIB_0g"
      },
      "source": [
        "# An overview of the data scraped"
      ]
    },
    {
      "cell_type": "code",
      "metadata": {
        "colab": {
          "base_uri": "https://localhost:8080/",
          "height": 399
        },
        "id": "otkn0Xhylgrn",
        "outputId": "537dfa87-87ff-4749-9ed1-01554f97765d"
      },
      "source": [
        "df"
      ],
      "execution_count": null,
      "outputs": [
        {
          "output_type": "execute_result",
          "data": {
            "text/html": [
              "<div>\n",
              "<style scoped>\n",
              "    .dataframe tbody tr th:only-of-type {\n",
              "        vertical-align: middle;\n",
              "    }\n",
              "\n",
              "    .dataframe tbody tr th {\n",
              "        vertical-align: top;\n",
              "    }\n",
              "\n",
              "    .dataframe thead th {\n",
              "        text-align: right;\n",
              "    }\n",
              "</style>\n",
              "<table border=\"1\" class=\"dataframe\">\n",
              "  <thead>\n",
              "    <tr style=\"text-align: right;\">\n",
              "      <th></th>\n",
              "      <th>Unnamed: 0</th>\n",
              "      <th>date</th>\n",
              "      <th>comment</th>\n",
              "    </tr>\n",
              "  </thead>\n",
              "  <tbody>\n",
              "    <tr>\n",
              "      <th>0</th>\n",
              "      <td>0</td>\n",
              "      <td>Jan 21, 2021 3:24PM ET</td>\n",
              "      <td>A break of $34 opens a bull run to $40!!!!!\\n</td>\n",
              "    </tr>\n",
              "    <tr>\n",
              "      <th>1</th>\n",
              "      <td>1</td>\n",
              "      <td>Jan 20, 2021 8:30PM ET</td>\n",
              "      <td>Sell CGC, Buy PLNHF\\n</td>\n",
              "    </tr>\n",
              "    <tr>\n",
              "      <th>2</th>\n",
              "      <td>2</td>\n",
              "      <td>Jan 14, 2021 6:50PM ET</td>\n",
              "      <td>They're building the empire!!! ...... See belo...</td>\n",
              "    </tr>\n",
              "    <tr>\n",
              "      <th>3</th>\n",
              "      <td>3</td>\n",
              "      <td>Jan 14, 2021 6:49PM ET</td>\n",
              "      <td>https://www.prnewswire.com/news-releases/canop...</td>\n",
              "    </tr>\n",
              "    <tr>\n",
              "      <th>4</th>\n",
              "      <td>4</td>\n",
              "      <td>Jan 14, 2021 10:21AM ET</td>\n",
              "      <td>Nice to add here for a brake of $34.. Target $...</td>\n",
              "    </tr>\n",
              "    <tr>\n",
              "      <th>...</th>\n",
              "      <td>...</td>\n",
              "      <td>...</td>\n",
              "      <td>...</td>\n",
              "    </tr>\n",
              "    <tr>\n",
              "      <th>1149</th>\n",
              "      <td>1149</td>\n",
              "      <td>Jan 31, 2017 3:37PM ET</td>\n",
              "      <td>My sl can now be called ***control\\n</td>\n",
              "    </tr>\n",
              "    <tr>\n",
              "      <th>1150</th>\n",
              "      <td>1150</td>\n",
              "      <td>Dec 01, 2016 8:28AM ET</td>\n",
              "      <td>Canopy Growth enters into agreement to acquire...</td>\n",
              "    </tr>\n",
              "    <tr>\n",
              "      <th>1151</th>\n",
              "      <td>1151</td>\n",
              "      <td>Apr 03, 2016 1:56PM ET</td>\n",
              "      <td>GramCapital.com\\n</td>\n",
              "    </tr>\n",
              "    <tr>\n",
              "      <th>1152</th>\n",
              "      <td>1152</td>\n",
              "      <td>Oct 21, 2015 10:49AM ET</td>\n",
              "      <td>I see a bright future for this one. 5 billion ...</td>\n",
              "    </tr>\n",
              "    <tr>\n",
              "      <th>1153</th>\n",
              "      <td>1153</td>\n",
              "      <td>Oct 21, 2015 10:49AM ET</td>\n",
              "      <td>I see a bright future for this one. 5 billion ...</td>\n",
              "    </tr>\n",
              "  </tbody>\n",
              "</table>\n",
              "<p>1154 rows × 3 columns</p>\n",
              "</div>"
            ],
            "text/plain": [
              "      Unnamed: 0  ...                                            comment\n",
              "0              0  ...      A break of $34 opens a bull run to $40!!!!!\\n\n",
              "1              1  ...                              Sell CGC, Buy PLNHF\\n\n",
              "2              2  ...  They're building the empire!!! ...... See belo...\n",
              "3              3  ...  https://www.prnewswire.com/news-releases/canop...\n",
              "4              4  ...  Nice to add here for a brake of $34.. Target $...\n",
              "...          ...  ...                                                ...\n",
              "1149        1149  ...               My sl can now be called ***control\\n\n",
              "1150        1150  ...  Canopy Growth enters into agreement to acquire...\n",
              "1151        1151  ...                                  GramCapital.com\\n\n",
              "1152        1152  ...  I see a bright future for this one. 5 billion ...\n",
              "1153        1153  ...  I see a bright future for this one. 5 billion ...\n",
              "\n",
              "[1154 rows x 3 columns]"
            ]
          },
          "metadata": {
            "tags": []
          },
          "execution_count": 308
        }
      ]
    },
    {
      "cell_type": "code",
      "metadata": {
        "id": "pJlT-HJw8qNf"
      },
      "source": [
        "pip install tweet-preprocessor"
      ],
      "execution_count": null,
      "outputs": []
    },
    {
      "cell_type": "code",
      "metadata": {
        "id": "VAzM3NFf8tj3"
      },
      "source": [
        "import preprocessor as p"
      ],
      "execution_count": null,
      "outputs": []
    },
    {
      "cell_type": "code",
      "metadata": {
        "id": "mw7oTdxR8oof"
      },
      "source": [
        "from nltk.tokenize import TweetTokenizer\r\n",
        "tknzr = TweetTokenizer()"
      ],
      "execution_count": null,
      "outputs": []
    },
    {
      "cell_type": "code",
      "metadata": {
        "id": "eM-oY4c780En"
      },
      "source": [
        "p.set_options(p.OPT.URL, p.OPT.EMOJI, p.OPT.RESERVED, p.OPT.MENTION, p.OPT.HASHTAG)"
      ],
      "execution_count": null,
      "outputs": []
    },
    {
      "cell_type": "code",
      "metadata": {
        "id": "jIhxr2WE83N3"
      },
      "source": [
        "data_try = pd.DataFrame ([p.clean(comment) for comment in df['comment'][:20]], columns = ['clean'])"
      ],
      "execution_count": null,
      "outputs": []
    },
    {
      "cell_type": "code",
      "metadata": {
        "id": "iwWpGfQy9Et_"
      },
      "source": [
        "data_try['no clean'] = df ['comment'][:20]"
      ],
      "execution_count": null,
      "outputs": []
    },
    {
      "cell_type": "code",
      "metadata": {
        "colab": {
          "base_uri": "https://localhost:8080/",
          "height": 634
        },
        "id": "caPurNgK9I7H",
        "outputId": "6c11eb4a-bbc9-4279-b107-b30b0194ad85"
      },
      "source": [
        "data_try\r\n"
      ],
      "execution_count": null,
      "outputs": [
        {
          "output_type": "execute_result",
          "data": {
            "text/html": [
              "<div>\n",
              "<style scoped>\n",
              "    .dataframe tbody tr th:only-of-type {\n",
              "        vertical-align: middle;\n",
              "    }\n",
              "\n",
              "    .dataframe tbody tr th {\n",
              "        vertical-align: top;\n",
              "    }\n",
              "\n",
              "    .dataframe thead th {\n",
              "        text-align: right;\n",
              "    }\n",
              "</style>\n",
              "<table border=\"1\" class=\"dataframe\">\n",
              "  <thead>\n",
              "    <tr style=\"text-align: right;\">\n",
              "      <th></th>\n",
              "      <th>clean</th>\n",
              "      <th>no clean</th>\n",
              "    </tr>\n",
              "  </thead>\n",
              "  <tbody>\n",
              "    <tr>\n",
              "      <th>0</th>\n",
              "      <td>A break of $34 opens a bull run to $40!!!!!</td>\n",
              "      <td>A break of $34 opens a bull run to $40!!!!!\\n</td>\n",
              "    </tr>\n",
              "    <tr>\n",
              "      <th>1</th>\n",
              "      <td>Sell CGC, Buy PLNHF</td>\n",
              "      <td>Sell CGC, Buy PLNHF\\n</td>\n",
              "    </tr>\n",
              "    <tr>\n",
              "      <th>2</th>\n",
              "      <td>They're building the empire!!! ...... See below.</td>\n",
              "      <td>They're building the empire!!! ...... See belo...</td>\n",
              "    </tr>\n",
              "    <tr>\n",
              "      <th>3</th>\n",
              "      <td></td>\n",
              "      <td>https://www.prnewswire.com/news-releases/canop...</td>\n",
              "    </tr>\n",
              "    <tr>\n",
              "      <th>4</th>\n",
              "      <td>Nice to add here for a brake of $34.. Target $40.</td>\n",
              "      <td>Nice to add here for a brake of $34.. Target $...</td>\n",
              "    </tr>\n",
              "    <tr>\n",
              "      <th>5</th>\n",
              "      <td>Flag on chart. Should break up very soon. Uppe...</td>\n",
              "      <td>Flag on chart. Should break up very soon. Uppe...</td>\n",
              "    </tr>\n",
              "    <tr>\n",
              "      <th>6</th>\n",
              "      <td>Hello cannabis hype 2.0 my old friend..</td>\n",
              "      <td>Hello cannabis hype 2.0 my old friend..\\n</td>\n",
              "    </tr>\n",
              "    <tr>\n",
              "      <th>7</th>\n",
              "      <td>Up up up 100 by next summer</td>\n",
              "      <td>Up up up 100 by next summer\\n</td>\n",
              "    </tr>\n",
              "    <tr>\n",
              "      <th>8</th>\n",
              "      <td>Serious FOMO starting</td>\n",
              "      <td>Serious FOMO starting\\n</td>\n",
              "    </tr>\n",
              "    <tr>\n",
              "      <th>9</th>\n",
              "      <td>Call options for $40 strike just astronomical....</td>\n",
              "      <td>Call options for $40 strike just astronomical....</td>\n",
              "    </tr>\n",
              "    <tr>\n",
              "      <th>10</th>\n",
              "      <td>load up on puts people this is falling, soon t...</td>\n",
              "      <td>load up on puts people this is falling, soon t...</td>\n",
              "    </tr>\n",
              "    <tr>\n",
              "      <th>11</th>\n",
              "      <td>30 solid support. Looks safe to add here at 31...</td>\n",
              "      <td>30 solid support. Looks safe to add here at 31...</td>\n",
              "    </tr>\n",
              "    <tr>\n",
              "      <th>12</th>\n",
              "      <td>No doubts $30 resistance is in history now. In...</td>\n",
              "      <td>No doubts $30 resistance is in history now. In...</td>\n",
              "    </tr>\n",
              "    <tr>\n",
              "      <th>13</th>\n",
              "      <td></td>\n",
              "      <td>https://www.fool.com/investing/2021/01/08/cano...</td>\n",
              "    </tr>\n",
              "    <tr>\n",
              "      <th>14</th>\n",
              "      <td>are you guys buying EVIO, Inc. (EVIO) ? EVIO, ...</td>\n",
              "      <td>are you guys buying EVIO, Inc. (EVIO) ? EVIO, ...</td>\n",
              "    </tr>\n",
              "    <tr>\n",
              "      <th>15</th>\n",
              "      <td>If senente gets majority tonight do the canopy...</td>\n",
              "      <td>If senente gets majority tonight do the canopy...</td>\n",
              "    </tr>\n",
              "    <tr>\n",
              "      <th>16</th>\n",
              "      <td>According to the rumors, CGC is to acquire SND...</td>\n",
              "      <td>According to the rumors, CGC is to acquire SND...</td>\n",
              "    </tr>\n",
              "    <tr>\n",
              "      <th>17</th>\n",
              "      <td>buy buy!!</td>\n",
              "      <td>buy buy!!\\n</td>\n",
              "    </tr>\n",
              "    <tr>\n",
              "      <th>18</th>\n",
              "      <td>what happend?</td>\n",
              "      <td>what happend?\\n</td>\n",
              "    </tr>\n",
              "    <tr>\n",
              "      <th>19</th>\n",
              "      <td></td>\n",
              "      <td>https://www.issuewire.com/report-sundial-growe...</td>\n",
              "    </tr>\n",
              "  </tbody>\n",
              "</table>\n",
              "</div>"
            ],
            "text/plain": [
              "                                                clean                                           no clean\n",
              "0         A break of $34 opens a bull run to $40!!!!!      A break of $34 opens a bull run to $40!!!!!\\n\n",
              "1                                 Sell CGC, Buy PLNHF                              Sell CGC, Buy PLNHF\\n\n",
              "2    They're building the empire!!! ...... See below.  They're building the empire!!! ...... See belo...\n",
              "3                                                      https://www.prnewswire.com/news-releases/canop...\n",
              "4   Nice to add here for a brake of $34.. Target $40.  Nice to add here for a brake of $34.. Target $...\n",
              "5   Flag on chart. Should break up very soon. Uppe...  Flag on chart. Should break up very soon. Uppe...\n",
              "6             Hello cannabis hype 2.0 my old friend..          Hello cannabis hype 2.0 my old friend..\\n\n",
              "7                         Up up up 100 by next summer                      Up up up 100 by next summer\\n\n",
              "8                               Serious FOMO starting                            Serious FOMO starting\\n\n",
              "9   Call options for $40 strike just astronomical....  Call options for $40 strike just astronomical....\n",
              "10  load up on puts people this is falling, soon t...  load up on puts people this is falling, soon t...\n",
              "11  30 solid support. Looks safe to add here at 31...  30 solid support. Looks safe to add here at 31...\n",
              "12  No doubts $30 resistance is in history now. In...  No doubts $30 resistance is in history now. In...\n",
              "13                                                     https://www.fool.com/investing/2021/01/08/cano...\n",
              "14  are you guys buying EVIO, Inc. (EVIO) ? EVIO, ...  are you guys buying EVIO, Inc. (EVIO) ? EVIO, ...\n",
              "15  If senente gets majority tonight do the canopy...  If senente gets majority tonight do the canopy...\n",
              "16  According to the rumors, CGC is to acquire SND...  According to the rumors, CGC is to acquire SND...\n",
              "17                                          buy buy!!                                        buy buy!!\\n\n",
              "18                                      what happend?                                    what happend?\\n\n",
              "19                                                     https://www.issuewire.com/report-sundial-growe..."
            ]
          },
          "metadata": {
            "tags": []
          },
          "execution_count": 312
        }
      ]
    },
    {
      "cell_type": "code",
      "metadata": {
        "id": "njdXqNHm-LVI"
      },
      "source": [
        "data_try = pd.DataFrame ([p.clean(comment) for comment in df['comment'][:1000]], columns = ['clean'])"
      ],
      "execution_count": null,
      "outputs": []
    },
    {
      "cell_type": "code",
      "metadata": {
        "id": "nMrOwHro-hgo"
      },
      "source": [
        "df=pd.DataFrame(df[:1000])"
      ],
      "execution_count": null,
      "outputs": []
    },
    {
      "cell_type": "markdown",
      "metadata": {
        "id": "7uWFWGuaC2o9"
      },
      "source": [
        "# Adding the cleaned comments "
      ]
    },
    {
      "cell_type": "code",
      "metadata": {
        "id": "A--Jsgi49aWv"
      },
      "source": [
        "df['comment_clean'] = [p.clean(comment) for comment in df['comment']]"
      ],
      "execution_count": null,
      "outputs": []
    },
    {
      "cell_type": "code",
      "metadata": {
        "colab": {
          "base_uri": "https://localhost:8080/",
          "height": 399
        },
        "id": "RzKQ6QkB_gng",
        "outputId": "c1faf0e8-4d4a-405b-e633-c49a96876642"
      },
      "source": [
        "df"
      ],
      "execution_count": null,
      "outputs": [
        {
          "output_type": "execute_result",
          "data": {
            "text/html": [
              "<div>\n",
              "<style scoped>\n",
              "    .dataframe tbody tr th:only-of-type {\n",
              "        vertical-align: middle;\n",
              "    }\n",
              "\n",
              "    .dataframe tbody tr th {\n",
              "        vertical-align: top;\n",
              "    }\n",
              "\n",
              "    .dataframe thead th {\n",
              "        text-align: right;\n",
              "    }\n",
              "</style>\n",
              "<table border=\"1\" class=\"dataframe\">\n",
              "  <thead>\n",
              "    <tr style=\"text-align: right;\">\n",
              "      <th></th>\n",
              "      <th>Unnamed: 0</th>\n",
              "      <th>date</th>\n",
              "      <th>comment</th>\n",
              "      <th>comment_clean</th>\n",
              "    </tr>\n",
              "  </thead>\n",
              "  <tbody>\n",
              "    <tr>\n",
              "      <th>0</th>\n",
              "      <td>0</td>\n",
              "      <td>Jan 21, 2021 3:24PM ET</td>\n",
              "      <td>A break of $34 opens a bull run to $40!!!!!\\n</td>\n",
              "      <td>A break of $34 opens a bull run to $40!!!!!</td>\n",
              "    </tr>\n",
              "    <tr>\n",
              "      <th>1</th>\n",
              "      <td>1</td>\n",
              "      <td>Jan 20, 2021 8:30PM ET</td>\n",
              "      <td>Sell CGC, Buy PLNHF\\n</td>\n",
              "      <td>Sell CGC, Buy PLNHF</td>\n",
              "    </tr>\n",
              "    <tr>\n",
              "      <th>2</th>\n",
              "      <td>2</td>\n",
              "      <td>Jan 14, 2021 6:50PM ET</td>\n",
              "      <td>They're building the empire!!! ...... See belo...</td>\n",
              "      <td>They're building the empire!!! ...... See below.</td>\n",
              "    </tr>\n",
              "    <tr>\n",
              "      <th>3</th>\n",
              "      <td>3</td>\n",
              "      <td>Jan 14, 2021 6:49PM ET</td>\n",
              "      <td>https://www.prnewswire.com/news-releases/canop...</td>\n",
              "      <td></td>\n",
              "    </tr>\n",
              "    <tr>\n",
              "      <th>4</th>\n",
              "      <td>4</td>\n",
              "      <td>Jan 14, 2021 10:21AM ET</td>\n",
              "      <td>Nice to add here for a brake of $34.. Target $...</td>\n",
              "      <td>Nice to add here for a brake of $34.. Target $40.</td>\n",
              "    </tr>\n",
              "    <tr>\n",
              "      <th>...</th>\n",
              "      <td>...</td>\n",
              "      <td>...</td>\n",
              "      <td>...</td>\n",
              "      <td>...</td>\n",
              "    </tr>\n",
              "    <tr>\n",
              "      <th>995</th>\n",
              "      <td>995</td>\n",
              "      <td>Oct 08, 2018 2:51PM ET</td>\n",
              "      <td>Past four weeks have been on a slow down behav...</td>\n",
              "      <td>Past four weeks have been on a slow down behav...</td>\n",
              "    </tr>\n",
              "    <tr>\n",
              "      <th>996</th>\n",
              "      <td>996</td>\n",
              "      <td>Oct 08, 2018 8:32AM ET</td>\n",
              "      <td>Investing.com puts the price at $53 to $54 / s...</td>\n",
              "      <td>Investing.com puts the price at $53 to $54 / s...</td>\n",
              "    </tr>\n",
              "    <tr>\n",
              "      <th>997</th>\n",
              "      <td>997</td>\n",
              "      <td>Oct 05, 2018 9:20AM ET</td>\n",
              "      <td>hey what are you guys thought in cgc?\\n</td>\n",
              "      <td>hey what are you guys thought in cgc?</td>\n",
              "    </tr>\n",
              "    <tr>\n",
              "      <th>998</th>\n",
              "      <td>998</td>\n",
              "      <td>Oct 03, 2018 2:47AM ET</td>\n",
              "      <td>what's the prediction on this on on Oct 17. do...</td>\n",
              "      <td>what's the prediction on this on on Oct 17. do...</td>\n",
              "    </tr>\n",
              "    <tr>\n",
              "      <th>999</th>\n",
              "      <td>999</td>\n",
              "      <td>Oct 02, 2018 8:14PM ET</td>\n",
              "      <td>I'm buying more\\n</td>\n",
              "      <td>I'm buying more</td>\n",
              "    </tr>\n",
              "  </tbody>\n",
              "</table>\n",
              "<p>1000 rows × 4 columns</p>\n",
              "</div>"
            ],
            "text/plain": [
              "     Unnamed: 0  ...                                      comment_clean\n",
              "0             0  ...        A break of $34 opens a bull run to $40!!!!!\n",
              "1             1  ...                                Sell CGC, Buy PLNHF\n",
              "2             2  ...   They're building the empire!!! ...... See below.\n",
              "3             3  ...                                                   \n",
              "4             4  ...  Nice to add here for a brake of $34.. Target $40.\n",
              "..          ...  ...                                                ...\n",
              "995         995  ...  Past four weeks have been on a slow down behav...\n",
              "996         996  ...  Investing.com puts the price at $53 to $54 / s...\n",
              "997         997  ...              hey what are you guys thought in cgc?\n",
              "998         998  ...  what's the prediction on this on on Oct 17. do...\n",
              "999         999  ...                                    I'm buying more\n",
              "\n",
              "[1000 rows x 4 columns]"
            ]
          },
          "metadata": {
            "tags": []
          },
          "execution_count": 391
        }
      ]
    },
    {
      "cell_type": "markdown",
      "metadata": {
        "id": "_K2oUxpFDl3M"
      },
      "source": [
        "# Tokenization"
      ]
    },
    {
      "cell_type": "code",
      "metadata": {
        "id": "2cwKjwmC_otI"
      },
      "source": [
        "from string import punctuation"
      ],
      "execution_count": null,
      "outputs": []
    },
    {
      "cell_type": "code",
      "metadata": {
        "id": "Uh0TKMFPA2_I"
      },
      "source": [
        "import spacy\r\n",
        "nlp = spacy.load(\"en\")"
      ],
      "execution_count": null,
      "outputs": []
    },
    {
      "cell_type": "code",
      "metadata": {
        "id": "IphlwNu2_qUg"
      },
      "source": [
        "cleanup_elements = list(set(punctuation))\r\n",
        "cleanup_elements.append(\"RT\")"
      ],
      "execution_count": null,
      "outputs": []
    },
    {
      "cell_type": "code",
      "metadata": {
        "id": "hyw0tH7w_vSA"
      },
      "source": [
        "for ele in cleanup_elements:\r\n",
        "    df[\"comment_clean\"] = [comment.replace(ele, \"\") for comment in df[\"comment_clean\"]]"
      ],
      "execution_count": null,
      "outputs": []
    },
    {
      "cell_type": "code",
      "metadata": {
        "id": "ecIa4GdVAiSQ"
      },
      "source": [
        "df['comment_nlp'] = [nlp(comment) for comment in df['comment_clean']]"
      ],
      "execution_count": null,
      "outputs": []
    },
    {
      "cell_type": "code",
      "metadata": {
        "colab": {
          "base_uri": "https://localhost:8080/",
          "height": 194
        },
        "id": "w1ykvjJPA97H",
        "outputId": "6fa9fdd4-4984-43f1-f22e-9f13451f0e2a"
      },
      "source": [
        "df.head()"
      ],
      "execution_count": null,
      "outputs": [
        {
          "output_type": "execute_result",
          "data": {
            "text/html": [
              "<div>\n",
              "<style scoped>\n",
              "    .dataframe tbody tr th:only-of-type {\n",
              "        vertical-align: middle;\n",
              "    }\n",
              "\n",
              "    .dataframe tbody tr th {\n",
              "        vertical-align: top;\n",
              "    }\n",
              "\n",
              "    .dataframe thead th {\n",
              "        text-align: right;\n",
              "    }\n",
              "</style>\n",
              "<table border=\"1\" class=\"dataframe\">\n",
              "  <thead>\n",
              "    <tr style=\"text-align: right;\">\n",
              "      <th></th>\n",
              "      <th>Unnamed: 0</th>\n",
              "      <th>date</th>\n",
              "      <th>comment</th>\n",
              "      <th>comment_clean</th>\n",
              "      <th>comment_nlp</th>\n",
              "    </tr>\n",
              "  </thead>\n",
              "  <tbody>\n",
              "    <tr>\n",
              "      <th>0</th>\n",
              "      <td>0</td>\n",
              "      <td>Jan 21, 2021 3:24PM ET</td>\n",
              "      <td>A break of $34 opens a bull run to $40!!!!!\\n</td>\n",
              "      <td>A break of 34 opens a bull run to 40</td>\n",
              "      <td>(A, break, of, 34, opens, a, bull, run, to, 40)</td>\n",
              "    </tr>\n",
              "    <tr>\n",
              "      <th>1</th>\n",
              "      <td>1</td>\n",
              "      <td>Jan 20, 2021 8:30PM ET</td>\n",
              "      <td>Sell CGC, Buy PLNHF\\n</td>\n",
              "      <td>Sell CGC Buy PLNHF</td>\n",
              "      <td>(Sell, CGC, Buy, PLNHF)</td>\n",
              "    </tr>\n",
              "    <tr>\n",
              "      <th>2</th>\n",
              "      <td>2</td>\n",
              "      <td>Jan 14, 2021 6:50PM ET</td>\n",
              "      <td>They're building the empire!!! ...... See belo...</td>\n",
              "      <td>Theyre building the empire  See below</td>\n",
              "      <td>(They, re, building, the, empire,  , See, below)</td>\n",
              "    </tr>\n",
              "    <tr>\n",
              "      <th>3</th>\n",
              "      <td>3</td>\n",
              "      <td>Jan 14, 2021 6:49PM ET</td>\n",
              "      <td>https://www.prnewswire.com/news-releases/canop...</td>\n",
              "      <td></td>\n",
              "      <td>()</td>\n",
              "    </tr>\n",
              "    <tr>\n",
              "      <th>4</th>\n",
              "      <td>4</td>\n",
              "      <td>Jan 14, 2021 10:21AM ET</td>\n",
              "      <td>Nice to add here for a brake of $34.. Target $...</td>\n",
              "      <td>Nice to add here for a brake of 34 Target 40</td>\n",
              "      <td>(Nice, to, add, here, for, a, brake, of, 34, T...</td>\n",
              "    </tr>\n",
              "  </tbody>\n",
              "</table>\n",
              "</div>"
            ],
            "text/plain": [
              "   Unnamed: 0  ...                                        comment_nlp\n",
              "0           0  ...    (A, break, of, 34, opens, a, bull, run, to, 40)\n",
              "1           1  ...                            (Sell, CGC, Buy, PLNHF)\n",
              "2           2  ...   (They, re, building, the, empire,  , See, below)\n",
              "3           3  ...                                                 ()\n",
              "4           4  ...  (Nice, to, add, here, for, a, brake, of, 34, T...\n",
              "\n",
              "[5 rows x 5 columns]"
            ]
          },
          "metadata": {
            "tags": []
          },
          "execution_count": 320
        }
      ]
    },
    {
      "cell_type": "code",
      "metadata": {
        "id": "_F0jsbyMBKJZ"
      },
      "source": [
        "tokens = []\r\n",
        "\r\n",
        "for comment in nlp.pipe(df['comment_clean']):\r\n",
        "  comment_tok = [token.lemma_.lower() for token in comment if token.pos_ in ['NOUN', 'PROPN', 'ADJ', 'ADV', 'VERB'] and not token.is_stop] \r\n",
        "  tokens.append(comment_tok)"
      ],
      "execution_count": null,
      "outputs": []
    },
    {
      "cell_type": "code",
      "metadata": {
        "id": "_mQ23izlBZBc"
      },
      "source": [
        "df['tokens'] = tokens"
      ],
      "execution_count": null,
      "outputs": []
    },
    {
      "cell_type": "code",
      "metadata": {
        "id": "TBDwW-CpBd14"
      },
      "source": [
        "df[\"token_string\"] = df[\"tokens\"].map(lambda row: \" \".join(row))"
      ],
      "execution_count": null,
      "outputs": []
    },
    {
      "cell_type": "code",
      "metadata": {
        "colab": {
          "base_uri": "https://localhost:8080/",
          "height": 585
        },
        "id": "UC4ep8oXBg44",
        "outputId": "20aee5bb-a6d0-4706-a197-90cea299e738"
      },
      "source": [
        "df.head(100)"
      ],
      "execution_count": null,
      "outputs": [
        {
          "output_type": "execute_result",
          "data": {
            "text/html": [
              "<div>\n",
              "<style scoped>\n",
              "    .dataframe tbody tr th:only-of-type {\n",
              "        vertical-align: middle;\n",
              "    }\n",
              "\n",
              "    .dataframe tbody tr th {\n",
              "        vertical-align: top;\n",
              "    }\n",
              "\n",
              "    .dataframe thead th {\n",
              "        text-align: right;\n",
              "    }\n",
              "</style>\n",
              "<table border=\"1\" class=\"dataframe\">\n",
              "  <thead>\n",
              "    <tr style=\"text-align: right;\">\n",
              "      <th></th>\n",
              "      <th>Unnamed: 0</th>\n",
              "      <th>date</th>\n",
              "      <th>comment</th>\n",
              "      <th>comment_clean</th>\n",
              "      <th>comment_nlp</th>\n",
              "      <th>tokens</th>\n",
              "      <th>token_string</th>\n",
              "    </tr>\n",
              "  </thead>\n",
              "  <tbody>\n",
              "    <tr>\n",
              "      <th>0</th>\n",
              "      <td>0</td>\n",
              "      <td>Jan 21, 2021 3:24PM ET</td>\n",
              "      <td>A break of $34 opens a bull run to $40!!!!!\\n</td>\n",
              "      <td>A break of 34 opens a bull run to 40</td>\n",
              "      <td>(A, break, of, 34, opens, a, bull, run, to, 40)</td>\n",
              "      <td>[break, open, bull, run]</td>\n",
              "      <td>break open bull run</td>\n",
              "    </tr>\n",
              "    <tr>\n",
              "      <th>1</th>\n",
              "      <td>1</td>\n",
              "      <td>Jan 20, 2021 8:30PM ET</td>\n",
              "      <td>Sell CGC, Buy PLNHF\\n</td>\n",
              "      <td>Sell CGC Buy PLNHF</td>\n",
              "      <td>(Sell, CGC, Buy, PLNHF)</td>\n",
              "      <td>[sell, cgc, buy, plnhf]</td>\n",
              "      <td>sell cgc buy plnhf</td>\n",
              "    </tr>\n",
              "    <tr>\n",
              "      <th>2</th>\n",
              "      <td>2</td>\n",
              "      <td>Jan 14, 2021 6:50PM ET</td>\n",
              "      <td>They're building the empire!!! ...... See belo...</td>\n",
              "      <td>Theyre building the empire  See below</td>\n",
              "      <td>(They, re, building, the, empire,  , See, below)</td>\n",
              "      <td>[build, empire]</td>\n",
              "      <td>build empire</td>\n",
              "    </tr>\n",
              "    <tr>\n",
              "      <th>3</th>\n",
              "      <td>3</td>\n",
              "      <td>Jan 14, 2021 6:49PM ET</td>\n",
              "      <td>https://www.prnewswire.com/news-releases/canop...</td>\n",
              "      <td></td>\n",
              "      <td>()</td>\n",
              "      <td>[]</td>\n",
              "      <td></td>\n",
              "    </tr>\n",
              "    <tr>\n",
              "      <th>4</th>\n",
              "      <td>4</td>\n",
              "      <td>Jan 14, 2021 10:21AM ET</td>\n",
              "      <td>Nice to add here for a brake of $34.. Target $...</td>\n",
              "      <td>Nice to add here for a brake of 34 Target 40</td>\n",
              "      <td>(Nice, to, add, here, for, a, brake, of, 34, T...</td>\n",
              "      <td>[nice, add, brake, target]</td>\n",
              "      <td>nice add brake target</td>\n",
              "    </tr>\n",
              "    <tr>\n",
              "      <th>...</th>\n",
              "      <td>...</td>\n",
              "      <td>...</td>\n",
              "      <td>...</td>\n",
              "      <td>...</td>\n",
              "      <td>...</td>\n",
              "      <td>...</td>\n",
              "      <td>...</td>\n",
              "    </tr>\n",
              "    <tr>\n",
              "      <th>95</th>\n",
              "      <td>95</td>\n",
              "      <td>May 29, 2020 3:15PM ET</td>\n",
              "      <td>give this puppy a few days to cool off. if it ...</td>\n",
              "      <td>give this puppy a few days to cool off if it h...</td>\n",
              "      <td>(give, this, puppy, a, few, days, to, cool, of...</td>\n",
              "      <td>[puppy, day, cool, hold]</td>\n",
              "      <td>puppy day cool hold</td>\n",
              "    </tr>\n",
              "    <tr>\n",
              "      <th>96</th>\n",
              "      <td>96</td>\n",
              "      <td>May 29, 2020 2:58PM ET</td>\n",
              "      <td>HASNT BEEN A MONDAY were i DIDNT make money of...</td>\n",
              "      <td>HASNT BEEN A MONDAY were i DIDNT make money of...</td>\n",
              "      <td>(HASNT, BEEN, A, MONDAY, were, i, DIDNT, make,...</td>\n",
              "      <td>[hasnt, monday, didnt, money, stock, lol, buying]</td>\n",
              "      <td>hasnt monday didnt money stock lol buying</td>\n",
              "    </tr>\n",
              "    <tr>\n",
              "      <th>97</th>\n",
              "      <td>97</td>\n",
              "      <td>May 29, 2020 12:13PM ET</td>\n",
              "      <td>nowhere but up to go from here\\n</td>\n",
              "      <td>nowhere but up to go from here</td>\n",
              "      <td>(nowhere, but, up, to, go, from, here)</td>\n",
              "      <td>[]</td>\n",
              "      <td></td>\n",
              "    </tr>\n",
              "    <tr>\n",
              "      <th>98</th>\n",
              "      <td>98</td>\n",
              "      <td>May 29, 2020 11:04AM ET</td>\n",
              "      <td>Dropping to ~20 support? Might be likely.\\n</td>\n",
              "      <td>Dropping to 20 support Might be likely</td>\n",
              "      <td>(Dropping, to, 20, support, Might, be, likely)</td>\n",
              "      <td>[drop, support, likely]</td>\n",
              "      <td>drop support likely</td>\n",
              "    </tr>\n",
              "    <tr>\n",
              "      <th>99</th>\n",
              "      <td>99</td>\n",
              "      <td>May 29, 2020 10:54AM ET</td>\n",
              "      <td>I am thinking that gonna be a correction next ...</td>\n",
              "      <td>I am thinking that gonna be a correction next ...</td>\n",
              "      <td>(I, am, thinking, that, gon, na, be, a, correc...</td>\n",
              "      <td>[think, go, correction, couple, day, go, downs...</td>\n",
              "      <td>think go correction couple day go downside big...</td>\n",
              "    </tr>\n",
              "  </tbody>\n",
              "</table>\n",
              "<p>100 rows × 7 columns</p>\n",
              "</div>"
            ],
            "text/plain": [
              "    Unnamed: 0  ...                                       token_string\n",
              "0            0  ...                                break open bull run\n",
              "1            1  ...                                 sell cgc buy plnhf\n",
              "2            2  ...                                       build empire\n",
              "3            3  ...                                                   \n",
              "4            4  ...                              nice add brake target\n",
              "..         ...  ...                                                ...\n",
              "95          95  ...                                puppy day cool hold\n",
              "96          96  ...          hasnt monday didnt money stock lol buying\n",
              "97          97  ...                                                   \n",
              "98          98  ...                                drop support likely\n",
              "99          99  ...  think go correction couple day go downside big...\n",
              "\n",
              "[100 rows x 7 columns]"
            ]
          },
          "metadata": {
            "tags": []
          },
          "execution_count": 397
        }
      ]
    },
    {
      "cell_type": "markdown",
      "metadata": {
        "id": "xx5SCSGANmyK"
      },
      "source": [
        "# Importing Vader and adding labels"
      ]
    },
    {
      "cell_type": "code",
      "metadata": {
        "colab": {
          "base_uri": "https://localhost:8080/"
        },
        "id": "vHixMHACBwY8",
        "outputId": "4149fd27-84d5-4976-82de-9d768308644d"
      },
      "source": [
        "pip install -qq -U gensim"
      ],
      "execution_count": null,
      "outputs": [
        {
          "output_type": "stream",
          "text": [
            "\u001b[K     |████████████████████████████████| 24.2MB 1.7MB/s \n",
            "\u001b[?25h"
          ],
          "name": "stdout"
        }
      ]
    },
    {
      "cell_type": "code",
      "metadata": {
        "id": "kwQoVNq5Bz1x"
      },
      "source": [
        "from gensim.corpora.dictionary import Dictionary\r\n",
        "from gensim.models.tfidfmodel import TfidfModel\r\n",
        "from gensim.models.lsimodel import LsiModel\r\n",
        "from nltk.sentiment.vader import SentimentIntensityAnalyzer"
      ],
      "execution_count": null,
      "outputs": []
    },
    {
      "cell_type": "code",
      "metadata": {
        "colab": {
          "base_uri": "https://localhost:8080/"
        },
        "id": "8pnL4WysNAT3",
        "outputId": "86cc690d-7bd6-4e56-ed96-9d24040e3441"
      },
      "source": [
        "import nltk\r\n",
        "nltk.download('vader_lexicon')"
      ],
      "execution_count": null,
      "outputs": [
        {
          "output_type": "stream",
          "text": [
            "[nltk_data] Downloading package vader_lexicon to /root/nltk_data...\n"
          ],
          "name": "stdout"
        },
        {
          "output_type": "execute_result",
          "data": {
            "text/plain": [
              "True"
            ]
          },
          "metadata": {
            "tags": []
          },
          "execution_count": 167
        }
      ]
    },
    {
      "cell_type": "code",
      "metadata": {
        "id": "FWdR2Af_MQus"
      },
      "source": [
        "sid = SentimentIntensityAnalyzer()\r\n",
        "def get_compound_score(token_string):\r\n",
        "    ss = sid.polarity_scores(str(token_string))\r\n",
        "    return ss['compound']\r\n",
        "\r\n",
        "def get_sentiment(compound_score):\r\n",
        "    if compound_score > 0:\r\n",
        "        return 1\r\n",
        "    else:\r\n",
        "        return 0\r\n",
        "\r\n",
        "\r\n",
        "def vader(df):\r\n",
        "    for token in df.token_string:\r\n",
        "        ss = sid.polarity_scores(token)\r\n",
        "    \r\n",
        "    df['compound_score'] = df['token_string'].apply(lambda x: get_compound_score(x))\r\n",
        "    df['LABEL'] = df['compound_score'].apply(lambda x: get_sentiment(x))\r\n",
        "    \r\n",
        "    return df"
      ],
      "execution_count": null,
      "outputs": []
    },
    {
      "cell_type": "code",
      "metadata": {
        "id": "7EGUqsfQMWUF"
      },
      "source": [
        "df_test=vader(df)"
      ],
      "execution_count": null,
      "outputs": []
    },
    {
      "cell_type": "code",
      "metadata": {
        "colab": {
          "base_uri": "https://localhost:8080/",
          "height": 602
        },
        "id": "hWho2oCoNoJV",
        "outputId": "8cb69f16-9edf-42e8-cd7e-1d0634e373fc"
      },
      "source": [
        "df_test"
      ],
      "execution_count": null,
      "outputs": [
        {
          "output_type": "execute_result",
          "data": {
            "text/html": [
              "<div>\n",
              "<style scoped>\n",
              "    .dataframe tbody tr th:only-of-type {\n",
              "        vertical-align: middle;\n",
              "    }\n",
              "\n",
              "    .dataframe tbody tr th {\n",
              "        vertical-align: top;\n",
              "    }\n",
              "\n",
              "    .dataframe thead th {\n",
              "        text-align: right;\n",
              "    }\n",
              "</style>\n",
              "<table border=\"1\" class=\"dataframe\">\n",
              "  <thead>\n",
              "    <tr style=\"text-align: right;\">\n",
              "      <th></th>\n",
              "      <th>Unnamed: 0</th>\n",
              "      <th>date</th>\n",
              "      <th>comment</th>\n",
              "      <th>comment_clean</th>\n",
              "      <th>comment_nlp</th>\n",
              "      <th>tokens</th>\n",
              "      <th>token_string</th>\n",
              "      <th>compound_score</th>\n",
              "      <th>LABEL</th>\n",
              "    </tr>\n",
              "  </thead>\n",
              "  <tbody>\n",
              "    <tr>\n",
              "      <th>0</th>\n",
              "      <td>0</td>\n",
              "      <td>Jan 21, 2021 3:24PM ET</td>\n",
              "      <td>A break of $34 opens a bull run to $40!!!!!\\n</td>\n",
              "      <td>A break of 34 opens a bull run to 40</td>\n",
              "      <td>(A, break, of, 34, opens, a, bull, run, to, 40)</td>\n",
              "      <td>[break, open, bull, run]</td>\n",
              "      <td>break open bull run</td>\n",
              "      <td>0.0000</td>\n",
              "      <td>0</td>\n",
              "    </tr>\n",
              "    <tr>\n",
              "      <th>1</th>\n",
              "      <td>1</td>\n",
              "      <td>Jan 20, 2021 8:30PM ET</td>\n",
              "      <td>Sell CGC, Buy PLNHF\\n</td>\n",
              "      <td>Sell CGC Buy PLNHF</td>\n",
              "      <td>(Sell, CGC, Buy, PLNHF)</td>\n",
              "      <td>[sell, cgc, buy, plnhf]</td>\n",
              "      <td>sell cgc buy plnhf</td>\n",
              "      <td>0.0000</td>\n",
              "      <td>0</td>\n",
              "    </tr>\n",
              "    <tr>\n",
              "      <th>2</th>\n",
              "      <td>2</td>\n",
              "      <td>Jan 14, 2021 6:50PM ET</td>\n",
              "      <td>They're building the empire!!! ...... See belo...</td>\n",
              "      <td>Theyre building the empire  See below</td>\n",
              "      <td>(They, re, building, the, empire,  , See, below)</td>\n",
              "      <td>[build, empire]</td>\n",
              "      <td>build empire</td>\n",
              "      <td>0.0000</td>\n",
              "      <td>0</td>\n",
              "    </tr>\n",
              "    <tr>\n",
              "      <th>3</th>\n",
              "      <td>3</td>\n",
              "      <td>Jan 14, 2021 6:49PM ET</td>\n",
              "      <td>https://www.prnewswire.com/news-releases/canop...</td>\n",
              "      <td></td>\n",
              "      <td>()</td>\n",
              "      <td>[]</td>\n",
              "      <td></td>\n",
              "      <td>0.0000</td>\n",
              "      <td>0</td>\n",
              "    </tr>\n",
              "    <tr>\n",
              "      <th>4</th>\n",
              "      <td>4</td>\n",
              "      <td>Jan 14, 2021 10:21AM ET</td>\n",
              "      <td>Nice to add here for a brake of $34.. Target $...</td>\n",
              "      <td>Nice to add here for a brake of 34 Target 40</td>\n",
              "      <td>(Nice, to, add, here, for, a, brake, of, 34, T...</td>\n",
              "      <td>[nice, add, brake, target]</td>\n",
              "      <td>nice add brake target</td>\n",
              "      <td>0.4215</td>\n",
              "      <td>1</td>\n",
              "    </tr>\n",
              "    <tr>\n",
              "      <th>...</th>\n",
              "      <td>...</td>\n",
              "      <td>...</td>\n",
              "      <td>...</td>\n",
              "      <td>...</td>\n",
              "      <td>...</td>\n",
              "      <td>...</td>\n",
              "      <td>...</td>\n",
              "      <td>...</td>\n",
              "      <td>...</td>\n",
              "    </tr>\n",
              "    <tr>\n",
              "      <th>995</th>\n",
              "      <td>995</td>\n",
              "      <td>Oct 08, 2018 2:51PM ET</td>\n",
              "      <td>Past four weeks have been on a slow down behav...</td>\n",
              "      <td>Past four weeks have been on a slow down behav...</td>\n",
              "      <td>(Past, four, weeks, have, been, on, a, slow, d...</td>\n",
              "      <td>[past, week, slow, behaviorbut, hope, will, pi...</td>\n",
              "      <td>past week slow behaviorbut hope will pick oct</td>\n",
              "      <td>0.4404</td>\n",
              "      <td>1</td>\n",
              "    </tr>\n",
              "    <tr>\n",
              "      <th>996</th>\n",
              "      <td>996</td>\n",
              "      <td>Oct 08, 2018 8:32AM ET</td>\n",
              "      <td>Investing.com puts the price at $53 to $54 / s...</td>\n",
              "      <td>Investingcom puts the price at 53 to 54  share</td>\n",
              "      <td>(Investingcom, puts, the, price, at, 53, to, 5...</td>\n",
              "      <td>[investingcom, put, price, share]</td>\n",
              "      <td>investingcom put price share</td>\n",
              "      <td>0.2960</td>\n",
              "      <td>1</td>\n",
              "    </tr>\n",
              "    <tr>\n",
              "      <th>997</th>\n",
              "      <td>997</td>\n",
              "      <td>Oct 05, 2018 9:20AM ET</td>\n",
              "      <td>hey what are you guys thought in cgc?\\n</td>\n",
              "      <td>hey what are you guys thought in cgc</td>\n",
              "      <td>(hey, what, are, you, guys, thought, in, cgc)</td>\n",
              "      <td>[guy, think, cgc]</td>\n",
              "      <td>guy think cgc</td>\n",
              "      <td>0.0000</td>\n",
              "      <td>0</td>\n",
              "    </tr>\n",
              "    <tr>\n",
              "      <th>998</th>\n",
              "      <td>998</td>\n",
              "      <td>Oct 03, 2018 2:47AM ET</td>\n",
              "      <td>what's the prediction on this on on Oct 17. do...</td>\n",
              "      <td>whats the prediction on this on on Oct 17 does...</td>\n",
              "      <td>(what, s, the, prediction, on, this, on, on, O...</td>\n",
              "      <td>[s, prediction, oct, reach, pass]</td>\n",
              "      <td>s prediction oct reach pass</td>\n",
              "      <td>0.0258</td>\n",
              "      <td>1</td>\n",
              "    </tr>\n",
              "    <tr>\n",
              "      <th>999</th>\n",
              "      <td>999</td>\n",
              "      <td>Oct 02, 2018 8:14PM ET</td>\n",
              "      <td>I'm buying more\\n</td>\n",
              "      <td>Im buying more</td>\n",
              "      <td>(I, m, buying, more)</td>\n",
              "      <td>[be, buy]</td>\n",
              "      <td>be buy</td>\n",
              "      <td>0.0000</td>\n",
              "      <td>0</td>\n",
              "    </tr>\n",
              "  </tbody>\n",
              "</table>\n",
              "<p>1000 rows × 9 columns</p>\n",
              "</div>"
            ],
            "text/plain": [
              "     Unnamed: 0                     date  ... compound_score LABEL\n",
              "0             0   Jan 21, 2021 3:24PM ET  ...         0.0000     0\n",
              "1             1   Jan 20, 2021 8:30PM ET  ...         0.0000     0\n",
              "2             2   Jan 14, 2021 6:50PM ET  ...         0.0000     0\n",
              "3             3   Jan 14, 2021 6:49PM ET  ...         0.0000     0\n",
              "4             4  Jan 14, 2021 10:21AM ET  ...         0.4215     1\n",
              "..          ...                      ...  ...            ...   ...\n",
              "995         995   Oct 08, 2018 2:51PM ET  ...         0.4404     1\n",
              "996         996   Oct 08, 2018 8:32AM ET  ...         0.2960     1\n",
              "997         997   Oct 05, 2018 9:20AM ET  ...         0.0000     0\n",
              "998         998   Oct 03, 2018 2:47AM ET  ...         0.0258     1\n",
              "999         999   Oct 02, 2018 8:14PM ET  ...         0.0000     0\n",
              "\n",
              "[1000 rows x 9 columns]"
            ]
          },
          "metadata": {
            "tags": []
          },
          "execution_count": 400
        }
      ]
    },
    {
      "cell_type": "markdown",
      "metadata": {
        "id": "9XDD1ZwVOuYd"
      },
      "source": [
        "##Configuring the date to the upcoming financial data\r\n",
        "\r\n",
        "\r\n",
        "\r\n"
      ]
    },
    {
      "cell_type": "code",
      "metadata": {
        "id": "IrRhYn3-e3l6"
      },
      "source": [
        "\r\n",
        "from dateutil import parser\r\n",
        "from datetime import date\r\n",
        "import re\r\n",
        "def convert_date(date_string):\r\n",
        "    \r\n",
        "    if 'ago' in str(date_string):\r\n",
        "        today = date.today()\r\n",
        "        return today.strftime(\"%d-%m-%y\")\r\n",
        "    \r\n",
        "    if 'nan' in str(date_string):\r\n",
        "        return\r\n",
        "    \r\n",
        "    dt = parser.parse(date_string)  \r\n",
        "    return dt.strftime(\"%d-%m-%y\")\r\n",
        "\r\n",
        "def convert(df):\r\n",
        "    df.drop(['Unnamed: 0'], axis=1, inplace=True)\r\n",
        "    df['date'] = df['date'].apply(lambda x: convert_date(x))\r\n",
        "    \r\n",
        "    return df_test"
      ],
      "execution_count": null,
      "outputs": []
    },
    {
      "cell_type": "code",
      "metadata": {
        "colab": {
          "base_uri": "https://localhost:8080/",
          "height": 737
        },
        "id": "2O6tdwj3eHeK",
        "outputId": "9675fe75-8209-48eb-b837-96a5d20c40de"
      },
      "source": [
        "convert(df_test)"
      ],
      "execution_count": null,
      "outputs": [
        {
          "output_type": "execute_result",
          "data": {
            "text/html": [
              "<div>\n",
              "<style scoped>\n",
              "    .dataframe tbody tr th:only-of-type {\n",
              "        vertical-align: middle;\n",
              "    }\n",
              "\n",
              "    .dataframe tbody tr th {\n",
              "        vertical-align: top;\n",
              "    }\n",
              "\n",
              "    .dataframe thead th {\n",
              "        text-align: right;\n",
              "    }\n",
              "</style>\n",
              "<table border=\"1\" class=\"dataframe\">\n",
              "  <thead>\n",
              "    <tr style=\"text-align: right;\">\n",
              "      <th></th>\n",
              "      <th>date</th>\n",
              "      <th>comment</th>\n",
              "      <th>comment_clean</th>\n",
              "      <th>comment_nlp</th>\n",
              "      <th>tokens</th>\n",
              "      <th>token_string</th>\n",
              "      <th>compound_score</th>\n",
              "      <th>LABEL</th>\n",
              "    </tr>\n",
              "  </thead>\n",
              "  <tbody>\n",
              "    <tr>\n",
              "      <th>0</th>\n",
              "      <td>21-01-21</td>\n",
              "      <td>A break of $34 opens a bull run to $40!!!!!\\n</td>\n",
              "      <td>A break of 34 opens a bull run to 40</td>\n",
              "      <td>(A, break, of, 34, opens, a, bull, run, to, 40)</td>\n",
              "      <td>[break, open, bull, run]</td>\n",
              "      <td>break open bull run</td>\n",
              "      <td>0.0000</td>\n",
              "      <td>0</td>\n",
              "    </tr>\n",
              "    <tr>\n",
              "      <th>1</th>\n",
              "      <td>20-01-21</td>\n",
              "      <td>Sell CGC, Buy PLNHF\\n</td>\n",
              "      <td>Sell CGC Buy PLNHF</td>\n",
              "      <td>(Sell, CGC, Buy, PLNHF)</td>\n",
              "      <td>[sell, cgc, buy, plnhf]</td>\n",
              "      <td>sell cgc buy plnhf</td>\n",
              "      <td>0.0000</td>\n",
              "      <td>0</td>\n",
              "    </tr>\n",
              "    <tr>\n",
              "      <th>2</th>\n",
              "      <td>14-01-21</td>\n",
              "      <td>They're building the empire!!! ...... See belo...</td>\n",
              "      <td>Theyre building the empire  See below</td>\n",
              "      <td>(They, re, building, the, empire,  , See, below)</td>\n",
              "      <td>[build, empire]</td>\n",
              "      <td>build empire</td>\n",
              "      <td>0.0000</td>\n",
              "      <td>0</td>\n",
              "    </tr>\n",
              "    <tr>\n",
              "      <th>3</th>\n",
              "      <td>14-01-21</td>\n",
              "      <td>https://www.prnewswire.com/news-releases/canop...</td>\n",
              "      <td></td>\n",
              "      <td>()</td>\n",
              "      <td>[]</td>\n",
              "      <td></td>\n",
              "      <td>0.0000</td>\n",
              "      <td>0</td>\n",
              "    </tr>\n",
              "    <tr>\n",
              "      <th>4</th>\n",
              "      <td>14-01-21</td>\n",
              "      <td>Nice to add here for a brake of $34.. Target $...</td>\n",
              "      <td>Nice to add here for a brake of 34 Target 40</td>\n",
              "      <td>(Nice, to, add, here, for, a, brake, of, 34, T...</td>\n",
              "      <td>[nice, add, brake, target]</td>\n",
              "      <td>nice add brake target</td>\n",
              "      <td>0.4215</td>\n",
              "      <td>1</td>\n",
              "    </tr>\n",
              "    <tr>\n",
              "      <th>...</th>\n",
              "      <td>...</td>\n",
              "      <td>...</td>\n",
              "      <td>...</td>\n",
              "      <td>...</td>\n",
              "      <td>...</td>\n",
              "      <td>...</td>\n",
              "      <td>...</td>\n",
              "      <td>...</td>\n",
              "    </tr>\n",
              "    <tr>\n",
              "      <th>995</th>\n",
              "      <td>08-10-18</td>\n",
              "      <td>Past four weeks have been on a slow down behav...</td>\n",
              "      <td>Past four weeks have been on a slow down behav...</td>\n",
              "      <td>(Past, four, weeks, have, been, on, a, slow, d...</td>\n",
              "      <td>[past, week, slow, behaviorbut, hope, will, pi...</td>\n",
              "      <td>past week slow behaviorbut hope will pick oct</td>\n",
              "      <td>0.4404</td>\n",
              "      <td>1</td>\n",
              "    </tr>\n",
              "    <tr>\n",
              "      <th>996</th>\n",
              "      <td>08-10-18</td>\n",
              "      <td>Investing.com puts the price at $53 to $54 / s...</td>\n",
              "      <td>Investingcom puts the price at 53 to 54  share</td>\n",
              "      <td>(Investingcom, puts, the, price, at, 53, to, 5...</td>\n",
              "      <td>[investingcom, put, price, share]</td>\n",
              "      <td>investingcom put price share</td>\n",
              "      <td>0.2960</td>\n",
              "      <td>1</td>\n",
              "    </tr>\n",
              "    <tr>\n",
              "      <th>997</th>\n",
              "      <td>05-10-18</td>\n",
              "      <td>hey what are you guys thought in cgc?\\n</td>\n",
              "      <td>hey what are you guys thought in cgc</td>\n",
              "      <td>(hey, what, are, you, guys, thought, in, cgc)</td>\n",
              "      <td>[guy, think, cgc]</td>\n",
              "      <td>guy think cgc</td>\n",
              "      <td>0.0000</td>\n",
              "      <td>0</td>\n",
              "    </tr>\n",
              "    <tr>\n",
              "      <th>998</th>\n",
              "      <td>03-10-18</td>\n",
              "      <td>what's the prediction on this on on Oct 17. do...</td>\n",
              "      <td>whats the prediction on this on on Oct 17 does...</td>\n",
              "      <td>(what, s, the, prediction, on, this, on, on, O...</td>\n",
              "      <td>[s, prediction, oct, reach, pass]</td>\n",
              "      <td>s prediction oct reach pass</td>\n",
              "      <td>0.0258</td>\n",
              "      <td>1</td>\n",
              "    </tr>\n",
              "    <tr>\n",
              "      <th>999</th>\n",
              "      <td>02-10-18</td>\n",
              "      <td>I'm buying more\\n</td>\n",
              "      <td>Im buying more</td>\n",
              "      <td>(I, m, buying, more)</td>\n",
              "      <td>[be, buy]</td>\n",
              "      <td>be buy</td>\n",
              "      <td>0.0000</td>\n",
              "      <td>0</td>\n",
              "    </tr>\n",
              "  </tbody>\n",
              "</table>\n",
              "<p>1000 rows × 8 columns</p>\n",
              "</div>"
            ],
            "text/plain": [
              "         date  ... LABEL\n",
              "0    21-01-21  ...     0\n",
              "1    20-01-21  ...     0\n",
              "2    14-01-21  ...     0\n",
              "3    14-01-21  ...     0\n",
              "4    14-01-21  ...     1\n",
              "..        ...  ...   ...\n",
              "995  08-10-18  ...     1\n",
              "996  08-10-18  ...     1\n",
              "997  05-10-18  ...     0\n",
              "998  03-10-18  ...     1\n",
              "999  02-10-18  ...     0\n",
              "\n",
              "[1000 rows x 8 columns]"
            ]
          },
          "metadata": {
            "tags": []
          },
          "execution_count": 409
        }
      ]
    },
    {
      "cell_type": "markdown",
      "metadata": {
        "id": "kR1Z-4Kts1-1"
      },
      "source": [
        "## Since i won't be able to use weekends with the trading data i have to convert the weekend days to the friday before.. "
      ]
    },
    {
      "cell_type": "code",
      "metadata": {
        "id": "RBJJ8hdM9mck"
      },
      "source": [
        "df_test"
      ],
      "execution_count": null,
      "outputs": []
    },
    {
      "cell_type": "code",
      "metadata": {
        "id": "pDIA8uCOookl"
      },
      "source": [
        "ugedag=[]\r\n",
        "for i in df_test.date:\r\n",
        "  dag = datetime.datetime(2000+int(i[6:8]),int(i[3:5]),int(i[0:2])).weekday()\r\n",
        "  ugedag.append(dag)"
      ],
      "execution_count": null,
      "outputs": []
    },
    {
      "cell_type": "code",
      "metadata": {
        "id": "IzU4rkDV9w1k"
      },
      "source": [
        "ugedag"
      ],
      "execution_count": null,
      "outputs": []
    },
    {
      "cell_type": "code",
      "metadata": {
        "id": "pfwBuk0yryQa"
      },
      "source": [
        "df_test['ugedag']=ugedag"
      ],
      "execution_count": null,
      "outputs": []
    },
    {
      "cell_type": "code",
      "metadata": {
        "id": "yN3USn3D4EXT"
      },
      "source": [
        "df_test.to_csv('df_ændrerweekend.csv')"
      ],
      "execution_count": null,
      "outputs": []
    },
    {
      "cell_type": "code",
      "metadata": {
        "id": "BmRe0UFg7HHe"
      },
      "source": [
        "index_prøve.drop(['tokens'], axis=1, inplace=True)"
      ],
      "execution_count": null,
      "outputs": []
    },
    {
      "cell_type": "markdown",
      "metadata": {
        "id": "CvPDM9GBN28U"
      },
      "source": [
        "## Couldn't get the date manipulation to work so i gave up, and did it manually; Exporting "
      ]
    },
    {
      "cell_type": "code",
      "metadata": {
        "id": "dV3cX-iI5yhK"
      },
      "source": [
        "index_prøve.to_csv('df_ændrerweekend.csv')"
      ],
      "execution_count": null,
      "outputs": []
    },
    {
      "cell_type": "markdown",
      "metadata": {
        "id": "hXhv5WLuN9nk"
      },
      "source": [
        "# Importing the dataset, with the manually adjusted weekend days"
      ]
    },
    {
      "cell_type": "code",
      "metadata": {
        "id": "_OCF3wrQiQH8"
      },
      "source": [
        "komnu = pd.read_excel('df_ændrerweekend_done.xlsx')\r\n",
        "komnu=pd.DataFrame(komnu)"
      ],
      "execution_count": 6,
      "outputs": []
    },
    {
      "cell_type": "code",
      "metadata": {
        "colab": {
          "base_uri": "https://localhost:8080/",
          "height": 419
        },
        "id": "bI9qvTTcCGLM",
        "outputId": "6fd46c27-0854-4341-c607-07577dc8f723"
      },
      "source": [
        "komnu"
      ],
      "execution_count": 7,
      "outputs": [
        {
          "output_type": "execute_result",
          "data": {
            "text/html": [
              "<div>\n",
              "<style scoped>\n",
              "    .dataframe tbody tr th:only-of-type {\n",
              "        vertical-align: middle;\n",
              "    }\n",
              "\n",
              "    .dataframe tbody tr th {\n",
              "        vertical-align: top;\n",
              "    }\n",
              "\n",
              "    .dataframe thead th {\n",
              "        text-align: right;\n",
              "    }\n",
              "</style>\n",
              "<table border=\"1\" class=\"dataframe\">\n",
              "  <thead>\n",
              "    <tr style=\"text-align: right;\">\n",
              "      <th></th>\n",
              "      <th>date</th>\n",
              "      <th>token_string</th>\n",
              "      <th>compound_score</th>\n",
              "      <th>LABEL</th>\n",
              "      <th>ugedag</th>\n",
              "    </tr>\n",
              "  </thead>\n",
              "  <tbody>\n",
              "    <tr>\n",
              "      <th>0</th>\n",
              "      <td>2021-01-21</td>\n",
              "      <td>break open bull run</td>\n",
              "      <td>0.0000</td>\n",
              "      <td>0</td>\n",
              "      <td>3</td>\n",
              "    </tr>\n",
              "    <tr>\n",
              "      <th>1</th>\n",
              "      <td>2021-01-20</td>\n",
              "      <td>sell cgc buy plnhf</td>\n",
              "      <td>0.0000</td>\n",
              "      <td>0</td>\n",
              "      <td>2</td>\n",
              "    </tr>\n",
              "    <tr>\n",
              "      <th>2</th>\n",
              "      <td>2021-01-14</td>\n",
              "      <td>build empire</td>\n",
              "      <td>0.0000</td>\n",
              "      <td>0</td>\n",
              "      <td>3</td>\n",
              "    </tr>\n",
              "    <tr>\n",
              "      <th>3</th>\n",
              "      <td>2021-01-14</td>\n",
              "      <td>NaN</td>\n",
              "      <td>0.0000</td>\n",
              "      <td>0</td>\n",
              "      <td>3</td>\n",
              "    </tr>\n",
              "    <tr>\n",
              "      <th>4</th>\n",
              "      <td>2021-01-14</td>\n",
              "      <td>nice add brake target</td>\n",
              "      <td>0.4215</td>\n",
              "      <td>1</td>\n",
              "      <td>3</td>\n",
              "    </tr>\n",
              "    <tr>\n",
              "      <th>...</th>\n",
              "      <td>...</td>\n",
              "      <td>...</td>\n",
              "      <td>...</td>\n",
              "      <td>...</td>\n",
              "      <td>...</td>\n",
              "    </tr>\n",
              "    <tr>\n",
              "      <th>995</th>\n",
              "      <td>2018-10-08</td>\n",
              "      <td>past week slow behaviorbut hope will pick oct</td>\n",
              "      <td>0.4404</td>\n",
              "      <td>1</td>\n",
              "      <td>0</td>\n",
              "    </tr>\n",
              "    <tr>\n",
              "      <th>996</th>\n",
              "      <td>2018-10-08</td>\n",
              "      <td>investingcom put price share</td>\n",
              "      <td>0.2960</td>\n",
              "      <td>1</td>\n",
              "      <td>0</td>\n",
              "    </tr>\n",
              "    <tr>\n",
              "      <th>997</th>\n",
              "      <td>2018-10-05</td>\n",
              "      <td>guy think cgc</td>\n",
              "      <td>0.0000</td>\n",
              "      <td>0</td>\n",
              "      <td>4</td>\n",
              "    </tr>\n",
              "    <tr>\n",
              "      <th>998</th>\n",
              "      <td>2018-10-03</td>\n",
              "      <td>s prediction oct reach pass</td>\n",
              "      <td>0.0258</td>\n",
              "      <td>1</td>\n",
              "      <td>2</td>\n",
              "    </tr>\n",
              "    <tr>\n",
              "      <th>999</th>\n",
              "      <td>2018-10-02</td>\n",
              "      <td>be buy</td>\n",
              "      <td>0.0000</td>\n",
              "      <td>0</td>\n",
              "      <td>1</td>\n",
              "    </tr>\n",
              "  </tbody>\n",
              "</table>\n",
              "<p>1000 rows × 5 columns</p>\n",
              "</div>"
            ],
            "text/plain": [
              "          date                                   token_string  ...  LABEL  ugedag\n",
              "0   2021-01-21                            break open bull run  ...      0       3\n",
              "1   2021-01-20                             sell cgc buy plnhf  ...      0       2\n",
              "2   2021-01-14                                   build empire  ...      0       3\n",
              "3   2021-01-14                                            NaN  ...      0       3\n",
              "4   2021-01-14                          nice add brake target  ...      1       3\n",
              "..         ...                                            ...  ...    ...     ...\n",
              "995 2018-10-08  past week slow behaviorbut hope will pick oct  ...      1       0\n",
              "996 2018-10-08                   investingcom put price share  ...      1       0\n",
              "997 2018-10-05                                  guy think cgc  ...      0       4\n",
              "998 2018-10-03                    s prediction oct reach pass  ...      1       2\n",
              "999 2018-10-02                                         be buy  ...      0       1\n",
              "\n",
              "[1000 rows x 5 columns]"
            ]
          },
          "metadata": {
            "tags": []
          },
          "execution_count": 7
        }
      ]
    },
    {
      "cell_type": "markdown",
      "metadata": {
        "id": "qFgJYckuhgc0"
      },
      "source": [
        "Dropping weekday label, because they are no longer needed"
      ]
    },
    {
      "cell_type": "code",
      "metadata": {
        "id": "l22MoaVfBszW"
      },
      "source": [
        "komnu.drop(['ugedag'], axis=1, inplace=True)"
      ],
      "execution_count": 8,
      "outputs": []
    },
    {
      "cell_type": "code",
      "metadata": {
        "colab": {
          "base_uri": "https://localhost:8080/",
          "height": 204
        },
        "id": "tzsdpGZXCWX0",
        "outputId": "7e0ec8aa-dcb7-42b4-d6fe-a89c0584a0d8"
      },
      "source": [
        "komnu.tail()"
      ],
      "execution_count": 9,
      "outputs": [
        {
          "output_type": "execute_result",
          "data": {
            "text/html": [
              "<div>\n",
              "<style scoped>\n",
              "    .dataframe tbody tr th:only-of-type {\n",
              "        vertical-align: middle;\n",
              "    }\n",
              "\n",
              "    .dataframe tbody tr th {\n",
              "        vertical-align: top;\n",
              "    }\n",
              "\n",
              "    .dataframe thead th {\n",
              "        text-align: right;\n",
              "    }\n",
              "</style>\n",
              "<table border=\"1\" class=\"dataframe\">\n",
              "  <thead>\n",
              "    <tr style=\"text-align: right;\">\n",
              "      <th></th>\n",
              "      <th>date</th>\n",
              "      <th>token_string</th>\n",
              "      <th>compound_score</th>\n",
              "      <th>LABEL</th>\n",
              "    </tr>\n",
              "  </thead>\n",
              "  <tbody>\n",
              "    <tr>\n",
              "      <th>995</th>\n",
              "      <td>2018-10-08</td>\n",
              "      <td>past week slow behaviorbut hope will pick oct</td>\n",
              "      <td>0.4404</td>\n",
              "      <td>1</td>\n",
              "    </tr>\n",
              "    <tr>\n",
              "      <th>996</th>\n",
              "      <td>2018-10-08</td>\n",
              "      <td>investingcom put price share</td>\n",
              "      <td>0.2960</td>\n",
              "      <td>1</td>\n",
              "    </tr>\n",
              "    <tr>\n",
              "      <th>997</th>\n",
              "      <td>2018-10-05</td>\n",
              "      <td>guy think cgc</td>\n",
              "      <td>0.0000</td>\n",
              "      <td>0</td>\n",
              "    </tr>\n",
              "    <tr>\n",
              "      <th>998</th>\n",
              "      <td>2018-10-03</td>\n",
              "      <td>s prediction oct reach pass</td>\n",
              "      <td>0.0258</td>\n",
              "      <td>1</td>\n",
              "    </tr>\n",
              "    <tr>\n",
              "      <th>999</th>\n",
              "      <td>2018-10-02</td>\n",
              "      <td>be buy</td>\n",
              "      <td>0.0000</td>\n",
              "      <td>0</td>\n",
              "    </tr>\n",
              "  </tbody>\n",
              "</table>\n",
              "</div>"
            ],
            "text/plain": [
              "          date  ... LABEL\n",
              "995 2018-10-08  ...     1\n",
              "996 2018-10-08  ...     1\n",
              "997 2018-10-05  ...     0\n",
              "998 2018-10-03  ...     1\n",
              "999 2018-10-02  ...     0\n",
              "\n",
              "[5 rows x 4 columns]"
            ]
          },
          "metadata": {
            "tags": []
          },
          "execution_count": 9
        }
      ]
    },
    {
      "cell_type": "markdown",
      "metadata": {
        "id": "WLTw8UIWEcG7"
      },
      "source": [
        "# Grouping days, and finding the ratio of the day. \r\n"
      ]
    },
    {
      "cell_type": "code",
      "metadata": {
        "id": "_oqICaDUDuwN"
      },
      "source": [
        "rows = []\r\n",
        "prices = []\r\n",
        "grouped = komnu.groupby('date')\r\n",
        "for date, group in grouped:\r\n",
        "    positives = len(group[group['LABEL'] == 1])\r\n",
        "    negatives = len(group[group['LABEL'] == 0])\r\n",
        "        \r\n",
        "    new_row = {\r\n",
        "        'date': date,\r\n",
        "        'positives': positives,\r\n",
        "        'negatives': negatives,\r\n",
        "        'ratio': positives / (positives + negatives)\r\n",
        "    }\r\n",
        "    \r\n",
        "    rows.append(new_row)"
      ],
      "execution_count": 9,
      "outputs": []
    },
    {
      "cell_type": "code",
      "metadata": {
        "id": "8uBvCaEDD1u9"
      },
      "source": [
        "new_df = pd.DataFrame(rows)"
      ],
      "execution_count": 10,
      "outputs": []
    },
    {
      "cell_type": "code",
      "metadata": {
        "colab": {
          "base_uri": "https://localhost:8080/",
          "height": 419
        },
        "id": "ftlzGxG3EGSt",
        "outputId": "ec5a3a6e-f4dd-415e-c3bd-b8663d811ac0"
      },
      "source": [
        "new_df"
      ],
      "execution_count": 13,
      "outputs": [
        {
          "output_type": "execute_result",
          "data": {
            "text/html": [
              "<div>\n",
              "<style scoped>\n",
              "    .dataframe tbody tr th:only-of-type {\n",
              "        vertical-align: middle;\n",
              "    }\n",
              "\n",
              "    .dataframe tbody tr th {\n",
              "        vertical-align: top;\n",
              "    }\n",
              "\n",
              "    .dataframe thead th {\n",
              "        text-align: right;\n",
              "    }\n",
              "</style>\n",
              "<table border=\"1\" class=\"dataframe\">\n",
              "  <thead>\n",
              "    <tr style=\"text-align: right;\">\n",
              "      <th></th>\n",
              "      <th>date</th>\n",
              "      <th>positives</th>\n",
              "      <th>negatives</th>\n",
              "      <th>ratio</th>\n",
              "    </tr>\n",
              "  </thead>\n",
              "  <tbody>\n",
              "    <tr>\n",
              "      <th>0</th>\n",
              "      <td>2018-10-02</td>\n",
              "      <td>0</td>\n",
              "      <td>1</td>\n",
              "      <td>0.000000</td>\n",
              "    </tr>\n",
              "    <tr>\n",
              "      <th>1</th>\n",
              "      <td>2018-10-03</td>\n",
              "      <td>1</td>\n",
              "      <td>0</td>\n",
              "      <td>1.000000</td>\n",
              "    </tr>\n",
              "    <tr>\n",
              "      <th>2</th>\n",
              "      <td>2018-10-05</td>\n",
              "      <td>0</td>\n",
              "      <td>1</td>\n",
              "      <td>0.000000</td>\n",
              "    </tr>\n",
              "    <tr>\n",
              "      <th>3</th>\n",
              "      <td>2018-10-08</td>\n",
              "      <td>2</td>\n",
              "      <td>0</td>\n",
              "      <td>1.000000</td>\n",
              "    </tr>\n",
              "    <tr>\n",
              "      <th>4</th>\n",
              "      <td>2018-10-09</td>\n",
              "      <td>2</td>\n",
              "      <td>0</td>\n",
              "      <td>1.000000</td>\n",
              "    </tr>\n",
              "    <tr>\n",
              "      <th>...</th>\n",
              "      <td>...</td>\n",
              "      <td>...</td>\n",
              "      <td>...</td>\n",
              "      <td>...</td>\n",
              "    </tr>\n",
              "    <tr>\n",
              "      <th>305</th>\n",
              "      <td>2021-01-11</td>\n",
              "      <td>1</td>\n",
              "      <td>0</td>\n",
              "      <td>1.000000</td>\n",
              "    </tr>\n",
              "    <tr>\n",
              "      <th>306</th>\n",
              "      <td>2021-01-13</td>\n",
              "      <td>2</td>\n",
              "      <td>4</td>\n",
              "      <td>0.333333</td>\n",
              "    </tr>\n",
              "    <tr>\n",
              "      <th>307</th>\n",
              "      <td>2021-01-14</td>\n",
              "      <td>1</td>\n",
              "      <td>2</td>\n",
              "      <td>0.333333</td>\n",
              "    </tr>\n",
              "    <tr>\n",
              "      <th>308</th>\n",
              "      <td>2021-01-20</td>\n",
              "      <td>0</td>\n",
              "      <td>1</td>\n",
              "      <td>0.000000</td>\n",
              "    </tr>\n",
              "    <tr>\n",
              "      <th>309</th>\n",
              "      <td>2021-01-21</td>\n",
              "      <td>0</td>\n",
              "      <td>1</td>\n",
              "      <td>0.000000</td>\n",
              "    </tr>\n",
              "  </tbody>\n",
              "</table>\n",
              "<p>310 rows × 4 columns</p>\n",
              "</div>"
            ],
            "text/plain": [
              "          date  positives  negatives     ratio\n",
              "0   2018-10-02          0          1  0.000000\n",
              "1   2018-10-03          1          0  1.000000\n",
              "2   2018-10-05          0          1  0.000000\n",
              "3   2018-10-08          2          0  1.000000\n",
              "4   2018-10-09          2          0  1.000000\n",
              "..         ...        ...        ...       ...\n",
              "305 2021-01-11          1          0  1.000000\n",
              "306 2021-01-13          2          4  0.333333\n",
              "307 2021-01-14          1          2  0.333333\n",
              "308 2021-01-20          0          1  0.000000\n",
              "309 2021-01-21          0          1  0.000000\n",
              "\n",
              "[310 rows x 4 columns]"
            ]
          },
          "metadata": {
            "tags": []
          },
          "execution_count": 13
        }
      ]
    },
    {
      "cell_type": "markdown",
      "metadata": {
        "id": "GJnj2pH_RfO-"
      },
      "source": [
        "# Financial data For benchmark and Joint strategy. And adding the features used for the prediction aswell"
      ]
    },
    {
      "cell_type": "code",
      "metadata": {
        "colab": {
          "base_uri": "https://localhost:8080/"
        },
        "id": "qnYhNt-7Gpnn",
        "outputId": "b185baca-ee0a-48cb-abd9-fa6627738233"
      },
      "source": [
        "tickers = [\"WEED.TO\"]\r\n",
        "start = \"2015-01-01\"\r\n",
        "end = \"2021-01-28\"\r\n",
        "stock_data_dictionary = {}\r\n",
        "for i in tickers:\r\n",
        "  df=yf.download(i, start=start, end=end)\r\n",
        "  df['daily_pct_change'] = df['Adj Close'].pct_change()\r\n",
        "  predictor_list = []\r\n",
        "  for r in range(10, 60, 5):\r\n",
        "    df['pct_change_'+str(r)] = df.daily_pct_change.rolling(r).sum()\r\n",
        "    df['std_'+str(r)] = df.daily_pct_change.rolling(r).std()\r\n",
        "    predictor_list.append('pct_change_'+str(r))\r\n",
        "    predictor_list.append('std_'+str(r))\r\n",
        "    df['return_next_day'] = df.daily_pct_change.shift(-1)\r\n",
        "    df['actual_signal'] = np.where(df.return_next_day > 0, 1, -1)\r\n",
        "    df = df.dropna()\r\n",
        "    stock_data_dictionary.update({i: df})\r\n",
        "  "
      ],
      "execution_count": 141,
      "outputs": [
        {
          "output_type": "stream",
          "text": [
            "\r[*********************100%***********************]  1 of 1 completed\n"
          ],
          "name": "stdout"
        }
      ]
    },
    {
      "cell_type": "code",
      "metadata": {
        "colab": {
          "base_uri": "https://localhost:8080/"
        },
        "id": "6FMMCDumRpW0",
        "outputId": "e1a4211d-bbbb-46c0-e170-fdaf78a66798"
      },
      "source": [
        "stock_data_dictionary"
      ],
      "execution_count": 14,
      "outputs": [
        {
          "output_type": "execute_result",
          "data": {
            "text/plain": [
              "{'WEED.TO':                  Open       High        Low  ...    std_50  pct_change_55    std_55\n",
              " Date                                         ...                                   \n",
              " 2016-04-06   2.540000   2.570000   2.510000  ...  0.024800      -0.049564  0.024010\n",
              " 2016-04-07   2.540000   2.540000   2.480000  ...  0.024927      -0.076734  0.024115\n",
              " 2016-04-08   2.480000   2.480000   2.400000  ...  0.025016      -0.081834  0.024163\n",
              " 2016-04-11   2.470000   2.500000   2.440000  ...  0.025176      -0.061342  0.024343\n",
              " 2016-04-12   2.530000   2.590000   2.470000  ...  0.025167      -0.079929  0.024193\n",
              " ...               ...        ...        ...  ...       ...            ...       ...\n",
              " 2021-01-07  39.939999  41.070000  38.570000  ...  0.045627       0.452297  0.045675\n",
              " 2021-01-08  38.910000  39.180000  37.270000  ...  0.045707       0.493711  0.045018\n",
              " 2021-01-11  37.880001  41.380001  37.880001  ...  0.045914       0.505515  0.045165\n",
              " 2021-01-12  40.430000  40.820000  38.849998  ...  0.046097       0.444745  0.045145\n",
              " 2021-01-13  39.430000  41.980000  39.349998  ...  0.046246       0.508457  0.045083\n",
              " \n",
              " [1197 rows x 29 columns]}"
            ]
          },
          "metadata": {
            "tags": []
          },
          "execution_count": 14
        }
      ]
    },
    {
      "cell_type": "markdown",
      "metadata": {
        "id": "2pcK0tiARpTm"
      },
      "source": [
        "# Financial data For the NLP strategy"
      ]
    },
    {
      "cell_type": "code",
      "metadata": {
        "colab": {
          "base_uri": "https://localhost:8080/"
        },
        "id": "qox0XjKySEFS",
        "outputId": "715d2d55-b425-4e06-81b1-8e332ede6c79"
      },
      "source": [
        "start = \"2018-10-02\"\r\n",
        "end = \"2021-01-21\"\r\n",
        "for i in tickers:\r\n",
        "  weed=yf.download(i, start=start, end=end)"
      ],
      "execution_count": 12,
      "outputs": [
        {
          "output_type": "stream",
          "text": [
            "\r[*********************100%***********************]  1 of 1 completed\n"
          ],
          "name": "stdout"
        }
      ]
    },
    {
      "cell_type": "code",
      "metadata": {
        "colab": {
          "base_uri": "https://localhost:8080/",
          "height": 450
        },
        "id": "C198UTEHFkWt",
        "outputId": "c6112a58-a899-433f-dbc2-5cbb1c306d99"
      },
      "source": [
        "weed"
      ],
      "execution_count": 16,
      "outputs": [
        {
          "output_type": "execute_result",
          "data": {
            "text/html": [
              "<div>\n",
              "<style scoped>\n",
              "    .dataframe tbody tr th:only-of-type {\n",
              "        vertical-align: middle;\n",
              "    }\n",
              "\n",
              "    .dataframe tbody tr th {\n",
              "        vertical-align: top;\n",
              "    }\n",
              "\n",
              "    .dataframe thead th {\n",
              "        text-align: right;\n",
              "    }\n",
              "</style>\n",
              "<table border=\"1\" class=\"dataframe\">\n",
              "  <thead>\n",
              "    <tr style=\"text-align: right;\">\n",
              "      <th></th>\n",
              "      <th>Open</th>\n",
              "      <th>High</th>\n",
              "      <th>Low</th>\n",
              "      <th>Close</th>\n",
              "      <th>Adj Close</th>\n",
              "      <th>Volume</th>\n",
              "    </tr>\n",
              "    <tr>\n",
              "      <th>Date</th>\n",
              "      <th></th>\n",
              "      <th></th>\n",
              "      <th></th>\n",
              "      <th></th>\n",
              "      <th></th>\n",
              "      <th></th>\n",
              "    </tr>\n",
              "  </thead>\n",
              "  <tbody>\n",
              "    <tr>\n",
              "      <th>2018-10-02</th>\n",
              "      <td>62.509998</td>\n",
              "      <td>63.330002</td>\n",
              "      <td>57.599998</td>\n",
              "      <td>58.549999</td>\n",
              "      <td>58.549999</td>\n",
              "      <td>3370155</td>\n",
              "    </tr>\n",
              "    <tr>\n",
              "      <th>2018-10-03</th>\n",
              "      <td>59.799999</td>\n",
              "      <td>63.320000</td>\n",
              "      <td>58.980000</td>\n",
              "      <td>63.320000</td>\n",
              "      <td>63.320000</td>\n",
              "      <td>3179126</td>\n",
              "    </tr>\n",
              "    <tr>\n",
              "      <th>2018-10-04</th>\n",
              "      <td>63.880001</td>\n",
              "      <td>64.629997</td>\n",
              "      <td>61.340000</td>\n",
              "      <td>62.480000</td>\n",
              "      <td>62.480000</td>\n",
              "      <td>3414346</td>\n",
              "    </tr>\n",
              "    <tr>\n",
              "      <th>2018-10-05</th>\n",
              "      <td>62.490002</td>\n",
              "      <td>63.849998</td>\n",
              "      <td>60.139999</td>\n",
              "      <td>61.490002</td>\n",
              "      <td>61.490002</td>\n",
              "      <td>2558957</td>\n",
              "    </tr>\n",
              "    <tr>\n",
              "      <th>2018-10-09</th>\n",
              "      <td>65.000000</td>\n",
              "      <td>65.139999</td>\n",
              "      <td>62.599998</td>\n",
              "      <td>63.090000</td>\n",
              "      <td>63.090000</td>\n",
              "      <td>2895761</td>\n",
              "    </tr>\n",
              "    <tr>\n",
              "      <th>...</th>\n",
              "      <td>...</td>\n",
              "      <td>...</td>\n",
              "      <td>...</td>\n",
              "      <td>...</td>\n",
              "      <td>...</td>\n",
              "      <td>...</td>\n",
              "    </tr>\n",
              "    <tr>\n",
              "      <th>2021-01-14</th>\n",
              "      <td>41.270000</td>\n",
              "      <td>43.820000</td>\n",
              "      <td>41.270000</td>\n",
              "      <td>43.709999</td>\n",
              "      <td>43.709999</td>\n",
              "      <td>2590047</td>\n",
              "    </tr>\n",
              "    <tr>\n",
              "      <th>2021-01-15</th>\n",
              "      <td>43.939999</td>\n",
              "      <td>44.599998</td>\n",
              "      <td>41.900002</td>\n",
              "      <td>42.490002</td>\n",
              "      <td>42.490002</td>\n",
              "      <td>1984342</td>\n",
              "    </tr>\n",
              "    <tr>\n",
              "      <th>2021-01-18</th>\n",
              "      <td>42.099998</td>\n",
              "      <td>43.169998</td>\n",
              "      <td>42.099998</td>\n",
              "      <td>42.799999</td>\n",
              "      <td>42.799999</td>\n",
              "      <td>558285</td>\n",
              "    </tr>\n",
              "    <tr>\n",
              "      <th>2021-01-19</th>\n",
              "      <td>42.709999</td>\n",
              "      <td>43.299999</td>\n",
              "      <td>41.279999</td>\n",
              "      <td>42.730000</td>\n",
              "      <td>42.730000</td>\n",
              "      <td>1032531</td>\n",
              "    </tr>\n",
              "    <tr>\n",
              "      <th>2021-01-20</th>\n",
              "      <td>43.000000</td>\n",
              "      <td>43.669998</td>\n",
              "      <td>41.970001</td>\n",
              "      <td>42.500000</td>\n",
              "      <td>42.500000</td>\n",
              "      <td>888948</td>\n",
              "    </tr>\n",
              "  </tbody>\n",
              "</table>\n",
              "<p>577 rows × 6 columns</p>\n",
              "</div>"
            ],
            "text/plain": [
              "                 Open       High        Low      Close  Adj Close   Volume\n",
              "Date                                                                      \n",
              "2018-10-02  62.509998  63.330002  57.599998  58.549999  58.549999  3370155\n",
              "2018-10-03  59.799999  63.320000  58.980000  63.320000  63.320000  3179126\n",
              "2018-10-04  63.880001  64.629997  61.340000  62.480000  62.480000  3414346\n",
              "2018-10-05  62.490002  63.849998  60.139999  61.490002  61.490002  2558957\n",
              "2018-10-09  65.000000  65.139999  62.599998  63.090000  63.090000  2895761\n",
              "...               ...        ...        ...        ...        ...      ...\n",
              "2021-01-14  41.270000  43.820000  41.270000  43.709999  43.709999  2590047\n",
              "2021-01-15  43.939999  44.599998  41.900002  42.490002  42.490002  1984342\n",
              "2021-01-18  42.099998  43.169998  42.099998  42.799999  42.799999   558285\n",
              "2021-01-19  42.709999  43.299999  41.279999  42.730000  42.730000  1032531\n",
              "2021-01-20  43.000000  43.669998  41.970001  42.500000  42.500000   888948\n",
              "\n",
              "[577 rows x 6 columns]"
            ]
          },
          "metadata": {
            "tags": []
          },
          "execution_count": 16
        }
      ]
    },
    {
      "cell_type": "code",
      "metadata": {
        "id": "IFVmduTZGNOq"
      },
      "source": [
        "weed['daily_pct_change'] = weed['Adj Close'].pct_change()\r\n",
        "weed['return_next_day'] = weed.daily_pct_change.shift(-1)\r\n",
        "weed['actual_signal'] = np.where(weed.return_next_day > 0, 1, -1)"
      ],
      "execution_count": 13,
      "outputs": []
    },
    {
      "cell_type": "markdown",
      "metadata": {
        "id": "oJ_aYbZ4N6v0"
      },
      "source": [
        "# resetting the date index, so i can join the sentiment data and the financial data"
      ]
    },
    {
      "cell_type": "code",
      "metadata": {
        "id": "1-S3ZuAFIdfR"
      },
      "source": [
        "weed_r=weed.reset_index(level=['Date'])\r\n",
        "weed_rename = weed_r.rename(columns = {'Date': 'date'}, inplace = False)"
      ],
      "execution_count": 14,
      "outputs": []
    },
    {
      "cell_type": "code",
      "metadata": {
        "id": "IoLe8lJBI8VY"
      },
      "source": [
        "weed_rename.dropna(inplace=True)"
      ],
      "execution_count": 15,
      "outputs": []
    },
    {
      "cell_type": "code",
      "metadata": {
        "id": "JeAlIng4GB9B",
        "colab": {
          "base_uri": "https://localhost:8080/",
          "height": 419
        },
        "outputId": "71265c68-5d11-4cf0-c383-86b04c6d26b1"
      },
      "source": [
        "weed_rename"
      ],
      "execution_count": 18,
      "outputs": [
        {
          "output_type": "execute_result",
          "data": {
            "text/html": [
              "<div>\n",
              "<style scoped>\n",
              "    .dataframe tbody tr th:only-of-type {\n",
              "        vertical-align: middle;\n",
              "    }\n",
              "\n",
              "    .dataframe tbody tr th {\n",
              "        vertical-align: top;\n",
              "    }\n",
              "\n",
              "    .dataframe thead th {\n",
              "        text-align: right;\n",
              "    }\n",
              "</style>\n",
              "<table border=\"1\" class=\"dataframe\">\n",
              "  <thead>\n",
              "    <tr style=\"text-align: right;\">\n",
              "      <th></th>\n",
              "      <th>date</th>\n",
              "      <th>Open</th>\n",
              "      <th>High</th>\n",
              "      <th>Low</th>\n",
              "      <th>Close</th>\n",
              "      <th>Adj Close</th>\n",
              "      <th>Volume</th>\n",
              "      <th>daily_pct_change</th>\n",
              "      <th>return_next_day</th>\n",
              "      <th>actual_signal</th>\n",
              "    </tr>\n",
              "  </thead>\n",
              "  <tbody>\n",
              "    <tr>\n",
              "      <th>1</th>\n",
              "      <td>2018-10-03</td>\n",
              "      <td>59.799999</td>\n",
              "      <td>63.320000</td>\n",
              "      <td>58.980000</td>\n",
              "      <td>63.320000</td>\n",
              "      <td>63.320000</td>\n",
              "      <td>3179126</td>\n",
              "      <td>0.081469</td>\n",
              "      <td>-0.013266</td>\n",
              "      <td>-1</td>\n",
              "    </tr>\n",
              "    <tr>\n",
              "      <th>2</th>\n",
              "      <td>2018-10-04</td>\n",
              "      <td>63.880001</td>\n",
              "      <td>64.629997</td>\n",
              "      <td>61.340000</td>\n",
              "      <td>62.480000</td>\n",
              "      <td>62.480000</td>\n",
              "      <td>3414346</td>\n",
              "      <td>-0.013266</td>\n",
              "      <td>-0.015845</td>\n",
              "      <td>-1</td>\n",
              "    </tr>\n",
              "    <tr>\n",
              "      <th>3</th>\n",
              "      <td>2018-10-05</td>\n",
              "      <td>62.490002</td>\n",
              "      <td>63.849998</td>\n",
              "      <td>60.139999</td>\n",
              "      <td>61.490002</td>\n",
              "      <td>61.490002</td>\n",
              "      <td>2558957</td>\n",
              "      <td>-0.015845</td>\n",
              "      <td>0.026020</td>\n",
              "      <td>1</td>\n",
              "    </tr>\n",
              "    <tr>\n",
              "      <th>4</th>\n",
              "      <td>2018-10-09</td>\n",
              "      <td>65.000000</td>\n",
              "      <td>65.139999</td>\n",
              "      <td>62.599998</td>\n",
              "      <td>63.090000</td>\n",
              "      <td>63.090000</td>\n",
              "      <td>2895761</td>\n",
              "      <td>0.026020</td>\n",
              "      <td>-0.005231</td>\n",
              "      <td>-1</td>\n",
              "    </tr>\n",
              "    <tr>\n",
              "      <th>5</th>\n",
              "      <td>2018-10-10</td>\n",
              "      <td>62.860001</td>\n",
              "      <td>64.989998</td>\n",
              "      <td>60.549999</td>\n",
              "      <td>62.759998</td>\n",
              "      <td>62.759998</td>\n",
              "      <td>3386947</td>\n",
              "      <td>-0.005231</td>\n",
              "      <td>-0.023423</td>\n",
              "      <td>-1</td>\n",
              "    </tr>\n",
              "    <tr>\n",
              "      <th>...</th>\n",
              "      <td>...</td>\n",
              "      <td>...</td>\n",
              "      <td>...</td>\n",
              "      <td>...</td>\n",
              "      <td>...</td>\n",
              "      <td>...</td>\n",
              "      <td>...</td>\n",
              "      <td>...</td>\n",
              "      <td>...</td>\n",
              "      <td>...</td>\n",
              "    </tr>\n",
              "    <tr>\n",
              "      <th>571</th>\n",
              "      <td>2021-01-13</td>\n",
              "      <td>39.430000</td>\n",
              "      <td>41.980000</td>\n",
              "      <td>39.349998</td>\n",
              "      <td>40.799999</td>\n",
              "      <td>40.799999</td>\n",
              "      <td>2188869</td>\n",
              "      <td>0.038168</td>\n",
              "      <td>0.071324</td>\n",
              "      <td>1</td>\n",
              "    </tr>\n",
              "    <tr>\n",
              "      <th>572</th>\n",
              "      <td>2021-01-14</td>\n",
              "      <td>41.270000</td>\n",
              "      <td>43.820000</td>\n",
              "      <td>41.270000</td>\n",
              "      <td>43.709999</td>\n",
              "      <td>43.709999</td>\n",
              "      <td>2590047</td>\n",
              "      <td>0.071324</td>\n",
              "      <td>-0.027911</td>\n",
              "      <td>-1</td>\n",
              "    </tr>\n",
              "    <tr>\n",
              "      <th>573</th>\n",
              "      <td>2021-01-15</td>\n",
              "      <td>43.939999</td>\n",
              "      <td>44.599998</td>\n",
              "      <td>41.900002</td>\n",
              "      <td>42.490002</td>\n",
              "      <td>42.490002</td>\n",
              "      <td>1984342</td>\n",
              "      <td>-0.027911</td>\n",
              "      <td>0.007296</td>\n",
              "      <td>1</td>\n",
              "    </tr>\n",
              "    <tr>\n",
              "      <th>574</th>\n",
              "      <td>2021-01-18</td>\n",
              "      <td>42.099998</td>\n",
              "      <td>43.169998</td>\n",
              "      <td>42.099998</td>\n",
              "      <td>42.799999</td>\n",
              "      <td>42.799999</td>\n",
              "      <td>558285</td>\n",
              "      <td>0.007296</td>\n",
              "      <td>-0.001636</td>\n",
              "      <td>-1</td>\n",
              "    </tr>\n",
              "    <tr>\n",
              "      <th>575</th>\n",
              "      <td>2021-01-19</td>\n",
              "      <td>42.709999</td>\n",
              "      <td>43.299999</td>\n",
              "      <td>41.279999</td>\n",
              "      <td>42.730000</td>\n",
              "      <td>42.730000</td>\n",
              "      <td>1032531</td>\n",
              "      <td>-0.001636</td>\n",
              "      <td>-0.005383</td>\n",
              "      <td>-1</td>\n",
              "    </tr>\n",
              "  </tbody>\n",
              "</table>\n",
              "<p>575 rows × 10 columns</p>\n",
              "</div>"
            ],
            "text/plain": [
              "          date       Open  ...  return_next_day  actual_signal\n",
              "1   2018-10-03  59.799999  ...        -0.013266             -1\n",
              "2   2018-10-04  63.880001  ...        -0.015845             -1\n",
              "3   2018-10-05  62.490002  ...         0.026020              1\n",
              "4   2018-10-09  65.000000  ...        -0.005231             -1\n",
              "5   2018-10-10  62.860001  ...        -0.023423             -1\n",
              "..         ...        ...  ...              ...            ...\n",
              "571 2021-01-13  39.430000  ...         0.071324              1\n",
              "572 2021-01-14  41.270000  ...        -0.027911             -1\n",
              "573 2021-01-15  43.939999  ...         0.007296              1\n",
              "574 2021-01-18  42.099998  ...        -0.001636             -1\n",
              "575 2021-01-19  42.709999  ...        -0.005383             -1\n",
              "\n",
              "[575 rows x 10 columns]"
            ]
          },
          "metadata": {
            "tags": []
          },
          "execution_count": 18
        }
      ]
    },
    {
      "cell_type": "code",
      "metadata": {
        "id": "hUeG2m8tWVze"
      },
      "source": [
        "#weed_rename['direction'] = np.sign(weed_rename['returns']).astype(int)\r\n",
        "# Tjek lige om hvad der skal ske"
      ],
      "execution_count": null,
      "outputs": []
    },
    {
      "cell_type": "markdown",
      "metadata": {
        "id": "ABewHpeTO5PJ"
      },
      "source": [
        "# Creating features for the NLP"
      ]
    },
    {
      "cell_type": "code",
      "metadata": {
        "id": "Otz1Dp43KP5q"
      },
      "source": [
        "new_df = new_df.iloc[::-1]\r\n",
        "\r\n",
        "lags = range(1, 11)"
      ],
      "execution_count": 16,
      "outputs": []
    },
    {
      "cell_type": "code",
      "metadata": {
        "id": "-Cvf8bUSKMzQ"
      },
      "source": [
        "new_df = new_df.assign(**{\r\n",
        "    '{} (t-{})'.format(col, t): new_df[col].shift(t)\r\n",
        "    for t in lags\r\n",
        "    for col in new_df\r\n",
        "})"
      ],
      "execution_count": 17,
      "outputs": []
    },
    {
      "cell_type": "code",
      "metadata": {
        "id": "qnLWZbe8K6Bc"
      },
      "source": [
        "del new_df['date (t-1)']\r\n",
        "del new_df['date (t-2)']\r\n",
        "del new_df['date (t-3)']\r\n",
        "del new_df['date (t-4)']\r\n",
        "del new_df['date (t-5)']\r\n",
        "del new_df['date (t-6)']\r\n",
        "del new_df['date (t-7)']\r\n",
        "del new_df['date (t-8)']\r\n",
        "del new_df['date (t-9)']\r\n",
        "del new_df['date (t-10)']"
      ],
      "execution_count": 18,
      "outputs": []
    },
    {
      "cell_type": "code",
      "metadata": {
        "id": "iRaImlEHKRXA"
      },
      "source": [
        "new_df.fillna(0, inplace=True)\r\n"
      ],
      "execution_count": 19,
      "outputs": []
    },
    {
      "cell_type": "code",
      "metadata": {
        "colab": {
          "base_uri": "https://localhost:8080/",
          "height": 583
        },
        "id": "RFaIZ81NOx_k",
        "outputId": "6c35829f-f4b8-4eef-d26b-d32352205b54"
      },
      "source": [
        "new_df[:10]"
      ],
      "execution_count": 20,
      "outputs": [
        {
          "output_type": "execute_result",
          "data": {
            "text/html": [
              "<div>\n",
              "<style scoped>\n",
              "    .dataframe tbody tr th:only-of-type {\n",
              "        vertical-align: middle;\n",
              "    }\n",
              "\n",
              "    .dataframe tbody tr th {\n",
              "        vertical-align: top;\n",
              "    }\n",
              "\n",
              "    .dataframe thead th {\n",
              "        text-align: right;\n",
              "    }\n",
              "</style>\n",
              "<table border=\"1\" class=\"dataframe\">\n",
              "  <thead>\n",
              "    <tr style=\"text-align: right;\">\n",
              "      <th></th>\n",
              "      <th>date</th>\n",
              "      <th>positives</th>\n",
              "      <th>negatives</th>\n",
              "      <th>ratio</th>\n",
              "      <th>positives (t-1)</th>\n",
              "      <th>negatives (t-1)</th>\n",
              "      <th>ratio (t-1)</th>\n",
              "      <th>positives (t-2)</th>\n",
              "      <th>negatives (t-2)</th>\n",
              "      <th>ratio (t-2)</th>\n",
              "      <th>positives (t-3)</th>\n",
              "      <th>negatives (t-3)</th>\n",
              "      <th>ratio (t-3)</th>\n",
              "      <th>positives (t-4)</th>\n",
              "      <th>negatives (t-4)</th>\n",
              "      <th>ratio (t-4)</th>\n",
              "      <th>positives (t-5)</th>\n",
              "      <th>negatives (t-5)</th>\n",
              "      <th>ratio (t-5)</th>\n",
              "      <th>positives (t-6)</th>\n",
              "      <th>negatives (t-6)</th>\n",
              "      <th>ratio (t-6)</th>\n",
              "      <th>positives (t-7)</th>\n",
              "      <th>negatives (t-7)</th>\n",
              "      <th>ratio (t-7)</th>\n",
              "      <th>positives (t-8)</th>\n",
              "      <th>negatives (t-8)</th>\n",
              "      <th>ratio (t-8)</th>\n",
              "      <th>positives (t-9)</th>\n",
              "      <th>negatives (t-9)</th>\n",
              "      <th>ratio (t-9)</th>\n",
              "      <th>positives (t-10)</th>\n",
              "      <th>negatives (t-10)</th>\n",
              "      <th>ratio (t-10)</th>\n",
              "    </tr>\n",
              "  </thead>\n",
              "  <tbody>\n",
              "    <tr>\n",
              "      <th>309</th>\n",
              "      <td>2021-01-21</td>\n",
              "      <td>0</td>\n",
              "      <td>1</td>\n",
              "      <td>0.000000</td>\n",
              "      <td>0.0</td>\n",
              "      <td>0.0</td>\n",
              "      <td>0.000000</td>\n",
              "      <td>0.0</td>\n",
              "      <td>0.0</td>\n",
              "      <td>0.000000</td>\n",
              "      <td>0.0</td>\n",
              "      <td>0.0</td>\n",
              "      <td>0.000000</td>\n",
              "      <td>0.0</td>\n",
              "      <td>0.0</td>\n",
              "      <td>0.000000</td>\n",
              "      <td>0.0</td>\n",
              "      <td>0.0</td>\n",
              "      <td>0.000000</td>\n",
              "      <td>0.0</td>\n",
              "      <td>0.0</td>\n",
              "      <td>0.000000</td>\n",
              "      <td>0.0</td>\n",
              "      <td>0.0</td>\n",
              "      <td>0.000000</td>\n",
              "      <td>0.0</td>\n",
              "      <td>0.0</td>\n",
              "      <td>0.0</td>\n",
              "      <td>0.0</td>\n",
              "      <td>0.0</td>\n",
              "      <td>0.0</td>\n",
              "      <td>0.0</td>\n",
              "      <td>0.0</td>\n",
              "      <td>0.0</td>\n",
              "    </tr>\n",
              "    <tr>\n",
              "      <th>308</th>\n",
              "      <td>2021-01-20</td>\n",
              "      <td>0</td>\n",
              "      <td>1</td>\n",
              "      <td>0.000000</td>\n",
              "      <td>0.0</td>\n",
              "      <td>1.0</td>\n",
              "      <td>0.000000</td>\n",
              "      <td>0.0</td>\n",
              "      <td>0.0</td>\n",
              "      <td>0.000000</td>\n",
              "      <td>0.0</td>\n",
              "      <td>0.0</td>\n",
              "      <td>0.000000</td>\n",
              "      <td>0.0</td>\n",
              "      <td>0.0</td>\n",
              "      <td>0.000000</td>\n",
              "      <td>0.0</td>\n",
              "      <td>0.0</td>\n",
              "      <td>0.000000</td>\n",
              "      <td>0.0</td>\n",
              "      <td>0.0</td>\n",
              "      <td>0.000000</td>\n",
              "      <td>0.0</td>\n",
              "      <td>0.0</td>\n",
              "      <td>0.000000</td>\n",
              "      <td>0.0</td>\n",
              "      <td>0.0</td>\n",
              "      <td>0.0</td>\n",
              "      <td>0.0</td>\n",
              "      <td>0.0</td>\n",
              "      <td>0.0</td>\n",
              "      <td>0.0</td>\n",
              "      <td>0.0</td>\n",
              "      <td>0.0</td>\n",
              "    </tr>\n",
              "    <tr>\n",
              "      <th>307</th>\n",
              "      <td>2021-01-14</td>\n",
              "      <td>1</td>\n",
              "      <td>2</td>\n",
              "      <td>0.333333</td>\n",
              "      <td>0.0</td>\n",
              "      <td>1.0</td>\n",
              "      <td>0.000000</td>\n",
              "      <td>0.0</td>\n",
              "      <td>1.0</td>\n",
              "      <td>0.000000</td>\n",
              "      <td>0.0</td>\n",
              "      <td>0.0</td>\n",
              "      <td>0.000000</td>\n",
              "      <td>0.0</td>\n",
              "      <td>0.0</td>\n",
              "      <td>0.000000</td>\n",
              "      <td>0.0</td>\n",
              "      <td>0.0</td>\n",
              "      <td>0.000000</td>\n",
              "      <td>0.0</td>\n",
              "      <td>0.0</td>\n",
              "      <td>0.000000</td>\n",
              "      <td>0.0</td>\n",
              "      <td>0.0</td>\n",
              "      <td>0.000000</td>\n",
              "      <td>0.0</td>\n",
              "      <td>0.0</td>\n",
              "      <td>0.0</td>\n",
              "      <td>0.0</td>\n",
              "      <td>0.0</td>\n",
              "      <td>0.0</td>\n",
              "      <td>0.0</td>\n",
              "      <td>0.0</td>\n",
              "      <td>0.0</td>\n",
              "    </tr>\n",
              "    <tr>\n",
              "      <th>306</th>\n",
              "      <td>2021-01-13</td>\n",
              "      <td>2</td>\n",
              "      <td>4</td>\n",
              "      <td>0.333333</td>\n",
              "      <td>1.0</td>\n",
              "      <td>2.0</td>\n",
              "      <td>0.333333</td>\n",
              "      <td>0.0</td>\n",
              "      <td>1.0</td>\n",
              "      <td>0.000000</td>\n",
              "      <td>0.0</td>\n",
              "      <td>1.0</td>\n",
              "      <td>0.000000</td>\n",
              "      <td>0.0</td>\n",
              "      <td>0.0</td>\n",
              "      <td>0.000000</td>\n",
              "      <td>0.0</td>\n",
              "      <td>0.0</td>\n",
              "      <td>0.000000</td>\n",
              "      <td>0.0</td>\n",
              "      <td>0.0</td>\n",
              "      <td>0.000000</td>\n",
              "      <td>0.0</td>\n",
              "      <td>0.0</td>\n",
              "      <td>0.000000</td>\n",
              "      <td>0.0</td>\n",
              "      <td>0.0</td>\n",
              "      <td>0.0</td>\n",
              "      <td>0.0</td>\n",
              "      <td>0.0</td>\n",
              "      <td>0.0</td>\n",
              "      <td>0.0</td>\n",
              "      <td>0.0</td>\n",
              "      <td>0.0</td>\n",
              "    </tr>\n",
              "    <tr>\n",
              "      <th>305</th>\n",
              "      <td>2021-01-11</td>\n",
              "      <td>1</td>\n",
              "      <td>0</td>\n",
              "      <td>1.000000</td>\n",
              "      <td>2.0</td>\n",
              "      <td>4.0</td>\n",
              "      <td>0.333333</td>\n",
              "      <td>1.0</td>\n",
              "      <td>2.0</td>\n",
              "      <td>0.333333</td>\n",
              "      <td>0.0</td>\n",
              "      <td>1.0</td>\n",
              "      <td>0.000000</td>\n",
              "      <td>0.0</td>\n",
              "      <td>1.0</td>\n",
              "      <td>0.000000</td>\n",
              "      <td>0.0</td>\n",
              "      <td>0.0</td>\n",
              "      <td>0.000000</td>\n",
              "      <td>0.0</td>\n",
              "      <td>0.0</td>\n",
              "      <td>0.000000</td>\n",
              "      <td>0.0</td>\n",
              "      <td>0.0</td>\n",
              "      <td>0.000000</td>\n",
              "      <td>0.0</td>\n",
              "      <td>0.0</td>\n",
              "      <td>0.0</td>\n",
              "      <td>0.0</td>\n",
              "      <td>0.0</td>\n",
              "      <td>0.0</td>\n",
              "      <td>0.0</td>\n",
              "      <td>0.0</td>\n",
              "      <td>0.0</td>\n",
              "    </tr>\n",
              "    <tr>\n",
              "      <th>304</th>\n",
              "      <td>2021-01-08</td>\n",
              "      <td>2</td>\n",
              "      <td>1</td>\n",
              "      <td>0.666667</td>\n",
              "      <td>1.0</td>\n",
              "      <td>0.0</td>\n",
              "      <td>1.000000</td>\n",
              "      <td>2.0</td>\n",
              "      <td>4.0</td>\n",
              "      <td>0.333333</td>\n",
              "      <td>1.0</td>\n",
              "      <td>2.0</td>\n",
              "      <td>0.333333</td>\n",
              "      <td>0.0</td>\n",
              "      <td>1.0</td>\n",
              "      <td>0.000000</td>\n",
              "      <td>0.0</td>\n",
              "      <td>1.0</td>\n",
              "      <td>0.000000</td>\n",
              "      <td>0.0</td>\n",
              "      <td>0.0</td>\n",
              "      <td>0.000000</td>\n",
              "      <td>0.0</td>\n",
              "      <td>0.0</td>\n",
              "      <td>0.000000</td>\n",
              "      <td>0.0</td>\n",
              "      <td>0.0</td>\n",
              "      <td>0.0</td>\n",
              "      <td>0.0</td>\n",
              "      <td>0.0</td>\n",
              "      <td>0.0</td>\n",
              "      <td>0.0</td>\n",
              "      <td>0.0</td>\n",
              "      <td>0.0</td>\n",
              "    </tr>\n",
              "    <tr>\n",
              "      <th>303</th>\n",
              "      <td>2021-01-05</td>\n",
              "      <td>0</td>\n",
              "      <td>1</td>\n",
              "      <td>0.000000</td>\n",
              "      <td>2.0</td>\n",
              "      <td>1.0</td>\n",
              "      <td>0.666667</td>\n",
              "      <td>1.0</td>\n",
              "      <td>0.0</td>\n",
              "      <td>1.000000</td>\n",
              "      <td>2.0</td>\n",
              "      <td>4.0</td>\n",
              "      <td>0.333333</td>\n",
              "      <td>1.0</td>\n",
              "      <td>2.0</td>\n",
              "      <td>0.333333</td>\n",
              "      <td>0.0</td>\n",
              "      <td>1.0</td>\n",
              "      <td>0.000000</td>\n",
              "      <td>0.0</td>\n",
              "      <td>1.0</td>\n",
              "      <td>0.000000</td>\n",
              "      <td>0.0</td>\n",
              "      <td>0.0</td>\n",
              "      <td>0.000000</td>\n",
              "      <td>0.0</td>\n",
              "      <td>0.0</td>\n",
              "      <td>0.0</td>\n",
              "      <td>0.0</td>\n",
              "      <td>0.0</td>\n",
              "      <td>0.0</td>\n",
              "      <td>0.0</td>\n",
              "      <td>0.0</td>\n",
              "      <td>0.0</td>\n",
              "    </tr>\n",
              "    <tr>\n",
              "      <th>302</th>\n",
              "      <td>2020-12-25</td>\n",
              "      <td>0</td>\n",
              "      <td>1</td>\n",
              "      <td>0.000000</td>\n",
              "      <td>0.0</td>\n",
              "      <td>1.0</td>\n",
              "      <td>0.000000</td>\n",
              "      <td>2.0</td>\n",
              "      <td>1.0</td>\n",
              "      <td>0.666667</td>\n",
              "      <td>1.0</td>\n",
              "      <td>0.0</td>\n",
              "      <td>1.000000</td>\n",
              "      <td>2.0</td>\n",
              "      <td>4.0</td>\n",
              "      <td>0.333333</td>\n",
              "      <td>1.0</td>\n",
              "      <td>2.0</td>\n",
              "      <td>0.333333</td>\n",
              "      <td>0.0</td>\n",
              "      <td>1.0</td>\n",
              "      <td>0.000000</td>\n",
              "      <td>0.0</td>\n",
              "      <td>1.0</td>\n",
              "      <td>0.000000</td>\n",
              "      <td>0.0</td>\n",
              "      <td>0.0</td>\n",
              "      <td>0.0</td>\n",
              "      <td>0.0</td>\n",
              "      <td>0.0</td>\n",
              "      <td>0.0</td>\n",
              "      <td>0.0</td>\n",
              "      <td>0.0</td>\n",
              "      <td>0.0</td>\n",
              "    </tr>\n",
              "    <tr>\n",
              "      <th>301</th>\n",
              "      <td>2020-12-23</td>\n",
              "      <td>0</td>\n",
              "      <td>2</td>\n",
              "      <td>0.000000</td>\n",
              "      <td>0.0</td>\n",
              "      <td>1.0</td>\n",
              "      <td>0.000000</td>\n",
              "      <td>0.0</td>\n",
              "      <td>1.0</td>\n",
              "      <td>0.000000</td>\n",
              "      <td>2.0</td>\n",
              "      <td>1.0</td>\n",
              "      <td>0.666667</td>\n",
              "      <td>1.0</td>\n",
              "      <td>0.0</td>\n",
              "      <td>1.000000</td>\n",
              "      <td>2.0</td>\n",
              "      <td>4.0</td>\n",
              "      <td>0.333333</td>\n",
              "      <td>1.0</td>\n",
              "      <td>2.0</td>\n",
              "      <td>0.333333</td>\n",
              "      <td>0.0</td>\n",
              "      <td>1.0</td>\n",
              "      <td>0.000000</td>\n",
              "      <td>0.0</td>\n",
              "      <td>1.0</td>\n",
              "      <td>0.0</td>\n",
              "      <td>0.0</td>\n",
              "      <td>0.0</td>\n",
              "      <td>0.0</td>\n",
              "      <td>0.0</td>\n",
              "      <td>0.0</td>\n",
              "      <td>0.0</td>\n",
              "    </tr>\n",
              "    <tr>\n",
              "      <th>300</th>\n",
              "      <td>2020-12-18</td>\n",
              "      <td>0</td>\n",
              "      <td>2</td>\n",
              "      <td>0.000000</td>\n",
              "      <td>0.0</td>\n",
              "      <td>2.0</td>\n",
              "      <td>0.000000</td>\n",
              "      <td>0.0</td>\n",
              "      <td>1.0</td>\n",
              "      <td>0.000000</td>\n",
              "      <td>0.0</td>\n",
              "      <td>1.0</td>\n",
              "      <td>0.000000</td>\n",
              "      <td>2.0</td>\n",
              "      <td>1.0</td>\n",
              "      <td>0.666667</td>\n",
              "      <td>1.0</td>\n",
              "      <td>0.0</td>\n",
              "      <td>1.000000</td>\n",
              "      <td>2.0</td>\n",
              "      <td>4.0</td>\n",
              "      <td>0.333333</td>\n",
              "      <td>1.0</td>\n",
              "      <td>2.0</td>\n",
              "      <td>0.333333</td>\n",
              "      <td>0.0</td>\n",
              "      <td>1.0</td>\n",
              "      <td>0.0</td>\n",
              "      <td>0.0</td>\n",
              "      <td>1.0</td>\n",
              "      <td>0.0</td>\n",
              "      <td>0.0</td>\n",
              "      <td>0.0</td>\n",
              "      <td>0.0</td>\n",
              "    </tr>\n",
              "  </tbody>\n",
              "</table>\n",
              "</div>"
            ],
            "text/plain": [
              "          date  positives  ...  negatives (t-10)  ratio (t-10)\n",
              "309 2021-01-21          0  ...               0.0           0.0\n",
              "308 2021-01-20          0  ...               0.0           0.0\n",
              "307 2021-01-14          1  ...               0.0           0.0\n",
              "306 2021-01-13          2  ...               0.0           0.0\n",
              "305 2021-01-11          1  ...               0.0           0.0\n",
              "304 2021-01-08          2  ...               0.0           0.0\n",
              "303 2021-01-05          0  ...               0.0           0.0\n",
              "302 2020-12-25          0  ...               0.0           0.0\n",
              "301 2020-12-23          0  ...               0.0           0.0\n",
              "300 2020-12-18          0  ...               0.0           0.0\n",
              "\n",
              "[10 rows x 34 columns]"
            ]
          },
          "metadata": {
            "tags": []
          },
          "execution_count": 20
        }
      ]
    },
    {
      "cell_type": "markdown",
      "metadata": {
        "id": "fgcL6hrlHU7T"
      },
      "source": [
        "## Merging the Price data, and the sentiment data"
      ]
    },
    {
      "cell_type": "code",
      "metadata": {
        "id": "edMhbQHcHyaX"
      },
      "source": [
        "sent_price_merge = pd.merge(new_df, weed_rename[:573], how='right', on='date')"
      ],
      "execution_count": 21,
      "outputs": []
    },
    {
      "cell_type": "code",
      "metadata": {
        "colab": {
          "base_uri": "https://localhost:8080/",
          "height": 626
        },
        "id": "S_-8-yIeJAFv",
        "outputId": "61da8375-c0dd-4353-9f05-4f65cb4778a5"
      },
      "source": [
        "sent_price_merge"
      ],
      "execution_count": 30,
      "outputs": [
        {
          "output_type": "execute_result",
          "data": {
            "text/html": [
              "<div>\n",
              "<style scoped>\n",
              "    .dataframe tbody tr th:only-of-type {\n",
              "        vertical-align: middle;\n",
              "    }\n",
              "\n",
              "    .dataframe tbody tr th {\n",
              "        vertical-align: top;\n",
              "    }\n",
              "\n",
              "    .dataframe thead th {\n",
              "        text-align: right;\n",
              "    }\n",
              "</style>\n",
              "<table border=\"1\" class=\"dataframe\">\n",
              "  <thead>\n",
              "    <tr style=\"text-align: right;\">\n",
              "      <th></th>\n",
              "      <th>date</th>\n",
              "      <th>positives</th>\n",
              "      <th>negatives</th>\n",
              "      <th>ratio</th>\n",
              "      <th>positives (t-1)</th>\n",
              "      <th>negatives (t-1)</th>\n",
              "      <th>ratio (t-1)</th>\n",
              "      <th>positives (t-2)</th>\n",
              "      <th>negatives (t-2)</th>\n",
              "      <th>ratio (t-2)</th>\n",
              "      <th>positives (t-3)</th>\n",
              "      <th>negatives (t-3)</th>\n",
              "      <th>ratio (t-3)</th>\n",
              "      <th>positives (t-4)</th>\n",
              "      <th>negatives (t-4)</th>\n",
              "      <th>ratio (t-4)</th>\n",
              "      <th>positives (t-5)</th>\n",
              "      <th>negatives (t-5)</th>\n",
              "      <th>ratio (t-5)</th>\n",
              "      <th>positives (t-6)</th>\n",
              "      <th>negatives (t-6)</th>\n",
              "      <th>ratio (t-6)</th>\n",
              "      <th>positives (t-7)</th>\n",
              "      <th>negatives (t-7)</th>\n",
              "      <th>ratio (t-7)</th>\n",
              "      <th>positives (t-8)</th>\n",
              "      <th>negatives (t-8)</th>\n",
              "      <th>ratio (t-8)</th>\n",
              "      <th>positives (t-9)</th>\n",
              "      <th>negatives (t-9)</th>\n",
              "      <th>ratio (t-9)</th>\n",
              "      <th>positives (t-10)</th>\n",
              "      <th>negatives (t-10)</th>\n",
              "      <th>ratio (t-10)</th>\n",
              "      <th>Open</th>\n",
              "      <th>High</th>\n",
              "      <th>Low</th>\n",
              "      <th>Close</th>\n",
              "      <th>Adj Close</th>\n",
              "      <th>Volume</th>\n",
              "      <th>daily_pct_change</th>\n",
              "      <th>return_next_day</th>\n",
              "      <th>actual_signal</th>\n",
              "    </tr>\n",
              "  </thead>\n",
              "  <tbody>\n",
              "    <tr>\n",
              "      <th>0</th>\n",
              "      <td>2018-10-03</td>\n",
              "      <td>1.0</td>\n",
              "      <td>0.0</td>\n",
              "      <td>1.000000</td>\n",
              "      <td>0.0</td>\n",
              "      <td>1.0</td>\n",
              "      <td>0.000000</td>\n",
              "      <td>2.0</td>\n",
              "      <td>0.0</td>\n",
              "      <td>1.000000</td>\n",
              "      <td>2.0</td>\n",
              "      <td>0.0</td>\n",
              "      <td>1.0000</td>\n",
              "      <td>0.0</td>\n",
              "      <td>2.0</td>\n",
              "      <td>0.0000</td>\n",
              "      <td>2.0</td>\n",
              "      <td>2.0</td>\n",
              "      <td>0.500000</td>\n",
              "      <td>2.0</td>\n",
              "      <td>0.0</td>\n",
              "      <td>1.000000</td>\n",
              "      <td>5.0</td>\n",
              "      <td>11.0</td>\n",
              "      <td>0.312500</td>\n",
              "      <td>3.0</td>\n",
              "      <td>21.0</td>\n",
              "      <td>0.125000</td>\n",
              "      <td>3.0</td>\n",
              "      <td>24.0</td>\n",
              "      <td>0.111111</td>\n",
              "      <td>3.0</td>\n",
              "      <td>7.0</td>\n",
              "      <td>0.300000</td>\n",
              "      <td>59.799999</td>\n",
              "      <td>63.320000</td>\n",
              "      <td>58.980000</td>\n",
              "      <td>63.320000</td>\n",
              "      <td>63.320000</td>\n",
              "      <td>3179126</td>\n",
              "      <td>0.081469</td>\n",
              "      <td>-0.013266</td>\n",
              "      <td>-1</td>\n",
              "    </tr>\n",
              "    <tr>\n",
              "      <th>1</th>\n",
              "      <td>2018-10-04</td>\n",
              "      <td>NaN</td>\n",
              "      <td>NaN</td>\n",
              "      <td>NaN</td>\n",
              "      <td>NaN</td>\n",
              "      <td>NaN</td>\n",
              "      <td>NaN</td>\n",
              "      <td>NaN</td>\n",
              "      <td>NaN</td>\n",
              "      <td>NaN</td>\n",
              "      <td>NaN</td>\n",
              "      <td>NaN</td>\n",
              "      <td>NaN</td>\n",
              "      <td>NaN</td>\n",
              "      <td>NaN</td>\n",
              "      <td>NaN</td>\n",
              "      <td>NaN</td>\n",
              "      <td>NaN</td>\n",
              "      <td>NaN</td>\n",
              "      <td>NaN</td>\n",
              "      <td>NaN</td>\n",
              "      <td>NaN</td>\n",
              "      <td>NaN</td>\n",
              "      <td>NaN</td>\n",
              "      <td>NaN</td>\n",
              "      <td>NaN</td>\n",
              "      <td>NaN</td>\n",
              "      <td>NaN</td>\n",
              "      <td>NaN</td>\n",
              "      <td>NaN</td>\n",
              "      <td>NaN</td>\n",
              "      <td>NaN</td>\n",
              "      <td>NaN</td>\n",
              "      <td>NaN</td>\n",
              "      <td>63.880001</td>\n",
              "      <td>64.629997</td>\n",
              "      <td>61.340000</td>\n",
              "      <td>62.480000</td>\n",
              "      <td>62.480000</td>\n",
              "      <td>3414346</td>\n",
              "      <td>-0.013266</td>\n",
              "      <td>-0.015845</td>\n",
              "      <td>-1</td>\n",
              "    </tr>\n",
              "    <tr>\n",
              "      <th>2</th>\n",
              "      <td>2018-10-05</td>\n",
              "      <td>0.0</td>\n",
              "      <td>1.0</td>\n",
              "      <td>0.000000</td>\n",
              "      <td>2.0</td>\n",
              "      <td>0.0</td>\n",
              "      <td>1.000000</td>\n",
              "      <td>2.0</td>\n",
              "      <td>0.0</td>\n",
              "      <td>1.000000</td>\n",
              "      <td>0.0</td>\n",
              "      <td>2.0</td>\n",
              "      <td>0.0000</td>\n",
              "      <td>2.0</td>\n",
              "      <td>2.0</td>\n",
              "      <td>0.5000</td>\n",
              "      <td>2.0</td>\n",
              "      <td>0.0</td>\n",
              "      <td>1.000000</td>\n",
              "      <td>5.0</td>\n",
              "      <td>11.0</td>\n",
              "      <td>0.312500</td>\n",
              "      <td>3.0</td>\n",
              "      <td>21.0</td>\n",
              "      <td>0.125000</td>\n",
              "      <td>3.0</td>\n",
              "      <td>24.0</td>\n",
              "      <td>0.111111</td>\n",
              "      <td>3.0</td>\n",
              "      <td>7.0</td>\n",
              "      <td>0.300000</td>\n",
              "      <td>2.0</td>\n",
              "      <td>7.0</td>\n",
              "      <td>0.222222</td>\n",
              "      <td>62.490002</td>\n",
              "      <td>63.849998</td>\n",
              "      <td>60.139999</td>\n",
              "      <td>61.490002</td>\n",
              "      <td>61.490002</td>\n",
              "      <td>2558957</td>\n",
              "      <td>-0.015845</td>\n",
              "      <td>0.026020</td>\n",
              "      <td>1</td>\n",
              "    </tr>\n",
              "    <tr>\n",
              "      <th>3</th>\n",
              "      <td>2018-10-09</td>\n",
              "      <td>2.0</td>\n",
              "      <td>0.0</td>\n",
              "      <td>1.000000</td>\n",
              "      <td>0.0</td>\n",
              "      <td>2.0</td>\n",
              "      <td>0.000000</td>\n",
              "      <td>2.0</td>\n",
              "      <td>2.0</td>\n",
              "      <td>0.500000</td>\n",
              "      <td>2.0</td>\n",
              "      <td>0.0</td>\n",
              "      <td>1.0000</td>\n",
              "      <td>5.0</td>\n",
              "      <td>11.0</td>\n",
              "      <td>0.3125</td>\n",
              "      <td>3.0</td>\n",
              "      <td>21.0</td>\n",
              "      <td>0.125000</td>\n",
              "      <td>3.0</td>\n",
              "      <td>24.0</td>\n",
              "      <td>0.111111</td>\n",
              "      <td>3.0</td>\n",
              "      <td>7.0</td>\n",
              "      <td>0.300000</td>\n",
              "      <td>2.0</td>\n",
              "      <td>7.0</td>\n",
              "      <td>0.222222</td>\n",
              "      <td>3.0</td>\n",
              "      <td>8.0</td>\n",
              "      <td>0.272727</td>\n",
              "      <td>7.0</td>\n",
              "      <td>8.0</td>\n",
              "      <td>0.466667</td>\n",
              "      <td>65.000000</td>\n",
              "      <td>65.139999</td>\n",
              "      <td>62.599998</td>\n",
              "      <td>63.090000</td>\n",
              "      <td>63.090000</td>\n",
              "      <td>2895761</td>\n",
              "      <td>0.026020</td>\n",
              "      <td>-0.005231</td>\n",
              "      <td>-1</td>\n",
              "    </tr>\n",
              "    <tr>\n",
              "      <th>4</th>\n",
              "      <td>2018-10-10</td>\n",
              "      <td>0.0</td>\n",
              "      <td>2.0</td>\n",
              "      <td>0.000000</td>\n",
              "      <td>2.0</td>\n",
              "      <td>2.0</td>\n",
              "      <td>0.500000</td>\n",
              "      <td>2.0</td>\n",
              "      <td>0.0</td>\n",
              "      <td>1.000000</td>\n",
              "      <td>5.0</td>\n",
              "      <td>11.0</td>\n",
              "      <td>0.3125</td>\n",
              "      <td>3.0</td>\n",
              "      <td>21.0</td>\n",
              "      <td>0.1250</td>\n",
              "      <td>3.0</td>\n",
              "      <td>24.0</td>\n",
              "      <td>0.111111</td>\n",
              "      <td>3.0</td>\n",
              "      <td>7.0</td>\n",
              "      <td>0.300000</td>\n",
              "      <td>2.0</td>\n",
              "      <td>7.0</td>\n",
              "      <td>0.222222</td>\n",
              "      <td>3.0</td>\n",
              "      <td>8.0</td>\n",
              "      <td>0.272727</td>\n",
              "      <td>7.0</td>\n",
              "      <td>8.0</td>\n",
              "      <td>0.466667</td>\n",
              "      <td>2.0</td>\n",
              "      <td>5.0</td>\n",
              "      <td>0.285714</td>\n",
              "      <td>62.860001</td>\n",
              "      <td>64.989998</td>\n",
              "      <td>60.549999</td>\n",
              "      <td>62.759998</td>\n",
              "      <td>62.759998</td>\n",
              "      <td>3386947</td>\n",
              "      <td>-0.005231</td>\n",
              "      <td>-0.023423</td>\n",
              "      <td>-1</td>\n",
              "    </tr>\n",
              "    <tr>\n",
              "      <th>...</th>\n",
              "      <td>...</td>\n",
              "      <td>...</td>\n",
              "      <td>...</td>\n",
              "      <td>...</td>\n",
              "      <td>...</td>\n",
              "      <td>...</td>\n",
              "      <td>...</td>\n",
              "      <td>...</td>\n",
              "      <td>...</td>\n",
              "      <td>...</td>\n",
              "      <td>...</td>\n",
              "      <td>...</td>\n",
              "      <td>...</td>\n",
              "      <td>...</td>\n",
              "      <td>...</td>\n",
              "      <td>...</td>\n",
              "      <td>...</td>\n",
              "      <td>...</td>\n",
              "      <td>...</td>\n",
              "      <td>...</td>\n",
              "      <td>...</td>\n",
              "      <td>...</td>\n",
              "      <td>...</td>\n",
              "      <td>...</td>\n",
              "      <td>...</td>\n",
              "      <td>...</td>\n",
              "      <td>...</td>\n",
              "      <td>...</td>\n",
              "      <td>...</td>\n",
              "      <td>...</td>\n",
              "      <td>...</td>\n",
              "      <td>...</td>\n",
              "      <td>...</td>\n",
              "      <td>...</td>\n",
              "      <td>...</td>\n",
              "      <td>...</td>\n",
              "      <td>...</td>\n",
              "      <td>...</td>\n",
              "      <td>...</td>\n",
              "      <td>...</td>\n",
              "      <td>...</td>\n",
              "      <td>...</td>\n",
              "      <td>...</td>\n",
              "    </tr>\n",
              "    <tr>\n",
              "      <th>568</th>\n",
              "      <td>2021-01-11</td>\n",
              "      <td>1.0</td>\n",
              "      <td>0.0</td>\n",
              "      <td>1.000000</td>\n",
              "      <td>2.0</td>\n",
              "      <td>4.0</td>\n",
              "      <td>0.333333</td>\n",
              "      <td>1.0</td>\n",
              "      <td>2.0</td>\n",
              "      <td>0.333333</td>\n",
              "      <td>0.0</td>\n",
              "      <td>1.0</td>\n",
              "      <td>0.0000</td>\n",
              "      <td>0.0</td>\n",
              "      <td>1.0</td>\n",
              "      <td>0.0000</td>\n",
              "      <td>0.0</td>\n",
              "      <td>0.0</td>\n",
              "      <td>0.000000</td>\n",
              "      <td>0.0</td>\n",
              "      <td>0.0</td>\n",
              "      <td>0.000000</td>\n",
              "      <td>0.0</td>\n",
              "      <td>0.0</td>\n",
              "      <td>0.000000</td>\n",
              "      <td>0.0</td>\n",
              "      <td>0.0</td>\n",
              "      <td>0.000000</td>\n",
              "      <td>0.0</td>\n",
              "      <td>0.0</td>\n",
              "      <td>0.000000</td>\n",
              "      <td>0.0</td>\n",
              "      <td>0.0</td>\n",
              "      <td>0.000000</td>\n",
              "      <td>37.880001</td>\n",
              "      <td>41.380001</td>\n",
              "      <td>37.880001</td>\n",
              "      <td>40.139999</td>\n",
              "      <td>40.139999</td>\n",
              "      <td>2404446</td>\n",
              "      <td>0.045312</td>\n",
              "      <td>-0.020927</td>\n",
              "      <td>-1</td>\n",
              "    </tr>\n",
              "    <tr>\n",
              "      <th>569</th>\n",
              "      <td>2021-01-12</td>\n",
              "      <td>NaN</td>\n",
              "      <td>NaN</td>\n",
              "      <td>NaN</td>\n",
              "      <td>NaN</td>\n",
              "      <td>NaN</td>\n",
              "      <td>NaN</td>\n",
              "      <td>NaN</td>\n",
              "      <td>NaN</td>\n",
              "      <td>NaN</td>\n",
              "      <td>NaN</td>\n",
              "      <td>NaN</td>\n",
              "      <td>NaN</td>\n",
              "      <td>NaN</td>\n",
              "      <td>NaN</td>\n",
              "      <td>NaN</td>\n",
              "      <td>NaN</td>\n",
              "      <td>NaN</td>\n",
              "      <td>NaN</td>\n",
              "      <td>NaN</td>\n",
              "      <td>NaN</td>\n",
              "      <td>NaN</td>\n",
              "      <td>NaN</td>\n",
              "      <td>NaN</td>\n",
              "      <td>NaN</td>\n",
              "      <td>NaN</td>\n",
              "      <td>NaN</td>\n",
              "      <td>NaN</td>\n",
              "      <td>NaN</td>\n",
              "      <td>NaN</td>\n",
              "      <td>NaN</td>\n",
              "      <td>NaN</td>\n",
              "      <td>NaN</td>\n",
              "      <td>NaN</td>\n",
              "      <td>40.430000</td>\n",
              "      <td>40.820000</td>\n",
              "      <td>38.849998</td>\n",
              "      <td>39.299999</td>\n",
              "      <td>39.299999</td>\n",
              "      <td>1403253</td>\n",
              "      <td>-0.020927</td>\n",
              "      <td>0.038168</td>\n",
              "      <td>1</td>\n",
              "    </tr>\n",
              "    <tr>\n",
              "      <th>570</th>\n",
              "      <td>2021-01-13</td>\n",
              "      <td>2.0</td>\n",
              "      <td>4.0</td>\n",
              "      <td>0.333333</td>\n",
              "      <td>1.0</td>\n",
              "      <td>2.0</td>\n",
              "      <td>0.333333</td>\n",
              "      <td>0.0</td>\n",
              "      <td>1.0</td>\n",
              "      <td>0.000000</td>\n",
              "      <td>0.0</td>\n",
              "      <td>1.0</td>\n",
              "      <td>0.0000</td>\n",
              "      <td>0.0</td>\n",
              "      <td>0.0</td>\n",
              "      <td>0.0000</td>\n",
              "      <td>0.0</td>\n",
              "      <td>0.0</td>\n",
              "      <td>0.000000</td>\n",
              "      <td>0.0</td>\n",
              "      <td>0.0</td>\n",
              "      <td>0.000000</td>\n",
              "      <td>0.0</td>\n",
              "      <td>0.0</td>\n",
              "      <td>0.000000</td>\n",
              "      <td>0.0</td>\n",
              "      <td>0.0</td>\n",
              "      <td>0.000000</td>\n",
              "      <td>0.0</td>\n",
              "      <td>0.0</td>\n",
              "      <td>0.000000</td>\n",
              "      <td>0.0</td>\n",
              "      <td>0.0</td>\n",
              "      <td>0.000000</td>\n",
              "      <td>39.430000</td>\n",
              "      <td>41.980000</td>\n",
              "      <td>39.349998</td>\n",
              "      <td>40.799999</td>\n",
              "      <td>40.799999</td>\n",
              "      <td>2188869</td>\n",
              "      <td>0.038168</td>\n",
              "      <td>0.071324</td>\n",
              "      <td>1</td>\n",
              "    </tr>\n",
              "    <tr>\n",
              "      <th>571</th>\n",
              "      <td>2021-01-14</td>\n",
              "      <td>1.0</td>\n",
              "      <td>2.0</td>\n",
              "      <td>0.333333</td>\n",
              "      <td>0.0</td>\n",
              "      <td>1.0</td>\n",
              "      <td>0.000000</td>\n",
              "      <td>0.0</td>\n",
              "      <td>1.0</td>\n",
              "      <td>0.000000</td>\n",
              "      <td>0.0</td>\n",
              "      <td>0.0</td>\n",
              "      <td>0.0000</td>\n",
              "      <td>0.0</td>\n",
              "      <td>0.0</td>\n",
              "      <td>0.0000</td>\n",
              "      <td>0.0</td>\n",
              "      <td>0.0</td>\n",
              "      <td>0.000000</td>\n",
              "      <td>0.0</td>\n",
              "      <td>0.0</td>\n",
              "      <td>0.000000</td>\n",
              "      <td>0.0</td>\n",
              "      <td>0.0</td>\n",
              "      <td>0.000000</td>\n",
              "      <td>0.0</td>\n",
              "      <td>0.0</td>\n",
              "      <td>0.000000</td>\n",
              "      <td>0.0</td>\n",
              "      <td>0.0</td>\n",
              "      <td>0.000000</td>\n",
              "      <td>0.0</td>\n",
              "      <td>0.0</td>\n",
              "      <td>0.000000</td>\n",
              "      <td>41.270000</td>\n",
              "      <td>43.820000</td>\n",
              "      <td>41.270000</td>\n",
              "      <td>43.709999</td>\n",
              "      <td>43.709999</td>\n",
              "      <td>2590047</td>\n",
              "      <td>0.071324</td>\n",
              "      <td>-0.027911</td>\n",
              "      <td>-1</td>\n",
              "    </tr>\n",
              "    <tr>\n",
              "      <th>572</th>\n",
              "      <td>2021-01-15</td>\n",
              "      <td>NaN</td>\n",
              "      <td>NaN</td>\n",
              "      <td>NaN</td>\n",
              "      <td>NaN</td>\n",
              "      <td>NaN</td>\n",
              "      <td>NaN</td>\n",
              "      <td>NaN</td>\n",
              "      <td>NaN</td>\n",
              "      <td>NaN</td>\n",
              "      <td>NaN</td>\n",
              "      <td>NaN</td>\n",
              "      <td>NaN</td>\n",
              "      <td>NaN</td>\n",
              "      <td>NaN</td>\n",
              "      <td>NaN</td>\n",
              "      <td>NaN</td>\n",
              "      <td>NaN</td>\n",
              "      <td>NaN</td>\n",
              "      <td>NaN</td>\n",
              "      <td>NaN</td>\n",
              "      <td>NaN</td>\n",
              "      <td>NaN</td>\n",
              "      <td>NaN</td>\n",
              "      <td>NaN</td>\n",
              "      <td>NaN</td>\n",
              "      <td>NaN</td>\n",
              "      <td>NaN</td>\n",
              "      <td>NaN</td>\n",
              "      <td>NaN</td>\n",
              "      <td>NaN</td>\n",
              "      <td>NaN</td>\n",
              "      <td>NaN</td>\n",
              "      <td>NaN</td>\n",
              "      <td>43.939999</td>\n",
              "      <td>44.599998</td>\n",
              "      <td>41.900002</td>\n",
              "      <td>42.490002</td>\n",
              "      <td>42.490002</td>\n",
              "      <td>1984342</td>\n",
              "      <td>-0.027911</td>\n",
              "      <td>0.007296</td>\n",
              "      <td>1</td>\n",
              "    </tr>\n",
              "  </tbody>\n",
              "</table>\n",
              "<p>573 rows × 43 columns</p>\n",
              "</div>"
            ],
            "text/plain": [
              "          date  positives  ...  return_next_day  actual_signal\n",
              "0   2018-10-03        1.0  ...        -0.013266             -1\n",
              "1   2018-10-04        NaN  ...        -0.015845             -1\n",
              "2   2018-10-05        0.0  ...         0.026020              1\n",
              "3   2018-10-09        2.0  ...        -0.005231             -1\n",
              "4   2018-10-10        0.0  ...        -0.023423             -1\n",
              "..         ...        ...  ...              ...            ...\n",
              "568 2021-01-11        1.0  ...        -0.020927             -1\n",
              "569 2021-01-12        NaN  ...         0.038168              1\n",
              "570 2021-01-13        2.0  ...         0.071324              1\n",
              "571 2021-01-14        1.0  ...        -0.027911             -1\n",
              "572 2021-01-15        NaN  ...         0.007296              1\n",
              "\n",
              "[573 rows x 43 columns]"
            ]
          },
          "metadata": {
            "tags": []
          },
          "execution_count": 30
        }
      ]
    },
    {
      "cell_type": "markdown",
      "metadata": {
        "id": "_VnauyHec6oG"
      },
      "source": [
        "## Due to the lack of comments on certain trading days i will insert zeros for the days where there are no comments"
      ]
    },
    {
      "cell_type": "code",
      "metadata": {
        "id": "ZDKCa279QBPb"
      },
      "source": [
        "spm= sent_price_merge.fillna(0)"
      ],
      "execution_count": 22,
      "outputs": []
    },
    {
      "cell_type": "code",
      "metadata": {
        "colab": {
          "base_uri": "https://localhost:8080/",
          "height": 626
        },
        "id": "FuSYexkDdC2u",
        "outputId": "49cc459d-a7f1-42b4-bfab-19e0ac9c01be"
      },
      "source": [
        "spm"
      ],
      "execution_count": 32,
      "outputs": [
        {
          "output_type": "execute_result",
          "data": {
            "text/html": [
              "<div>\n",
              "<style scoped>\n",
              "    .dataframe tbody tr th:only-of-type {\n",
              "        vertical-align: middle;\n",
              "    }\n",
              "\n",
              "    .dataframe tbody tr th {\n",
              "        vertical-align: top;\n",
              "    }\n",
              "\n",
              "    .dataframe thead th {\n",
              "        text-align: right;\n",
              "    }\n",
              "</style>\n",
              "<table border=\"1\" class=\"dataframe\">\n",
              "  <thead>\n",
              "    <tr style=\"text-align: right;\">\n",
              "      <th></th>\n",
              "      <th>date</th>\n",
              "      <th>positives</th>\n",
              "      <th>negatives</th>\n",
              "      <th>ratio</th>\n",
              "      <th>positives (t-1)</th>\n",
              "      <th>negatives (t-1)</th>\n",
              "      <th>ratio (t-1)</th>\n",
              "      <th>positives (t-2)</th>\n",
              "      <th>negatives (t-2)</th>\n",
              "      <th>ratio (t-2)</th>\n",
              "      <th>positives (t-3)</th>\n",
              "      <th>negatives (t-3)</th>\n",
              "      <th>ratio (t-3)</th>\n",
              "      <th>positives (t-4)</th>\n",
              "      <th>negatives (t-4)</th>\n",
              "      <th>ratio (t-4)</th>\n",
              "      <th>positives (t-5)</th>\n",
              "      <th>negatives (t-5)</th>\n",
              "      <th>ratio (t-5)</th>\n",
              "      <th>positives (t-6)</th>\n",
              "      <th>negatives (t-6)</th>\n",
              "      <th>ratio (t-6)</th>\n",
              "      <th>positives (t-7)</th>\n",
              "      <th>negatives (t-7)</th>\n",
              "      <th>ratio (t-7)</th>\n",
              "      <th>positives (t-8)</th>\n",
              "      <th>negatives (t-8)</th>\n",
              "      <th>ratio (t-8)</th>\n",
              "      <th>positives (t-9)</th>\n",
              "      <th>negatives (t-9)</th>\n",
              "      <th>ratio (t-9)</th>\n",
              "      <th>positives (t-10)</th>\n",
              "      <th>negatives (t-10)</th>\n",
              "      <th>ratio (t-10)</th>\n",
              "      <th>Open</th>\n",
              "      <th>High</th>\n",
              "      <th>Low</th>\n",
              "      <th>Close</th>\n",
              "      <th>Adj Close</th>\n",
              "      <th>Volume</th>\n",
              "      <th>daily_pct_change</th>\n",
              "      <th>return_next_day</th>\n",
              "      <th>actual_signal</th>\n",
              "    </tr>\n",
              "  </thead>\n",
              "  <tbody>\n",
              "    <tr>\n",
              "      <th>0</th>\n",
              "      <td>2018-10-03</td>\n",
              "      <td>1.0</td>\n",
              "      <td>0.0</td>\n",
              "      <td>1.000000</td>\n",
              "      <td>0.0</td>\n",
              "      <td>1.0</td>\n",
              "      <td>0.000000</td>\n",
              "      <td>2.0</td>\n",
              "      <td>0.0</td>\n",
              "      <td>1.000000</td>\n",
              "      <td>2.0</td>\n",
              "      <td>0.0</td>\n",
              "      <td>1.0000</td>\n",
              "      <td>0.0</td>\n",
              "      <td>2.0</td>\n",
              "      <td>0.0000</td>\n",
              "      <td>2.0</td>\n",
              "      <td>2.0</td>\n",
              "      <td>0.500000</td>\n",
              "      <td>2.0</td>\n",
              "      <td>0.0</td>\n",
              "      <td>1.000000</td>\n",
              "      <td>5.0</td>\n",
              "      <td>11.0</td>\n",
              "      <td>0.312500</td>\n",
              "      <td>3.0</td>\n",
              "      <td>21.0</td>\n",
              "      <td>0.125000</td>\n",
              "      <td>3.0</td>\n",
              "      <td>24.0</td>\n",
              "      <td>0.111111</td>\n",
              "      <td>3.0</td>\n",
              "      <td>7.0</td>\n",
              "      <td>0.300000</td>\n",
              "      <td>59.799999</td>\n",
              "      <td>63.320000</td>\n",
              "      <td>58.980000</td>\n",
              "      <td>63.320000</td>\n",
              "      <td>63.320000</td>\n",
              "      <td>3179126</td>\n",
              "      <td>0.081469</td>\n",
              "      <td>-0.013266</td>\n",
              "      <td>-1</td>\n",
              "    </tr>\n",
              "    <tr>\n",
              "      <th>1</th>\n",
              "      <td>2018-10-04</td>\n",
              "      <td>0.0</td>\n",
              "      <td>0.0</td>\n",
              "      <td>0.000000</td>\n",
              "      <td>0.0</td>\n",
              "      <td>0.0</td>\n",
              "      <td>0.000000</td>\n",
              "      <td>0.0</td>\n",
              "      <td>0.0</td>\n",
              "      <td>0.000000</td>\n",
              "      <td>0.0</td>\n",
              "      <td>0.0</td>\n",
              "      <td>0.0000</td>\n",
              "      <td>0.0</td>\n",
              "      <td>0.0</td>\n",
              "      <td>0.0000</td>\n",
              "      <td>0.0</td>\n",
              "      <td>0.0</td>\n",
              "      <td>0.000000</td>\n",
              "      <td>0.0</td>\n",
              "      <td>0.0</td>\n",
              "      <td>0.000000</td>\n",
              "      <td>0.0</td>\n",
              "      <td>0.0</td>\n",
              "      <td>0.000000</td>\n",
              "      <td>0.0</td>\n",
              "      <td>0.0</td>\n",
              "      <td>0.000000</td>\n",
              "      <td>0.0</td>\n",
              "      <td>0.0</td>\n",
              "      <td>0.000000</td>\n",
              "      <td>0.0</td>\n",
              "      <td>0.0</td>\n",
              "      <td>0.000000</td>\n",
              "      <td>63.880001</td>\n",
              "      <td>64.629997</td>\n",
              "      <td>61.340000</td>\n",
              "      <td>62.480000</td>\n",
              "      <td>62.480000</td>\n",
              "      <td>3414346</td>\n",
              "      <td>-0.013266</td>\n",
              "      <td>-0.015845</td>\n",
              "      <td>-1</td>\n",
              "    </tr>\n",
              "    <tr>\n",
              "      <th>2</th>\n",
              "      <td>2018-10-05</td>\n",
              "      <td>0.0</td>\n",
              "      <td>1.0</td>\n",
              "      <td>0.000000</td>\n",
              "      <td>2.0</td>\n",
              "      <td>0.0</td>\n",
              "      <td>1.000000</td>\n",
              "      <td>2.0</td>\n",
              "      <td>0.0</td>\n",
              "      <td>1.000000</td>\n",
              "      <td>0.0</td>\n",
              "      <td>2.0</td>\n",
              "      <td>0.0000</td>\n",
              "      <td>2.0</td>\n",
              "      <td>2.0</td>\n",
              "      <td>0.5000</td>\n",
              "      <td>2.0</td>\n",
              "      <td>0.0</td>\n",
              "      <td>1.000000</td>\n",
              "      <td>5.0</td>\n",
              "      <td>11.0</td>\n",
              "      <td>0.312500</td>\n",
              "      <td>3.0</td>\n",
              "      <td>21.0</td>\n",
              "      <td>0.125000</td>\n",
              "      <td>3.0</td>\n",
              "      <td>24.0</td>\n",
              "      <td>0.111111</td>\n",
              "      <td>3.0</td>\n",
              "      <td>7.0</td>\n",
              "      <td>0.300000</td>\n",
              "      <td>2.0</td>\n",
              "      <td>7.0</td>\n",
              "      <td>0.222222</td>\n",
              "      <td>62.490002</td>\n",
              "      <td>63.849998</td>\n",
              "      <td>60.139999</td>\n",
              "      <td>61.490002</td>\n",
              "      <td>61.490002</td>\n",
              "      <td>2558957</td>\n",
              "      <td>-0.015845</td>\n",
              "      <td>0.026020</td>\n",
              "      <td>1</td>\n",
              "    </tr>\n",
              "    <tr>\n",
              "      <th>3</th>\n",
              "      <td>2018-10-09</td>\n",
              "      <td>2.0</td>\n",
              "      <td>0.0</td>\n",
              "      <td>1.000000</td>\n",
              "      <td>0.0</td>\n",
              "      <td>2.0</td>\n",
              "      <td>0.000000</td>\n",
              "      <td>2.0</td>\n",
              "      <td>2.0</td>\n",
              "      <td>0.500000</td>\n",
              "      <td>2.0</td>\n",
              "      <td>0.0</td>\n",
              "      <td>1.0000</td>\n",
              "      <td>5.0</td>\n",
              "      <td>11.0</td>\n",
              "      <td>0.3125</td>\n",
              "      <td>3.0</td>\n",
              "      <td>21.0</td>\n",
              "      <td>0.125000</td>\n",
              "      <td>3.0</td>\n",
              "      <td>24.0</td>\n",
              "      <td>0.111111</td>\n",
              "      <td>3.0</td>\n",
              "      <td>7.0</td>\n",
              "      <td>0.300000</td>\n",
              "      <td>2.0</td>\n",
              "      <td>7.0</td>\n",
              "      <td>0.222222</td>\n",
              "      <td>3.0</td>\n",
              "      <td>8.0</td>\n",
              "      <td>0.272727</td>\n",
              "      <td>7.0</td>\n",
              "      <td>8.0</td>\n",
              "      <td>0.466667</td>\n",
              "      <td>65.000000</td>\n",
              "      <td>65.139999</td>\n",
              "      <td>62.599998</td>\n",
              "      <td>63.090000</td>\n",
              "      <td>63.090000</td>\n",
              "      <td>2895761</td>\n",
              "      <td>0.026020</td>\n",
              "      <td>-0.005231</td>\n",
              "      <td>-1</td>\n",
              "    </tr>\n",
              "    <tr>\n",
              "      <th>4</th>\n",
              "      <td>2018-10-10</td>\n",
              "      <td>0.0</td>\n",
              "      <td>2.0</td>\n",
              "      <td>0.000000</td>\n",
              "      <td>2.0</td>\n",
              "      <td>2.0</td>\n",
              "      <td>0.500000</td>\n",
              "      <td>2.0</td>\n",
              "      <td>0.0</td>\n",
              "      <td>1.000000</td>\n",
              "      <td>5.0</td>\n",
              "      <td>11.0</td>\n",
              "      <td>0.3125</td>\n",
              "      <td>3.0</td>\n",
              "      <td>21.0</td>\n",
              "      <td>0.1250</td>\n",
              "      <td>3.0</td>\n",
              "      <td>24.0</td>\n",
              "      <td>0.111111</td>\n",
              "      <td>3.0</td>\n",
              "      <td>7.0</td>\n",
              "      <td>0.300000</td>\n",
              "      <td>2.0</td>\n",
              "      <td>7.0</td>\n",
              "      <td>0.222222</td>\n",
              "      <td>3.0</td>\n",
              "      <td>8.0</td>\n",
              "      <td>0.272727</td>\n",
              "      <td>7.0</td>\n",
              "      <td>8.0</td>\n",
              "      <td>0.466667</td>\n",
              "      <td>2.0</td>\n",
              "      <td>5.0</td>\n",
              "      <td>0.285714</td>\n",
              "      <td>62.860001</td>\n",
              "      <td>64.989998</td>\n",
              "      <td>60.549999</td>\n",
              "      <td>62.759998</td>\n",
              "      <td>62.759998</td>\n",
              "      <td>3386947</td>\n",
              "      <td>-0.005231</td>\n",
              "      <td>-0.023423</td>\n",
              "      <td>-1</td>\n",
              "    </tr>\n",
              "    <tr>\n",
              "      <th>...</th>\n",
              "      <td>...</td>\n",
              "      <td>...</td>\n",
              "      <td>...</td>\n",
              "      <td>...</td>\n",
              "      <td>...</td>\n",
              "      <td>...</td>\n",
              "      <td>...</td>\n",
              "      <td>...</td>\n",
              "      <td>...</td>\n",
              "      <td>...</td>\n",
              "      <td>...</td>\n",
              "      <td>...</td>\n",
              "      <td>...</td>\n",
              "      <td>...</td>\n",
              "      <td>...</td>\n",
              "      <td>...</td>\n",
              "      <td>...</td>\n",
              "      <td>...</td>\n",
              "      <td>...</td>\n",
              "      <td>...</td>\n",
              "      <td>...</td>\n",
              "      <td>...</td>\n",
              "      <td>...</td>\n",
              "      <td>...</td>\n",
              "      <td>...</td>\n",
              "      <td>...</td>\n",
              "      <td>...</td>\n",
              "      <td>...</td>\n",
              "      <td>...</td>\n",
              "      <td>...</td>\n",
              "      <td>...</td>\n",
              "      <td>...</td>\n",
              "      <td>...</td>\n",
              "      <td>...</td>\n",
              "      <td>...</td>\n",
              "      <td>...</td>\n",
              "      <td>...</td>\n",
              "      <td>...</td>\n",
              "      <td>...</td>\n",
              "      <td>...</td>\n",
              "      <td>...</td>\n",
              "      <td>...</td>\n",
              "      <td>...</td>\n",
              "    </tr>\n",
              "    <tr>\n",
              "      <th>568</th>\n",
              "      <td>2021-01-11</td>\n",
              "      <td>1.0</td>\n",
              "      <td>0.0</td>\n",
              "      <td>1.000000</td>\n",
              "      <td>2.0</td>\n",
              "      <td>4.0</td>\n",
              "      <td>0.333333</td>\n",
              "      <td>1.0</td>\n",
              "      <td>2.0</td>\n",
              "      <td>0.333333</td>\n",
              "      <td>0.0</td>\n",
              "      <td>1.0</td>\n",
              "      <td>0.0000</td>\n",
              "      <td>0.0</td>\n",
              "      <td>1.0</td>\n",
              "      <td>0.0000</td>\n",
              "      <td>0.0</td>\n",
              "      <td>0.0</td>\n",
              "      <td>0.000000</td>\n",
              "      <td>0.0</td>\n",
              "      <td>0.0</td>\n",
              "      <td>0.000000</td>\n",
              "      <td>0.0</td>\n",
              "      <td>0.0</td>\n",
              "      <td>0.000000</td>\n",
              "      <td>0.0</td>\n",
              "      <td>0.0</td>\n",
              "      <td>0.000000</td>\n",
              "      <td>0.0</td>\n",
              "      <td>0.0</td>\n",
              "      <td>0.000000</td>\n",
              "      <td>0.0</td>\n",
              "      <td>0.0</td>\n",
              "      <td>0.000000</td>\n",
              "      <td>37.880001</td>\n",
              "      <td>41.380001</td>\n",
              "      <td>37.880001</td>\n",
              "      <td>40.139999</td>\n",
              "      <td>40.139999</td>\n",
              "      <td>2404446</td>\n",
              "      <td>0.045312</td>\n",
              "      <td>-0.020927</td>\n",
              "      <td>-1</td>\n",
              "    </tr>\n",
              "    <tr>\n",
              "      <th>569</th>\n",
              "      <td>2021-01-12</td>\n",
              "      <td>0.0</td>\n",
              "      <td>0.0</td>\n",
              "      <td>0.000000</td>\n",
              "      <td>0.0</td>\n",
              "      <td>0.0</td>\n",
              "      <td>0.000000</td>\n",
              "      <td>0.0</td>\n",
              "      <td>0.0</td>\n",
              "      <td>0.000000</td>\n",
              "      <td>0.0</td>\n",
              "      <td>0.0</td>\n",
              "      <td>0.0000</td>\n",
              "      <td>0.0</td>\n",
              "      <td>0.0</td>\n",
              "      <td>0.0000</td>\n",
              "      <td>0.0</td>\n",
              "      <td>0.0</td>\n",
              "      <td>0.000000</td>\n",
              "      <td>0.0</td>\n",
              "      <td>0.0</td>\n",
              "      <td>0.000000</td>\n",
              "      <td>0.0</td>\n",
              "      <td>0.0</td>\n",
              "      <td>0.000000</td>\n",
              "      <td>0.0</td>\n",
              "      <td>0.0</td>\n",
              "      <td>0.000000</td>\n",
              "      <td>0.0</td>\n",
              "      <td>0.0</td>\n",
              "      <td>0.000000</td>\n",
              "      <td>0.0</td>\n",
              "      <td>0.0</td>\n",
              "      <td>0.000000</td>\n",
              "      <td>40.430000</td>\n",
              "      <td>40.820000</td>\n",
              "      <td>38.849998</td>\n",
              "      <td>39.299999</td>\n",
              "      <td>39.299999</td>\n",
              "      <td>1403253</td>\n",
              "      <td>-0.020927</td>\n",
              "      <td>0.038168</td>\n",
              "      <td>1</td>\n",
              "    </tr>\n",
              "    <tr>\n",
              "      <th>570</th>\n",
              "      <td>2021-01-13</td>\n",
              "      <td>2.0</td>\n",
              "      <td>4.0</td>\n",
              "      <td>0.333333</td>\n",
              "      <td>1.0</td>\n",
              "      <td>2.0</td>\n",
              "      <td>0.333333</td>\n",
              "      <td>0.0</td>\n",
              "      <td>1.0</td>\n",
              "      <td>0.000000</td>\n",
              "      <td>0.0</td>\n",
              "      <td>1.0</td>\n",
              "      <td>0.0000</td>\n",
              "      <td>0.0</td>\n",
              "      <td>0.0</td>\n",
              "      <td>0.0000</td>\n",
              "      <td>0.0</td>\n",
              "      <td>0.0</td>\n",
              "      <td>0.000000</td>\n",
              "      <td>0.0</td>\n",
              "      <td>0.0</td>\n",
              "      <td>0.000000</td>\n",
              "      <td>0.0</td>\n",
              "      <td>0.0</td>\n",
              "      <td>0.000000</td>\n",
              "      <td>0.0</td>\n",
              "      <td>0.0</td>\n",
              "      <td>0.000000</td>\n",
              "      <td>0.0</td>\n",
              "      <td>0.0</td>\n",
              "      <td>0.000000</td>\n",
              "      <td>0.0</td>\n",
              "      <td>0.0</td>\n",
              "      <td>0.000000</td>\n",
              "      <td>39.430000</td>\n",
              "      <td>41.980000</td>\n",
              "      <td>39.349998</td>\n",
              "      <td>40.799999</td>\n",
              "      <td>40.799999</td>\n",
              "      <td>2188869</td>\n",
              "      <td>0.038168</td>\n",
              "      <td>0.071324</td>\n",
              "      <td>1</td>\n",
              "    </tr>\n",
              "    <tr>\n",
              "      <th>571</th>\n",
              "      <td>2021-01-14</td>\n",
              "      <td>1.0</td>\n",
              "      <td>2.0</td>\n",
              "      <td>0.333333</td>\n",
              "      <td>0.0</td>\n",
              "      <td>1.0</td>\n",
              "      <td>0.000000</td>\n",
              "      <td>0.0</td>\n",
              "      <td>1.0</td>\n",
              "      <td>0.000000</td>\n",
              "      <td>0.0</td>\n",
              "      <td>0.0</td>\n",
              "      <td>0.0000</td>\n",
              "      <td>0.0</td>\n",
              "      <td>0.0</td>\n",
              "      <td>0.0000</td>\n",
              "      <td>0.0</td>\n",
              "      <td>0.0</td>\n",
              "      <td>0.000000</td>\n",
              "      <td>0.0</td>\n",
              "      <td>0.0</td>\n",
              "      <td>0.000000</td>\n",
              "      <td>0.0</td>\n",
              "      <td>0.0</td>\n",
              "      <td>0.000000</td>\n",
              "      <td>0.0</td>\n",
              "      <td>0.0</td>\n",
              "      <td>0.000000</td>\n",
              "      <td>0.0</td>\n",
              "      <td>0.0</td>\n",
              "      <td>0.000000</td>\n",
              "      <td>0.0</td>\n",
              "      <td>0.0</td>\n",
              "      <td>0.000000</td>\n",
              "      <td>41.270000</td>\n",
              "      <td>43.820000</td>\n",
              "      <td>41.270000</td>\n",
              "      <td>43.709999</td>\n",
              "      <td>43.709999</td>\n",
              "      <td>2590047</td>\n",
              "      <td>0.071324</td>\n",
              "      <td>-0.027911</td>\n",
              "      <td>-1</td>\n",
              "    </tr>\n",
              "    <tr>\n",
              "      <th>572</th>\n",
              "      <td>2021-01-15</td>\n",
              "      <td>0.0</td>\n",
              "      <td>0.0</td>\n",
              "      <td>0.000000</td>\n",
              "      <td>0.0</td>\n",
              "      <td>0.0</td>\n",
              "      <td>0.000000</td>\n",
              "      <td>0.0</td>\n",
              "      <td>0.0</td>\n",
              "      <td>0.000000</td>\n",
              "      <td>0.0</td>\n",
              "      <td>0.0</td>\n",
              "      <td>0.0000</td>\n",
              "      <td>0.0</td>\n",
              "      <td>0.0</td>\n",
              "      <td>0.0000</td>\n",
              "      <td>0.0</td>\n",
              "      <td>0.0</td>\n",
              "      <td>0.000000</td>\n",
              "      <td>0.0</td>\n",
              "      <td>0.0</td>\n",
              "      <td>0.000000</td>\n",
              "      <td>0.0</td>\n",
              "      <td>0.0</td>\n",
              "      <td>0.000000</td>\n",
              "      <td>0.0</td>\n",
              "      <td>0.0</td>\n",
              "      <td>0.000000</td>\n",
              "      <td>0.0</td>\n",
              "      <td>0.0</td>\n",
              "      <td>0.000000</td>\n",
              "      <td>0.0</td>\n",
              "      <td>0.0</td>\n",
              "      <td>0.000000</td>\n",
              "      <td>43.939999</td>\n",
              "      <td>44.599998</td>\n",
              "      <td>41.900002</td>\n",
              "      <td>42.490002</td>\n",
              "      <td>42.490002</td>\n",
              "      <td>1984342</td>\n",
              "      <td>-0.027911</td>\n",
              "      <td>0.007296</td>\n",
              "      <td>1</td>\n",
              "    </tr>\n",
              "  </tbody>\n",
              "</table>\n",
              "<p>573 rows × 43 columns</p>\n",
              "</div>"
            ],
            "text/plain": [
              "          date  positives  ...  return_next_day  actual_signal\n",
              "0   2018-10-03        1.0  ...        -0.013266             -1\n",
              "1   2018-10-04        0.0  ...        -0.015845             -1\n",
              "2   2018-10-05        0.0  ...         0.026020              1\n",
              "3   2018-10-09        2.0  ...        -0.005231             -1\n",
              "4   2018-10-10        0.0  ...        -0.023423             -1\n",
              "..         ...        ...  ...              ...            ...\n",
              "568 2021-01-11        1.0  ...        -0.020927             -1\n",
              "569 2021-01-12        0.0  ...         0.038168              1\n",
              "570 2021-01-13        2.0  ...         0.071324              1\n",
              "571 2021-01-14        1.0  ...        -0.027911             -1\n",
              "572 2021-01-15        0.0  ...         0.007296              1\n",
              "\n",
              "[573 rows x 43 columns]"
            ]
          },
          "metadata": {
            "tags": []
          },
          "execution_count": 32
        }
      ]
    },
    {
      "cell_type": "markdown",
      "metadata": {
        "id": "A1h0FjVXqqwj"
      },
      "source": [
        "## Checking the signals "
      ]
    },
    {
      "cell_type": "code",
      "metadata": {
        "id": "A_FtUjWiqdZb"
      },
      "source": [
        "# map market direction of (1,-1) to (1,0)\r\n",
        "spm['actual_signal'] = np.where(spm['actual_signal'] > 0, 1, 0)"
      ],
      "execution_count": 23,
      "outputs": []
    },
    {
      "cell_type": "code",
      "metadata": {
        "colab": {
          "base_uri": "https://localhost:8080/"
        },
        "id": "SeQ7u7mvqh8r",
        "outputId": "4d877305-9c15-4dc4-c102-d9c9512e934f"
      },
      "source": [
        "spm['actual_signal'].value_counts()"
      ],
      "execution_count": 26,
      "outputs": [
        {
          "output_type": "execute_result",
          "data": {
            "text/plain": [
              "0    311\n",
              "1    262\n",
              "Name: actual_signal, dtype: int64"
            ]
          },
          "metadata": {
            "tags": []
          },
          "execution_count": 26
        }
      ]
    },
    {
      "cell_type": "markdown",
      "metadata": {
        "id": "3X-pN6JHPeCt"
      },
      "source": [
        "With negative comments and neutral comments both equaling zero, alot of the ratio, numbers are equal to zero="
      ]
    },
    {
      "cell_type": "code",
      "metadata": {
        "colab": {
          "base_uri": "https://localhost:8080/"
        },
        "id": "G1RvpORtq7s8",
        "outputId": "dda9fde4-ab9b-4220-af1e-336800d6956f"
      },
      "source": [
        "spm['ratio'].value_counts()"
      ],
      "execution_count": 35,
      "outputs": [
        {
          "output_type": "execute_result",
          "data": {
            "text/plain": [
              "0.000000    408\n",
              "0.500000     45\n",
              "1.000000     42\n",
              "0.333333     19\n",
              "0.250000      8\n",
              "0.666667      8\n",
              "0.200000      4\n",
              "0.375000      4\n",
              "0.428571      3\n",
              "0.625000      3\n",
              "0.285714      3\n",
              "0.400000      3\n",
              "0.166667      3\n",
              "0.272727      2\n",
              "0.125000      2\n",
              "0.142857      2\n",
              "0.600000      2\n",
              "0.750000      2\n",
              "0.312500      1\n",
              "0.222222      1\n",
              "0.111111      1\n",
              "0.533333      1\n",
              "0.833333      1\n",
              "0.300000      1\n",
              "0.454545      1\n",
              "0.466667      1\n",
              "0.307692      1\n",
              "0.181818      1\n",
              "Name: ratio, dtype: int64"
            ]
          },
          "metadata": {
            "tags": []
          },
          "execution_count": 35
        }
      ]
    },
    {
      "cell_type": "markdown",
      "metadata": {
        "id": "s3KcYnmarcDF"
      },
      "source": [
        "## Setting date as index again, so i can use it for backtrader later."
      ]
    },
    {
      "cell_type": "code",
      "metadata": {
        "id": "M2lNZTHqrbNQ"
      },
      "source": [
        "spmi = spm.set_index('date')"
      ],
      "execution_count": 24,
      "outputs": []
    },
    {
      "cell_type": "code",
      "metadata": {
        "colab": {
          "base_uri": "https://localhost:8080/",
          "height": 657
        },
        "id": "IfDaQFQIIiCQ",
        "outputId": "e33d6cb2-be0e-48ac-9188-3f5a41b5519a"
      },
      "source": [
        "spmi.iloc[:,:33]"
      ],
      "execution_count": 39,
      "outputs": [
        {
          "output_type": "execute_result",
          "data": {
            "text/html": [
              "<div>\n",
              "<style scoped>\n",
              "    .dataframe tbody tr th:only-of-type {\n",
              "        vertical-align: middle;\n",
              "    }\n",
              "\n",
              "    .dataframe tbody tr th {\n",
              "        vertical-align: top;\n",
              "    }\n",
              "\n",
              "    .dataframe thead th {\n",
              "        text-align: right;\n",
              "    }\n",
              "</style>\n",
              "<table border=\"1\" class=\"dataframe\">\n",
              "  <thead>\n",
              "    <tr style=\"text-align: right;\">\n",
              "      <th></th>\n",
              "      <th>positives</th>\n",
              "      <th>negatives</th>\n",
              "      <th>ratio</th>\n",
              "      <th>positives (t-1)</th>\n",
              "      <th>negatives (t-1)</th>\n",
              "      <th>ratio (t-1)</th>\n",
              "      <th>positives (t-2)</th>\n",
              "      <th>negatives (t-2)</th>\n",
              "      <th>ratio (t-2)</th>\n",
              "      <th>positives (t-3)</th>\n",
              "      <th>negatives (t-3)</th>\n",
              "      <th>ratio (t-3)</th>\n",
              "      <th>positives (t-4)</th>\n",
              "      <th>negatives (t-4)</th>\n",
              "      <th>ratio (t-4)</th>\n",
              "      <th>positives (t-5)</th>\n",
              "      <th>negatives (t-5)</th>\n",
              "      <th>ratio (t-5)</th>\n",
              "      <th>positives (t-6)</th>\n",
              "      <th>negatives (t-6)</th>\n",
              "      <th>ratio (t-6)</th>\n",
              "      <th>positives (t-7)</th>\n",
              "      <th>negatives (t-7)</th>\n",
              "      <th>ratio (t-7)</th>\n",
              "      <th>positives (t-8)</th>\n",
              "      <th>negatives (t-8)</th>\n",
              "      <th>ratio (t-8)</th>\n",
              "      <th>positives (t-9)</th>\n",
              "      <th>negatives (t-9)</th>\n",
              "      <th>ratio (t-9)</th>\n",
              "      <th>positives (t-10)</th>\n",
              "      <th>negatives (t-10)</th>\n",
              "      <th>ratio (t-10)</th>\n",
              "    </tr>\n",
              "    <tr>\n",
              "      <th>date</th>\n",
              "      <th></th>\n",
              "      <th></th>\n",
              "      <th></th>\n",
              "      <th></th>\n",
              "      <th></th>\n",
              "      <th></th>\n",
              "      <th></th>\n",
              "      <th></th>\n",
              "      <th></th>\n",
              "      <th></th>\n",
              "      <th></th>\n",
              "      <th></th>\n",
              "      <th></th>\n",
              "      <th></th>\n",
              "      <th></th>\n",
              "      <th></th>\n",
              "      <th></th>\n",
              "      <th></th>\n",
              "      <th></th>\n",
              "      <th></th>\n",
              "      <th></th>\n",
              "      <th></th>\n",
              "      <th></th>\n",
              "      <th></th>\n",
              "      <th></th>\n",
              "      <th></th>\n",
              "      <th></th>\n",
              "      <th></th>\n",
              "      <th></th>\n",
              "      <th></th>\n",
              "      <th></th>\n",
              "      <th></th>\n",
              "      <th></th>\n",
              "    </tr>\n",
              "  </thead>\n",
              "  <tbody>\n",
              "    <tr>\n",
              "      <th>2018-10-03</th>\n",
              "      <td>1.0</td>\n",
              "      <td>0.0</td>\n",
              "      <td>1.000000</td>\n",
              "      <td>0.0</td>\n",
              "      <td>1.0</td>\n",
              "      <td>0.000000</td>\n",
              "      <td>2.0</td>\n",
              "      <td>0.0</td>\n",
              "      <td>1.000000</td>\n",
              "      <td>2.0</td>\n",
              "      <td>0.0</td>\n",
              "      <td>1.0000</td>\n",
              "      <td>0.0</td>\n",
              "      <td>2.0</td>\n",
              "      <td>0.0000</td>\n",
              "      <td>2.0</td>\n",
              "      <td>2.0</td>\n",
              "      <td>0.500000</td>\n",
              "      <td>2.0</td>\n",
              "      <td>0.0</td>\n",
              "      <td>1.000000</td>\n",
              "      <td>5.0</td>\n",
              "      <td>11.0</td>\n",
              "      <td>0.312500</td>\n",
              "      <td>3.0</td>\n",
              "      <td>21.0</td>\n",
              "      <td>0.125000</td>\n",
              "      <td>3.0</td>\n",
              "      <td>24.0</td>\n",
              "      <td>0.111111</td>\n",
              "      <td>3.0</td>\n",
              "      <td>7.0</td>\n",
              "      <td>0.300000</td>\n",
              "    </tr>\n",
              "    <tr>\n",
              "      <th>2018-10-04</th>\n",
              "      <td>0.0</td>\n",
              "      <td>0.0</td>\n",
              "      <td>0.000000</td>\n",
              "      <td>0.0</td>\n",
              "      <td>0.0</td>\n",
              "      <td>0.000000</td>\n",
              "      <td>0.0</td>\n",
              "      <td>0.0</td>\n",
              "      <td>0.000000</td>\n",
              "      <td>0.0</td>\n",
              "      <td>0.0</td>\n",
              "      <td>0.0000</td>\n",
              "      <td>0.0</td>\n",
              "      <td>0.0</td>\n",
              "      <td>0.0000</td>\n",
              "      <td>0.0</td>\n",
              "      <td>0.0</td>\n",
              "      <td>0.000000</td>\n",
              "      <td>0.0</td>\n",
              "      <td>0.0</td>\n",
              "      <td>0.000000</td>\n",
              "      <td>0.0</td>\n",
              "      <td>0.0</td>\n",
              "      <td>0.000000</td>\n",
              "      <td>0.0</td>\n",
              "      <td>0.0</td>\n",
              "      <td>0.000000</td>\n",
              "      <td>0.0</td>\n",
              "      <td>0.0</td>\n",
              "      <td>0.000000</td>\n",
              "      <td>0.0</td>\n",
              "      <td>0.0</td>\n",
              "      <td>0.000000</td>\n",
              "    </tr>\n",
              "    <tr>\n",
              "      <th>2018-10-05</th>\n",
              "      <td>0.0</td>\n",
              "      <td>1.0</td>\n",
              "      <td>0.000000</td>\n",
              "      <td>2.0</td>\n",
              "      <td>0.0</td>\n",
              "      <td>1.000000</td>\n",
              "      <td>2.0</td>\n",
              "      <td>0.0</td>\n",
              "      <td>1.000000</td>\n",
              "      <td>0.0</td>\n",
              "      <td>2.0</td>\n",
              "      <td>0.0000</td>\n",
              "      <td>2.0</td>\n",
              "      <td>2.0</td>\n",
              "      <td>0.5000</td>\n",
              "      <td>2.0</td>\n",
              "      <td>0.0</td>\n",
              "      <td>1.000000</td>\n",
              "      <td>5.0</td>\n",
              "      <td>11.0</td>\n",
              "      <td>0.312500</td>\n",
              "      <td>3.0</td>\n",
              "      <td>21.0</td>\n",
              "      <td>0.125000</td>\n",
              "      <td>3.0</td>\n",
              "      <td>24.0</td>\n",
              "      <td>0.111111</td>\n",
              "      <td>3.0</td>\n",
              "      <td>7.0</td>\n",
              "      <td>0.300000</td>\n",
              "      <td>2.0</td>\n",
              "      <td>7.0</td>\n",
              "      <td>0.222222</td>\n",
              "    </tr>\n",
              "    <tr>\n",
              "      <th>2018-10-09</th>\n",
              "      <td>2.0</td>\n",
              "      <td>0.0</td>\n",
              "      <td>1.000000</td>\n",
              "      <td>0.0</td>\n",
              "      <td>2.0</td>\n",
              "      <td>0.000000</td>\n",
              "      <td>2.0</td>\n",
              "      <td>2.0</td>\n",
              "      <td>0.500000</td>\n",
              "      <td>2.0</td>\n",
              "      <td>0.0</td>\n",
              "      <td>1.0000</td>\n",
              "      <td>5.0</td>\n",
              "      <td>11.0</td>\n",
              "      <td>0.3125</td>\n",
              "      <td>3.0</td>\n",
              "      <td>21.0</td>\n",
              "      <td>0.125000</td>\n",
              "      <td>3.0</td>\n",
              "      <td>24.0</td>\n",
              "      <td>0.111111</td>\n",
              "      <td>3.0</td>\n",
              "      <td>7.0</td>\n",
              "      <td>0.300000</td>\n",
              "      <td>2.0</td>\n",
              "      <td>7.0</td>\n",
              "      <td>0.222222</td>\n",
              "      <td>3.0</td>\n",
              "      <td>8.0</td>\n",
              "      <td>0.272727</td>\n",
              "      <td>7.0</td>\n",
              "      <td>8.0</td>\n",
              "      <td>0.466667</td>\n",
              "    </tr>\n",
              "    <tr>\n",
              "      <th>2018-10-10</th>\n",
              "      <td>0.0</td>\n",
              "      <td>2.0</td>\n",
              "      <td>0.000000</td>\n",
              "      <td>2.0</td>\n",
              "      <td>2.0</td>\n",
              "      <td>0.500000</td>\n",
              "      <td>2.0</td>\n",
              "      <td>0.0</td>\n",
              "      <td>1.000000</td>\n",
              "      <td>5.0</td>\n",
              "      <td>11.0</td>\n",
              "      <td>0.3125</td>\n",
              "      <td>3.0</td>\n",
              "      <td>21.0</td>\n",
              "      <td>0.1250</td>\n",
              "      <td>3.0</td>\n",
              "      <td>24.0</td>\n",
              "      <td>0.111111</td>\n",
              "      <td>3.0</td>\n",
              "      <td>7.0</td>\n",
              "      <td>0.300000</td>\n",
              "      <td>2.0</td>\n",
              "      <td>7.0</td>\n",
              "      <td>0.222222</td>\n",
              "      <td>3.0</td>\n",
              "      <td>8.0</td>\n",
              "      <td>0.272727</td>\n",
              "      <td>7.0</td>\n",
              "      <td>8.0</td>\n",
              "      <td>0.466667</td>\n",
              "      <td>2.0</td>\n",
              "      <td>5.0</td>\n",
              "      <td>0.285714</td>\n",
              "    </tr>\n",
              "    <tr>\n",
              "      <th>...</th>\n",
              "      <td>...</td>\n",
              "      <td>...</td>\n",
              "      <td>...</td>\n",
              "      <td>...</td>\n",
              "      <td>...</td>\n",
              "      <td>...</td>\n",
              "      <td>...</td>\n",
              "      <td>...</td>\n",
              "      <td>...</td>\n",
              "      <td>...</td>\n",
              "      <td>...</td>\n",
              "      <td>...</td>\n",
              "      <td>...</td>\n",
              "      <td>...</td>\n",
              "      <td>...</td>\n",
              "      <td>...</td>\n",
              "      <td>...</td>\n",
              "      <td>...</td>\n",
              "      <td>...</td>\n",
              "      <td>...</td>\n",
              "      <td>...</td>\n",
              "      <td>...</td>\n",
              "      <td>...</td>\n",
              "      <td>...</td>\n",
              "      <td>...</td>\n",
              "      <td>...</td>\n",
              "      <td>...</td>\n",
              "      <td>...</td>\n",
              "      <td>...</td>\n",
              "      <td>...</td>\n",
              "      <td>...</td>\n",
              "      <td>...</td>\n",
              "      <td>...</td>\n",
              "    </tr>\n",
              "    <tr>\n",
              "      <th>2021-01-11</th>\n",
              "      <td>1.0</td>\n",
              "      <td>0.0</td>\n",
              "      <td>1.000000</td>\n",
              "      <td>2.0</td>\n",
              "      <td>4.0</td>\n",
              "      <td>0.333333</td>\n",
              "      <td>1.0</td>\n",
              "      <td>2.0</td>\n",
              "      <td>0.333333</td>\n",
              "      <td>0.0</td>\n",
              "      <td>1.0</td>\n",
              "      <td>0.0000</td>\n",
              "      <td>0.0</td>\n",
              "      <td>1.0</td>\n",
              "      <td>0.0000</td>\n",
              "      <td>0.0</td>\n",
              "      <td>0.0</td>\n",
              "      <td>0.000000</td>\n",
              "      <td>0.0</td>\n",
              "      <td>0.0</td>\n",
              "      <td>0.000000</td>\n",
              "      <td>0.0</td>\n",
              "      <td>0.0</td>\n",
              "      <td>0.000000</td>\n",
              "      <td>0.0</td>\n",
              "      <td>0.0</td>\n",
              "      <td>0.000000</td>\n",
              "      <td>0.0</td>\n",
              "      <td>0.0</td>\n",
              "      <td>0.000000</td>\n",
              "      <td>0.0</td>\n",
              "      <td>0.0</td>\n",
              "      <td>0.000000</td>\n",
              "    </tr>\n",
              "    <tr>\n",
              "      <th>2021-01-12</th>\n",
              "      <td>0.0</td>\n",
              "      <td>0.0</td>\n",
              "      <td>0.000000</td>\n",
              "      <td>0.0</td>\n",
              "      <td>0.0</td>\n",
              "      <td>0.000000</td>\n",
              "      <td>0.0</td>\n",
              "      <td>0.0</td>\n",
              "      <td>0.000000</td>\n",
              "      <td>0.0</td>\n",
              "      <td>0.0</td>\n",
              "      <td>0.0000</td>\n",
              "      <td>0.0</td>\n",
              "      <td>0.0</td>\n",
              "      <td>0.0000</td>\n",
              "      <td>0.0</td>\n",
              "      <td>0.0</td>\n",
              "      <td>0.000000</td>\n",
              "      <td>0.0</td>\n",
              "      <td>0.0</td>\n",
              "      <td>0.000000</td>\n",
              "      <td>0.0</td>\n",
              "      <td>0.0</td>\n",
              "      <td>0.000000</td>\n",
              "      <td>0.0</td>\n",
              "      <td>0.0</td>\n",
              "      <td>0.000000</td>\n",
              "      <td>0.0</td>\n",
              "      <td>0.0</td>\n",
              "      <td>0.000000</td>\n",
              "      <td>0.0</td>\n",
              "      <td>0.0</td>\n",
              "      <td>0.000000</td>\n",
              "    </tr>\n",
              "    <tr>\n",
              "      <th>2021-01-13</th>\n",
              "      <td>2.0</td>\n",
              "      <td>4.0</td>\n",
              "      <td>0.333333</td>\n",
              "      <td>1.0</td>\n",
              "      <td>2.0</td>\n",
              "      <td>0.333333</td>\n",
              "      <td>0.0</td>\n",
              "      <td>1.0</td>\n",
              "      <td>0.000000</td>\n",
              "      <td>0.0</td>\n",
              "      <td>1.0</td>\n",
              "      <td>0.0000</td>\n",
              "      <td>0.0</td>\n",
              "      <td>0.0</td>\n",
              "      <td>0.0000</td>\n",
              "      <td>0.0</td>\n",
              "      <td>0.0</td>\n",
              "      <td>0.000000</td>\n",
              "      <td>0.0</td>\n",
              "      <td>0.0</td>\n",
              "      <td>0.000000</td>\n",
              "      <td>0.0</td>\n",
              "      <td>0.0</td>\n",
              "      <td>0.000000</td>\n",
              "      <td>0.0</td>\n",
              "      <td>0.0</td>\n",
              "      <td>0.000000</td>\n",
              "      <td>0.0</td>\n",
              "      <td>0.0</td>\n",
              "      <td>0.000000</td>\n",
              "      <td>0.0</td>\n",
              "      <td>0.0</td>\n",
              "      <td>0.000000</td>\n",
              "    </tr>\n",
              "    <tr>\n",
              "      <th>2021-01-14</th>\n",
              "      <td>1.0</td>\n",
              "      <td>2.0</td>\n",
              "      <td>0.333333</td>\n",
              "      <td>0.0</td>\n",
              "      <td>1.0</td>\n",
              "      <td>0.000000</td>\n",
              "      <td>0.0</td>\n",
              "      <td>1.0</td>\n",
              "      <td>0.000000</td>\n",
              "      <td>0.0</td>\n",
              "      <td>0.0</td>\n",
              "      <td>0.0000</td>\n",
              "      <td>0.0</td>\n",
              "      <td>0.0</td>\n",
              "      <td>0.0000</td>\n",
              "      <td>0.0</td>\n",
              "      <td>0.0</td>\n",
              "      <td>0.000000</td>\n",
              "      <td>0.0</td>\n",
              "      <td>0.0</td>\n",
              "      <td>0.000000</td>\n",
              "      <td>0.0</td>\n",
              "      <td>0.0</td>\n",
              "      <td>0.000000</td>\n",
              "      <td>0.0</td>\n",
              "      <td>0.0</td>\n",
              "      <td>0.000000</td>\n",
              "      <td>0.0</td>\n",
              "      <td>0.0</td>\n",
              "      <td>0.000000</td>\n",
              "      <td>0.0</td>\n",
              "      <td>0.0</td>\n",
              "      <td>0.000000</td>\n",
              "    </tr>\n",
              "    <tr>\n",
              "      <th>2021-01-15</th>\n",
              "      <td>0.0</td>\n",
              "      <td>0.0</td>\n",
              "      <td>0.000000</td>\n",
              "      <td>0.0</td>\n",
              "      <td>0.0</td>\n",
              "      <td>0.000000</td>\n",
              "      <td>0.0</td>\n",
              "      <td>0.0</td>\n",
              "      <td>0.000000</td>\n",
              "      <td>0.0</td>\n",
              "      <td>0.0</td>\n",
              "      <td>0.0000</td>\n",
              "      <td>0.0</td>\n",
              "      <td>0.0</td>\n",
              "      <td>0.0000</td>\n",
              "      <td>0.0</td>\n",
              "      <td>0.0</td>\n",
              "      <td>0.000000</td>\n",
              "      <td>0.0</td>\n",
              "      <td>0.0</td>\n",
              "      <td>0.000000</td>\n",
              "      <td>0.0</td>\n",
              "      <td>0.0</td>\n",
              "      <td>0.000000</td>\n",
              "      <td>0.0</td>\n",
              "      <td>0.0</td>\n",
              "      <td>0.000000</td>\n",
              "      <td>0.0</td>\n",
              "      <td>0.0</td>\n",
              "      <td>0.000000</td>\n",
              "      <td>0.0</td>\n",
              "      <td>0.0</td>\n",
              "      <td>0.000000</td>\n",
              "    </tr>\n",
              "  </tbody>\n",
              "</table>\n",
              "<p>573 rows × 33 columns</p>\n",
              "</div>"
            ],
            "text/plain": [
              "            positives  negatives  ...  negatives (t-10)  ratio (t-10)\n",
              "date                              ...                                \n",
              "2018-10-03        1.0        0.0  ...               7.0      0.300000\n",
              "2018-10-04        0.0        0.0  ...               0.0      0.000000\n",
              "2018-10-05        0.0        1.0  ...               7.0      0.222222\n",
              "2018-10-09        2.0        0.0  ...               8.0      0.466667\n",
              "2018-10-10        0.0        2.0  ...               5.0      0.285714\n",
              "...               ...        ...  ...               ...           ...\n",
              "2021-01-11        1.0        0.0  ...               0.0      0.000000\n",
              "2021-01-12        0.0        0.0  ...               0.0      0.000000\n",
              "2021-01-13        2.0        4.0  ...               0.0      0.000000\n",
              "2021-01-14        1.0        2.0  ...               0.0      0.000000\n",
              "2021-01-15        0.0        0.0  ...               0.0      0.000000\n",
              "\n",
              "[573 rows x 33 columns]"
            ]
          },
          "metadata": {
            "tags": []
          },
          "execution_count": 39
        }
      ]
    },
    {
      "cell_type": "code",
      "metadata": {
        "colab": {
          "base_uri": "https://localhost:8080/"
        },
        "id": "5uUQxjXMrjab",
        "outputId": "90cbc210-7812-4bfa-ce16-a300c6a29159"
      },
      "source": [
        "spmi.iloc[:,41]"
      ],
      "execution_count": 42,
      "outputs": [
        {
          "output_type": "execute_result",
          "data": {
            "text/plain": [
              "date\n",
              "2018-10-03    0\n",
              "2018-10-04    0\n",
              "2018-10-05    1\n",
              "2018-10-09    0\n",
              "2018-10-10    0\n",
              "             ..\n",
              "2021-01-11    0\n",
              "2021-01-12    1\n",
              "2021-01-13    1\n",
              "2021-01-14    0\n",
              "2021-01-15    1\n",
              "Name: actual_signal, Length: 573, dtype: int64"
            ]
          },
          "metadata": {
            "tags": []
          },
          "execution_count": 42
        }
      ]
    },
    {
      "cell_type": "code",
      "metadata": {
        "colab": {
          "base_uri": "https://localhost:8080/"
        },
        "id": "QpT_chLNs86E",
        "outputId": "3610cc7a-b1a9-4541-e7cc-ea452fd529b2"
      },
      "source": [
        "X = spmi.iloc[:,:33]\r\n",
        "y = spmi['actual_signal']\r\n",
        "print(X.shape)\r\n",
        "print(y.shape)"
      ],
      "execution_count": 370,
      "outputs": [
        {
          "output_type": "stream",
          "text": [
            "(573, 33)\n",
            "(573,)\n"
          ],
          "name": "stdout"
        }
      ]
    },
    {
      "cell_type": "markdown",
      "metadata": {
        "id": "dz2T-ourh8Dv"
      },
      "source": [
        "# Hyperparameter tuning and training for the NLP model"
      ]
    },
    {
      "cell_type": "code",
      "metadata": {
        "id": "h6EI04EBtaYL"
      },
      "source": [
        "from sklearn.model_selection import train_test_split\r\n",
        "from sklearn.linear_model import LinearRegression, ElasticNet,LogisticRegression\r\n",
        "from sklearn.ensemble import RandomForestRegressor\r\n",
        "from sklearn.preprocessing import StandardScaler\r\n",
        "from sklearn.pipeline import Pipeline\r\n",
        "from sklearn.model_selection import GridSearchCV\r\n",
        "from sklearn.metrics import accuracy_score"
      ],
      "execution_count": 371,
      "outputs": []
    },
    {
      "cell_type": "code",
      "metadata": {
        "id": "3CFy4LG2sOYt"
      },
      "source": [
        "X_train = pd.DataFrame()\r\n",
        "X_test = pd.DataFrame()\r\n",
        "y_train = pd.Series()\r\n",
        "y_test = pd.Series()\r\n",
        "train_length = int(len(X)*0.75)\r\n",
        "X_train = X_train.append(X[:train_length])\r\n",
        "X_test = X_test.append(X[train_length:])\r\n",
        "y_train = y_train.append(y[:train_length])\r\n",
        "y_test = y_test.append(y[train_length:])\r\n",
        "##Log\r\n",
        "##EN\r\n",
        "##RF\r\n",
        "model_log = LogisticRegression()\r\n",
        "model_XG = XGBClassifier()\r\n"
      ],
      "execution_count": 372,
      "outputs": []
    },
    {
      "cell_type": "code",
      "metadata": {
        "colab": {
          "base_uri": "https://localhost:8080/"
        },
        "id": "IaoCjF-4tfC5",
        "outputId": "dd339d79-ca87-47f6-b8bc-61edf3647c77"
      },
      "source": [
        "scaler = StandardScaler()\r\n",
        "X_train = scaler.fit_transform(X_train)\r\n",
        "X_test = scaler.fit_transform(X_test)\r\n",
        "print(X_train.shape)\r\n",
        "print(X_test.shape)\r\n",
        "print(y_train.shape)\r\n",
        "print(y_test.shape)\r\n"
      ],
      "execution_count": 373,
      "outputs": [
        {
          "output_type": "stream",
          "text": [
            "(429, 33)\n",
            "(144, 33)\n",
            "(429,)\n",
            "(144,)\n"
          ],
          "name": "stdout"
        }
      ]
    },
    {
      "cell_type": "code",
      "metadata": {
        "colab": {
          "base_uri": "https://localhost:8080/"
        },
        "id": "s9hjPCzUv4mP",
        "outputId": "c49f5b95-0bf8-41e7-d409-b2be8280bf48"
      },
      "source": [
        "model_log.fit(X_train,y_train)\r\n",
        "model_XG.fit(X_train, y_train)\r\n",
        "print('Model Log' + ' ' + str(model_log.score(X_train, y_train)))\r\n",
        "print('Model XGB' + ' ' + str(model_XG.score(X_train, y_train)))"
      ],
      "execution_count": 374,
      "outputs": [
        {
          "output_type": "stream",
          "text": [
            "Model Log 0.6363636363636364\n",
            "Model XGB 0.8135198135198135\n"
          ],
          "name": "stdout"
        }
      ]
    },
    {
      "cell_type": "code",
      "metadata": {
        "colab": {
          "base_uri": "https://localhost:8080/"
        },
        "id": "tesK4Q9cFHfP",
        "outputId": "44f712b4-663d-4877-a48d-f2671405f523"
      },
      "source": [
        "y_predict_standard = model_XG.predict(X_test)\r\n",
        "accuracy = accuracy_score(y_test,y_predict_standard)\r\n",
        "print('Accuracy of the standard XGboost model %.5f%%' % (accuracy*100))"
      ],
      "execution_count": 375,
      "outputs": [
        {
          "output_type": "stream",
          "text": [
            "Accuracy of the standard XGboost model 54.16667%\n"
          ],
          "name": "stdout"
        }
      ]
    },
    {
      "cell_type": "code",
      "metadata": {
        "colab": {
          "base_uri": "https://localhost:8080/"
        },
        "id": "M8w-5VECFTEW",
        "outputId": "97f890c7-d701-41ec-bcdf-9b159e4be191"
      },
      "source": [
        "print(classification_report(y_test, y_predict_standard))"
      ],
      "execution_count": 376,
      "outputs": [
        {
          "output_type": "stream",
          "text": [
            "              precision    recall  f1-score   support\n",
            "\n",
            "           0       0.56      0.84      0.67        81\n",
            "           1       0.43      0.16      0.23        63\n",
            "\n",
            "    accuracy                           0.54       144\n",
            "   macro avg       0.50      0.50      0.45       144\n",
            "weighted avg       0.51      0.54      0.48       144\n",
            "\n"
          ],
          "name": "stdout"
        }
      ]
    },
    {
      "cell_type": "code",
      "metadata": {
        "colab": {
          "base_uri": "https://localhost:8080/"
        },
        "id": "SNoN-WnfFYtd",
        "outputId": "63d4480c-c8b8-4f31-fce4-23b4b6697630"
      },
      "source": [
        "y_predict_standard_log = model_log.predict(X_test)\r\n",
        "accuracy = accuracy_score(y_test,y_predict_standard_log)\r\n",
        "print('Accuracy of the logistic regression is %.5f%%' % (accuracy*100))"
      ],
      "execution_count": 377,
      "outputs": [
        {
          "output_type": "stream",
          "text": [
            "Accuracy of the logistic regression is 54.86111%\n"
          ],
          "name": "stdout"
        }
      ]
    },
    {
      "cell_type": "code",
      "metadata": {
        "colab": {
          "base_uri": "https://localhost:8080/"
        },
        "id": "5Zn_kHITFhZO",
        "outputId": "52f2f911-3877-4032-9faa-c8111ca1f9f0"
      },
      "source": [
        "print(classification_report(y_test, y_predict_standard_log))"
      ],
      "execution_count": 378,
      "outputs": [
        {
          "output_type": "stream",
          "text": [
            "              precision    recall  f1-score   support\n",
            "\n",
            "           0       0.56      0.88      0.69        81\n",
            "           1       0.44      0.13      0.20        63\n",
            "\n",
            "    accuracy                           0.55       144\n",
            "   macro avg       0.50      0.50      0.44       144\n",
            "weighted avg       0.51      0.55      0.47       144\n",
            "\n"
          ],
          "name": "stdout"
        }
      ]
    },
    {
      "cell_type": "code",
      "metadata": {
        "id": "iX9RvsCDTzht"
      },
      "source": [
        "from sklearn.model_selection import RandomizedSearchCV"
      ],
      "execution_count": 321,
      "outputs": []
    },
    {
      "cell_type": "markdown",
      "metadata": {
        "id": "qW4oDpi4ikiQ"
      },
      "source": [
        "Gridsearch and Crossvalidation for the logistic regression:"
      ]
    },
    {
      "cell_type": "code",
      "metadata": {
        "colab": {
          "base_uri": "https://localhost:8080/"
        },
        "id": "el22MOZeiKXa",
        "outputId": "f29da1ff-5ad9-4e8a-939c-a3c58d9caf5d"
      },
      "source": [
        "grid={\"C\":np.logspace(1,10,10), \"penalty\":[\"l1\",\"l2\"]}# l1 lasso l2 ridge\r\n",
        "logreg=LogisticRegression()\r\n",
        "logreg_cv=GridSearchCV(logreg,grid,cv=10)\r\n",
        "logreg_cv.fit(X_train,y_train)\r\n",
        "\r\n",
        "print(\"tuned hpyerparameters :(best parameters) \",logreg_cv.best_params_)\r\n",
        "print(\"accuracy :\",logreg_cv.best_score_)"
      ],
      "execution_count": 381,
      "outputs": [
        {
          "output_type": "stream",
          "text": [
            "tuned hpyerparameters :(best parameters)  {'C': 10.0, 'penalty': 'l2'}\n",
            "accuracy : 0.5547619047619047\n"
          ],
          "name": "stdout"
        }
      ]
    },
    {
      "cell_type": "markdown",
      "metadata": {
        "id": "oIlJTUT5ipoN"
      },
      "source": [
        "It uses ridge regression as a penalty"
      ]
    },
    {
      "cell_type": "code",
      "metadata": {
        "colab": {
          "base_uri": "https://localhost:8080/"
        },
        "id": "7lLeFT18iNF7",
        "outputId": "a4671f39-6dc8-40a3-9136-d87bf63d7d8f"
      },
      "source": [
        "y_predict_cv_log = logreg_cv.predict(X_test)\r\n",
        "accuracy = accuracy_score(y_test,y_predict_cv_log)\r\n",
        "print('Accuracy of the logistic regression is %.5f%%' % (accuracy*100))"
      ],
      "execution_count": 382,
      "outputs": [
        {
          "output_type": "stream",
          "text": [
            "Accuracy of the logistic regression is 54.86111%\n"
          ],
          "name": "stdout"
        }
      ]
    },
    {
      "cell_type": "markdown",
      "metadata": {
        "id": "j9UuG_YBiwwA"
      },
      "source": [
        "It improves the model a little bit. "
      ]
    },
    {
      "cell_type": "code",
      "metadata": {
        "colab": {
          "base_uri": "https://localhost:8080/"
        },
        "id": "xqu2jRsDj2Hs",
        "outputId": "ea4b3568-42d0-42d1-eb08-a42f643cb253"
      },
      "source": [
        "print(classification_report(y_test, y_predict_cv_log))"
      ],
      "execution_count": 383,
      "outputs": [
        {
          "output_type": "stream",
          "text": [
            "              precision    recall  f1-score   support\n",
            "\n",
            "           0       0.56      0.88      0.69        81\n",
            "           1       0.44      0.13      0.20        63\n",
            "\n",
            "    accuracy                           0.55       144\n",
            "   macro avg       0.50      0.50      0.44       144\n",
            "weighted avg       0.51      0.55      0.47       144\n",
            "\n"
          ],
          "name": "stdout"
        }
      ]
    },
    {
      "cell_type": "markdown",
      "metadata": {
        "id": "8EyZArBoCcBw"
      },
      "source": [
        "## XGBOOST"
      ]
    },
    {
      "cell_type": "code",
      "metadata": {
        "id": "2svBA56aUB9W"
      },
      "source": [
        "# Number of trees to be used\r\n",
        "xgb_n_estimators = [int(x) for x in np.linspace(50, 300, 50)]\r\n",
        "\r\n",
        "# Maximum number of levels in tree\r\n",
        "xgb_max_depth = [int(x) for x in np.linspace(2, 14, 7)]\r\n",
        "\r\n",
        "# Minimum number of instaces needed in each node\r\n",
        "xgb_min_child_weight = [int(x) for x in np.linspace(1, 5, 5)]\r\n",
        "\r\n",
        "# Tree construction algorithm used in XGBoost\r\n",
        "xgb_tree_method = ['auto', 'exact', 'approx', 'hist', 'gpu_hist']\r\n",
        "\r\n",
        "# Learning rate\r\n",
        "xgb_eta = [x for x in np.linspace(0.1, 0.6, 6)]\r\n",
        "\r\n",
        "# Minimum loss reduction required to make further partition\r\n",
        "xgb_gamma = [int(x) for x in np.linspace(0, 0.5, 6)]\r\n",
        "\r\n",
        "# Learning objective used\r\n",
        "xgb_objective = ['reg:squarederror', 'reg:squaredlogerror']\r\n",
        "\r\n",
        "# Create the grid\r\n",
        "xgb_grid = {'n_estimators': xgb_n_estimators,\r\n",
        "            'max_depth': xgb_max_depth,\r\n",
        "            'min_child_weight': xgb_min_child_weight,\r\n",
        "            'tree_method': xgb_tree_method,\r\n",
        "            'eta': xgb_eta,\r\n",
        "            'gamma': xgb_gamma,\r\n",
        "            'objective': xgb_objective}"
      ],
      "execution_count": 384,
      "outputs": []
    },
    {
      "cell_type": "markdown",
      "metadata": {
        "id": "PQXeaMNDbDE9"
      },
      "source": [
        "## Training the XG Boost model, while trying to prevent overfitting, by called the evaluation metric, on error and loglosses; that evaluates on the test set. The Early stopping is set to 10. "
      ]
    },
    {
      "cell_type": "code",
      "metadata": {
        "colab": {
          "base_uri": "https://localhost:8080/"
        },
        "id": "6QPbwQXyTiaD",
        "outputId": "68f05241-7ce8-48f3-db1c-b93d3b14689d"
      },
      "source": [
        "xgb_base = XGBClassifier()\r\n",
        "\r\n",
        "# Create the random search Random Forest\r\n",
        "xgb_random = RandomizedSearchCV(estimator = xgb_base, param_distributions = xgb_grid, \r\n",
        "                                n_iter = 50, cv = 3, verbose = 2, \r\n",
        "                                random_state = 42, n_jobs = -1)\r\n",
        "eval_set = [(X_test, y_test)]\r\n",
        "xgb_random.fit(X_train, y_train,early_stopping_rounds = 10, eval_metric=[\"error\", \"logloss\"], eval_set=eval_set, verbose=True)\r\n"
      ],
      "execution_count": 385,
      "outputs": [
        {
          "output_type": "stream",
          "text": [
            "Fitting 3 folds for each of 50 candidates, totalling 150 fits\n"
          ],
          "name": "stdout"
        },
        {
          "output_type": "stream",
          "text": [
            "[Parallel(n_jobs=-1)]: Using backend LokyBackend with 2 concurrent workers.\n"
          ],
          "name": "stderr"
        },
        {
          "output_type": "stream",
          "text": [
            "[0]\tvalidation_0-error:0.486111\tvalidation_0-logloss:0.691217\n",
            "Multiple eval metrics have been passed: 'validation_0-logloss' will be used for early stopping.\n",
            "\n",
            "Will train until validation_0-logloss hasn't improved in 10 rounds.\n",
            "[1]\tvalidation_0-error:0.472222\tvalidation_0-logloss:0.690669\n",
            "[2]\tvalidation_0-error:0.458333\tvalidation_0-logloss:0.690027\n",
            "[3]\tvalidation_0-error:0.451389\tvalidation_0-logloss:0.688507\n",
            "[4]\tvalidation_0-error:0.465278\tvalidation_0-logloss:0.687832\n",
            "[5]\tvalidation_0-error:0.465278\tvalidation_0-logloss:0.687363\n"
          ],
          "name": "stdout"
        },
        {
          "output_type": "stream",
          "text": [
            "[Parallel(n_jobs=-1)]: Done 141 tasks      | elapsed:    2.2s\n",
            "[Parallel(n_jobs=-1)]: Done 150 out of 150 | elapsed:    2.3s finished\n"
          ],
          "name": "stderr"
        },
        {
          "output_type": "stream",
          "text": [
            "[6]\tvalidation_0-error:0.451389\tvalidation_0-logloss:0.688616\n",
            "[7]\tvalidation_0-error:0.451389\tvalidation_0-logloss:0.68654\n",
            "[8]\tvalidation_0-error:0.472222\tvalidation_0-logloss:0.685482\n",
            "[9]\tvalidation_0-error:0.472222\tvalidation_0-logloss:0.6852\n",
            "[10]\tvalidation_0-error:0.479167\tvalidation_0-logloss:0.686318\n",
            "[11]\tvalidation_0-error:0.451389\tvalidation_0-logloss:0.686338\n",
            "[12]\tvalidation_0-error:0.430556\tvalidation_0-logloss:0.684728\n",
            "[13]\tvalidation_0-error:0.444444\tvalidation_0-logloss:0.686289\n",
            "[14]\tvalidation_0-error:0.4375\tvalidation_0-logloss:0.68759\n",
            "[15]\tvalidation_0-error:0.444444\tvalidation_0-logloss:0.690081\n",
            "[16]\tvalidation_0-error:0.4375\tvalidation_0-logloss:0.689992\n",
            "[17]\tvalidation_0-error:0.4375\tvalidation_0-logloss:0.68942\n",
            "[18]\tvalidation_0-error:0.4375\tvalidation_0-logloss:0.690043\n",
            "[19]\tvalidation_0-error:0.416667\tvalidation_0-logloss:0.690307\n",
            "[20]\tvalidation_0-error:0.416667\tvalidation_0-logloss:0.69114\n",
            "[21]\tvalidation_0-error:0.430556\tvalidation_0-logloss:0.692416\n",
            "[22]\tvalidation_0-error:0.430556\tvalidation_0-logloss:0.692563\n",
            "Stopping. Best iteration:\n",
            "[12]\tvalidation_0-error:0.430556\tvalidation_0-logloss:0.684728\n",
            "\n"
          ],
          "name": "stdout"
        },
        {
          "output_type": "execute_result",
          "data": {
            "text/plain": [
              "RandomizedSearchCV(cv=3, error_score=nan,\n",
              "                   estimator=XGBClassifier(base_score=0.5, booster='gbtree',\n",
              "                                           colsample_bylevel=1,\n",
              "                                           colsample_bynode=1,\n",
              "                                           colsample_bytree=1, gamma=0,\n",
              "                                           learning_rate=0.1, max_delta_step=0,\n",
              "                                           max_depth=3, min_child_weight=1,\n",
              "                                           missing=None, n_estimators=100,\n",
              "                                           n_jobs=1, nthread=None,\n",
              "                                           objective='binary:logistic',\n",
              "                                           random_state=0, reg_alpha=0,\n",
              "                                           reg_lambda=1, sc...\n",
              "                                        'min_child_weight': [1, 2, 3, 4, 5],\n",
              "                                        'n_estimators': [50, 55, 60, 65, 70, 75,\n",
              "                                                         80, 85, 90, 95, 101,\n",
              "                                                         106, 111, 116, 121,\n",
              "                                                         126, 131, 136, 141,\n",
              "                                                         146, 152, 157, 162,\n",
              "                                                         167, 172, 177, 182,\n",
              "                                                         187, 192, 197, ...],\n",
              "                                        'objective': ['reg:squarederror',\n",
              "                                                      'reg:squaredlogerror'],\n",
              "                                        'tree_method': ['auto', 'exact',\n",
              "                                                        'approx', 'hist',\n",
              "                                                        'gpu_hist']},\n",
              "                   pre_dispatch='2*n_jobs', random_state=42, refit=True,\n",
              "                   return_train_score=False, scoring=None, verbose=2)"
            ]
          },
          "metadata": {
            "tags": []
          },
          "execution_count": 385
        }
      ]
    },
    {
      "cell_type": "code",
      "metadata": {
        "colab": {
          "base_uri": "https://localhost:8080/"
        },
        "id": "Xzec6dEnVIDW",
        "outputId": "35cec49e-4b17-4be0-e806-c6aae4c6185a"
      },
      "source": [
        "xgb_random.best_params_"
      ],
      "execution_count": 386,
      "outputs": [
        {
          "output_type": "execute_result",
          "data": {
            "text/plain": [
              "{'eta': 0.5,\n",
              " 'gamma': 0,\n",
              " 'max_depth': 2,\n",
              " 'min_child_weight': 2,\n",
              " 'n_estimators': 177,\n",
              " 'objective': 'reg:squarederror',\n",
              " 'tree_method': 'gpu_hist'}"
            ]
          },
          "metadata": {
            "tags": []
          },
          "execution_count": 386
        }
      ]
    },
    {
      "cell_type": "code",
      "metadata": {
        "colab": {
          "base_uri": "https://localhost:8080/"
        },
        "id": "DjuWAiK0Vmm1",
        "outputId": "85db211d-b21f-4dd3-b3ab-8951d53ab773"
      },
      "source": [
        "xgb_random.best_score_"
      ],
      "execution_count": 387,
      "outputs": [
        {
          "output_type": "execute_result",
          "data": {
            "text/plain": [
              "0.5221445221445221"
            ]
          },
          "metadata": {
            "tags": []
          },
          "execution_count": 387
        }
      ]
    },
    {
      "cell_type": "code",
      "metadata": {
        "colab": {
          "base_uri": "https://localhost:8080/"
        },
        "id": "Ms13d8fWuly9",
        "outputId": "e70514a6-7df2-4cee-c6eb-b73aab00f888"
      },
      "source": [
        "y_predict = xgb_random.predict(X_test)\r\n",
        "accuracy = accuracy_score(y_test,y_predict)\r\n",
        "print('Accuracy of the XGboost after the hypertuning and prevention of overfitting %.5f%%' % (accuracy*100))"
      ],
      "execution_count": 388,
      "outputs": [
        {
          "output_type": "stream",
          "text": [
            "Accuracy of the XGboost after the hypertuning and prevention of overfitting 56.94444%\n"
          ],
          "name": "stdout"
        }
      ]
    },
    {
      "cell_type": "code",
      "metadata": {
        "colab": {
          "base_uri": "https://localhost:8080/"
        },
        "id": "4vFsjbniZpN3",
        "outputId": "d67f1f83-39a6-47cd-f8b7-207618cf2a5c"
      },
      "source": [
        "print(classification_report(y_test, y_predict))"
      ],
      "execution_count": 389,
      "outputs": [
        {
          "output_type": "stream",
          "text": [
            "              precision    recall  f1-score   support\n",
            "\n",
            "           0       0.58      0.86      0.69        81\n",
            "           1       0.52      0.19      0.28        63\n",
            "\n",
            "    accuracy                           0.57       144\n",
            "   macro avg       0.55      0.53      0.49       144\n",
            "weighted avg       0.55      0.57      0.51       144\n",
            "\n"
          ],
          "name": "stdout"
        }
      ]
    },
    {
      "cell_type": "code",
      "metadata": {
        "id": "p_fZRvF-C4n9"
      },
      "source": [
        "from sklearn.metrics import mean_absolute_error\r\n",
        "from sklearn.metrics import mean_squared_error\r\n",
        "from sklearn.metrics import r2_score\r\n",
        "\r\n",
        "def final_comparison(models, test_features, test_labels):\r\n",
        "    scores = pd.DataFrame()\r\n",
        "    for model in models:\r\n",
        "        predictions = model.predict(test_features)\r\n",
        "        mae = round(mean_absolute_error(test_labels, predictions), 4)\r\n",
        "        mse = round(mean_squared_error(test_labels, predictions), 4)\r\n",
        "        r2 = round(r2_score(test_labels, predictions), 4)\r\n",
        "        errors = abs(predictions - test_labels)\r\n",
        "        mape = 100 * np.mean(errors / test_labels)\r\n",
        "        accuracy = accuracy_score(y_test,predictions)\r\n",
        "        scores[str(model)] = [mae, mse, r2, accuracy]\r\n",
        "    scores.index = ['Mean Absolute Error', 'Mean Squared Error', 'R^2', 'Accuracy']\r\n",
        "    return scores"
      ],
      "execution_count": 390,
      "outputs": []
    },
    {
      "cell_type": "code",
      "metadata": {
        "id": "YsfnY2bbC8Pm"
      },
      "source": [
        "# Call the comparison function with the three final models\r\n",
        "final_scores = final_comparison([logreg_cv,model_log, xgb_random,model_XG], X_test, y_test)\r\n",
        "\r\n",
        "# Adjust the column headers\r\n",
        "final_scores.columns  = ['Hyper Log reg','Log Regr', 'Hyper XGb','XGb']"
      ],
      "execution_count": 391,
      "outputs": []
    },
    {
      "cell_type": "code",
      "metadata": {
        "colab": {
          "base_uri": "https://localhost:8080/",
          "height": 173
        },
        "id": "c09jc1rdEgyd",
        "outputId": "e61fcf18-41a8-4548-d3af-148996980bd9"
      },
      "source": [
        "final_scores"
      ],
      "execution_count": 392,
      "outputs": [
        {
          "output_type": "execute_result",
          "data": {
            "text/html": [
              "<div>\n",
              "<style scoped>\n",
              "    .dataframe tbody tr th:only-of-type {\n",
              "        vertical-align: middle;\n",
              "    }\n",
              "\n",
              "    .dataframe tbody tr th {\n",
              "        vertical-align: top;\n",
              "    }\n",
              "\n",
              "    .dataframe thead th {\n",
              "        text-align: right;\n",
              "    }\n",
              "</style>\n",
              "<table border=\"1\" class=\"dataframe\">\n",
              "  <thead>\n",
              "    <tr style=\"text-align: right;\">\n",
              "      <th></th>\n",
              "      <th>Hyper Log reg</th>\n",
              "      <th>Log Regr</th>\n",
              "      <th>Hyper XGb</th>\n",
              "      <th>XGb</th>\n",
              "    </tr>\n",
              "  </thead>\n",
              "  <tbody>\n",
              "    <tr>\n",
              "      <th>Mean Absolute Error</th>\n",
              "      <td>0.451400</td>\n",
              "      <td>0.451400</td>\n",
              "      <td>0.430600</td>\n",
              "      <td>0.458300</td>\n",
              "    </tr>\n",
              "    <tr>\n",
              "      <th>Mean Squared Error</th>\n",
              "      <td>0.451400</td>\n",
              "      <td>0.451400</td>\n",
              "      <td>0.430600</td>\n",
              "      <td>0.458300</td>\n",
              "    </tr>\n",
              "    <tr>\n",
              "      <th>R^2</th>\n",
              "      <td>-0.834200</td>\n",
              "      <td>-0.834200</td>\n",
              "      <td>-0.749600</td>\n",
              "      <td>-0.862400</td>\n",
              "    </tr>\n",
              "    <tr>\n",
              "      <th>Accuracy</th>\n",
              "      <td>0.548611</td>\n",
              "      <td>0.548611</td>\n",
              "      <td>0.569444</td>\n",
              "      <td>0.541667</td>\n",
              "    </tr>\n",
              "  </tbody>\n",
              "</table>\n",
              "</div>"
            ],
            "text/plain": [
              "                     Hyper Log reg  Log Regr  Hyper XGb       XGb\n",
              "Mean Absolute Error       0.451400  0.451400   0.430600  0.458300\n",
              "Mean Squared Error        0.451400  0.451400   0.430600  0.458300\n",
              "R^2                      -0.834200 -0.834200  -0.749600 -0.862400\n",
              "Accuracy                  0.548611  0.548611   0.569444  0.541667"
            ]
          },
          "metadata": {
            "tags": []
          },
          "execution_count": 392
        }
      ]
    },
    {
      "cell_type": "markdown",
      "metadata": {
        "id": "gAIXuB3kC2pw"
      },
      "source": [
        "# Investing data processing, where i use the XGboost model since it was the best performing model"
      ]
    },
    {
      "cell_type": "code",
      "metadata": {
        "id": "D4pgsl7yKv0z"
      },
      "source": [
        "hmmm = spmi[429:]"
      ],
      "execution_count": 393,
      "outputs": []
    },
    {
      "cell_type": "code",
      "metadata": {
        "id": "84iIOd5gLLFz"
      },
      "source": [
        "hmmm['pred_signal']=xgb_random.predict_proba(X_test)[:,1]"
      ],
      "execution_count": 394,
      "outputs": []
    },
    {
      "cell_type": "code",
      "metadata": {
        "id": "V-SXIESxKaXk"
      },
      "source": [
        "Trading_data = hmmm.iloc[:,33:]"
      ],
      "execution_count": 395,
      "outputs": []
    },
    {
      "cell_type": "code",
      "metadata": {
        "colab": {
          "base_uri": "https://localhost:8080/",
          "height": 235
        },
        "id": "GMuAwYXUL1VE",
        "outputId": "dbefd176-a09a-4e6a-d541-875dddf027c4"
      },
      "source": [
        "Trading_data.head()"
      ],
      "execution_count": 61,
      "outputs": [
        {
          "output_type": "execute_result",
          "data": {
            "text/html": [
              "<div>\n",
              "<style scoped>\n",
              "    .dataframe tbody tr th:only-of-type {\n",
              "        vertical-align: middle;\n",
              "    }\n",
              "\n",
              "    .dataframe tbody tr th {\n",
              "        vertical-align: top;\n",
              "    }\n",
              "\n",
              "    .dataframe thead th {\n",
              "        text-align: right;\n",
              "    }\n",
              "</style>\n",
              "<table border=\"1\" class=\"dataframe\">\n",
              "  <thead>\n",
              "    <tr style=\"text-align: right;\">\n",
              "      <th></th>\n",
              "      <th>Open</th>\n",
              "      <th>High</th>\n",
              "      <th>Low</th>\n",
              "      <th>Close</th>\n",
              "      <th>Adj Close</th>\n",
              "      <th>Volume</th>\n",
              "      <th>daily_pct_change</th>\n",
              "      <th>return_next_day</th>\n",
              "      <th>actual_signal</th>\n",
              "      <th>pred_signal</th>\n",
              "    </tr>\n",
              "    <tr>\n",
              "      <th>date</th>\n",
              "      <th></th>\n",
              "      <th></th>\n",
              "      <th></th>\n",
              "      <th></th>\n",
              "      <th></th>\n",
              "      <th></th>\n",
              "      <th></th>\n",
              "      <th></th>\n",
              "      <th></th>\n",
              "      <th></th>\n",
              "    </tr>\n",
              "  </thead>\n",
              "  <tbody>\n",
              "    <tr>\n",
              "      <th>2020-06-18</th>\n",
              "      <td>22.770000</td>\n",
              "      <td>24.000000</td>\n",
              "      <td>22.66</td>\n",
              "      <td>23.330000</td>\n",
              "      <td>23.330000</td>\n",
              "      <td>1382505</td>\n",
              "      <td>0.018333</td>\n",
              "      <td>0.013288</td>\n",
              "      <td>1</td>\n",
              "      <td>0.491822</td>\n",
              "    </tr>\n",
              "    <tr>\n",
              "      <th>2020-06-19</th>\n",
              "      <td>24.559999</td>\n",
              "      <td>24.559999</td>\n",
              "      <td>23.23</td>\n",
              "      <td>23.639999</td>\n",
              "      <td>23.639999</td>\n",
              "      <td>4461467</td>\n",
              "      <td>0.013288</td>\n",
              "      <td>-0.006768</td>\n",
              "      <td>0</td>\n",
              "      <td>0.491822</td>\n",
              "    </tr>\n",
              "    <tr>\n",
              "      <th>2020-06-22</th>\n",
              "      <td>23.450001</td>\n",
              "      <td>23.940001</td>\n",
              "      <td>23.25</td>\n",
              "      <td>23.480000</td>\n",
              "      <td>23.480000</td>\n",
              "      <td>791750</td>\n",
              "      <td>-0.006768</td>\n",
              "      <td>-0.007666</td>\n",
              "      <td>0</td>\n",
              "      <td>0.491822</td>\n",
              "    </tr>\n",
              "    <tr>\n",
              "      <th>2020-06-23</th>\n",
              "      <td>23.690001</td>\n",
              "      <td>25.180000</td>\n",
              "      <td>23.27</td>\n",
              "      <td>23.299999</td>\n",
              "      <td>23.299999</td>\n",
              "      <td>3333527</td>\n",
              "      <td>-0.007666</td>\n",
              "      <td>-0.022747</td>\n",
              "      <td>0</td>\n",
              "      <td>0.540000</td>\n",
              "    </tr>\n",
              "    <tr>\n",
              "      <th>2020-06-24</th>\n",
              "      <td>23.150000</td>\n",
              "      <td>23.500000</td>\n",
              "      <td>22.42</td>\n",
              "      <td>22.770000</td>\n",
              "      <td>22.770000</td>\n",
              "      <td>1440619</td>\n",
              "      <td>-0.022747</td>\n",
              "      <td>-0.006588</td>\n",
              "      <td>0</td>\n",
              "      <td>0.491822</td>\n",
              "    </tr>\n",
              "  </tbody>\n",
              "</table>\n",
              "</div>"
            ],
            "text/plain": [
              "                 Open       High  ...  actual_signal  pred_signal\n",
              "date                              ...                            \n",
              "2020-06-18  22.770000  24.000000  ...              1     0.491822\n",
              "2020-06-19  24.559999  24.559999  ...              0     0.491822\n",
              "2020-06-22  23.450001  23.940001  ...              0     0.491822\n",
              "2020-06-23  23.690001  25.180000  ...              0     0.540000\n",
              "2020-06-24  23.150000  23.500000  ...              0     0.491822\n",
              "\n",
              "[5 rows x 10 columns]"
            ]
          },
          "metadata": {
            "tags": []
          },
          "execution_count": 61
        }
      ]
    },
    {
      "cell_type": "code",
      "metadata": {
        "id": "l08pM973Lr2N",
        "colab": {
          "base_uri": "https://localhost:8080/",
          "height": 450
        },
        "outputId": "327e6f0b-c6d5-422a-d16d-6ad73aaa9502"
      },
      "source": [
        "Trading_data.drop(['daily_pct_change', 'return_next_day','actual_signal'], axis = 1) "
      ],
      "execution_count": 396,
      "outputs": [
        {
          "output_type": "execute_result",
          "data": {
            "text/html": [
              "<div>\n",
              "<style scoped>\n",
              "    .dataframe tbody tr th:only-of-type {\n",
              "        vertical-align: middle;\n",
              "    }\n",
              "\n",
              "    .dataframe tbody tr th {\n",
              "        vertical-align: top;\n",
              "    }\n",
              "\n",
              "    .dataframe thead th {\n",
              "        text-align: right;\n",
              "    }\n",
              "</style>\n",
              "<table border=\"1\" class=\"dataframe\">\n",
              "  <thead>\n",
              "    <tr style=\"text-align: right;\">\n",
              "      <th></th>\n",
              "      <th>Open</th>\n",
              "      <th>High</th>\n",
              "      <th>Low</th>\n",
              "      <th>Close</th>\n",
              "      <th>Adj Close</th>\n",
              "      <th>Volume</th>\n",
              "      <th>pred_signal</th>\n",
              "    </tr>\n",
              "    <tr>\n",
              "      <th>date</th>\n",
              "      <th></th>\n",
              "      <th></th>\n",
              "      <th></th>\n",
              "      <th></th>\n",
              "      <th></th>\n",
              "      <th></th>\n",
              "      <th></th>\n",
              "    </tr>\n",
              "  </thead>\n",
              "  <tbody>\n",
              "    <tr>\n",
              "      <th>2020-06-18</th>\n",
              "      <td>22.770000</td>\n",
              "      <td>24.000000</td>\n",
              "      <td>22.660000</td>\n",
              "      <td>23.330000</td>\n",
              "      <td>23.330000</td>\n",
              "      <td>1382505</td>\n",
              "      <td>0.450796</td>\n",
              "    </tr>\n",
              "    <tr>\n",
              "      <th>2020-06-19</th>\n",
              "      <td>24.559999</td>\n",
              "      <td>24.559999</td>\n",
              "      <td>23.230000</td>\n",
              "      <td>23.639999</td>\n",
              "      <td>23.639999</td>\n",
              "      <td>4461467</td>\n",
              "      <td>0.450796</td>\n",
              "    </tr>\n",
              "    <tr>\n",
              "      <th>2020-06-22</th>\n",
              "      <td>23.450001</td>\n",
              "      <td>23.940001</td>\n",
              "      <td>23.250000</td>\n",
              "      <td>23.480000</td>\n",
              "      <td>23.480000</td>\n",
              "      <td>791750</td>\n",
              "      <td>0.450796</td>\n",
              "    </tr>\n",
              "    <tr>\n",
              "      <th>2020-06-23</th>\n",
              "      <td>23.690001</td>\n",
              "      <td>25.180000</td>\n",
              "      <td>23.270000</td>\n",
              "      <td>23.299999</td>\n",
              "      <td>23.299999</td>\n",
              "      <td>3333527</td>\n",
              "      <td>0.336712</td>\n",
              "    </tr>\n",
              "    <tr>\n",
              "      <th>2020-06-24</th>\n",
              "      <td>23.150000</td>\n",
              "      <td>23.500000</td>\n",
              "      <td>22.420000</td>\n",
              "      <td>22.770000</td>\n",
              "      <td>22.770000</td>\n",
              "      <td>1440619</td>\n",
              "      <td>0.450796</td>\n",
              "    </tr>\n",
              "    <tr>\n",
              "      <th>...</th>\n",
              "      <td>...</td>\n",
              "      <td>...</td>\n",
              "      <td>...</td>\n",
              "      <td>...</td>\n",
              "      <td>...</td>\n",
              "      <td>...</td>\n",
              "      <td>...</td>\n",
              "    </tr>\n",
              "    <tr>\n",
              "      <th>2021-01-11</th>\n",
              "      <td>37.880001</td>\n",
              "      <td>41.380001</td>\n",
              "      <td>37.880001</td>\n",
              "      <td>40.139999</td>\n",
              "      <td>40.139999</td>\n",
              "      <td>2404446</td>\n",
              "      <td>0.505399</td>\n",
              "    </tr>\n",
              "    <tr>\n",
              "      <th>2021-01-12</th>\n",
              "      <td>40.430000</td>\n",
              "      <td>40.820000</td>\n",
              "      <td>38.849998</td>\n",
              "      <td>39.299999</td>\n",
              "      <td>39.299999</td>\n",
              "      <td>1403253</td>\n",
              "      <td>0.450796</td>\n",
              "    </tr>\n",
              "    <tr>\n",
              "      <th>2021-01-13</th>\n",
              "      <td>39.430000</td>\n",
              "      <td>41.980000</td>\n",
              "      <td>39.349998</td>\n",
              "      <td>40.799999</td>\n",
              "      <td>40.799999</td>\n",
              "      <td>2188869</td>\n",
              "      <td>0.435704</td>\n",
              "    </tr>\n",
              "    <tr>\n",
              "      <th>2021-01-14</th>\n",
              "      <td>41.270000</td>\n",
              "      <td>43.820000</td>\n",
              "      <td>41.270000</td>\n",
              "      <td>43.709999</td>\n",
              "      <td>43.709999</td>\n",
              "      <td>2590047</td>\n",
              "      <td>0.435704</td>\n",
              "    </tr>\n",
              "    <tr>\n",
              "      <th>2021-01-15</th>\n",
              "      <td>43.939999</td>\n",
              "      <td>44.599998</td>\n",
              "      <td>41.900002</td>\n",
              "      <td>42.490002</td>\n",
              "      <td>42.490002</td>\n",
              "      <td>1984342</td>\n",
              "      <td>0.450796</td>\n",
              "    </tr>\n",
              "  </tbody>\n",
              "</table>\n",
              "<p>144 rows × 7 columns</p>\n",
              "</div>"
            ],
            "text/plain": [
              "                 Open       High        Low  ...  Adj Close   Volume  pred_signal\n",
              "date                                         ...                                 \n",
              "2020-06-18  22.770000  24.000000  22.660000  ...  23.330000  1382505     0.450796\n",
              "2020-06-19  24.559999  24.559999  23.230000  ...  23.639999  4461467     0.450796\n",
              "2020-06-22  23.450001  23.940001  23.250000  ...  23.480000   791750     0.450796\n",
              "2020-06-23  23.690001  25.180000  23.270000  ...  23.299999  3333527     0.336712\n",
              "2020-06-24  23.150000  23.500000  22.420000  ...  22.770000  1440619     0.450796\n",
              "...               ...        ...        ...  ...        ...      ...          ...\n",
              "2021-01-11  37.880001  41.380001  37.880001  ...  40.139999  2404446     0.505399\n",
              "2021-01-12  40.430000  40.820000  38.849998  ...  39.299999  1403253     0.450796\n",
              "2021-01-13  39.430000  41.980000  39.349998  ...  40.799999  2188869     0.435704\n",
              "2021-01-14  41.270000  43.820000  41.270000  ...  43.709999  2590047     0.435704\n",
              "2021-01-15  43.939999  44.599998  41.900002  ...  42.490002  1984342     0.450796\n",
              "\n",
              "[144 rows x 7 columns]"
            ]
          },
          "metadata": {
            "tags": []
          },
          "execution_count": 396
        }
      ]
    },
    {
      "cell_type": "code",
      "metadata": {
        "id": "iRAu6xhVMGL8"
      },
      "source": [
        "Trading_data.rename(columns = {'Open':'open','High':'high','Low':'low','Adj Close':'close','Volume':'volume','pred_signal':'predicted'\r\n",
        "                         }, inplace=True)"
      ],
      "execution_count": 397,
      "outputs": []
    },
    {
      "cell_type": "markdown",
      "metadata": {
        "id": "Zk5LyYau00ub"
      },
      "source": [
        "# Defining and initiating the strategy: "
      ]
    },
    {
      "cell_type": "code",
      "metadata": {
        "id": "8FpelkVFLe00"
      },
      "source": [
        "import backtrader as bt\r\n",
        "OHLCV = ['open', 'high', 'low', 'close', 'volume']"
      ],
      "execution_count": 64,
      "outputs": []
    },
    {
      "cell_type": "code",
      "metadata": {
        "id": "fEQ0zJMQLf7T"
      },
      "source": [
        "# class to define the columns we will provide\r\n",
        "class SignalData(PandasData):\r\n",
        "    \"\"\"\r\n",
        "    Define pandas DataFrame structure\r\n",
        "    \"\"\"\r\n",
        "    cols = OHLCV + ['predicted']\r\n",
        "\r\n",
        "    # create lines\r\n",
        "    lines = tuple(cols)\r\n",
        "\r\n",
        "    # define parameters\r\n",
        "    params = {c: -1 for c in cols}\r\n",
        "    params.update({'datetime': None})\r\n",
        "    params = tuple(params.items())"
      ],
      "execution_count": 65,
      "outputs": []
    },
    {
      "cell_type": "code",
      "metadata": {
        "id": "lqjuReZXLg81"
      },
      "source": [
        "# define backtesting strategy class\r\n",
        "class MLStrategy(bt.Strategy):\r\n",
        "    params = dict(\r\n",
        "    )\r\n",
        "    \r\n",
        "    def __init__(self):\r\n",
        "        # keep track of open, close prices and predicted value in the series\r\n",
        "        self.data_predicted = self.datas[0].predicted\r\n",
        "        self.data_open = self.datas[0].open\r\n",
        "        self.data_close = self.datas[0].close\r\n",
        "        \r\n",
        "        # keep track of pending orders/buy price/buy commission\r\n",
        "        self.order = None\r\n",
        "        self.price = None\r\n",
        "        self.comm = None\r\n",
        "\r\n",
        "    # logging function\r\n",
        "    def log(self, txt):\r\n",
        "        '''Logging function'''\r\n",
        "        dt = self.datas[0].datetime.date(0).isoformat()\r\n",
        "        print(f'{dt}, {txt}')\r\n",
        "\r\n",
        "    def notify_order(self, order):\r\n",
        "        if order.status in [order.Submitted, order.Accepted]:\r\n",
        "            # order already submitted/accepted - no action required\r\n",
        "            return\r\n",
        "\r\n",
        "        # report executed order\r\n",
        "        if order.status in [order.Completed]:\r\n",
        "            if order.isbuy():\r\n",
        "                self.log(f'BUY EXECUTED --- Price: {order.executed.price:.2f}, Cost: {order.executed.value:.2f},Commission: {order.executed.comm:.2f}'\r\n",
        "                )\r\n",
        "                self.price = order.executed.price\r\n",
        "                self.comm = order.executed.comm\r\n",
        "            else:\r\n",
        "                self.log(f'SELL EXECUTED --- Price: {order.executed.price:.2f}, Cost: {order.executed.value:.2f},Commission: {order.executed.comm:.2f}'\r\n",
        "                )\r\n",
        " # report failed order\r\n",
        "        elif order.status in [order.Canceled, order.Margin, \r\n",
        "                              order.Rejected]:\r\n",
        "            self.log('Order Failed')\r\n",
        "\r\n",
        "        # set no pending order\r\n",
        "        self.order = None\r\n",
        "\r\n",
        "    def notify_trade(self, trade):\r\n",
        "        if not trade.isclosed:\r\n",
        "            return\r\n",
        "        self.log(f'OPERATION RESULT --- Gross: {trade.pnl:.2f}, Net: {trade.pnlcomm:.2f}')\r\n",
        "\r\n",
        "    # We have set cheat_on_open = True.This means that we calculated the signals on day t's close price, \r\n",
        "    # but calculated the number of shares we wanted to buy based on day t+1's open price.\r\n",
        "    def next_open(self):\r\n",
        "        if not self.position:\r\n",
        "            if self.data_predicted > 0.52:\r\n",
        "                # calculate the max number of shares ('all-in')\r\n",
        "                size = int(self.broker.getcash() / self.datas[0].open)\r\n",
        "                # buy order\r\n",
        "#                 self.log(f'BUY CREATED --- Size: {size}, Cash: {self.broker.getcash():.2f}, Open: {self.data_open[0]}, Close: {self.data_close[0]}')\r\n",
        "                self.buy(size=size)\r\n",
        "        else:\r\n",
        "            if self.data_predicted <= 0.48:\r\n",
        "                # sell order\r\n",
        "#                 self.log(f'SELL CREATED --- Size: {self.position.size}')\r\n",
        "                self.sell(size=self.position.size)"
      ],
      "execution_count": 465,
      "outputs": []
    },
    {
      "cell_type": "code",
      "metadata": {
        "id": "Vql9atekMUuc"
      },
      "source": [
        "cerebro = bt.Cerebro(stdstats=False)"
      ],
      "execution_count": 67,
      "outputs": []
    },
    {
      "cell_type": "markdown",
      "metadata": {
        "id": "Pc1BovG8lzQL"
      },
      "source": [
        "## Adding NLP data to backtrader"
      ]
    },
    {
      "cell_type": "code",
      "metadata": {
        "colab": {
          "base_uri": "https://localhost:8080/"
        },
        "id": "zgElj0uCMUqE",
        "outputId": "fc7e6f86-33a2-4d52-d90b-43521c2e871a"
      },
      "source": [
        "data1=yf.download(tickers, start=start, end=end)\r\n",
        "data1.rename(columns = {'Open':'open','High':'high','Low':'low','Adj Close':'close','Volume':'volume',\r\n",
        "                         }, inplace=True)\r\n",
        "predictions = Trading_data['predicted']\r\n",
        "predictions = pd.DataFrame(predictions)\r\n",
        "prices = predictions.join(data1,how='left').dropna()\r\n",
        "data = SignalData(dataname=prices)"
      ],
      "execution_count": 398,
      "outputs": [
        {
          "output_type": "stream",
          "text": [
            "\r[*********************100%***********************]  1 of 1 completed\n"
          ],
          "name": "stdout"
        }
      ]
    },
    {
      "cell_type": "code",
      "metadata": {
        "id": "w3R3gyIgMXVG"
      },
      "source": [
        "# instantiate Cerebro, add strategy, data, initial cash, commission and pyfolio for performance analysis\r\n",
        "cerebro = bt.Cerebro(stdstats = False, cheat_on_open=True)\r\n",
        "cerebro.addstrategy(MLStrategy)\r\n",
        "cerebro.adddata(data, name=\"WEED.TO\")\r\n",
        "cerebro.broker.setcash(100000.0)\r\n",
        "cerebro.broker.setcommission(commission=0.00)\r\n",
        "cerebro.addanalyzer(bt.analyzers.PyFolio, _name='pyfolio')"
      ],
      "execution_count": 425,
      "outputs": []
    },
    {
      "cell_type": "code",
      "metadata": {
        "colab": {
          "base_uri": "https://localhost:8080/"
        },
        "id": "WsP6qap_MYUh",
        "outputId": "a93bfc72-cc58-4cee-aa1c-12bab3e791e6"
      },
      "source": [
        " #run the backtest\r\n",
        "print('Starting Portfolio Value: %.2f' % cerebro.broker.getvalue())\r\n",
        "backtest_result = cerebro.run()\r\n",
        "print('Final Portfolio Value: %.2f' % cerebro.broker.getvalue())"
      ],
      "execution_count": 426,
      "outputs": [
        {
          "output_type": "stream",
          "text": [
            "Starting Portfolio Value: 100000.00\n",
            "2020-07-28, BUY EXECUTED --- Price: 23.04, Cost: 99993.60,Commission: 0.00\n",
            "2020-07-30, SELL EXECUTED --- Price: 24.41, Cost: 99993.60,Commission: 0.00\n",
            "2020-07-30, OPERATION RESULT --- Gross: 5945.80, Net: 5945.80\n",
            "2020-08-07, BUY EXECUTED --- Price: 23.63, Cost: 105933.29,Commission: 0.00\n",
            "2020-08-10, SELL EXECUTED --- Price: 24.45, Cost: 105933.29,Commission: 0.00\n",
            "2020-08-10, OPERATION RESULT --- Gross: 3676.07, Net: 3676.07\n",
            "2020-08-12, BUY EXECUTED --- Price: 22.94, Cost: 109607.32,Commission: 0.00\n",
            "2020-08-13, SELL EXECUTED --- Price: 22.91, Cost: 109607.32,Commission: 0.00\n",
            "2020-08-13, OPERATION RESULT --- Gross: -143.34, Net: -143.34\n",
            "2020-08-14, BUY EXECUTED --- Price: 22.84, Cost: 109472.12,Commission: 0.00\n",
            "2020-08-17, SELL EXECUTED --- Price: 22.82, Cost: 109472.12,Commission: 0.00\n",
            "2020-08-17, OPERATION RESULT --- Gross: -95.86, Net: -95.86\n",
            "2020-08-21, BUY EXECUTED --- Price: 21.39, Cost: 109367.07,Commission: 0.00\n",
            "2020-08-25, SELL EXECUTED --- Price: 21.71, Cost: 109367.07,Commission: 0.00\n",
            "2020-08-25, OPERATION RESULT --- Gross: 1636.16, Net: 1636.16\n",
            "2020-09-29, BUY EXECUTED --- Price: 19.01, Cost: 111018.40,Commission: 0.00\n",
            "2020-09-30, SELL EXECUTED --- Price: 19.38, Cost: 111018.40,Commission: 0.00\n",
            "2020-09-30, OPERATION RESULT --- Gross: 2160.79, Net: 2160.79\n",
            "2020-10-09, BUY EXECUTED --- Price: 23.77, Cost: 113168.97,Commission: 0.00\n",
            "2020-10-13, SELL EXECUTED --- Price: 25.00, Cost: 113168.97,Commission: 0.00\n",
            "2020-10-13, OPERATION RESULT --- Gross: 5856.03, Net: 5856.03\n",
            "2020-10-26, BUY EXECUTED --- Price: 25.73, Cost: 119026.98,Commission: 0.00\n",
            "2020-10-27, SELL EXECUTED --- Price: 24.58, Cost: 119026.98,Commission: 0.00\n",
            "2020-10-27, OPERATION RESULT --- Gross: -5319.90, Net: -5319.90\n",
            "2020-11-04, BUY EXECUTED --- Price: 25.25, Cost: 113700.75,Commission: 0.00\n",
            "2020-11-09, SELL EXECUTED --- Price: 34.75, Cost: 113700.75,Commission: 0.00\n",
            "2020-11-09, OPERATION RESULT --- Gross: 42778.50, Net: 42778.50\n",
            "2020-11-16, BUY EXECUTED --- Price: 32.00, Cost: 156480.00,Commission: 0.00\n",
            "2020-11-17, SELL EXECUTED --- Price: 32.15, Cost: 156480.00,Commission: 0.00\n",
            "2020-11-17, OPERATION RESULT --- Gross: 733.51, Net: 733.51\n",
            "2020-11-23, BUY EXECUTED --- Price: 31.21, Cost: 157204.77,Commission: 0.00\n",
            "2020-11-24, SELL EXECUTED --- Price: 33.87, Cost: 157204.77,Commission: 0.00\n",
            "2020-11-24, OPERATION RESULT --- Gross: 13398.42, Net: 13398.42\n",
            "2020-12-03, BUY EXECUTED --- Price: 36.44, Cost: 170612.07,Commission: 0.00\n",
            "2020-12-08, SELL EXECUTED --- Price: 35.78, Cost: 170612.07,Commission: 0.00\n",
            "2020-12-08, OPERATION RESULT --- Gross: -3090.12, Net: -3090.12\n",
            "2020-12-18, BUY EXECUTED --- Price: 33.25, Cost: 167513.50,Commission: 0.00\n",
            "2020-12-21, SELL EXECUTED --- Price: 32.15, Cost: 167513.50,Commission: 0.00\n",
            "2020-12-21, OPERATION RESULT --- Gross: -5541.79, Net: -5541.79\n",
            "2020-12-23, BUY EXECUTED --- Price: 33.22, Cost: 161980.73,Commission: 0.00\n",
            "2020-12-24, SELL EXECUTED --- Price: 34.68, Cost: 161980.73,Commission: 0.00\n",
            "2020-12-24, OPERATION RESULT --- Gross: 7118.96, Net: 7118.96\n",
            "2021-01-08, BUY EXECUTED --- Price: 38.91, Cost: 169102.86,Commission: 0.00\n",
            "2021-01-12, SELL EXECUTED --- Price: 40.43, Cost: 169102.86,Commission: 0.00\n",
            "2021-01-12, OPERATION RESULT --- Gross: 6605.92, Net: 6605.92\n",
            "Final Portfolio Value: 175719.13\n"
          ],
          "name": "stdout"
        }
      ]
    },
    {
      "cell_type": "markdown",
      "metadata": {
        "id": "SnzJ4yIejMI2"
      },
      "source": [
        "# Comparing the benchmark, of just buying and holding the stock "
      ]
    },
    {
      "cell_type": "code",
      "metadata": {
        "id": "I-1OhSTFjjRP"
      },
      "source": [
        "from google.colab import files"
      ],
      "execution_count": 81,
      "outputs": []
    },
    {
      "cell_type": "code",
      "metadata": {
        "colab": {
          "base_uri": "https://localhost:8080/"
        },
        "id": "rfpHZzPjVOxT",
        "outputId": "a10f6c5c-0f55-4947-c6b0-e529b7cf1733"
      },
      "source": [
        "strat = backtest_result[0]\r\n",
        "pyfoliozer = strat.analyzers.getbyname('pyfolio')\r\n",
        "returns, positions, transactions, gross_lev = pyfoliozer.get_pf_items()\r\n",
        "returns.name = 'Strategy'\r\n",
        "returns.head(2)"
      ],
      "execution_count": 427,
      "outputs": [
        {
          "output_type": "execute_result",
          "data": {
            "text/plain": [
              "index\n",
              "2020-06-18 00:00:00+00:00    0.0\n",
              "2020-06-19 00:00:00+00:00    0.0\n",
              "Name: Strategy, dtype: float64"
            ]
          },
          "metadata": {
            "tags": []
          },
          "execution_count": 427
        }
      ]
    },
    {
      "cell_type": "code",
      "metadata": {
        "id": "ZZb8Gmp4VVS3"
      },
      "source": [
        "benchmark_rets= weed['daily_pct_change']\r\n",
        "benchmark_rets.index = benchmark_rets.index.tz_localize('UTC') \r\n",
        "benchmark_rets = benchmark_rets.filter(returns.index)\r\n",
        "benchmark_rets.name = 'Buy_and_Hold'\r\n",
        "benchmark_rets.head(2)"
      ],
      "execution_count": null,
      "outputs": []
    },
    {
      "cell_type": "code",
      "metadata": {
        "id": "4HH7nYYQVYK7"
      },
      "source": [
        "returns.dropna(inplace=True)"
      ],
      "execution_count": 428,
      "outputs": []
    },
    {
      "cell_type": "code",
      "metadata": {
        "id": "b5VjdUpHVZx8"
      },
      "source": [
        "returns=returns[1:]\r\n",
        "NLP_4951=returns"
      ],
      "execution_count": 429,
      "outputs": []
    },
    {
      "cell_type": "code",
      "metadata": {
        "colab": {
          "base_uri": "https://localhost:8080/",
          "height": 545
        },
        "id": "rpj_VYvwVa-d",
        "outputId": "4f79fcce-90bd-419f-a5f5-5fdd7fce808c"
      },
      "source": [
        "pf.show_perf_stats(returns)"
      ],
      "execution_count": 430,
      "outputs": [
        {
          "output_type": "display_data",
          "data": {
            "text/html": [
              "<table border=\"1\" class=\"dataframe\">\n",
              "  <thead>\n",
              "    <tr style=\"text-align: right;\"><th>Start date</th><td colspan=2>2020-06-19</td></tr>\n",
              "    <tr style=\"text-align: right;\"><th>End date</th><td colspan=2>2021-01-15</td></tr>\n",
              "    <tr style=\"text-align: right;\"><th>Total months</th><td colspan=2>6</td></tr>\n",
              "    <tr style=\"text-align: right;\">\n",
              "      <th></th>\n",
              "      <th>Backtest</th>\n",
              "    </tr>\n",
              "  </thead>\n",
              "  <tbody>\n",
              "    <tr>\n",
              "      <th>Annual return</th>\n",
              "      <td>170.041%</td>\n",
              "    </tr>\n",
              "    <tr>\n",
              "      <th>Cumulative returns</th>\n",
              "      <td>75.719%</td>\n",
              "    </tr>\n",
              "    <tr>\n",
              "      <th>Annual volatility</th>\n",
              "      <td>39.541%</td>\n",
              "    </tr>\n",
              "    <tr>\n",
              "      <th>Sharpe ratio</th>\n",
              "      <td>2.70</td>\n",
              "    </tr>\n",
              "    <tr>\n",
              "      <th>Calmar ratio</th>\n",
              "      <td>14.68</td>\n",
              "    </tr>\n",
              "    <tr>\n",
              "      <th>Stability</th>\n",
              "      <td>0.85</td>\n",
              "    </tr>\n",
              "    <tr>\n",
              "      <th>Max drawdown</th>\n",
              "      <td>-11.58%</td>\n",
              "    </tr>\n",
              "    <tr>\n",
              "      <th>Omega ratio</th>\n",
              "      <td>3.13</td>\n",
              "    </tr>\n",
              "    <tr>\n",
              "      <th>Sortino ratio</th>\n",
              "      <td>7.86</td>\n",
              "    </tr>\n",
              "    <tr>\n",
              "      <th>Skew</th>\n",
              "      <td>3.21</td>\n",
              "    </tr>\n",
              "    <tr>\n",
              "      <th>Kurtosis</th>\n",
              "      <td>13.65</td>\n",
              "    </tr>\n",
              "    <tr>\n",
              "      <th>Tail ratio</th>\n",
              "      <td>4.06</td>\n",
              "    </tr>\n",
              "    <tr>\n",
              "      <th>Daily value at risk</th>\n",
              "      <td>-4.558%</td>\n",
              "    </tr>\n",
              "  </tbody>\n",
              "</table>"
            ],
            "text/plain": [
              "<IPython.core.display.HTML object>"
            ]
          },
          "metadata": {
            "tags": []
          }
        }
      ]
    },
    {
      "cell_type": "code",
      "metadata": {
        "colab": {
          "base_uri": "https://localhost:8080/",
          "height": 657
        },
        "id": "NT6JbgviVemS",
        "outputId": "18c6c46d-7d96-4820-a58d-401fce03c169"
      },
      "source": [
        "# plot performance for strategy vs benchmark\r\n",
        "fig, ax = plt.subplots(nrows=2, ncols=2, figsize=(16, 9),constrained_layout=True)\r\n",
        "axes = ax.flatten()\r\n",
        "\r\n",
        "pf.plot_drawdown_periods(returns=returns, ax=axes[0])\r\n",
        "axes[0].grid(True)\r\n",
        "pf.plot_rolling_returns(returns=returns,\r\n",
        "                        factor_returns=benchmark_rets,\r\n",
        "                        ax=axes[1], title='Strategy vs Buy&Hold')\r\n",
        "axes[1].grid(True)\r\n",
        "pf.plot_drawdown_underwater(returns=returns, ax=axes[2])\r\n",
        "axes[2].grid(True)\r\n",
        "pf.plot_rolling_sharpe(returns=returns, ax=axes[3])\r\n",
        "axes[3].grid(True)\r\n",
        "\r\n",
        "plt.grid(True)\r\n",
        "plt.legend()\r\n",
        "plt.tight_layout()\r\n",
        "plt.savefig(\"NLPstrat4951.png\")\r\n",
        "files.download(\"NLPstrat4951.png\")"
      ],
      "execution_count": 431,
      "outputs": [
        {
          "output_type": "display_data",
          "data": {
            "application/javascript": [
              "\n",
              "    async function download(id, filename, size) {\n",
              "      if (!google.colab.kernel.accessAllowed) {\n",
              "        return;\n",
              "      }\n",
              "      const div = document.createElement('div');\n",
              "      const label = document.createElement('label');\n",
              "      label.textContent = `Downloading \"${filename}\": `;\n",
              "      div.appendChild(label);\n",
              "      const progress = document.createElement('progress');\n",
              "      progress.max = size;\n",
              "      div.appendChild(progress);\n",
              "      document.body.appendChild(div);\n",
              "\n",
              "      const buffers = [];\n",
              "      let downloaded = 0;\n",
              "\n",
              "      const channel = await google.colab.kernel.comms.open(id);\n",
              "      // Send a message to notify the kernel that we're ready.\n",
              "      channel.send({})\n",
              "\n",
              "      for await (const message of channel.messages) {\n",
              "        // Send a message to notify the kernel that we're ready.\n",
              "        channel.send({})\n",
              "        if (message.buffers) {\n",
              "          for (const buffer of message.buffers) {\n",
              "            buffers.push(buffer);\n",
              "            downloaded += buffer.byteLength;\n",
              "            progress.value = downloaded;\n",
              "          }\n",
              "        }\n",
              "      }\n",
              "      const blob = new Blob(buffers, {type: 'application/binary'});\n",
              "      const a = document.createElement('a');\n",
              "      a.href = window.URL.createObjectURL(blob);\n",
              "      a.download = filename;\n",
              "      div.appendChild(a);\n",
              "      a.click();\n",
              "      div.remove();\n",
              "    }\n",
              "  "
            ],
            "text/plain": [
              "<IPython.core.display.Javascript object>"
            ]
          },
          "metadata": {
            "tags": []
          }
        },
        {
          "output_type": "display_data",
          "data": {
            "application/javascript": [
              "download(\"download_6d47fbca-d23d-47cb-a451-72febd8c1890\", \"NLPstrat4951.png\", 86858)"
            ],
            "text/plain": [
              "<IPython.core.display.Javascript object>"
            ]
          },
          "metadata": {
            "tags": []
          }
        },
        {
          "output_type": "display_data",
          "data": {
            "image/png": "[encoded data removed]",
            "text/plain": [
              "<Figure size 1152x648 with 4 Axes>"
            ]
          },
          "metadata": {
            "tags": [],
            "needs_background": "light"
          }
        }
      ]
    },
    {
      "cell_type": "markdown",
      "metadata": {
        "id": "KtDF2eAdnNoG"
      },
      "source": [
        "# Normal model with rolling returns, and rolling standard deviation as features"
      ]
    },
    {
      "cell_type": "code",
      "metadata": {
        "id": "L-A6Y7hQlYPZ"
      },
      "source": [
        "X = df[predictor_list]\r\n",
        "y = df['actual_signal']\r\n",
        "train_length = int(len(X)*0.88)\r\n",
        "X_train = pd.DataFrame()\r\n",
        "X_test = pd.DataFrame()\r\n",
        "y_train = pd.Series()\r\n",
        "y_test = pd.Series()\r\n",
        "\r\n",
        "X_train = X_train.append(X[:train_length])\r\n",
        "X_test = X_test.append(X[train_length:])\r\n",
        "y_train = y_train.append(y[:train_length])\r\n",
        "y_test = y_test.append(y[train_length:])\r\n",
        "##Log\r\n",
        "##EN\r\n",
        "##RF\r\n",
        "model_log = LogisticRegression()\r\n",
        "model_XG = XGBClassifier()"
      ],
      "execution_count": 433,
      "outputs": []
    },
    {
      "cell_type": "code",
      "metadata": {
        "colab": {
          "base_uri": "https://localhost:8080/"
        },
        "id": "83pj5KTInZCb",
        "outputId": "ff7c5ffb-e293-4198-fb26-2ab3c2673b70"
      },
      "source": [
        "scaler = StandardScaler()\r\n",
        "X_train = scaler.fit_transform(X_train)\r\n",
        "X_test = scaler.fit_transform(X_test)\r\n",
        "print(X_train.shape)\r\n",
        "print(X_test.shape)\r\n",
        "print(y_train.shape)\r\n",
        "print(y_test.shape)"
      ],
      "execution_count": 434,
      "outputs": [
        {
          "output_type": "stream",
          "text": [
            "(1053, 20)\n",
            "(144, 20)\n",
            "(1053,)\n",
            "(144,)\n"
          ],
          "name": "stdout"
        }
      ]
    },
    {
      "cell_type": "code",
      "metadata": {
        "colab": {
          "base_uri": "https://localhost:8080/"
        },
        "id": "XsHNCk17naXn",
        "outputId": "f8e5b73d-d1d3-40f4-9fba-5929cdb93d23"
      },
      "source": [
        "model_log.fit(X_train,y_train)\r\n",
        "model_XG.fit(X_train, y_train)\r\n",
        "print('Model Log' + ' ' + str(model_log.score(X_train, y_train)))\r\n",
        "print('Model XGB' + ' ' + str(model_XG.score(X_train, y_train)))"
      ],
      "execution_count": 435,
      "outputs": [
        {
          "output_type": "stream",
          "text": [
            "Model Log 0.5716999050332384\n",
            "Model XGB 0.8281101614434948\n"
          ],
          "name": "stdout"
        }
      ]
    },
    {
      "cell_type": "code",
      "metadata": {
        "colab": {
          "base_uri": "https://localhost:8080/"
        },
        "id": "ND6gu9TwnbfH",
        "outputId": "9a715b66-47e4-4e3f-9b24-cae09d79bfd8"
      },
      "source": [
        "y_predict_standard = model_XG.predict(X_test)\r\n",
        "accuracy = accuracy_score(y_test,y_predict_standard)\r\n",
        "print('Accuracy of the standard XGboost model %.5f%%' % (accuracy*100))"
      ],
      "execution_count": 436,
      "outputs": [
        {
          "output_type": "stream",
          "text": [
            "Accuracy of the standard XGboost model 45.83333%\n"
          ],
          "name": "stdout"
        }
      ]
    },
    {
      "cell_type": "code",
      "metadata": {
        "colab": {
          "base_uri": "https://localhost:8080/"
        },
        "id": "L69e2QblncY5",
        "outputId": "b2159bdd-f12a-4af0-ceb7-d211f5902f4a"
      },
      "source": [
        "print(classification_report(y_test, y_predict_standard))"
      ],
      "execution_count": 437,
      "outputs": [
        {
          "output_type": "stream",
          "text": [
            "              precision    recall  f1-score   support\n",
            "\n",
            "          -1       0.55      0.20      0.29        81\n",
            "           1       0.43      0.79      0.56        63\n",
            "\n",
            "    accuracy                           0.46       144\n",
            "   macro avg       0.49      0.50      0.43       144\n",
            "weighted avg       0.50      0.46      0.41       144\n",
            "\n"
          ],
          "name": "stdout"
        }
      ]
    },
    {
      "cell_type": "code",
      "metadata": {
        "colab": {
          "base_uri": "https://localhost:8080/"
        },
        "id": "_GFbUyCXndXZ",
        "outputId": "32efbcda-b604-47de-e00f-5b497c09f0d7"
      },
      "source": [
        "y_predict_standard_log = model_log.predict(X_test)\r\n",
        "accuracy = accuracy_score(y_test,y_predict_standard_log)\r\n",
        "print('Accuracy of the logistic regression is %.5f%%' % (accuracy*100))"
      ],
      "execution_count": 438,
      "outputs": [
        {
          "output_type": "stream",
          "text": [
            "Accuracy of the logistic regression is 46.52778%\n"
          ],
          "name": "stdout"
        }
      ]
    },
    {
      "cell_type": "code",
      "metadata": {
        "colab": {
          "base_uri": "https://localhost:8080/"
        },
        "id": "ZrrxPd1bneh9",
        "outputId": "eb5429b7-25fe-4484-d007-2edfb6552bc5"
      },
      "source": [
        "print(classification_report(y_test, y_predict_standard_log))"
      ],
      "execution_count": 439,
      "outputs": [
        {
          "output_type": "stream",
          "text": [
            "              precision    recall  f1-score   support\n",
            "\n",
            "          -1       0.52      0.54      0.53        81\n",
            "           1       0.38      0.37      0.37        63\n",
            "\n",
            "    accuracy                           0.47       144\n",
            "   macro avg       0.45      0.45      0.45       144\n",
            "weighted avg       0.46      0.47      0.46       144\n",
            "\n"
          ],
          "name": "stdout"
        }
      ]
    },
    {
      "cell_type": "markdown",
      "metadata": {
        "id": "oocqejlCq02V"
      },
      "source": [
        "Changing hyperparameter tuning search: to 1,10,10"
      ]
    },
    {
      "cell_type": "code",
      "metadata": {
        "colab": {
          "base_uri": "https://localhost:8080/"
        },
        "id": "uS6YzJIgnfvR",
        "outputId": "ed499e58-8326-4cfe-c4ce-4a4f890e33c2"
      },
      "source": [
        "grid={\"C\":np.logspace(1,10,10), \"penalty\":[\"l1\",\"l2\"]}# l1 lasso l2 ridge\r\n",
        "logreg=LogisticRegression()\r\n",
        "logreg_cv=GridSearchCV(logreg,grid,cv=10)\r\n",
        "logreg_cv.fit(X_train,y_train)\r\n",
        "\r\n",
        "print(\"tuned hpyerparameters :(best parameters) \",logreg_cv.best_params_)\r\n",
        "print(\"accuracy :\",logreg_cv.best_score_)"
      ],
      "execution_count": 440,
      "outputs": [
        {
          "output_type": "stream",
          "text": [
            "tuned hpyerparameters :(best parameters)  {'C': 100.0, 'penalty': 'l2'}\n",
            "accuracy : 0.5051572327044025\n"
          ],
          "name": "stdout"
        }
      ]
    },
    {
      "cell_type": "code",
      "metadata": {
        "colab": {
          "base_uri": "https://localhost:8080/"
        },
        "id": "BBhY6zqCng8N",
        "outputId": "defd3bf5-db7d-48d4-f52b-932fd5b33a63"
      },
      "source": [
        "y_predict_cv_log = logreg_cv.predict(X_test)\r\n",
        "accuracy = accuracy_score(y_test,y_predict_cv_log)\r\n",
        "print('Accuracy of the logistic regression is %.5f%%' % (accuracy*100))"
      ],
      "execution_count": 441,
      "outputs": [
        {
          "output_type": "stream",
          "text": [
            "Accuracy of the logistic regression is 47.22222%\n"
          ],
          "name": "stdout"
        }
      ]
    },
    {
      "cell_type": "markdown",
      "metadata": {
        "id": "PdZI9cB1qYgK"
      },
      "source": [
        "a small improvement"
      ]
    },
    {
      "cell_type": "code",
      "metadata": {
        "colab": {
          "base_uri": "https://localhost:8080/"
        },
        "id": "aIZqNf8RniJ4",
        "outputId": "0e91b449-dd77-4da5-99f8-94362d6be783"
      },
      "source": [
        "print(classification_report(y_test, y_predict_cv_log))"
      ],
      "execution_count": 442,
      "outputs": [
        {
          "output_type": "stream",
          "text": [
            "              precision    recall  f1-score   support\n",
            "\n",
            "          -1       0.53      0.54      0.54        81\n",
            "           1       0.39      0.38      0.39        63\n",
            "\n",
            "    accuracy                           0.47       144\n",
            "   macro avg       0.46      0.46      0.46       144\n",
            "weighted avg       0.47      0.47      0.47       144\n",
            "\n"
          ],
          "name": "stdout"
        }
      ]
    },
    {
      "cell_type": "markdown",
      "metadata": {
        "id": "B87RcwQUqjWO"
      },
      "source": [
        "Looking at the long calls:"
      ]
    },
    {
      "cell_type": "code",
      "metadata": {
        "colab": {
          "base_uri": "https://localhost:8080/",
          "height": 279
        },
        "id": "C38vb1w0qCeO",
        "outputId": "91ccbddf-d594-40b9-b841-53a18fecf76a"
      },
      "source": [
        "array = confusion_matrix(y_test, y_predict_cv_log)\r\n",
        "dfduunk = pd.DataFrame(array, index=['Short', 'Long'], columns=[\r\n",
        "'Short', 'Long'])\r\n",
        "plt.figure(figsize=(5, 4))\r\n",
        "sn.heatmap(dfduunk, annot=True, cmap='Greens', fmt='g')\r\n",
        "plt.xlabel('Predicted')\r\n",
        "plt.ylabel('Actual')\r\n",
        "plt.show()"
      ],
      "execution_count": 232,
      "outputs": [
        {
          "output_type": "display_data",
          "data": {
            "image/png": "[encoded data removed]",
            "text/plain": [
              "<Figure size 360x288 with 2 Axes>"
            ]
          },
          "metadata": {
            "tags": [],
            "needs_background": "light"
          }
        }
      ]
    },
    {
      "cell_type": "code",
      "metadata": {
        "id": "7Klr-ZuVnjBg"
      },
      "source": [
        "# Number of trees to be used\r\n",
        "xgb_n_estimators = [int(x) for x in np.linspace(50, 300, 50)]\r\n",
        "\r\n",
        "# Maximum number of levels in tree\r\n",
        "xgb_max_depth = [int(x) for x in np.linspace(2, 14, 7)]\r\n",
        "\r\n",
        "# Minimum number of instaces needed in each node\r\n",
        "xgb_min_child_weight = [int(x) for x in np.linspace(1, 5, 5)]\r\n",
        "\r\n",
        "# Tree construction algorithm used in XGBoost\r\n",
        "xgb_tree_method = ['auto', 'exact', 'approx', 'hist', 'gpu_hist']\r\n",
        "\r\n",
        "# Learning rate\r\n",
        "xgb_eta = [x for x in np.linspace(0.1, 0.6, 6)]\r\n",
        "\r\n",
        "# Minimum loss reduction required to make further partition\r\n",
        "xgb_gamma = [int(x) for x in np.linspace(0, 0.5, 6)]\r\n",
        "\r\n",
        "# Learning objective used\r\n",
        "xgb_objective = ['reg:squarederror', 'reg:squaredlogerror']\r\n",
        "\r\n",
        "# Create the grid\r\n",
        "xgb_grid = {'n_estimators': xgb_n_estimators,\r\n",
        "            'max_depth': xgb_max_depth,\r\n",
        "            'min_child_weight': xgb_min_child_weight,\r\n",
        "            'tree_method': xgb_tree_method,\r\n",
        "            'eta': xgb_eta,\r\n",
        "            'gamma': xgb_gamma,\r\n",
        "            'objective': xgb_objective}"
      ],
      "execution_count": 443,
      "outputs": []
    },
    {
      "cell_type": "code",
      "metadata": {
        "colab": {
          "base_uri": "https://localhost:8080/"
        },
        "id": "Cc1pScEGnka7",
        "outputId": "cf0c6041-4011-4447-cb64-6e6622fdd09e"
      },
      "source": [
        "xgb_base = XGBClassifier()\r\n",
        "\r\n",
        "# Create the random search Random Forest\r\n",
        "xgb_random = RandomizedSearchCV(estimator = xgb_base, param_distributions = xgb_grid, \r\n",
        "                                n_iter = 50, cv = 3, verbose = 2, \r\n",
        "                                random_state = 42, n_jobs = -1)\r\n",
        "eval_set = [(X_test, y_test)]\r\n",
        "xgb_random.fit(X_train, y_train,early_stopping_rounds = 10, eval_metric=[\"error\", \"logloss\"], eval_set=eval_set, verbose=True)\r\n"
      ],
      "execution_count": 444,
      "outputs": [
        {
          "output_type": "stream",
          "text": [
            "Fitting 3 folds for each of 50 candidates, totalling 150 fits\n"
          ],
          "name": "stdout"
        },
        {
          "output_type": "stream",
          "text": [
            "[Parallel(n_jobs=-1)]: Using backend LokyBackend with 2 concurrent workers.\n",
            "[Parallel(n_jobs=-1)]: Done 130 tasks      | elapsed:    4.1s\n"
          ],
          "name": "stderr"
        },
        {
          "output_type": "stream",
          "text": [
            "[0]\tvalidation_0-error:0.479167\tvalidation_0-logloss:0.692934\n",
            "Multiple eval metrics have been passed: 'validation_0-logloss' will be used for early stopping.\n",
            "\n",
            "Will train until validation_0-logloss hasn't improved in 10 rounds.\n",
            "[1]\tvalidation_0-error:0.520833\tvalidation_0-logloss:0.698403\n",
            "[2]\tvalidation_0-error:0.506944\tvalidation_0-logloss:0.699216\n",
            "[3]\tvalidation_0-error:0.541667\tvalidation_0-logloss:0.706423\n",
            "[4]\tvalidation_0-error:0.541667\tvalidation_0-logloss:0.707587\n",
            "[5]\tvalidation_0-error:0.534722\tvalidation_0-logloss:0.707737\n",
            "[6]\tvalidation_0-error:0.534722\tvalidation_0-logloss:0.707597\n",
            "[7]\tvalidation_0-error:0.513889\tvalidation_0-logloss:0.707367\n",
            "[8]\tvalidation_0-error:0.493056\tvalidation_0-logloss:0.707523\n",
            "[9]\tvalidation_0-error:0.506944\tvalidation_0-logloss:0.703854\n",
            "[10]\tvalidation_0-error:0.493056\tvalidation_0-logloss:0.706242\n",
            "Stopping. Best iteration:\n",
            "[0]\tvalidation_0-error:0.479167\tvalidation_0-logloss:0.692934\n",
            "\n"
          ],
          "name": "stdout"
        },
        {
          "output_type": "stream",
          "text": [
            "[Parallel(n_jobs=-1)]: Done 150 out of 150 | elapsed:    4.6s finished\n"
          ],
          "name": "stderr"
        },
        {
          "output_type": "execute_result",
          "data": {
            "text/plain": [
              "RandomizedSearchCV(cv=3, error_score=nan,\n",
              "                   estimator=XGBClassifier(base_score=0.5, booster='gbtree',\n",
              "                                           colsample_bylevel=1,\n",
              "                                           colsample_bynode=1,\n",
              "                                           colsample_bytree=1, gamma=0,\n",
              "                                           learning_rate=0.1, max_delta_step=0,\n",
              "                                           max_depth=3, min_child_weight=1,\n",
              "                                           missing=None, n_estimators=100,\n",
              "                                           n_jobs=1, nthread=None,\n",
              "                                           objective='binary:logistic',\n",
              "                                           random_state=0, reg_alpha=0,\n",
              "                                           reg_lambda=1, sc...\n",
              "                                        'min_child_weight': [1, 2, 3, 4, 5],\n",
              "                                        'n_estimators': [50, 55, 60, 65, 70, 75,\n",
              "                                                         80, 85, 90, 95, 101,\n",
              "                                                         106, 111, 116, 121,\n",
              "                                                         126, 131, 136, 141,\n",
              "                                                         146, 152, 157, 162,\n",
              "                                                         167, 172, 177, 182,\n",
              "                                                         187, 192, 197, ...],\n",
              "                                        'objective': ['reg:squarederror',\n",
              "                                                      'reg:squaredlogerror'],\n",
              "                                        'tree_method': ['auto', 'exact',\n",
              "                                                        'approx', 'hist',\n",
              "                                                        'gpu_hist']},\n",
              "                   pre_dispatch='2*n_jobs', random_state=42, refit=True,\n",
              "                   return_train_score=False, scoring=None, verbose=2)"
            ]
          },
          "metadata": {
            "tags": []
          },
          "execution_count": 444
        }
      ]
    },
    {
      "cell_type": "code",
      "metadata": {
        "colab": {
          "base_uri": "https://localhost:8080/"
        },
        "id": "Zs7QnnEznlmy",
        "outputId": "18bd603b-322f-4563-d18b-bd3d42b3fda0"
      },
      "source": [
        "y_predict = xgb_random.predict(X_test)\r\n",
        "accuracy = accuracy_score(y_test,y_predict)\r\n",
        "print('Accuracy of the XGboost after the hypertuning and prevention of overfitting %.5f%%' % (accuracy*100))"
      ],
      "execution_count": 445,
      "outputs": [
        {
          "output_type": "stream",
          "text": [
            "Accuracy of the XGboost after the hypertuning and prevention of overfitting 52.08333%\n"
          ],
          "name": "stdout"
        }
      ]
    },
    {
      "cell_type": "code",
      "metadata": {
        "colab": {
          "base_uri": "https://localhost:8080/"
        },
        "id": "Ki8xw0zznmog",
        "outputId": "ffe7b337-a8e7-4bdd-b897-33c99804739b"
      },
      "source": [
        "print(classification_report(y_test, y_predict))"
      ],
      "execution_count": 446,
      "outputs": [
        {
          "output_type": "stream",
          "text": [
            "              precision    recall  f1-score   support\n",
            "\n",
            "          -1       0.58      0.56      0.57        81\n",
            "           1       0.45      0.48      0.47        63\n",
            "\n",
            "    accuracy                           0.52       144\n",
            "   macro avg       0.52      0.52      0.52       144\n",
            "weighted avg       0.52      0.52      0.52       144\n",
            "\n"
          ],
          "name": "stdout"
        }
      ]
    },
    {
      "cell_type": "code",
      "metadata": {
        "id": "iZdfmXwRnnqk"
      },
      "source": [
        "# Call the comparison function with the three final models\r\n",
        "final_scores = final_comparison([logreg_cv,model_log, xgb_random,model_XG], X_test, y_test)\r\n",
        "\r\n",
        "# Adjust the column headers\r\n",
        "final_scores.columns  = ['Hyper Log reg','Log Regr', 'Hyper XGb','XGb']"
      ],
      "execution_count": 447,
      "outputs": []
    },
    {
      "cell_type": "code",
      "metadata": {
        "colab": {
          "base_uri": "https://localhost:8080/",
          "height": 173
        },
        "id": "uIyWzu_wnocd",
        "outputId": "37331ea2-dd48-4c2c-9c71-2d881789d00c"
      },
      "source": [
        "final_scores"
      ],
      "execution_count": 448,
      "outputs": [
        {
          "output_type": "execute_result",
          "data": {
            "text/html": [
              "<div>\n",
              "<style scoped>\n",
              "    .dataframe tbody tr th:only-of-type {\n",
              "        vertical-align: middle;\n",
              "    }\n",
              "\n",
              "    .dataframe tbody tr th {\n",
              "        vertical-align: top;\n",
              "    }\n",
              "\n",
              "    .dataframe thead th {\n",
              "        text-align: right;\n",
              "    }\n",
              "</style>\n",
              "<table border=\"1\" class=\"dataframe\">\n",
              "  <thead>\n",
              "    <tr style=\"text-align: right;\">\n",
              "      <th></th>\n",
              "      <th>Hyper Log reg</th>\n",
              "      <th>Log Regr</th>\n",
              "      <th>Hyper XGb</th>\n",
              "      <th>XGb</th>\n",
              "    </tr>\n",
              "  </thead>\n",
              "  <tbody>\n",
              "    <tr>\n",
              "      <th>Mean Absolute Error</th>\n",
              "      <td>1.055600</td>\n",
              "      <td>1.069400</td>\n",
              "      <td>0.958300</td>\n",
              "      <td>1.083300</td>\n",
              "    </tr>\n",
              "    <tr>\n",
              "      <th>Mean Squared Error</th>\n",
              "      <td>2.111100</td>\n",
              "      <td>2.138900</td>\n",
              "      <td>1.916700</td>\n",
              "      <td>2.166700</td>\n",
              "    </tr>\n",
              "    <tr>\n",
              "      <th>R^2</th>\n",
              "      <td>-1.144600</td>\n",
              "      <td>-1.172800</td>\n",
              "      <td>-0.947100</td>\n",
              "      <td>-1.201100</td>\n",
              "    </tr>\n",
              "    <tr>\n",
              "      <th>Accuracy</th>\n",
              "      <td>0.472222</td>\n",
              "      <td>0.465278</td>\n",
              "      <td>0.520833</td>\n",
              "      <td>0.458333</td>\n",
              "    </tr>\n",
              "  </tbody>\n",
              "</table>\n",
              "</div>"
            ],
            "text/plain": [
              "                     Hyper Log reg  Log Regr  Hyper XGb       XGb\n",
              "Mean Absolute Error       1.055600  1.069400   0.958300  1.083300\n",
              "Mean Squared Error        2.111100  2.138900   1.916700  2.166700\n",
              "R^2                      -1.144600 -1.172800  -0.947100 -1.201100\n",
              "Accuracy                  0.472222  0.465278   0.520833  0.458333"
            ]
          },
          "metadata": {
            "tags": []
          },
          "execution_count": 448
        }
      ]
    },
    {
      "cell_type": "markdown",
      "metadata": {
        "id": "Cu2ULjV0tK79"
      },
      "source": [
        "The XGboost model with hyper parameter tuning is performing the best, and i therefore use that in the investing strategy. "
      ]
    },
    {
      "cell_type": "markdown",
      "metadata": {
        "id": "gKErP9tBtGyC"
      },
      "source": [
        "## Data preprocessing for investing"
      ]
    },
    {
      "cell_type": "code",
      "metadata": {
        "id": "2d0325JFttPb"
      },
      "source": [
        "prøve =  df[1053:]\r\n",
        "prøve['predicted'] = xgb_random.predict_proba(X_test)[:, 1]"
      ],
      "execution_count": 449,
      "outputs": []
    },
    {
      "cell_type": "code",
      "metadata": {
        "colab": {
          "base_uri": "https://localhost:8080/",
          "height": 467
        },
        "id": "_eT5sR5Cu8cq",
        "outputId": "0fb2810b-42f2-4534-cba2-f849f1f0e7a2"
      },
      "source": [
        "start2 = \"2020-06-16\"\r\n",
        "end2 = \"2021-01-13\"\r\n",
        "\r\n",
        "data1=yf.download(tickers, start=start2, end=end2)\r\n",
        "data1.rename(columns = {'Open':'open','High':'high','Low':'low','Adj Close':'close','Volume':'volume',\r\n",
        "                         }, inplace=True)\r\n",
        "predictions = prøve['predicted']\r\n",
        "predictions = pd.DataFrame(predictions)\r\n",
        "prices = predictions.join(data1,how='left').dropna()\r\n",
        "prices"
      ],
      "execution_count": 450,
      "outputs": [
        {
          "output_type": "stream",
          "text": [
            "\r[*********************100%***********************]  1 of 1 completed\n"
          ],
          "name": "stdout"
        },
        {
          "output_type": "execute_result",
          "data": {
            "text/html": [
              "<div>\n",
              "<style scoped>\n",
              "    .dataframe tbody tr th:only-of-type {\n",
              "        vertical-align: middle;\n",
              "    }\n",
              "\n",
              "    .dataframe tbody tr th {\n",
              "        vertical-align: top;\n",
              "    }\n",
              "\n",
              "    .dataframe thead th {\n",
              "        text-align: right;\n",
              "    }\n",
              "</style>\n",
              "<table border=\"1\" class=\"dataframe\">\n",
              "  <thead>\n",
              "    <tr style=\"text-align: right;\">\n",
              "      <th></th>\n",
              "      <th>predicted</th>\n",
              "      <th>open</th>\n",
              "      <th>high</th>\n",
              "      <th>low</th>\n",
              "      <th>Close</th>\n",
              "      <th>close</th>\n",
              "      <th>volume</th>\n",
              "    </tr>\n",
              "    <tr>\n",
              "      <th>Date</th>\n",
              "      <th></th>\n",
              "      <th></th>\n",
              "      <th></th>\n",
              "      <th></th>\n",
              "      <th></th>\n",
              "      <th></th>\n",
              "      <th></th>\n",
              "    </tr>\n",
              "  </thead>\n",
              "  <tbody>\n",
              "    <tr>\n",
              "      <th>2020-06-16</th>\n",
              "      <td>0.492514</td>\n",
              "      <td>23.430000</td>\n",
              "      <td>24.150000</td>\n",
              "      <td>22.940001</td>\n",
              "      <td>24.120001</td>\n",
              "      <td>24.120001</td>\n",
              "      <td>2277667.0</td>\n",
              "    </tr>\n",
              "    <tr>\n",
              "      <th>2020-06-17</th>\n",
              "      <td>0.532143</td>\n",
              "      <td>24.120001</td>\n",
              "      <td>24.320000</td>\n",
              "      <td>22.740000</td>\n",
              "      <td>22.910000</td>\n",
              "      <td>22.910000</td>\n",
              "      <td>1752198.0</td>\n",
              "    </tr>\n",
              "    <tr>\n",
              "      <th>2020-06-18</th>\n",
              "      <td>0.532143</td>\n",
              "      <td>22.770000</td>\n",
              "      <td>24.000000</td>\n",
              "      <td>22.660000</td>\n",
              "      <td>23.330000</td>\n",
              "      <td>23.330000</td>\n",
              "      <td>1382505.0</td>\n",
              "    </tr>\n",
              "    <tr>\n",
              "      <th>2020-06-19</th>\n",
              "      <td>0.472297</td>\n",
              "      <td>24.559999</td>\n",
              "      <td>24.559999</td>\n",
              "      <td>23.230000</td>\n",
              "      <td>23.639999</td>\n",
              "      <td>23.639999</td>\n",
              "      <td>4461467.0</td>\n",
              "    </tr>\n",
              "    <tr>\n",
              "      <th>2020-06-22</th>\n",
              "      <td>0.472297</td>\n",
              "      <td>23.450001</td>\n",
              "      <td>23.940001</td>\n",
              "      <td>23.250000</td>\n",
              "      <td>23.480000</td>\n",
              "      <td>23.480000</td>\n",
              "      <td>791750.0</td>\n",
              "    </tr>\n",
              "    <tr>\n",
              "      <th>...</th>\n",
              "      <td>...</td>\n",
              "      <td>...</td>\n",
              "      <td>...</td>\n",
              "      <td>...</td>\n",
              "      <td>...</td>\n",
              "      <td>...</td>\n",
              "      <td>...</td>\n",
              "    </tr>\n",
              "    <tr>\n",
              "      <th>2021-01-06</th>\n",
              "      <td>0.526724</td>\n",
              "      <td>38.000000</td>\n",
              "      <td>40.450001</td>\n",
              "      <td>37.310001</td>\n",
              "      <td>38.139999</td>\n",
              "      <td>38.139999</td>\n",
              "      <td>3821363.0</td>\n",
              "    </tr>\n",
              "    <tr>\n",
              "      <th>2021-01-07</th>\n",
              "      <td>0.526724</td>\n",
              "      <td>39.939999</td>\n",
              "      <td>41.070000</td>\n",
              "      <td>38.570000</td>\n",
              "      <td>38.770000</td>\n",
              "      <td>38.770000</td>\n",
              "      <td>2413122.0</td>\n",
              "    </tr>\n",
              "    <tr>\n",
              "      <th>2021-01-08</th>\n",
              "      <td>0.526724</td>\n",
              "      <td>38.910000</td>\n",
              "      <td>39.180000</td>\n",
              "      <td>37.270000</td>\n",
              "      <td>38.400002</td>\n",
              "      <td>38.400002</td>\n",
              "      <td>1409694.0</td>\n",
              "    </tr>\n",
              "    <tr>\n",
              "      <th>2021-01-11</th>\n",
              "      <td>0.526724</td>\n",
              "      <td>37.880001</td>\n",
              "      <td>41.380001</td>\n",
              "      <td>37.880001</td>\n",
              "      <td>40.139999</td>\n",
              "      <td>40.139999</td>\n",
              "      <td>2404446.0</td>\n",
              "    </tr>\n",
              "    <tr>\n",
              "      <th>2021-01-12</th>\n",
              "      <td>0.456250</td>\n",
              "      <td>40.430000</td>\n",
              "      <td>40.820000</td>\n",
              "      <td>38.849998</td>\n",
              "      <td>39.299999</td>\n",
              "      <td>39.299999</td>\n",
              "      <td>1403253.0</td>\n",
              "    </tr>\n",
              "  </tbody>\n",
              "</table>\n",
              "<p>143 rows × 7 columns</p>\n",
              "</div>"
            ],
            "text/plain": [
              "            predicted       open       high  ...      Close      close     volume\n",
              "Date                                         ...                                 \n",
              "2020-06-16   0.492514  23.430000  24.150000  ...  24.120001  24.120001  2277667.0\n",
              "2020-06-17   0.532143  24.120001  24.320000  ...  22.910000  22.910000  1752198.0\n",
              "2020-06-18   0.532143  22.770000  24.000000  ...  23.330000  23.330000  1382505.0\n",
              "2020-06-19   0.472297  24.559999  24.559999  ...  23.639999  23.639999  4461467.0\n",
              "2020-06-22   0.472297  23.450001  23.940001  ...  23.480000  23.480000   791750.0\n",
              "...               ...        ...        ...  ...        ...        ...        ...\n",
              "2021-01-06   0.526724  38.000000  40.450001  ...  38.139999  38.139999  3821363.0\n",
              "2021-01-07   0.526724  39.939999  41.070000  ...  38.770000  38.770000  2413122.0\n",
              "2021-01-08   0.526724  38.910000  39.180000  ...  38.400002  38.400002  1409694.0\n",
              "2021-01-11   0.526724  37.880001  41.380001  ...  40.139999  40.139999  2404446.0\n",
              "2021-01-12   0.456250  40.430000  40.820000  ...  39.299999  39.299999  1403253.0\n",
              "\n",
              "[143 rows x 7 columns]"
            ]
          },
          "metadata": {
            "tags": []
          },
          "execution_count": 450
        }
      ]
    },
    {
      "cell_type": "markdown",
      "metadata": {
        "id": "rD5VI8h2wimC"
      },
      "source": [
        "Initiating backtrader again"
      ]
    },
    {
      "cell_type": "code",
      "metadata": {
        "id": "gpYZQtvRweDa"
      },
      "source": [
        "cerebro = bt.Cerebro(stdstats=False)"
      ],
      "execution_count": 451,
      "outputs": []
    },
    {
      "cell_type": "code",
      "metadata": {
        "id": "_2NtL8Dxwf3Q"
      },
      "source": [
        "data = SignalData(dataname=prices)\r\n",
        "# instantiate Cerebro, add strategy, data, initial cash, commission and pyfolio for performance analysis\r\n",
        "cerebro = bt.Cerebro(stdstats = False, cheat_on_open=True)\r\n",
        "cerebro.addstrategy(MLStrategy)\r\n",
        "cerebro.adddata(data, name=\"WEED.TO\")\r\n",
        "cerebro.broker.setcash(100000.0)\r\n",
        "cerebro.broker.setcommission(commission=0.00)\r\n",
        "cerebro.addanalyzer(bt.analyzers.PyFolio, _name='pyfolio')"
      ],
      "execution_count": 466,
      "outputs": []
    },
    {
      "cell_type": "code",
      "metadata": {
        "colab": {
          "base_uri": "https://localhost:8080/"
        },
        "id": "CEz7iowLwmEn",
        "outputId": "6a357775-2976-4da8-e284-321f18fbd0ea"
      },
      "source": [
        " #run the backtest\r\n",
        "print('Starting Portfolio Value: %.2f' % cerebro.broker.getvalue())\r\n",
        "backtest_result = cerebro.run()\r\n",
        "print('Final Portfolio Value: %.2f' % cerebro.broker.getvalue())"
      ],
      "execution_count": 467,
      "outputs": [
        {
          "output_type": "stream",
          "text": [
            "Starting Portfolio Value: 100000.00\n",
            "2020-06-17, BUY EXECUTED --- Price: 24.12, Cost: 99977.40,Commission: 0.00\n",
            "2020-06-19, SELL EXECUTED --- Price: 24.56, Cost: 99977.40,Commission: 0.00\n",
            "2020-06-19, OPERATION RESULT --- Gross: 1823.79, Net: 1823.79\n",
            "2020-07-28, BUY EXECUTED --- Price: 23.04, Cost: 101813.76,Commission: 0.00\n",
            "2020-08-27, SELL EXECUTED --- Price: 21.69, Cost: 101813.76,Commission: 0.00\n",
            "2020-08-27, OPERATION RESULT --- Gross: -5965.65, Net: -5965.65\n",
            "2020-09-23, BUY EXECUTED --- Price: 21.19, Cost: 95842.37,Commission: 0.00\n",
            "2020-09-25, SELL EXECUTED --- Price: 18.86, Cost: 95842.37,Commission: 0.00\n",
            "2020-09-25, OPERATION RESULT --- Gross: -10538.59, Net: -10538.59\n",
            "2020-09-29, BUY EXECUTED --- Price: 19.01, Cost: 85316.88,Commission: 0.00\n",
            "2020-10-01, SELL EXECUTED --- Price: 19.38, Cost: 85316.88,Commission: 0.00\n",
            "2020-10-01, OPERATION RESULT --- Gross: 1660.56, Net: 1660.56\n",
            "2020-10-02, BUY EXECUTED --- Price: 18.50, Cost: 86968.50,Commission: 0.00\n",
            "2020-10-27, SELL EXECUTED --- Price: 24.58, Cost: 86968.50,Commission: 0.00\n",
            "2020-10-27, OPERATION RESULT --- Gross: 28582.08, Net: 28582.08\n",
            "2020-11-05, BUY EXECUTED --- Price: 26.60, Cost: 115550.40,Commission: 0.00\n",
            "2021-01-12, SELL EXECUTED --- Price: 40.43, Cost: 115550.40,Commission: 0.00\n",
            "2021-01-12, OPERATION RESULT --- Gross: 60077.52, Net: 60077.52\n",
            "Final Portfolio Value: 175639.71\n"
          ],
          "name": "stdout"
        }
      ]
    },
    {
      "cell_type": "code",
      "metadata": {
        "colab": {
          "base_uri": "https://localhost:8080/"
        },
        "id": "_OvVc-N2xE3c",
        "outputId": "20076b94-2525-49c1-bb9c-b0834ce1af97"
      },
      "source": [
        "strat = backtest_result[0]\r\n",
        "pyfoliozer = strat.analyzers.getbyname('pyfolio')\r\n",
        "returns, positions, transactions, gross_lev = pyfoliozer.get_pf_items()\r\n",
        "ROL_4852 = returns\r\n",
        "returns.name = 'Strategy'\r\n",
        "returns.head(2)"
      ],
      "execution_count": 468,
      "outputs": [
        {
          "output_type": "execute_result",
          "data": {
            "text/plain": [
              "index\n",
              "2020-06-16 00:00:00+00:00    0.000000\n",
              "2020-06-17 00:00:00+00:00   -0.050155\n",
              "Name: Strategy, dtype: float64"
            ]
          },
          "metadata": {
            "tags": []
          },
          "execution_count": 468
        }
      ]
    },
    {
      "cell_type": "code",
      "metadata": {
        "colab": {
          "base_uri": "https://localhost:8080/",
          "height": 545
        },
        "id": "UOyOWs_MxHI1",
        "outputId": "3d68e86d-7bb6-4469-fe16-a4ae98728f67"
      },
      "source": [
        "pf.show_perf_stats(returns)"
      ],
      "execution_count": 469,
      "outputs": [
        {
          "output_type": "display_data",
          "data": {
            "text/html": [
              "<table border=\"1\" class=\"dataframe\">\n",
              "  <thead>\n",
              "    <tr style=\"text-align: right;\"><th>Start date</th><td colspan=2>2020-06-16</td></tr>\n",
              "    <tr style=\"text-align: right;\"><th>End date</th><td colspan=2>2021-01-12</td></tr>\n",
              "    <tr style=\"text-align: right;\"><th>Total months</th><td colspan=2>6</td></tr>\n",
              "    <tr style=\"text-align: right;\">\n",
              "      <th></th>\n",
              "      <th>Backtest</th>\n",
              "    </tr>\n",
              "  </thead>\n",
              "  <tbody>\n",
              "    <tr>\n",
              "      <th>Annual return</th>\n",
              "      <td>169.826%</td>\n",
              "    </tr>\n",
              "    <tr>\n",
              "      <th>Cumulative returns</th>\n",
              "      <td>75.64%</td>\n",
              "    </tr>\n",
              "    <tr>\n",
              "      <th>Annual volatility</th>\n",
              "      <td>57.727%</td>\n",
              "    </tr>\n",
              "    <tr>\n",
              "      <th>Sharpe ratio</th>\n",
              "      <td>2.00</td>\n",
              "    </tr>\n",
              "    <tr>\n",
              "      <th>Calmar ratio</th>\n",
              "      <td>6.57</td>\n",
              "    </tr>\n",
              "    <tr>\n",
              "      <th>Stability</th>\n",
              "      <td>0.63</td>\n",
              "    </tr>\n",
              "    <tr>\n",
              "      <th>Max drawdown</th>\n",
              "      <td>-25.833%</td>\n",
              "    </tr>\n",
              "    <tr>\n",
              "      <th>Omega ratio</th>\n",
              "      <td>1.52</td>\n",
              "    </tr>\n",
              "    <tr>\n",
              "      <th>Sortino ratio</th>\n",
              "      <td>3.64</td>\n",
              "    </tr>\n",
              "    <tr>\n",
              "      <th>Skew</th>\n",
              "      <td>0.91</td>\n",
              "    </tr>\n",
              "    <tr>\n",
              "      <th>Kurtosis</th>\n",
              "      <td>2.40</td>\n",
              "    </tr>\n",
              "    <tr>\n",
              "      <th>Tail ratio</th>\n",
              "      <td>1.42</td>\n",
              "    </tr>\n",
              "    <tr>\n",
              "      <th>Daily value at risk</th>\n",
              "      <td>-6.814%</td>\n",
              "    </tr>\n",
              "  </tbody>\n",
              "</table>"
            ],
            "text/plain": [
              "<IPython.core.display.HTML object>"
            ]
          },
          "metadata": {
            "tags": []
          }
        }
      ]
    },
    {
      "cell_type": "code",
      "metadata": {
        "colab": {
          "base_uri": "https://localhost:8080/",
          "height": 657
        },
        "id": "1RvKNhNOxJ3g",
        "outputId": "151200f1-c7b8-4b8b-8ff8-b293cbe32e73"
      },
      "source": [
        "# plot performance for strategy vs Buying&Holding\r\n",
        "fig, ax = plt.subplots(nrows=2, ncols=2, figsize=(16, 9),constrained_layout=True)\r\n",
        "axes = ax.flatten()\r\n",
        "\r\n",
        "pf.plot_drawdown_periods(returns=returns, ax=axes[0])\r\n",
        "axes[0].grid(True)\r\n",
        "pf.plot_rolling_returns(returns=returns,\r\n",
        "                        factor_returns=benchmark_rets,\r\n",
        "                        ax=axes[1], title='Rolling_Strategy vs Buying&Holding')\r\n",
        "axes[1].grid(True)\r\n",
        "pf.plot_drawdown_underwater(returns=returns, ax=axes[2])\r\n",
        "axes[2].grid(True)\r\n",
        "pf.plot_rolling_sharpe(returns=returns, ax=axes[3])\r\n",
        "axes[3].grid(True)\r\n",
        "\r\n",
        "plt.grid(True)\r\n",
        "plt.legend()\r\n",
        "plt.tight_layout()\r\n",
        "plt.savefig(\"rolling4852.png\")\r\n",
        "files.download(\"rolling4852.png\")"
      ],
      "execution_count": 470,
      "outputs": [
        {
          "output_type": "display_data",
          "data": {
            "application/javascript": [
              "\n",
              "    async function download(id, filename, size) {\n",
              "      if (!google.colab.kernel.accessAllowed) {\n",
              "        return;\n",
              "      }\n",
              "      const div = document.createElement('div');\n",
              "      const label = document.createElement('label');\n",
              "      label.textContent = `Downloading \"${filename}\": `;\n",
              "      div.appendChild(label);\n",
              "      const progress = document.createElement('progress');\n",
              "      progress.max = size;\n",
              "      div.appendChild(progress);\n",
              "      document.body.appendChild(div);\n",
              "\n",
              "      const buffers = [];\n",
              "      let downloaded = 0;\n",
              "\n",
              "      const channel = await google.colab.kernel.comms.open(id);\n",
              "      // Send a message to notify the kernel that we're ready.\n",
              "      channel.send({})\n",
              "\n",
              "      for await (const message of channel.messages) {\n",
              "        // Send a message to notify the kernel that we're ready.\n",
              "        channel.send({})\n",
              "        if (message.buffers) {\n",
              "          for (const buffer of message.buffers) {\n",
              "            buffers.push(buffer);\n",
              "            downloaded += buffer.byteLength;\n",
              "            progress.value = downloaded;\n",
              "          }\n",
              "        }\n",
              "      }\n",
              "      const blob = new Blob(buffers, {type: 'application/binary'});\n",
              "      const a = document.createElement('a');\n",
              "      a.href = window.URL.createObjectURL(blob);\n",
              "      a.download = filename;\n",
              "      div.appendChild(a);\n",
              "      a.click();\n",
              "      div.remove();\n",
              "    }\n",
              "  "
            ],
            "text/plain": [
              "<IPython.core.display.Javascript object>"
            ]
          },
          "metadata": {
            "tags": []
          }
        },
        {
          "output_type": "display_data",
          "data": {
            "application/javascript": [
              "download(\"download_72955de5-3682-48c6-a01c-a1e222863c4e\", \"rolling4852.png\", 103607)"
            ],
            "text/plain": [
              "<IPython.core.display.Javascript object>"
            ]
          },
          "metadata": {
            "tags": []
          }
        },
        {
          "output_type": "display_data",
          "data": {
            "image/png": "[encoded data removed]",
            "text/plain": [
              "<Figure size 1152x648 with 4 Axes>"
            ]
          },
          "metadata": {
            "tags": [],
            "needs_background": "light"
          }
        }
      ]
    },
    {
      "cell_type": "markdown",
      "metadata": {
        "id": "hjSzoiR9dfqH"
      },
      "source": [
        "# Joint model"
      ]
    },
    {
      "cell_type": "markdown",
      "metadata": {
        "id": "YI9HoSw8euXI"
      },
      "source": [
        "Removing return next day and actual signal :df.drop(['Unnamed: 0'], axis=1, inplace=True)"
      ]
    },
    {
      "cell_type": "code",
      "metadata": {
        "colab": {
          "base_uri": "https://localhost:8080/",
          "height": 640
        },
        "id": "QAASBGiCeX6I",
        "outputId": "dbf12b05-ce58-43eb-99c5-50c9ea976a1c"
      },
      "source": [
        "df_for_ensemble = df.iloc[:,7:]\r\n",
        "df_for_ensemble.drop(['return_next_day','actual_signal'], axis=1, inplace=True)\r\n",
        "df_for_ensemble"
      ],
      "execution_count": 177,
      "outputs": [
        {
          "output_type": "execute_result",
          "data": {
            "text/html": [
              "<div>\n",
              "<style scoped>\n",
              "    .dataframe tbody tr th:only-of-type {\n",
              "        vertical-align: middle;\n",
              "    }\n",
              "\n",
              "    .dataframe tbody tr th {\n",
              "        vertical-align: top;\n",
              "    }\n",
              "\n",
              "    .dataframe thead th {\n",
              "        text-align: right;\n",
              "    }\n",
              "</style>\n",
              "<table border=\"1\" class=\"dataframe\">\n",
              "  <thead>\n",
              "    <tr style=\"text-align: right;\">\n",
              "      <th></th>\n",
              "      <th>pct_change_10</th>\n",
              "      <th>std_10</th>\n",
              "      <th>pct_change_15</th>\n",
              "      <th>std_15</th>\n",
              "      <th>pct_change_20</th>\n",
              "      <th>std_20</th>\n",
              "      <th>pct_change_25</th>\n",
              "      <th>std_25</th>\n",
              "      <th>pct_change_30</th>\n",
              "      <th>std_30</th>\n",
              "      <th>pct_change_35</th>\n",
              "      <th>std_35</th>\n",
              "      <th>pct_change_40</th>\n",
              "      <th>std_40</th>\n",
              "      <th>pct_change_45</th>\n",
              "      <th>std_45</th>\n",
              "      <th>pct_change_50</th>\n",
              "      <th>std_50</th>\n",
              "      <th>pct_change_55</th>\n",
              "      <th>std_55</th>\n",
              "    </tr>\n",
              "    <tr>\n",
              "      <th>Date</th>\n",
              "      <th></th>\n",
              "      <th></th>\n",
              "      <th></th>\n",
              "      <th></th>\n",
              "      <th></th>\n",
              "      <th></th>\n",
              "      <th></th>\n",
              "      <th></th>\n",
              "      <th></th>\n",
              "      <th></th>\n",
              "      <th></th>\n",
              "      <th></th>\n",
              "      <th></th>\n",
              "      <th></th>\n",
              "      <th></th>\n",
              "      <th></th>\n",
              "      <th></th>\n",
              "      <th></th>\n",
              "      <th></th>\n",
              "      <th></th>\n",
              "    </tr>\n",
              "  </thead>\n",
              "  <tbody>\n",
              "    <tr>\n",
              "      <th>2016-04-06</th>\n",
              "      <td>-0.058941</td>\n",
              "      <td>0.021861</td>\n",
              "      <td>-0.058069</td>\n",
              "      <td>0.020994</td>\n",
              "      <td>-0.125779</td>\n",
              "      <td>0.018735</td>\n",
              "      <td>-0.159484</td>\n",
              "      <td>0.017429</td>\n",
              "      <td>-0.212343</td>\n",
              "      <td>0.020238</td>\n",
              "      <td>-0.078830</td>\n",
              "      <td>0.026325</td>\n",
              "      <td>0.010061</td>\n",
              "      <td>0.026932</td>\n",
              "      <td>-0.046433</td>\n",
              "      <td>0.026099</td>\n",
              "      <td>-0.042631</td>\n",
              "      <td>0.024800</td>\n",
              "      <td>-0.049564</td>\n",
              "      <td>0.024010</td>\n",
              "    </tr>\n",
              "    <tr>\n",
              "      <th>2016-04-07</th>\n",
              "      <td>-0.022942</td>\n",
              "      <td>0.014441</td>\n",
              "      <td>-0.051809</td>\n",
              "      <td>0.020580</td>\n",
              "      <td>-0.135125</td>\n",
              "      <td>0.018959</td>\n",
              "      <td>-0.179247</td>\n",
              "      <td>0.017576</td>\n",
              "      <td>-0.171788</td>\n",
              "      <td>0.017762</td>\n",
              "      <td>-0.098593</td>\n",
              "      <td>0.026486</td>\n",
              "      <td>-0.033324</td>\n",
              "      <td>0.026840</td>\n",
              "      <td>-0.051326</td>\n",
              "      <td>0.026168</td>\n",
              "      <td>-0.054932</td>\n",
              "      <td>0.024927</td>\n",
              "      <td>-0.076734</td>\n",
              "      <td>0.024115</td>\n",
              "    </tr>\n",
              "    <tr>\n",
              "      <th>2016-04-08</th>\n",
              "      <td>-0.062693</td>\n",
              "      <td>0.011732</td>\n",
              "      <td>-0.094656</td>\n",
              "      <td>0.019006</td>\n",
              "      <td>-0.144237</td>\n",
              "      <td>0.019074</td>\n",
              "      <td>-0.175242</td>\n",
              "      <td>0.017470</td>\n",
              "      <td>-0.157512</td>\n",
              "      <td>0.017263</td>\n",
              "      <td>-0.125552</td>\n",
              "      <td>0.026470</td>\n",
              "      <td>-0.053299</td>\n",
              "      <td>0.026937</td>\n",
              "      <td>-0.067455</td>\n",
              "      <td>0.026262</td>\n",
              "      <td>-0.067301</td>\n",
              "      <td>0.025016</td>\n",
              "      <td>-0.081834</td>\n",
              "      <td>0.024163</td>\n",
              "    </tr>\n",
              "    <tr>\n",
              "      <th>2016-04-11</th>\n",
              "      <td>-0.038355</td>\n",
              "      <td>0.014491</td>\n",
              "      <td>-0.089034</td>\n",
              "      <td>0.019503</td>\n",
              "      <td>-0.113144</td>\n",
              "      <td>0.020027</td>\n",
              "      <td>-0.165024</td>\n",
              "      <td>0.018003</td>\n",
              "      <td>-0.147473</td>\n",
              "      <td>0.017670</td>\n",
              "      <td>-0.087203</td>\n",
              "      <td>0.026655</td>\n",
              "      <td>-0.017482</td>\n",
              "      <td>0.027055</td>\n",
              "      <td>-0.050737</td>\n",
              "      <td>0.026456</td>\n",
              "      <td>-0.054357</td>\n",
              "      <td>0.025176</td>\n",
              "      <td>-0.061342</td>\n",
              "      <td>0.024343</td>\n",
              "    </tr>\n",
              "    <tr>\n",
              "      <th>2016-04-12</th>\n",
              "      <td>-0.022911</td>\n",
              "      <td>0.013928</td>\n",
              "      <td>-0.078045</td>\n",
              "      <td>0.019506</td>\n",
              "      <td>-0.095287</td>\n",
              "      <td>0.019852</td>\n",
              "      <td>-0.158244</td>\n",
              "      <td>0.018051</td>\n",
              "      <td>-0.164715</td>\n",
              "      <td>0.017199</td>\n",
              "      <td>-0.152658</td>\n",
              "      <td>0.023901</td>\n",
              "      <td>-0.075848</td>\n",
              "      <td>0.025320</td>\n",
              "      <td>-0.043218</td>\n",
              "      <td>0.026438</td>\n",
              "      <td>-0.058102</td>\n",
              "      <td>0.025167</td>\n",
              "      <td>-0.079929</td>\n",
              "      <td>0.024193</td>\n",
              "    </tr>\n",
              "    <tr>\n",
              "      <th>...</th>\n",
              "      <td>...</td>\n",
              "      <td>...</td>\n",
              "      <td>...</td>\n",
              "      <td>...</td>\n",
              "      <td>...</td>\n",
              "      <td>...</td>\n",
              "      <td>...</td>\n",
              "      <td>...</td>\n",
              "      <td>...</td>\n",
              "      <td>...</td>\n",
              "      <td>...</td>\n",
              "      <td>...</td>\n",
              "      <td>...</td>\n",
              "      <td>...</td>\n",
              "      <td>...</td>\n",
              "      <td>...</td>\n",
              "      <td>...</td>\n",
              "      <td>...</td>\n",
              "      <td>...</td>\n",
              "      <td>...</td>\n",
              "    </tr>\n",
              "    <tr>\n",
              "      <th>2021-01-07</th>\n",
              "      <td>0.179841</td>\n",
              "      <td>0.052499</td>\n",
              "      <td>0.197197</td>\n",
              "      <td>0.044964</td>\n",
              "      <td>0.082730</td>\n",
              "      <td>0.043843</td>\n",
              "      <td>0.060623</td>\n",
              "      <td>0.043554</td>\n",
              "      <td>0.210972</td>\n",
              "      <td>0.044169</td>\n",
              "      <td>0.209097</td>\n",
              "      <td>0.041966</td>\n",
              "      <td>0.224739</td>\n",
              "      <td>0.040051</td>\n",
              "      <td>0.381340</td>\n",
              "      <td>0.045669</td>\n",
              "      <td>0.511731</td>\n",
              "      <td>0.045627</td>\n",
              "      <td>0.452297</td>\n",
              "      <td>0.045675</td>\n",
              "    </tr>\n",
              "    <tr>\n",
              "      <th>2021-01-08</th>\n",
              "      <td>0.153240</td>\n",
              "      <td>0.053220</td>\n",
              "      <td>0.137514</td>\n",
              "      <td>0.044089</td>\n",
              "      <td>0.058052</td>\n",
              "      <td>0.043864</td>\n",
              "      <td>0.126106</td>\n",
              "      <td>0.040569</td>\n",
              "      <td>0.118146</td>\n",
              "      <td>0.041833</td>\n",
              "      <td>0.209427</td>\n",
              "      <td>0.041963</td>\n",
              "      <td>0.248372</td>\n",
              "      <td>0.039636</td>\n",
              "      <td>0.401368</td>\n",
              "      <td>0.045387</td>\n",
              "      <td>0.497286</td>\n",
              "      <td>0.045707</td>\n",
              "      <td>0.493711</td>\n",
              "      <td>0.045018</td>\n",
              "    </tr>\n",
              "    <tr>\n",
              "      <th>2021-01-11</th>\n",
              "      <td>0.158720</td>\n",
              "      <td>0.053527</td>\n",
              "      <td>0.193142</td>\n",
              "      <td>0.044668</td>\n",
              "      <td>0.157038</td>\n",
              "      <td>0.042714</td>\n",
              "      <td>0.117247</td>\n",
              "      <td>0.040158</td>\n",
              "      <td>0.166888</td>\n",
              "      <td>0.042479</td>\n",
              "      <td>0.288706</td>\n",
              "      <td>0.041882</td>\n",
              "      <td>0.270376</td>\n",
              "      <td>0.040030</td>\n",
              "      <td>0.519516</td>\n",
              "      <td>0.043944</td>\n",
              "      <td>0.549102</td>\n",
              "      <td>0.045914</td>\n",
              "      <td>0.505515</td>\n",
              "      <td>0.045165</td>\n",
              "    </tr>\n",
              "    <tr>\n",
              "      <th>2021-01-12</th>\n",
              "      <td>0.185317</td>\n",
              "      <td>0.050609</td>\n",
              "      <td>0.179362</td>\n",
              "      <td>0.045248</td>\n",
              "      <td>0.138402</td>\n",
              "      <td>0.043148</td>\n",
              "      <td>0.084504</td>\n",
              "      <td>0.040449</td>\n",
              "      <td>0.144241</td>\n",
              "      <td>0.042750</td>\n",
              "      <td>0.261005</td>\n",
              "      <td>0.042172</td>\n",
              "      <td>0.262420</td>\n",
              "      <td>0.040150</td>\n",
              "      <td>0.389170</td>\n",
              "      <td>0.041579</td>\n",
              "      <td>0.504853</td>\n",
              "      <td>0.046097</td>\n",
              "      <td>0.444745</td>\n",
              "      <td>0.045145</td>\n",
              "    </tr>\n",
              "    <tr>\n",
              "      <th>2021-01-13</th>\n",
              "      <td>0.282450</td>\n",
              "      <td>0.042801</td>\n",
              "      <td>0.219330</td>\n",
              "      <td>0.045555</td>\n",
              "      <td>0.204994</td>\n",
              "      <td>0.042845</td>\n",
              "      <td>0.132449</td>\n",
              "      <td>0.040933</td>\n",
              "      <td>0.108833</td>\n",
              "      <td>0.041248</td>\n",
              "      <td>0.305581</td>\n",
              "      <td>0.042413</td>\n",
              "      <td>0.273024</td>\n",
              "      <td>0.040327</td>\n",
              "      <td>0.322208</td>\n",
              "      <td>0.039176</td>\n",
              "      <td>0.542221</td>\n",
              "      <td>0.046246</td>\n",
              "      <td>0.508457</td>\n",
              "      <td>0.045083</td>\n",
              "    </tr>\n",
              "  </tbody>\n",
              "</table>\n",
              "<p>1197 rows × 20 columns</p>\n",
              "</div>"
            ],
            "text/plain": [
              "            pct_change_10    std_10  ...  pct_change_55    std_55\n",
              "Date                                 ...                         \n",
              "2016-04-06      -0.058941  0.021861  ...      -0.049564  0.024010\n",
              "2016-04-07      -0.022942  0.014441  ...      -0.076734  0.024115\n",
              "2016-04-08      -0.062693  0.011732  ...      -0.081834  0.024163\n",
              "2016-04-11      -0.038355  0.014491  ...      -0.061342  0.024343\n",
              "2016-04-12      -0.022911  0.013928  ...      -0.079929  0.024193\n",
              "...                   ...       ...  ...            ...       ...\n",
              "2021-01-07       0.179841  0.052499  ...       0.452297  0.045675\n",
              "2021-01-08       0.153240  0.053220  ...       0.493711  0.045018\n",
              "2021-01-11       0.158720  0.053527  ...       0.505515  0.045165\n",
              "2021-01-12       0.185317  0.050609  ...       0.444745  0.045145\n",
              "2021-01-13       0.282450  0.042801  ...       0.508457  0.045083\n",
              "\n",
              "[1197 rows x 20 columns]"
            ]
          },
          "metadata": {
            "tags": []
          },
          "execution_count": 177
        }
      ]
    },
    {
      "cell_type": "code",
      "metadata": {
        "id": "KaogvsIGfyNt"
      },
      "source": [
        "dfE_reind=df_for_ensemble.reset_index(level=['Date'])\r\n",
        "dffE = dfE_reind.rename(columns = {'Date': 'date'}, inplace = False)\r\n",
        "spmi_reind = spmi.reset_index(level='date')\r\n"
      ],
      "execution_count": 178,
      "outputs": []
    },
    {
      "cell_type": "code",
      "metadata": {
        "id": "Kv38yarDd_Tr"
      },
      "source": [
        "ensemble_merge = pd.merge(spmi_reind[:-2], dffE, how='left', on='date')"
      ],
      "execution_count": 179,
      "outputs": []
    },
    {
      "cell_type": "code",
      "metadata": {
        "id": "9LEG5qJ6eLWX"
      },
      "source": [
        "ensemble_merge = ensemble_merge.set_index('date')"
      ],
      "execution_count": 180,
      "outputs": []
    },
    {
      "cell_type": "code",
      "metadata": {
        "id": "xzFJffFikY78"
      },
      "source": [
        "ensemble_merge.drop(['return_next_day','actual_signal'], axis=1, inplace=True)"
      ],
      "execution_count": 181,
      "outputs": []
    },
    {
      "cell_type": "markdown",
      "metadata": {
        "id": "adyzpArcvD-t"
      },
      "source": [
        "## Storing the predictor variables in \"ensemble_merge\""
      ]
    },
    {
      "cell_type": "code",
      "metadata": {
        "colab": {
          "base_uri": "https://localhost:8080/",
          "height": 657
        },
        "id": "ayvBg6x9uv2i",
        "outputId": "9f15ea31-bca6-4bfc-cde9-a401e45ada4d"
      },
      "source": [
        "ensemble_merge"
      ],
      "execution_count": 182,
      "outputs": [
        {
          "output_type": "execute_result",
          "data": {
            "text/html": [
              "<div>\n",
              "<style scoped>\n",
              "    .dataframe tbody tr th:only-of-type {\n",
              "        vertical-align: middle;\n",
              "    }\n",
              "\n",
              "    .dataframe tbody tr th {\n",
              "        vertical-align: top;\n",
              "    }\n",
              "\n",
              "    .dataframe thead th {\n",
              "        text-align: right;\n",
              "    }\n",
              "</style>\n",
              "<table border=\"1\" class=\"dataframe\">\n",
              "  <thead>\n",
              "    <tr style=\"text-align: right;\">\n",
              "      <th></th>\n",
              "      <th>positives</th>\n",
              "      <th>negatives</th>\n",
              "      <th>ratio</th>\n",
              "      <th>positives (t-1)</th>\n",
              "      <th>negatives (t-1)</th>\n",
              "      <th>ratio (t-1)</th>\n",
              "      <th>positives (t-2)</th>\n",
              "      <th>negatives (t-2)</th>\n",
              "      <th>ratio (t-2)</th>\n",
              "      <th>positives (t-3)</th>\n",
              "      <th>negatives (t-3)</th>\n",
              "      <th>ratio (t-3)</th>\n",
              "      <th>positives (t-4)</th>\n",
              "      <th>negatives (t-4)</th>\n",
              "      <th>ratio (t-4)</th>\n",
              "      <th>positives (t-5)</th>\n",
              "      <th>negatives (t-5)</th>\n",
              "      <th>ratio (t-5)</th>\n",
              "      <th>positives (t-6)</th>\n",
              "      <th>negatives (t-6)</th>\n",
              "      <th>ratio (t-6)</th>\n",
              "      <th>positives (t-7)</th>\n",
              "      <th>negatives (t-7)</th>\n",
              "      <th>ratio (t-7)</th>\n",
              "      <th>positives (t-8)</th>\n",
              "      <th>negatives (t-8)</th>\n",
              "      <th>ratio (t-8)</th>\n",
              "      <th>positives (t-9)</th>\n",
              "      <th>negatives (t-9)</th>\n",
              "      <th>ratio (t-9)</th>\n",
              "      <th>positives (t-10)</th>\n",
              "      <th>negatives (t-10)</th>\n",
              "      <th>ratio (t-10)</th>\n",
              "      <th>Open</th>\n",
              "      <th>High</th>\n",
              "      <th>Low</th>\n",
              "      <th>Close</th>\n",
              "      <th>Adj Close</th>\n",
              "      <th>Volume</th>\n",
              "      <th>daily_pct_change</th>\n",
              "      <th>pct_change_10</th>\n",
              "      <th>std_10</th>\n",
              "      <th>pct_change_15</th>\n",
              "      <th>std_15</th>\n",
              "      <th>pct_change_20</th>\n",
              "      <th>std_20</th>\n",
              "      <th>pct_change_25</th>\n",
              "      <th>std_25</th>\n",
              "      <th>pct_change_30</th>\n",
              "      <th>std_30</th>\n",
              "      <th>pct_change_35</th>\n",
              "      <th>std_35</th>\n",
              "      <th>pct_change_40</th>\n",
              "      <th>std_40</th>\n",
              "      <th>pct_change_45</th>\n",
              "      <th>std_45</th>\n",
              "      <th>pct_change_50</th>\n",
              "      <th>std_50</th>\n",
              "      <th>pct_change_55</th>\n",
              "      <th>std_55</th>\n",
              "    </tr>\n",
              "    <tr>\n",
              "      <th>date</th>\n",
              "      <th></th>\n",
              "      <th></th>\n",
              "      <th></th>\n",
              "      <th></th>\n",
              "      <th></th>\n",
              "      <th></th>\n",
              "      <th></th>\n",
              "      <th></th>\n",
              "      <th></th>\n",
              "      <th></th>\n",
              "      <th></th>\n",
              "      <th></th>\n",
              "      <th></th>\n",
              "      <th></th>\n",
              "      <th></th>\n",
              "      <th></th>\n",
              "      <th></th>\n",
              "      <th></th>\n",
              "      <th></th>\n",
              "      <th></th>\n",
              "      <th></th>\n",
              "      <th></th>\n",
              "      <th></th>\n",
              "      <th></th>\n",
              "      <th></th>\n",
              "      <th></th>\n",
              "      <th></th>\n",
              "      <th></th>\n",
              "      <th></th>\n",
              "      <th></th>\n",
              "      <th></th>\n",
              "      <th></th>\n",
              "      <th></th>\n",
              "      <th></th>\n",
              "      <th></th>\n",
              "      <th></th>\n",
              "      <th></th>\n",
              "      <th></th>\n",
              "      <th></th>\n",
              "      <th></th>\n",
              "      <th></th>\n",
              "      <th></th>\n",
              "      <th></th>\n",
              "      <th></th>\n",
              "      <th></th>\n",
              "      <th></th>\n",
              "      <th></th>\n",
              "      <th></th>\n",
              "      <th></th>\n",
              "      <th></th>\n",
              "      <th></th>\n",
              "      <th></th>\n",
              "      <th></th>\n",
              "      <th></th>\n",
              "      <th></th>\n",
              "      <th></th>\n",
              "      <th></th>\n",
              "      <th></th>\n",
              "      <th></th>\n",
              "      <th></th>\n",
              "    </tr>\n",
              "  </thead>\n",
              "  <tbody>\n",
              "    <tr>\n",
              "      <th>2018-10-03</th>\n",
              "      <td>1.0</td>\n",
              "      <td>0.0</td>\n",
              "      <td>1.000000</td>\n",
              "      <td>0.0</td>\n",
              "      <td>1.0</td>\n",
              "      <td>0.000000</td>\n",
              "      <td>2.0</td>\n",
              "      <td>0.0</td>\n",
              "      <td>1.000000</td>\n",
              "      <td>2.0</td>\n",
              "      <td>0.0</td>\n",
              "      <td>1.000000</td>\n",
              "      <td>0.0</td>\n",
              "      <td>2.0</td>\n",
              "      <td>0.0000</td>\n",
              "      <td>2.0</td>\n",
              "      <td>2.0</td>\n",
              "      <td>0.500000</td>\n",
              "      <td>2.0</td>\n",
              "      <td>0.0</td>\n",
              "      <td>1.000000</td>\n",
              "      <td>5.0</td>\n",
              "      <td>11.0</td>\n",
              "      <td>0.312500</td>\n",
              "      <td>3.0</td>\n",
              "      <td>21.0</td>\n",
              "      <td>0.125000</td>\n",
              "      <td>3.0</td>\n",
              "      <td>24.0</td>\n",
              "      <td>0.111111</td>\n",
              "      <td>3.0</td>\n",
              "      <td>7.0</td>\n",
              "      <td>0.300000</td>\n",
              "      <td>59.799999</td>\n",
              "      <td>63.320000</td>\n",
              "      <td>58.980000</td>\n",
              "      <td>63.320000</td>\n",
              "      <td>63.320000</td>\n",
              "      <td>3179126</td>\n",
              "      <td>0.081469</td>\n",
              "      <td>0.009255</td>\n",
              "      <td>0.050753</td>\n",
              "      <td>-0.017740</td>\n",
              "      <td>0.062949</td>\n",
              "      <td>-0.048776</td>\n",
              "      <td>0.054962</td>\n",
              "      <td>0.168329</td>\n",
              "      <td>0.060319</td>\n",
              "      <td>0.281931</td>\n",
              "      <td>0.058864</td>\n",
              "      <td>0.779394</td>\n",
              "      <td>0.077618</td>\n",
              "      <td>0.722687</td>\n",
              "      <td>0.075524</td>\n",
              "      <td>0.732000</td>\n",
              "      <td>0.071546</td>\n",
              "      <td>0.738856</td>\n",
              "      <td>0.068143</td>\n",
              "      <td>0.672514</td>\n",
              "      <td>0.066640</td>\n",
              "    </tr>\n",
              "    <tr>\n",
              "      <th>2018-10-04</th>\n",
              "      <td>0.0</td>\n",
              "      <td>0.0</td>\n",
              "      <td>0.000000</td>\n",
              "      <td>0.0</td>\n",
              "      <td>0.0</td>\n",
              "      <td>0.000000</td>\n",
              "      <td>0.0</td>\n",
              "      <td>0.0</td>\n",
              "      <td>0.000000</td>\n",
              "      <td>0.0</td>\n",
              "      <td>0.0</td>\n",
              "      <td>0.000000</td>\n",
              "      <td>0.0</td>\n",
              "      <td>0.0</td>\n",
              "      <td>0.0000</td>\n",
              "      <td>0.0</td>\n",
              "      <td>0.0</td>\n",
              "      <td>0.000000</td>\n",
              "      <td>0.0</td>\n",
              "      <td>0.0</td>\n",
              "      <td>0.000000</td>\n",
              "      <td>0.0</td>\n",
              "      <td>0.0</td>\n",
              "      <td>0.000000</td>\n",
              "      <td>0.0</td>\n",
              "      <td>0.0</td>\n",
              "      <td>0.000000</td>\n",
              "      <td>0.0</td>\n",
              "      <td>0.0</td>\n",
              "      <td>0.000000</td>\n",
              "      <td>0.0</td>\n",
              "      <td>0.0</td>\n",
              "      <td>0.000000</td>\n",
              "      <td>63.880001</td>\n",
              "      <td>64.629997</td>\n",
              "      <td>61.340000</td>\n",
              "      <td>62.480000</td>\n",
              "      <td>62.480000</td>\n",
              "      <td>3414346</td>\n",
              "      <td>-0.013266</td>\n",
              "      <td>-0.068776</td>\n",
              "      <td>0.045583</td>\n",
              "      <td>0.105172</td>\n",
              "      <td>0.050983</td>\n",
              "      <td>-0.033562</td>\n",
              "      <td>0.054687</td>\n",
              "      <td>0.085832</td>\n",
              "      <td>0.059000</td>\n",
              "      <td>0.232056</td>\n",
              "      <td>0.058773</td>\n",
              "      <td>0.453531</td>\n",
              "      <td>0.059104</td>\n",
              "      <td>0.664179</td>\n",
              "      <td>0.075551</td>\n",
              "      <td>0.708431</td>\n",
              "      <td>0.071676</td>\n",
              "      <td>0.743955</td>\n",
              "      <td>0.068096</td>\n",
              "      <td>0.699248</td>\n",
              "      <td>0.066349</td>\n",
              "    </tr>\n",
              "    <tr>\n",
              "      <th>2018-10-05</th>\n",
              "      <td>0.0</td>\n",
              "      <td>1.0</td>\n",
              "      <td>0.000000</td>\n",
              "      <td>2.0</td>\n",
              "      <td>0.0</td>\n",
              "      <td>1.000000</td>\n",
              "      <td>2.0</td>\n",
              "      <td>0.0</td>\n",
              "      <td>1.000000</td>\n",
              "      <td>0.0</td>\n",
              "      <td>2.0</td>\n",
              "      <td>0.000000</td>\n",
              "      <td>2.0</td>\n",
              "      <td>2.0</td>\n",
              "      <td>0.5000</td>\n",
              "      <td>2.0</td>\n",
              "      <td>0.0</td>\n",
              "      <td>1.000000</td>\n",
              "      <td>5.0</td>\n",
              "      <td>11.0</td>\n",
              "      <td>0.312500</td>\n",
              "      <td>3.0</td>\n",
              "      <td>21.0</td>\n",
              "      <td>0.125000</td>\n",
              "      <td>3.0</td>\n",
              "      <td>24.0</td>\n",
              "      <td>0.111111</td>\n",
              "      <td>3.0</td>\n",
              "      <td>7.0</td>\n",
              "      <td>0.300000</td>\n",
              "      <td>2.0</td>\n",
              "      <td>7.0</td>\n",
              "      <td>0.222222</td>\n",
              "      <td>62.490002</td>\n",
              "      <td>63.849998</td>\n",
              "      <td>60.139999</td>\n",
              "      <td>61.490002</td>\n",
              "      <td>61.490002</td>\n",
              "      <td>2558957</td>\n",
              "      <td>-0.015845</td>\n",
              "      <td>-0.038595</td>\n",
              "      <td>0.043661</td>\n",
              "      <td>0.015305</td>\n",
              "      <td>0.047722</td>\n",
              "      <td>-0.067748</td>\n",
              "      <td>0.054562</td>\n",
              "      <td>0.104954</td>\n",
              "      <td>0.058604</td>\n",
              "      <td>0.173984</td>\n",
              "      <td>0.058554</td>\n",
              "      <td>0.473705</td>\n",
              "      <td>0.058710</td>\n",
              "      <td>0.608122</td>\n",
              "      <td>0.075622</td>\n",
              "      <td>0.714730</td>\n",
              "      <td>0.071607</td>\n",
              "      <td>0.722679</td>\n",
              "      <td>0.068223</td>\n",
              "      <td>0.678231</td>\n",
              "      <td>0.066454</td>\n",
              "    </tr>\n",
              "    <tr>\n",
              "      <th>2018-10-09</th>\n",
              "      <td>2.0</td>\n",
              "      <td>0.0</td>\n",
              "      <td>1.000000</td>\n",
              "      <td>0.0</td>\n",
              "      <td>2.0</td>\n",
              "      <td>0.000000</td>\n",
              "      <td>2.0</td>\n",
              "      <td>2.0</td>\n",
              "      <td>0.500000</td>\n",
              "      <td>2.0</td>\n",
              "      <td>0.0</td>\n",
              "      <td>1.000000</td>\n",
              "      <td>5.0</td>\n",
              "      <td>11.0</td>\n",
              "      <td>0.3125</td>\n",
              "      <td>3.0</td>\n",
              "      <td>21.0</td>\n",
              "      <td>0.125000</td>\n",
              "      <td>3.0</td>\n",
              "      <td>24.0</td>\n",
              "      <td>0.111111</td>\n",
              "      <td>3.0</td>\n",
              "      <td>7.0</td>\n",
              "      <td>0.300000</td>\n",
              "      <td>2.0</td>\n",
              "      <td>7.0</td>\n",
              "      <td>0.222222</td>\n",
              "      <td>3.0</td>\n",
              "      <td>8.0</td>\n",
              "      <td>0.272727</td>\n",
              "      <td>7.0</td>\n",
              "      <td>8.0</td>\n",
              "      <td>0.466667</td>\n",
              "      <td>65.000000</td>\n",
              "      <td>65.139999</td>\n",
              "      <td>62.599998</td>\n",
              "      <td>63.090000</td>\n",
              "      <td>63.090000</td>\n",
              "      <td>2895761</td>\n",
              "      <td>0.026020</td>\n",
              "      <td>-0.066716</td>\n",
              "      <td>0.040285</td>\n",
              "      <td>0.013529</td>\n",
              "      <td>0.047653</td>\n",
              "      <td>-0.054718</td>\n",
              "      <td>0.054845</td>\n",
              "      <td>0.096994</td>\n",
              "      <td>0.058457</td>\n",
              "      <td>0.120446</td>\n",
              "      <td>0.057024</td>\n",
              "      <td>0.413688</td>\n",
              "      <td>0.057391</td>\n",
              "      <td>0.640854</td>\n",
              "      <td>0.075555</td>\n",
              "      <td>0.715721</td>\n",
              "      <td>0.071610</td>\n",
              "      <td>0.764606</td>\n",
              "      <td>0.068099</td>\n",
              "      <td>0.740558</td>\n",
              "      <td>0.066140</td>\n",
              "    </tr>\n",
              "    <tr>\n",
              "      <th>2018-10-10</th>\n",
              "      <td>0.0</td>\n",
              "      <td>2.0</td>\n",
              "      <td>0.000000</td>\n",
              "      <td>2.0</td>\n",
              "      <td>2.0</td>\n",
              "      <td>0.500000</td>\n",
              "      <td>2.0</td>\n",
              "      <td>0.0</td>\n",
              "      <td>1.000000</td>\n",
              "      <td>5.0</td>\n",
              "      <td>11.0</td>\n",
              "      <td>0.312500</td>\n",
              "      <td>3.0</td>\n",
              "      <td>21.0</td>\n",
              "      <td>0.1250</td>\n",
              "      <td>3.0</td>\n",
              "      <td>24.0</td>\n",
              "      <td>0.111111</td>\n",
              "      <td>3.0</td>\n",
              "      <td>7.0</td>\n",
              "      <td>0.300000</td>\n",
              "      <td>2.0</td>\n",
              "      <td>7.0</td>\n",
              "      <td>0.222222</td>\n",
              "      <td>3.0</td>\n",
              "      <td>8.0</td>\n",
              "      <td>0.272727</td>\n",
              "      <td>7.0</td>\n",
              "      <td>8.0</td>\n",
              "      <td>0.466667</td>\n",
              "      <td>2.0</td>\n",
              "      <td>5.0</td>\n",
              "      <td>0.285714</td>\n",
              "      <td>62.860001</td>\n",
              "      <td>64.989998</td>\n",
              "      <td>60.549999</td>\n",
              "      <td>62.759998</td>\n",
              "      <td>62.759998</td>\n",
              "      <td>3386947</td>\n",
              "      <td>-0.005231</td>\n",
              "      <td>-0.076362</td>\n",
              "      <td>0.040106</td>\n",
              "      <td>-0.056544</td>\n",
              "      <td>0.044251</td>\n",
              "      <td>-0.035029</td>\n",
              "      <td>0.054602</td>\n",
              "      <td>-0.062328</td>\n",
              "      <td>0.049378</td>\n",
              "      <td>0.091674</td>\n",
              "      <td>0.056926</td>\n",
              "      <td>0.298906</td>\n",
              "      <td>0.054866</td>\n",
              "      <td>0.688596</td>\n",
              "      <td>0.074811</td>\n",
              "      <td>0.726478</td>\n",
              "      <td>0.071519</td>\n",
              "      <td>0.736197</td>\n",
              "      <td>0.068151</td>\n",
              "      <td>0.790504</td>\n",
              "      <td>0.065520</td>\n",
              "    </tr>\n",
              "    <tr>\n",
              "      <th>...</th>\n",
              "      <td>...</td>\n",
              "      <td>...</td>\n",
              "      <td>...</td>\n",
              "      <td>...</td>\n",
              "      <td>...</td>\n",
              "      <td>...</td>\n",
              "      <td>...</td>\n",
              "      <td>...</td>\n",
              "      <td>...</td>\n",
              "      <td>...</td>\n",
              "      <td>...</td>\n",
              "      <td>...</td>\n",
              "      <td>...</td>\n",
              "      <td>...</td>\n",
              "      <td>...</td>\n",
              "      <td>...</td>\n",
              "      <td>...</td>\n",
              "      <td>...</td>\n",
              "      <td>...</td>\n",
              "      <td>...</td>\n",
              "      <td>...</td>\n",
              "      <td>...</td>\n",
              "      <td>...</td>\n",
              "      <td>...</td>\n",
              "      <td>...</td>\n",
              "      <td>...</td>\n",
              "      <td>...</td>\n",
              "      <td>...</td>\n",
              "      <td>...</td>\n",
              "      <td>...</td>\n",
              "      <td>...</td>\n",
              "      <td>...</td>\n",
              "      <td>...</td>\n",
              "      <td>...</td>\n",
              "      <td>...</td>\n",
              "      <td>...</td>\n",
              "      <td>...</td>\n",
              "      <td>...</td>\n",
              "      <td>...</td>\n",
              "      <td>...</td>\n",
              "      <td>...</td>\n",
              "      <td>...</td>\n",
              "      <td>...</td>\n",
              "      <td>...</td>\n",
              "      <td>...</td>\n",
              "      <td>...</td>\n",
              "      <td>...</td>\n",
              "      <td>...</td>\n",
              "      <td>...</td>\n",
              "      <td>...</td>\n",
              "      <td>...</td>\n",
              "      <td>...</td>\n",
              "      <td>...</td>\n",
              "      <td>...</td>\n",
              "      <td>...</td>\n",
              "      <td>...</td>\n",
              "      <td>...</td>\n",
              "      <td>...</td>\n",
              "      <td>...</td>\n",
              "      <td>...</td>\n",
              "    </tr>\n",
              "    <tr>\n",
              "      <th>2021-01-07</th>\n",
              "      <td>0.0</td>\n",
              "      <td>0.0</td>\n",
              "      <td>0.000000</td>\n",
              "      <td>0.0</td>\n",
              "      <td>0.0</td>\n",
              "      <td>0.000000</td>\n",
              "      <td>0.0</td>\n",
              "      <td>0.0</td>\n",
              "      <td>0.000000</td>\n",
              "      <td>0.0</td>\n",
              "      <td>0.0</td>\n",
              "      <td>0.000000</td>\n",
              "      <td>0.0</td>\n",
              "      <td>0.0</td>\n",
              "      <td>0.0000</td>\n",
              "      <td>0.0</td>\n",
              "      <td>0.0</td>\n",
              "      <td>0.000000</td>\n",
              "      <td>0.0</td>\n",
              "      <td>0.0</td>\n",
              "      <td>0.000000</td>\n",
              "      <td>0.0</td>\n",
              "      <td>0.0</td>\n",
              "      <td>0.000000</td>\n",
              "      <td>0.0</td>\n",
              "      <td>0.0</td>\n",
              "      <td>0.000000</td>\n",
              "      <td>0.0</td>\n",
              "      <td>0.0</td>\n",
              "      <td>0.000000</td>\n",
              "      <td>0.0</td>\n",
              "      <td>0.0</td>\n",
              "      <td>0.000000</td>\n",
              "      <td>39.939999</td>\n",
              "      <td>41.070000</td>\n",
              "      <td>38.570000</td>\n",
              "      <td>38.770000</td>\n",
              "      <td>38.770000</td>\n",
              "      <td>2413122</td>\n",
              "      <td>0.016518</td>\n",
              "      <td>0.179841</td>\n",
              "      <td>0.052499</td>\n",
              "      <td>0.197197</td>\n",
              "      <td>0.044964</td>\n",
              "      <td>0.082730</td>\n",
              "      <td>0.043843</td>\n",
              "      <td>0.060623</td>\n",
              "      <td>0.043554</td>\n",
              "      <td>0.210972</td>\n",
              "      <td>0.044169</td>\n",
              "      <td>0.209097</td>\n",
              "      <td>0.041966</td>\n",
              "      <td>0.224739</td>\n",
              "      <td>0.040051</td>\n",
              "      <td>0.381340</td>\n",
              "      <td>0.045669</td>\n",
              "      <td>0.511731</td>\n",
              "      <td>0.045627</td>\n",
              "      <td>0.452297</td>\n",
              "      <td>0.045675</td>\n",
              "    </tr>\n",
              "    <tr>\n",
              "      <th>2021-01-08</th>\n",
              "      <td>2.0</td>\n",
              "      <td>1.0</td>\n",
              "      <td>0.666667</td>\n",
              "      <td>1.0</td>\n",
              "      <td>0.0</td>\n",
              "      <td>1.000000</td>\n",
              "      <td>2.0</td>\n",
              "      <td>4.0</td>\n",
              "      <td>0.333333</td>\n",
              "      <td>1.0</td>\n",
              "      <td>2.0</td>\n",
              "      <td>0.333333</td>\n",
              "      <td>0.0</td>\n",
              "      <td>1.0</td>\n",
              "      <td>0.0000</td>\n",
              "      <td>0.0</td>\n",
              "      <td>1.0</td>\n",
              "      <td>0.000000</td>\n",
              "      <td>0.0</td>\n",
              "      <td>0.0</td>\n",
              "      <td>0.000000</td>\n",
              "      <td>0.0</td>\n",
              "      <td>0.0</td>\n",
              "      <td>0.000000</td>\n",
              "      <td>0.0</td>\n",
              "      <td>0.0</td>\n",
              "      <td>0.000000</td>\n",
              "      <td>0.0</td>\n",
              "      <td>0.0</td>\n",
              "      <td>0.000000</td>\n",
              "      <td>0.0</td>\n",
              "      <td>0.0</td>\n",
              "      <td>0.000000</td>\n",
              "      <td>38.910000</td>\n",
              "      <td>39.180000</td>\n",
              "      <td>37.270000</td>\n",
              "      <td>38.400002</td>\n",
              "      <td>38.400002</td>\n",
              "      <td>1409694</td>\n",
              "      <td>-0.009543</td>\n",
              "      <td>0.153240</td>\n",
              "      <td>0.053220</td>\n",
              "      <td>0.137514</td>\n",
              "      <td>0.044089</td>\n",
              "      <td>0.058052</td>\n",
              "      <td>0.043864</td>\n",
              "      <td>0.126106</td>\n",
              "      <td>0.040569</td>\n",
              "      <td>0.118146</td>\n",
              "      <td>0.041833</td>\n",
              "      <td>0.209427</td>\n",
              "      <td>0.041963</td>\n",
              "      <td>0.248372</td>\n",
              "      <td>0.039636</td>\n",
              "      <td>0.401368</td>\n",
              "      <td>0.045387</td>\n",
              "      <td>0.497286</td>\n",
              "      <td>0.045707</td>\n",
              "      <td>0.493711</td>\n",
              "      <td>0.045018</td>\n",
              "    </tr>\n",
              "    <tr>\n",
              "      <th>2021-01-11</th>\n",
              "      <td>1.0</td>\n",
              "      <td>0.0</td>\n",
              "      <td>1.000000</td>\n",
              "      <td>2.0</td>\n",
              "      <td>4.0</td>\n",
              "      <td>0.333333</td>\n",
              "      <td>1.0</td>\n",
              "      <td>2.0</td>\n",
              "      <td>0.333333</td>\n",
              "      <td>0.0</td>\n",
              "      <td>1.0</td>\n",
              "      <td>0.000000</td>\n",
              "      <td>0.0</td>\n",
              "      <td>1.0</td>\n",
              "      <td>0.0000</td>\n",
              "      <td>0.0</td>\n",
              "      <td>0.0</td>\n",
              "      <td>0.000000</td>\n",
              "      <td>0.0</td>\n",
              "      <td>0.0</td>\n",
              "      <td>0.000000</td>\n",
              "      <td>0.0</td>\n",
              "      <td>0.0</td>\n",
              "      <td>0.000000</td>\n",
              "      <td>0.0</td>\n",
              "      <td>0.0</td>\n",
              "      <td>0.000000</td>\n",
              "      <td>0.0</td>\n",
              "      <td>0.0</td>\n",
              "      <td>0.000000</td>\n",
              "      <td>0.0</td>\n",
              "      <td>0.0</td>\n",
              "      <td>0.000000</td>\n",
              "      <td>37.880001</td>\n",
              "      <td>41.380001</td>\n",
              "      <td>37.880001</td>\n",
              "      <td>40.139999</td>\n",
              "      <td>40.139999</td>\n",
              "      <td>2404446</td>\n",
              "      <td>0.045312</td>\n",
              "      <td>0.158720</td>\n",
              "      <td>0.053527</td>\n",
              "      <td>0.193142</td>\n",
              "      <td>0.044668</td>\n",
              "      <td>0.157038</td>\n",
              "      <td>0.042714</td>\n",
              "      <td>0.117247</td>\n",
              "      <td>0.040158</td>\n",
              "      <td>0.166888</td>\n",
              "      <td>0.042479</td>\n",
              "      <td>0.288706</td>\n",
              "      <td>0.041882</td>\n",
              "      <td>0.270376</td>\n",
              "      <td>0.040030</td>\n",
              "      <td>0.519516</td>\n",
              "      <td>0.043944</td>\n",
              "      <td>0.549102</td>\n",
              "      <td>0.045914</td>\n",
              "      <td>0.505515</td>\n",
              "      <td>0.045165</td>\n",
              "    </tr>\n",
              "    <tr>\n",
              "      <th>2021-01-12</th>\n",
              "      <td>0.0</td>\n",
              "      <td>0.0</td>\n",
              "      <td>0.000000</td>\n",
              "      <td>0.0</td>\n",
              "      <td>0.0</td>\n",
              "      <td>0.000000</td>\n",
              "      <td>0.0</td>\n",
              "      <td>0.0</td>\n",
              "      <td>0.000000</td>\n",
              "      <td>0.0</td>\n",
              "      <td>0.0</td>\n",
              "      <td>0.000000</td>\n",
              "      <td>0.0</td>\n",
              "      <td>0.0</td>\n",
              "      <td>0.0000</td>\n",
              "      <td>0.0</td>\n",
              "      <td>0.0</td>\n",
              "      <td>0.000000</td>\n",
              "      <td>0.0</td>\n",
              "      <td>0.0</td>\n",
              "      <td>0.000000</td>\n",
              "      <td>0.0</td>\n",
              "      <td>0.0</td>\n",
              "      <td>0.000000</td>\n",
              "      <td>0.0</td>\n",
              "      <td>0.0</td>\n",
              "      <td>0.000000</td>\n",
              "      <td>0.0</td>\n",
              "      <td>0.0</td>\n",
              "      <td>0.000000</td>\n",
              "      <td>0.0</td>\n",
              "      <td>0.0</td>\n",
              "      <td>0.000000</td>\n",
              "      <td>40.430000</td>\n",
              "      <td>40.820000</td>\n",
              "      <td>38.849998</td>\n",
              "      <td>39.299999</td>\n",
              "      <td>39.299999</td>\n",
              "      <td>1403253</td>\n",
              "      <td>-0.020927</td>\n",
              "      <td>0.185317</td>\n",
              "      <td>0.050609</td>\n",
              "      <td>0.179362</td>\n",
              "      <td>0.045248</td>\n",
              "      <td>0.138402</td>\n",
              "      <td>0.043148</td>\n",
              "      <td>0.084504</td>\n",
              "      <td>0.040449</td>\n",
              "      <td>0.144241</td>\n",
              "      <td>0.042750</td>\n",
              "      <td>0.261005</td>\n",
              "      <td>0.042172</td>\n",
              "      <td>0.262420</td>\n",
              "      <td>0.040150</td>\n",
              "      <td>0.389170</td>\n",
              "      <td>0.041579</td>\n",
              "      <td>0.504853</td>\n",
              "      <td>0.046097</td>\n",
              "      <td>0.444745</td>\n",
              "      <td>0.045145</td>\n",
              "    </tr>\n",
              "    <tr>\n",
              "      <th>2021-01-13</th>\n",
              "      <td>2.0</td>\n",
              "      <td>4.0</td>\n",
              "      <td>0.333333</td>\n",
              "      <td>1.0</td>\n",
              "      <td>2.0</td>\n",
              "      <td>0.333333</td>\n",
              "      <td>0.0</td>\n",
              "      <td>1.0</td>\n",
              "      <td>0.000000</td>\n",
              "      <td>0.0</td>\n",
              "      <td>1.0</td>\n",
              "      <td>0.000000</td>\n",
              "      <td>0.0</td>\n",
              "      <td>0.0</td>\n",
              "      <td>0.0000</td>\n",
              "      <td>0.0</td>\n",
              "      <td>0.0</td>\n",
              "      <td>0.000000</td>\n",
              "      <td>0.0</td>\n",
              "      <td>0.0</td>\n",
              "      <td>0.000000</td>\n",
              "      <td>0.0</td>\n",
              "      <td>0.0</td>\n",
              "      <td>0.000000</td>\n",
              "      <td>0.0</td>\n",
              "      <td>0.0</td>\n",
              "      <td>0.000000</td>\n",
              "      <td>0.0</td>\n",
              "      <td>0.0</td>\n",
              "      <td>0.000000</td>\n",
              "      <td>0.0</td>\n",
              "      <td>0.0</td>\n",
              "      <td>0.000000</td>\n",
              "      <td>39.430000</td>\n",
              "      <td>41.980000</td>\n",
              "      <td>39.349998</td>\n",
              "      <td>40.799999</td>\n",
              "      <td>40.799999</td>\n",
              "      <td>2188869</td>\n",
              "      <td>0.038168</td>\n",
              "      <td>0.282450</td>\n",
              "      <td>0.042801</td>\n",
              "      <td>0.219330</td>\n",
              "      <td>0.045555</td>\n",
              "      <td>0.204994</td>\n",
              "      <td>0.042845</td>\n",
              "      <td>0.132449</td>\n",
              "      <td>0.040933</td>\n",
              "      <td>0.108833</td>\n",
              "      <td>0.041248</td>\n",
              "      <td>0.305581</td>\n",
              "      <td>0.042413</td>\n",
              "      <td>0.273024</td>\n",
              "      <td>0.040327</td>\n",
              "      <td>0.322208</td>\n",
              "      <td>0.039176</td>\n",
              "      <td>0.542221</td>\n",
              "      <td>0.046246</td>\n",
              "      <td>0.508457</td>\n",
              "      <td>0.045083</td>\n",
              "    </tr>\n",
              "  </tbody>\n",
              "</table>\n",
              "<p>571 rows × 60 columns</p>\n",
              "</div>"
            ],
            "text/plain": [
              "            positives  negatives     ratio  ...    std_50  pct_change_55    std_55\n",
              "date                                        ...                                   \n",
              "2018-10-03        1.0        0.0  1.000000  ...  0.068143       0.672514  0.066640\n",
              "2018-10-04        0.0        0.0  0.000000  ...  0.068096       0.699248  0.066349\n",
              "2018-10-05        0.0        1.0  0.000000  ...  0.068223       0.678231  0.066454\n",
              "2018-10-09        2.0        0.0  1.000000  ...  0.068099       0.740558  0.066140\n",
              "2018-10-10        0.0        2.0  0.000000  ...  0.068151       0.790504  0.065520\n",
              "...               ...        ...       ...  ...       ...            ...       ...\n",
              "2021-01-07        0.0        0.0  0.000000  ...  0.045627       0.452297  0.045675\n",
              "2021-01-08        2.0        1.0  0.666667  ...  0.045707       0.493711  0.045018\n",
              "2021-01-11        1.0        0.0  1.000000  ...  0.045914       0.505515  0.045165\n",
              "2021-01-12        0.0        0.0  0.000000  ...  0.046097       0.444745  0.045145\n",
              "2021-01-13        2.0        4.0  0.333333  ...  0.046246       0.508457  0.045083\n",
              "\n",
              "[571 rows x 60 columns]"
            ]
          },
          "metadata": {
            "tags": []
          },
          "execution_count": 182
        }
      ]
    },
    {
      "cell_type": "code",
      "metadata": {
        "colab": {
          "base_uri": "https://localhost:8080/"
        },
        "id": "n7ZwE7LFhtY8",
        "outputId": "527baf0a-9df2-4ea2-e8ae-1a77fdd873f3"
      },
      "source": [
        "\r\n",
        "X = ensemble_merge\r\n",
        "y = spmi.actual_signal[:-2]\r\n",
        "print(X.shape)\r\n",
        "print(y.shape)"
      ],
      "execution_count": 495,
      "outputs": [
        {
          "output_type": "stream",
          "text": [
            "(571, 60)\n",
            "(571,)\n"
          ],
          "name": "stdout"
        }
      ]
    },
    {
      "cell_type": "code",
      "metadata": {
        "id": "T76_y1qzh2Yd"
      },
      "source": [
        "train_length = int(len(X)*0.75)\r\n",
        "\r\n",
        "X_train = pd.DataFrame()\r\n",
        "X_test = pd.DataFrame()\r\n",
        "y_train = pd.Series()\r\n",
        "y_test = pd.Series()\r\n",
        "\r\n",
        "\r\n",
        "X_train = X_train.append(X[:train_length])\r\n",
        "X_test = X_test.append(X[train_length:])\r\n",
        "y_train = y_train.append(y[:train_length])\r\n",
        "y_test = y_test.append(y[train_length:])\r\n",
        "##Log\r\n",
        "##EN\r\n",
        "##RF\r\n",
        "model_log = LogisticRegression()\r\n",
        "model_XG = XGBClassifier()"
      ],
      "execution_count": 504,
      "outputs": []
    },
    {
      "cell_type": "code",
      "metadata": {
        "colab": {
          "base_uri": "https://localhost:8080/"
        },
        "id": "gadNLjwGh8BK",
        "outputId": "46c0e199-19a0-42de-c222-c1848406176e"
      },
      "source": [
        "scaler = StandardScaler()\r\n",
        "X_train = scaler.fit_transform(X_train)\r\n",
        "X_test = scaler.fit_transform(X_test)\r\n",
        "print(X_train.shape)\r\n",
        "print(X_test.shape)\r\n",
        "print(y_train.shape)\r\n",
        "print(y_test.shape)"
      ],
      "execution_count": 505,
      "outputs": [
        {
          "output_type": "stream",
          "text": [
            "(428, 60)\n",
            "(143, 60)\n",
            "(428,)\n",
            "(143,)\n"
          ],
          "name": "stdout"
        }
      ]
    },
    {
      "cell_type": "code",
      "metadata": {
        "colab": {
          "base_uri": "https://localhost:8080/"
        },
        "id": "wHL0qT6uh-an",
        "outputId": "facbcc31-5f79-4d3f-a670-04fb28956859"
      },
      "source": [
        "model_log.fit(X_train,y_train)\r\n",
        "model_XG.fit(X_train, y_train)\r\n",
        "print('Model Log' + ' ' + str(model_log.score(X_train, y_train)))\r\n",
        "print('Model XGB' + ' ' + str(model_XG.score(X_train, y_train)))"
      ],
      "execution_count": 272,
      "outputs": [
        {
          "output_type": "stream",
          "text": [
            "Model Log 0.6635514018691588\n",
            "Model XGB 0.9672897196261683\n"
          ],
          "name": "stdout"
        }
      ]
    },
    {
      "cell_type": "code",
      "metadata": {
        "colab": {
          "base_uri": "https://localhost:8080/"
        },
        "id": "W8xeBzWpnBm8",
        "outputId": "d2290092-d3fc-472c-8939-c3e3c722ca61"
      },
      "source": [
        "y_predict_XG_standard = model_XG.predict(X_test)\r\n",
        "accuracy = accuracy_score(y_test,y_predict_XG_standard)\r\n",
        "print('Accuracy of the XG boost model is is %.5f%%' % (accuracy*100))"
      ],
      "execution_count": 273,
      "outputs": [
        {
          "output_type": "stream",
          "text": [
            "Accuracy of the XG boost model is is 49.65035%\n"
          ],
          "name": "stdout"
        }
      ]
    },
    {
      "cell_type": "code",
      "metadata": {
        "colab": {
          "base_uri": "https://localhost:8080/"
        },
        "id": "7r3x2SWdnFHC",
        "outputId": "5c7cfe5d-ca7c-4a3b-8d05-153b3a99c019"
      },
      "source": [
        "print(classification_report(y_test, y_predict_XG_standard))"
      ],
      "execution_count": 274,
      "outputs": [
        {
          "output_type": "stream",
          "text": [
            "              precision    recall  f1-score   support\n",
            "\n",
            "           0       0.57      0.48      0.52        81\n",
            "           1       0.43      0.52      0.47        62\n",
            "\n",
            "    accuracy                           0.50       143\n",
            "   macro avg       0.50      0.50      0.50       143\n",
            "weighted avg       0.51      0.50      0.50       143\n",
            "\n"
          ],
          "name": "stdout"
        }
      ]
    },
    {
      "cell_type": "markdown",
      "metadata": {
        "id": "hYb5rWLg1xLp"
      },
      "source": [
        "xgb_model (Optional[Union[xgboost.core.Booster, str, xgboost.sklearn.XGBModel]]) – file name of stored XGBoost model or ‘Booster’ instance XGBoost model to be loaded before training (allows training continuation)"
      ]
    },
    {
      "cell_type": "code",
      "metadata": {
        "colab": {
          "base_uri": "https://localhost:8080/"
        },
        "id": "swUSxdGKnyEN",
        "outputId": "b77b7afa-a0be-4f26-a437-aadcaf287817"
      },
      "source": [
        "y_predict_log_standard = model_log.predict(X_test)\r\n",
        "accuracy = accuracy_score(y_test,y_predict_log_standard)\r\n",
        "print('Accuracy of the logistic regression is %.5f%%' % (accuracy*100))"
      ],
      "execution_count": 275,
      "outputs": [
        {
          "output_type": "stream",
          "text": [
            "Accuracy of the logistic regression is 48.25175%\n"
          ],
          "name": "stdout"
        }
      ]
    },
    {
      "cell_type": "code",
      "metadata": {
        "colab": {
          "base_uri": "https://localhost:8080/"
        },
        "id": "ilmhs7CzoE3w",
        "outputId": "3964e200-f568-403b-cab1-086f4c81250f"
      },
      "source": [
        "print(classification_report(y_test, y_predict_log_standard))"
      ],
      "execution_count": 276,
      "outputs": [
        {
          "output_type": "stream",
          "text": [
            "              precision    recall  f1-score   support\n",
            "\n",
            "           0       0.55      0.49      0.52        81\n",
            "           1       0.41      0.47      0.44        62\n",
            "\n",
            "    accuracy                           0.48       143\n",
            "   macro avg       0.48      0.48      0.48       143\n",
            "weighted avg       0.49      0.48      0.48       143\n",
            "\n"
          ],
          "name": "stdout"
        }
      ]
    },
    {
      "cell_type": "code",
      "metadata": {
        "colab": {
          "base_uri": "https://localhost:8080/"
        },
        "id": "VtnChEs8yVrI",
        "outputId": "2bff168b-5568-4e81-de45-d1639a5f4de9"
      },
      "source": [
        "grid={\"C\":np.logspace(1,10,10), \"penalty\":[\"l1\",\"l2\"]}# l1 lasso l2 ridge\r\n",
        "logreg=LogisticRegression()\r\n",
        "logreg_cv=GridSearchCV(logreg,grid,cv=10)\r\n",
        "logreg_cv.fit(X_train,y_train)\r\n",
        "\r\n",
        "print(\"tuned hpyerparameters :(best parameters) \",logreg_cv.best_params_)\r\n",
        "print(\"accuracy :\",logreg_cv.best_score_)"
      ],
      "execution_count": 277,
      "outputs": [
        {
          "output_type": "stream",
          "text": [
            "tuned hpyerparameters :(best parameters)  {'C': 10.0, 'penalty': 'l2'}\n",
            "accuracy : 0.5327242524916944\n"
          ],
          "name": "stdout"
        }
      ]
    },
    {
      "cell_type": "code",
      "metadata": {
        "colab": {
          "base_uri": "https://localhost:8080/"
        },
        "id": "JMSXVnZsyXf9",
        "outputId": "36c3eeea-5719-4358-ff41-cd38abbd9fad"
      },
      "source": [
        "y_predict_cv_log = logreg_cv.predict(X_test)\r\n",
        "accuracy = accuracy_score(y_test,y_predict_cv_log)\r\n",
        "print('Accuracy of the logistic regression is %.5f%%' % (accuracy*100))"
      ],
      "execution_count": 278,
      "outputs": [
        {
          "output_type": "stream",
          "text": [
            "Accuracy of the logistic regression is 46.85315%\n"
          ],
          "name": "stdout"
        }
      ]
    },
    {
      "cell_type": "markdown",
      "metadata": {
        "id": "daYnHURGys-A"
      },
      "source": [
        "The hyperparameter tuning, and crossvalitdation did not help with improving the log reg model."
      ]
    },
    {
      "cell_type": "code",
      "metadata": {
        "colab": {
          "base_uri": "https://localhost:8080/"
        },
        "id": "DkMdI9slyZcR",
        "outputId": "72c92ea7-4738-4c14-fd56-7cf667bd7339"
      },
      "source": [
        "print(classification_report(y_test, y_predict_cv_log))"
      ],
      "execution_count": 279,
      "outputs": [
        {
          "output_type": "stream",
          "text": [
            "              precision    recall  f1-score   support\n",
            "\n",
            "           0       0.53      0.48      0.51        81\n",
            "           1       0.40      0.45      0.42        62\n",
            "\n",
            "    accuracy                           0.47       143\n",
            "   macro avg       0.47      0.47      0.47       143\n",
            "weighted avg       0.48      0.47      0.47       143\n",
            "\n"
          ],
          "name": "stdout"
        }
      ]
    },
    {
      "cell_type": "markdown",
      "metadata": {
        "id": "usYwQQEW_UZX"
      },
      "source": [
        "# XGBOOST hyperparamet tuning"
      ]
    },
    {
      "cell_type": "code",
      "metadata": {
        "colab": {
          "base_uri": "https://localhost:8080/"
        },
        "id": "1GQBgWJt_X3Z",
        "outputId": "43b6411f-cdf8-4be6-ed2b-80be7c790b16"
      },
      "source": [
        "xgb_base = XGBClassifier()\r\n",
        "\r\n",
        "# Create the random search Random Forest\r\n",
        "xgb_random = RandomizedSearchCV(estimator = xgb_base, param_distributions = xgb_grid, \r\n",
        "                                n_iter = 50, cv = 3, verbose = 2, \r\n",
        "                                random_state = 42, n_jobs = -1)\r\n",
        "eval_set = [(X_test, y_test)]\r\n",
        "xgb_random.fit(X_train, y_train,early_stopping_rounds = 10, eval_metric=[\"error\", \"logloss\"], eval_set=eval_set, verbose=True)"
      ],
      "execution_count": 280,
      "outputs": [
        {
          "output_type": "stream",
          "text": [
            "Fitting 3 folds for each of 50 candidates, totalling 150 fits\n"
          ],
          "name": "stdout"
        },
        {
          "output_type": "stream",
          "text": [
            "[Parallel(n_jobs=-1)]: Using backend LokyBackend with 2 concurrent workers.\n"
          ],
          "name": "stderr"
        },
        {
          "output_type": "stream",
          "text": [
            "[0]\tvalidation_0-error:0.461538\tvalidation_0-logloss:0.693508\n",
            "Multiple eval metrics have been passed: 'validation_0-logloss' will be used for early stopping.\n",
            "\n",
            "Will train until validation_0-logloss hasn't improved in 10 rounds.\n",
            "[1]\tvalidation_0-error:0.433566\tvalidation_0-logloss:0.688215\n",
            "[2]\tvalidation_0-error:0.475524\tvalidation_0-logloss:0.693203\n",
            "[3]\tvalidation_0-error:0.461538\tvalidation_0-logloss:0.698301\n",
            "[4]\tvalidation_0-error:0.447552\tvalidation_0-logloss:0.700373\n",
            "[5]\tvalidation_0-error:0.468531\tvalidation_0-logloss:0.700705\n",
            "[6]\tvalidation_0-error:0.48951\tvalidation_0-logloss:0.713709\n",
            "[7]\tvalidation_0-error:0.461538\tvalidation_0-logloss:0.719686\n",
            "[8]\tvalidation_0-error:0.48951\tvalidation_0-logloss:0.730313\n",
            "[9]\tvalidation_0-error:0.503497\tvalidation_0-logloss:0.73981\n",
            "[10]\tvalidation_0-error:0.48951\tvalidation_0-logloss:0.748856\n",
            "[11]\tvalidation_0-error:0.496504\tvalidation_0-logloss:0.754492\n",
            "Stopping. Best iteration:\n",
            "[1]\tvalidation_0-error:0.433566\tvalidation_0-logloss:0.688215\n",
            "\n"
          ],
          "name": "stdout"
        },
        {
          "output_type": "stream",
          "text": [
            "[Parallel(n_jobs=-1)]: Done 150 out of 150 | elapsed:    3.3s finished\n"
          ],
          "name": "stderr"
        },
        {
          "output_type": "execute_result",
          "data": {
            "text/plain": [
              "RandomizedSearchCV(cv=3, error_score=nan,\n",
              "                   estimator=XGBClassifier(base_score=0.5, booster='gbtree',\n",
              "                                           colsample_bylevel=1,\n",
              "                                           colsample_bynode=1,\n",
              "                                           colsample_bytree=1, gamma=0,\n",
              "                                           learning_rate=0.1, max_delta_step=0,\n",
              "                                           max_depth=3, min_child_weight=1,\n",
              "                                           missing=None, n_estimators=100,\n",
              "                                           n_jobs=1, nthread=None,\n",
              "                                           objective='binary:logistic',\n",
              "                                           random_state=0, reg_alpha=0,\n",
              "                                           reg_lambda=1, sc...\n",
              "                                        'min_child_weight': [1, 2, 3, 4, 5],\n",
              "                                        'n_estimators': [50, 55, 60, 65, 70, 75,\n",
              "                                                         80, 85, 90, 95, 101,\n",
              "                                                         106, 111, 116, 121,\n",
              "                                                         126, 131, 136, 141,\n",
              "                                                         146, 152, 157, 162,\n",
              "                                                         167, 172, 177, 182,\n",
              "                                                         187, 192, 197, ...],\n",
              "                                        'objective': ['reg:squarederror',\n",
              "                                                      'reg:squaredlogerror'],\n",
              "                                        'tree_method': ['auto', 'exact',\n",
              "                                                        'approx', 'hist',\n",
              "                                                        'gpu_hist']},\n",
              "                   pre_dispatch='2*n_jobs', random_state=42, refit=True,\n",
              "                   return_train_score=False, scoring=None, verbose=2)"
            ]
          },
          "metadata": {
            "tags": []
          },
          "execution_count": 280
        }
      ]
    },
    {
      "cell_type": "code",
      "metadata": {
        "colab": {
          "base_uri": "https://localhost:8080/"
        },
        "id": "b6n1lGBkolEo",
        "outputId": "08bd30e5-77df-4d17-b07a-7a3646caf411"
      },
      "source": [
        "y_predict_XG_Hyper = xgb_random.predict(X_test)\r\n",
        "accuracy = accuracy_score(y_test,y_predict_XG_Hyper)\r\n",
        "print('Accuracy of the logistic regression is %.5f%%' % (accuracy*100))"
      ],
      "execution_count": 281,
      "outputs": [
        {
          "output_type": "stream",
          "text": [
            "Accuracy of the logistic regression is 56.64336%\n"
          ],
          "name": "stdout"
        }
      ]
    },
    {
      "cell_type": "code",
      "metadata": {
        "colab": {
          "base_uri": "https://localhost:8080/"
        },
        "id": "ekySVT_Lpi8H",
        "outputId": "b20a6a1f-928f-4da1-dfe1-0a7d78e81597"
      },
      "source": [
        "print(classification_report(y_test, y_predict_XG_Hyper))"
      ],
      "execution_count": 282,
      "outputs": [
        {
          "output_type": "stream",
          "text": [
            "              precision    recall  f1-score   support\n",
            "\n",
            "           0       0.61      0.63      0.62        81\n",
            "           1       0.50      0.48      0.49        62\n",
            "\n",
            "    accuracy                           0.57       143\n",
            "   macro avg       0.56      0.56      0.56       143\n",
            "weighted avg       0.56      0.57      0.57       143\n",
            "\n"
          ],
          "name": "stdout"
        }
      ]
    },
    {
      "cell_type": "code",
      "metadata": {
        "colab": {
          "base_uri": "https://localhost:8080/",
          "height": 173
        },
        "id": "2UGjb-yCoeFt",
        "outputId": "62038370-c693-4711-f721-e8ee5744d414"
      },
      "source": [
        "# Call the comparison function with the three final models\r\n",
        "final_scores = final_comparison([logreg_cv,model_log, xgb_random,model_XG], X_test, y_test)\r\n",
        "\r\n",
        "# Adjust the column headers\r\n",
        "final_scores.columns  = ['Hyper Log reg','Log REG', 'Hyper XGb','XGb']\r\n",
        "final_scores"
      ],
      "execution_count": 283,
      "outputs": [
        {
          "output_type": "execute_result",
          "data": {
            "text/html": [
              "<div>\n",
              "<style scoped>\n",
              "    .dataframe tbody tr th:only-of-type {\n",
              "        vertical-align: middle;\n",
              "    }\n",
              "\n",
              "    .dataframe tbody tr th {\n",
              "        vertical-align: top;\n",
              "    }\n",
              "\n",
              "    .dataframe thead th {\n",
              "        text-align: right;\n",
              "    }\n",
              "</style>\n",
              "<table border=\"1\" class=\"dataframe\">\n",
              "  <thead>\n",
              "    <tr style=\"text-align: right;\">\n",
              "      <th></th>\n",
              "      <th>Hyper Log reg</th>\n",
              "      <th>Log REG</th>\n",
              "      <th>Hyper XGb</th>\n",
              "      <th>XGb</th>\n",
              "    </tr>\n",
              "  </thead>\n",
              "  <tbody>\n",
              "    <tr>\n",
              "      <th>Mean Absolute Error</th>\n",
              "      <td>0.531500</td>\n",
              "      <td>0.517500</td>\n",
              "      <td>0.433600</td>\n",
              "      <td>0.503500</td>\n",
              "    </tr>\n",
              "    <tr>\n",
              "      <th>Mean Squared Error</th>\n",
              "      <td>0.531500</td>\n",
              "      <td>0.517500</td>\n",
              "      <td>0.433600</td>\n",
              "      <td>0.503500</td>\n",
              "    </tr>\n",
              "    <tr>\n",
              "      <th>R^2</th>\n",
              "      <td>-1.164100</td>\n",
              "      <td>-1.107100</td>\n",
              "      <td>-0.765400</td>\n",
              "      <td>-1.050200</td>\n",
              "    </tr>\n",
              "    <tr>\n",
              "      <th>Accuracy</th>\n",
              "      <td>0.468531</td>\n",
              "      <td>0.482517</td>\n",
              "      <td>0.566434</td>\n",
              "      <td>0.496503</td>\n",
              "    </tr>\n",
              "  </tbody>\n",
              "</table>\n",
              "</div>"
            ],
            "text/plain": [
              "                     Hyper Log reg   Log REG  Hyper XGb       XGb\n",
              "Mean Absolute Error       0.531500  0.517500   0.433600  0.503500\n",
              "Mean Squared Error        0.531500  0.517500   0.433600  0.503500\n",
              "R^2                      -1.164100 -1.107100  -0.765400 -1.050200\n",
              "Accuracy                  0.468531  0.482517   0.566434  0.496503"
            ]
          },
          "metadata": {
            "tags": []
          },
          "execution_count": 283
        }
      ]
    },
    {
      "cell_type": "markdown",
      "metadata": {
        "id": "ikryaZM6zJvZ"
      },
      "source": [
        "# Hyperparameter tuned and crossvalidated Extreme gradient boost model, is best at predicting whether the next day has a positive or negative return, in all 3 models. "
      ]
    },
    {
      "cell_type": "markdown",
      "metadata": {
        "id": "sXq5ZTD5zhKu"
      },
      "source": [
        "# investing data pre..."
      ]
    },
    {
      "cell_type": "code",
      "metadata": {
        "id": "xoMzMUghqW2n"
      },
      "source": [
        "hmm2 = spmi[430:]\r\n",
        "hmm2['pred_signal']=xgb_random.predict_proba(X_test)[:,1]"
      ],
      "execution_count": 284,
      "outputs": []
    },
    {
      "cell_type": "code",
      "metadata": {
        "id": "5EvK7mFdq7eU"
      },
      "source": [
        "Tradedata2 = hmm2.iloc[:,33:]\r\n"
      ],
      "execution_count": 285,
      "outputs": []
    },
    {
      "cell_type": "code",
      "metadata": {
        "id": "nkJ-VCW1qWWJ"
      },
      "source": [
        "Tradedata2.rename(columns = {'Open':'open','High':'high','Low':'low','Adj Close':'close','Volume':'volume','pred_signal':'predicted'\r\n",
        "                         }, inplace=True)"
      ],
      "execution_count": 286,
      "outputs": []
    },
    {
      "cell_type": "code",
      "metadata": {
        "colab": {
          "base_uri": "https://localhost:8080/",
          "height": 340
        },
        "id": "9mkY-HeIsC9_",
        "outputId": "3dc2079e-7f2e-4afa-fc4c-7f4e10a4e484"
      },
      "source": [
        "Tradedata2.head()"
      ],
      "execution_count": 214,
      "outputs": [
        {
          "output_type": "execute_result",
          "data": {
            "text/html": [
              "<div>\n",
              "<style scoped>\n",
              "    .dataframe tbody tr th:only-of-type {\n",
              "        vertical-align: middle;\n",
              "    }\n",
              "\n",
              "    .dataframe tbody tr th {\n",
              "        vertical-align: top;\n",
              "    }\n",
              "\n",
              "    .dataframe thead th {\n",
              "        text-align: right;\n",
              "    }\n",
              "</style>\n",
              "<table border=\"1\" class=\"dataframe\">\n",
              "  <thead>\n",
              "    <tr style=\"text-align: right;\">\n",
              "      <th></th>\n",
              "      <th>open</th>\n",
              "      <th>high</th>\n",
              "      <th>low</th>\n",
              "      <th>Close</th>\n",
              "      <th>close</th>\n",
              "      <th>volume</th>\n",
              "      <th>daily_pct_change</th>\n",
              "      <th>return_next_day</th>\n",
              "      <th>actual_signal</th>\n",
              "      <th>predicted</th>\n",
              "    </tr>\n",
              "    <tr>\n",
              "      <th>date</th>\n",
              "      <th></th>\n",
              "      <th></th>\n",
              "      <th></th>\n",
              "      <th></th>\n",
              "      <th></th>\n",
              "      <th></th>\n",
              "      <th></th>\n",
              "      <th></th>\n",
              "      <th></th>\n",
              "      <th></th>\n",
              "    </tr>\n",
              "  </thead>\n",
              "  <tbody>\n",
              "    <tr>\n",
              "      <th>2020-06-19</th>\n",
              "      <td>24.559999</td>\n",
              "      <td>24.559999</td>\n",
              "      <td>23.230000</td>\n",
              "      <td>23.639999</td>\n",
              "      <td>23.639999</td>\n",
              "      <td>4461467</td>\n",
              "      <td>0.013288</td>\n",
              "      <td>-0.006768</td>\n",
              "      <td>0</td>\n",
              "      <td>0.545844</td>\n",
              "    </tr>\n",
              "    <tr>\n",
              "      <th>2020-06-22</th>\n",
              "      <td>23.450001</td>\n",
              "      <td>23.940001</td>\n",
              "      <td>23.250000</td>\n",
              "      <td>23.480000</td>\n",
              "      <td>23.480000</td>\n",
              "      <td>791750</td>\n",
              "      <td>-0.006768</td>\n",
              "      <td>-0.007666</td>\n",
              "      <td>0</td>\n",
              "      <td>0.483101</td>\n",
              "    </tr>\n",
              "    <tr>\n",
              "      <th>2020-06-23</th>\n",
              "      <td>23.690001</td>\n",
              "      <td>25.180000</td>\n",
              "      <td>23.270000</td>\n",
              "      <td>23.299999</td>\n",
              "      <td>23.299999</td>\n",
              "      <td>3333527</td>\n",
              "      <td>-0.007666</td>\n",
              "      <td>-0.022747</td>\n",
              "      <td>0</td>\n",
              "      <td>0.379968</td>\n",
              "    </tr>\n",
              "    <tr>\n",
              "      <th>2020-06-24</th>\n",
              "      <td>23.150000</td>\n",
              "      <td>23.500000</td>\n",
              "      <td>22.420000</td>\n",
              "      <td>22.770000</td>\n",
              "      <td>22.770000</td>\n",
              "      <td>1440619</td>\n",
              "      <td>-0.022747</td>\n",
              "      <td>-0.006588</td>\n",
              "      <td>0</td>\n",
              "      <td>0.394166</td>\n",
              "    </tr>\n",
              "    <tr>\n",
              "      <th>2020-06-25</th>\n",
              "      <td>22.500000</td>\n",
              "      <td>22.790001</td>\n",
              "      <td>22.209999</td>\n",
              "      <td>22.620001</td>\n",
              "      <td>22.620001</td>\n",
              "      <td>1012985</td>\n",
              "      <td>-0.006588</td>\n",
              "      <td>-0.035367</td>\n",
              "      <td>0</td>\n",
              "      <td>0.540432</td>\n",
              "    </tr>\n",
              "  </tbody>\n",
              "</table>\n",
              "</div>"
            ],
            "text/plain": [
              "                 open       high  ...  actual_signal  predicted\n",
              "date                              ...                          \n",
              "2020-06-19  24.559999  24.559999  ...              0   0.545844\n",
              "2020-06-22  23.450001  23.940001  ...              0   0.483101\n",
              "2020-06-23  23.690001  25.180000  ...              0   0.379968\n",
              "2020-06-24  23.150000  23.500000  ...              0   0.394166\n",
              "2020-06-25  22.500000  22.790001  ...              0   0.540432\n",
              "\n",
              "[5 rows x 10 columns]"
            ]
          },
          "metadata": {
            "tags": []
          },
          "execution_count": 214
        }
      ]
    },
    {
      "cell_type": "code",
      "metadata": {
        "id": "ZQUtcWlHsglF"
      },
      "source": [
        "cerebro = bt.Cerebro(stdstats=False)"
      ],
      "execution_count": 296,
      "outputs": []
    },
    {
      "cell_type": "code",
      "metadata": {
        "colab": {
          "base_uri": "https://localhost:8080/"
        },
        "id": "IhTBnIf3rPG-",
        "outputId": "bd42fb58-bdca-4edc-8185-56cd8eb7bcb5"
      },
      "source": [
        "data1=yf.download(tickers, start=start, end=end)\r\n",
        "data1.rename(columns = {'Open':'open','High':'high','Low':'low','Adj Close':'close','Volume':'volume',\r\n",
        "                         }, inplace=True)\r\n",
        "predictions = Tradedata2['predicted']\r\n",
        "predictions = pd.DataFrame(predictions)\r\n",
        "prices = predictions.join(data1,how='left').dropna()\r\n",
        "data = SignalData(dataname=prices)"
      ],
      "execution_count": 297,
      "outputs": [
        {
          "output_type": "stream",
          "text": [
            "\r[*********************100%***********************]  1 of 1 completed\n"
          ],
          "name": "stdout"
        }
      ]
    },
    {
      "cell_type": "code",
      "metadata": {
        "id": "NSu3qmUTsX_x"
      },
      "source": [
        ""
      ],
      "execution_count": null,
      "outputs": []
    },
    {
      "cell_type": "code",
      "metadata": {
        "id": "4VInaSzHsfof"
      },
      "source": [
        "# instantiate Cerebro, add strategy, data, initial cash, commission and pyfolio for performance analysis\r\n",
        "cerebro = bt.Cerebro(stdstats = False, cheat_on_open=True)\r\n",
        "cerebro.addstrategy(MLStrategy)\r\n",
        "cerebro.adddata(data, name=\"WEED.TO\")\r\n",
        "cerebro.broker.setcash(100000.0)\r\n",
        "cerebro.broker.setcommission(commission=0.00)\r\n",
        "cerebro.addanalyzer(bt.analyzers.PyFolio, _name='pyfolio')"
      ],
      "execution_count": 307,
      "outputs": []
    },
    {
      "cell_type": "code",
      "metadata": {
        "colab": {
          "base_uri": "https://localhost:8080/"
        },
        "id": "iZgnZzykrYsz",
        "outputId": "154d2a9f-83a2-47f9-9dda-8ea00000b92c"
      },
      "source": [
        " #run the backtest\r\n",
        "print('Starting Portfolio Value: %.2f' % cerebro.broker.getvalue())\r\n",
        "backtest_result = cerebro.run()\r\n",
        "print('Final Portfolio Value: %.2f' % cerebro.broker.getvalue())"
      ],
      "execution_count": 308,
      "outputs": [
        {
          "output_type": "stream",
          "text": [
            "Starting Portfolio Value: 100000.00\n",
            "2020-06-26, BUY EXECUTED --- Price: 22.55, Cost: 99986.70,Commission: 0.00\n",
            "2020-06-29, SELL EXECUTED --- Price: 21.61, Cost: 99986.70,Commission: 0.00\n",
            "2020-06-29, OPERATION RESULT --- Gross: -4167.95, Net: -4167.95\n",
            "2020-07-03, BUY EXECUTED --- Price: 22.23, Cost: 95811.30,Commission: 0.00\n",
            "2020-07-06, SELL EXECUTED --- Price: 22.23, Cost: 95811.30,Commission: 0.00\n",
            "2020-07-06, OPERATION RESULT --- Gross: 0.00, Net: 0.00\n",
            "2020-07-15, BUY EXECUTED --- Price: 23.75, Cost: 95831.25,Commission: 0.00\n",
            "2020-07-22, SELL EXECUTED --- Price: 23.83, Cost: 95831.25,Commission: 0.00\n",
            "2020-07-22, OPERATION RESULT --- Gross: 322.80, Net: 322.80\n",
            "2020-07-23, BUY EXECUTED --- Price: 23.14, Cost: 96146.70,Commission: 0.00\n",
            "2020-07-29, SELL EXECUTED --- Price: 25.75, Cost: 96146.70,Commission: 0.00\n",
            "2020-07-29, OPERATION RESULT --- Gross: 10844.55, Net: 10844.55\n",
            "2020-08-06, BUY EXECUTED --- Price: 25.27, Cost: 106993.18,Commission: 0.00\n",
            "2020-08-07, SELL EXECUTED --- Price: 23.63, Cost: 106993.18,Commission: 0.00\n",
            "2020-08-07, OPERATION RESULT --- Gross: -6943.77, Net: -6943.77\n",
            "2020-08-19, BUY EXECUTED --- Price: 22.25, Cost: 100036.00,Commission: 0.00\n",
            "2020-09-01, SELL EXECUTED --- Price: 21.33, Cost: 100036.00,Commission: 0.00\n",
            "2020-09-01, OPERATION RESULT --- Gross: -4136.32, Net: -4136.32\n",
            "2020-09-03, BUY EXECUTED --- Price: 21.32, Cost: 95918.68,Commission: 0.00\n",
            "2020-09-10, SELL EXECUTED --- Price: 21.55, Cost: 95918.68,Commission: 0.00\n",
            "2020-09-10, OPERATION RESULT --- Gross: 1034.77, Net: 1034.77\n",
            "2020-09-11, BUY EXECUTED --- Price: 21.69, Cost: 96932.61,Commission: 0.00\n",
            "2020-09-14, SELL EXECUTED --- Price: 21.33, Cost: 96932.61,Commission: 0.00\n",
            "2020-09-14, OPERATION RESULT --- Gross: -1608.84, Net: -1608.84\n",
            "2020-09-21, BUY EXECUTED --- Price: 21.15, Cost: 95344.20,Commission: 0.00\n",
            "2020-09-23, SELL EXECUTED --- Price: 21.19, Cost: 95344.20,Commission: 0.00\n",
            "2020-09-23, OPERATION RESULT --- Gross: 180.32, Net: 180.32\n",
            "2020-09-24, BUY EXECUTED --- Price: 19.25, Cost: 95518.50,Commission: 0.00\n",
            "2020-09-29, SELL EXECUTED --- Price: 19.01, Cost: 95518.50,Commission: 0.00\n",
            "2020-09-29, OPERATION RESULT --- Gross: -1190.88, Net: -1190.88\n",
            "2020-10-02, BUY EXECUTED --- Price: 18.50, Cost: 94331.50,Commission: 0.00\n",
            "2020-10-05, SELL EXECUTED --- Price: 18.69, Cost: 94331.50,Commission: 0.00\n",
            "2020-10-05, OPERATION RESULT --- Gross: 968.81, Net: 968.81\n",
            "2020-10-19, BUY EXECUTED --- Price: 23.52, Cost: 95303.04,Commission: 0.00\n",
            "2020-10-20, SELL EXECUTED --- Price: 25.70, Cost: 95303.04,Commission: 0.00\n",
            "2020-10-20, OPERATION RESULT --- Gross: 8833.36, Net: 8833.36\n",
            "2020-10-26, BUY EXECUTED --- Price: 25.73, Cost: 104129.31,Commission: 0.00\n",
            "2020-10-28, SELL EXECUTED --- Price: 24.16, Cost: 104129.31,Commission: 0.00\n",
            "2020-10-28, OPERATION RESULT --- Gross: -6353.79, Net: -6353.79\n",
            "2020-11-02, BUY EXECUTED --- Price: 25.31, Cost: 97772.53,Commission: 0.00\n",
            "2020-11-10, SELL EXECUTED --- Price: 30.75, Cost: 97772.53,Commission: 0.00\n",
            "2020-11-10, OPERATION RESULT --- Gross: 21014.72, Net: 21014.72\n",
            "2020-11-11, BUY EXECUTED --- Price: 30.40, Cost: 118772.80,Commission: 0.00\n",
            "2020-11-18, SELL EXECUTED --- Price: 32.39, Cost: 118772.80,Commission: 0.00\n",
            "2020-11-18, OPERATION RESULT --- Gross: 7774.93, Net: 7774.93\n",
            "2020-11-20, BUY EXECUTED --- Price: 30.89, Cost: 126556.33,Commission: 0.00\n",
            "2020-11-23, SELL EXECUTED --- Price: 31.21, Cost: 126556.33,Commission: 0.00\n",
            "2020-11-23, OPERATION RESULT --- Gross: 1311.04, Net: 1311.04\n",
            "2020-11-25, BUY EXECUTED --- Price: 34.19, Cost: 127870.59,Commission: 0.00\n",
            "2020-11-26, SELL EXECUTED --- Price: 34.98, Cost: 127870.59,Commission: 0.00\n",
            "2020-11-26, OPERATION RESULT --- Gross: 2954.60, Net: 2954.60\n",
            "2020-12-02, BUY EXECUTED --- Price: 34.62, Cost: 130828.98,Commission: 0.00\n",
            "2020-12-03, SELL EXECUTED --- Price: 36.44, Cost: 130828.98,Commission: 0.00\n",
            "2020-12-03, OPERATION RESULT --- Gross: 6877.78, Net: 6877.78\n",
            "2020-12-21, BUY EXECUTED --- Price: 32.15, Cost: 137698.46,Commission: 0.00\n",
            "2021-01-07, SELL EXECUTED --- Price: 39.94, Cost: 137698.46,Commission: 0.00\n",
            "2021-01-07, OPERATION RESULT --- Gross: 33364.56, Net: 33364.56\n",
            "2021-01-14, BUY EXECUTED --- Price: 41.27, Cost: 171064.15,Commission: 0.00\n",
            "2021-01-15, SELL EXECUTED --- Price: 43.94, Cost: 171064.15,Commission: 0.00\n",
            "2021-01-15, OPERATION RESULT --- Gross: 11067.14, Net: 11067.14\n",
            "Final Portfolio Value: 182147.84\n"
          ],
          "name": "stdout"
        }
      ]
    },
    {
      "cell_type": "code",
      "metadata": {
        "colab": {
          "base_uri": "https://localhost:8080/"
        },
        "id": "nR8n54Bosx9f",
        "outputId": "60a5bb9f-66a4-4440-f282-f8749f76f66b"
      },
      "source": [
        "strat = backtest_result[0]\r\n",
        "pyfoliozer = strat.analyzers.getbyname('pyfolio')\r\n",
        "returns, positions, transactions, gross_lev = pyfoliozer.get_pf_items()\r\n",
        "returns.name = 'Strategy'\r\n",
        "returns.head(2)"
      ],
      "execution_count": 310,
      "outputs": [
        {
          "output_type": "execute_result",
          "data": {
            "text/plain": [
              "index\n",
              "2020-06-19 00:00:00+00:00    0.0\n",
              "2020-06-22 00:00:00+00:00    0.0\n",
              "Name: Strategy, dtype: float64"
            ]
          },
          "metadata": {
            "tags": []
          },
          "execution_count": 310
        }
      ]
    },
    {
      "cell_type": "code",
      "metadata": {
        "colab": {
          "base_uri": "https://localhost:8080/",
          "height": 545
        },
        "id": "IRf3shLfs5NE",
        "outputId": "db0d7d26-c3ee-4b4e-de2e-2d55cdf3a8b0"
      },
      "source": [
        "returns.dropna(inplace=True)\r\n",
        "returns=returns[1:]\r\n",
        "merged_ret_4852 = returns\r\n",
        "pf.show_perf_stats(returns)"
      ],
      "execution_count": 311,
      "outputs": [
        {
          "output_type": "display_data",
          "data": {
            "text/html": [
              "<table border=\"1\" class=\"dataframe\">\n",
              "  <thead>\n",
              "    <tr style=\"text-align: right;\"><th>Start date</th><td colspan=2>2020-06-22</td></tr>\n",
              "    <tr style=\"text-align: right;\"><th>End date</th><td colspan=2>2021-01-15</td></tr>\n",
              "    <tr style=\"text-align: right;\"><th>Total months</th><td colspan=2>6</td></tr>\n",
              "    <tr style=\"text-align: right;\">\n",
              "      <th></th>\n",
              "      <th>Backtest</th>\n",
              "    </tr>\n",
              "  </thead>\n",
              "  <tbody>\n",
              "    <tr>\n",
              "      <th>Annual return</th>\n",
              "      <td>189.842%</td>\n",
              "    </tr>\n",
              "    <tr>\n",
              "      <th>Cumulative returns</th>\n",
              "      <td>82.148%</td>\n",
              "    </tr>\n",
              "    <tr>\n",
              "      <th>Annual volatility</th>\n",
              "      <td>48.843%</td>\n",
              "    </tr>\n",
              "    <tr>\n",
              "      <th>Sharpe ratio</th>\n",
              "      <td>2.42</td>\n",
              "    </tr>\n",
              "    <tr>\n",
              "      <th>Calmar ratio</th>\n",
              "      <td>13.38</td>\n",
              "    </tr>\n",
              "    <tr>\n",
              "      <th>Stability</th>\n",
              "      <td>0.67</td>\n",
              "    </tr>\n",
              "    <tr>\n",
              "      <th>Max drawdown</th>\n",
              "      <td>-14.19%</td>\n",
              "    </tr>\n",
              "    <tr>\n",
              "      <th>Omega ratio</th>\n",
              "      <td>1.84</td>\n",
              "    </tr>\n",
              "    <tr>\n",
              "      <th>Sortino ratio</th>\n",
              "      <td>5.13</td>\n",
              "    </tr>\n",
              "    <tr>\n",
              "      <th>Skew</th>\n",
              "      <td>1.75</td>\n",
              "    </tr>\n",
              "    <tr>\n",
              "      <th>Kurtosis</th>\n",
              "      <td>6.13</td>\n",
              "    </tr>\n",
              "    <tr>\n",
              "      <th>Tail ratio</th>\n",
              "      <td>1.82</td>\n",
              "    </tr>\n",
              "    <tr>\n",
              "      <th>Daily value at risk</th>\n",
              "      <td>-5.685%</td>\n",
              "    </tr>\n",
              "  </tbody>\n",
              "</table>"
            ],
            "text/plain": [
              "<IPython.core.display.HTML object>"
            ]
          },
          "metadata": {
            "tags": []
          }
        }
      ]
    },
    {
      "cell_type": "code",
      "metadata": {
        "colab": {
          "base_uri": "https://localhost:8080/",
          "height": 486
        },
        "id": "KhHKxGwqs8HO",
        "outputId": "8bbb9d35-ddf8-42fa-b0f8-97b52dcaacc1"
      },
      "source": [
        "# plot performance for strategy vs benchmark\r\n",
        "fig, ax = plt.subplots(nrows=2, ncols=2, figsize=(16, 9),constrained_layout=True)\r\n",
        "axes = ax.flatten()\r\n",
        "\r\n",
        "pf.plot_drawdown_periods(returns=returns, ax=axes[0])\r\n",
        "axes[0].grid(True)\r\n",
        "pf.plot_rolling_returns(returns=returns,\r\n",
        "                        factor_returns=benchmark_rets,\r\n",
        "                        ax=axes[1], title='Merged_Strategy vs Buy&Hold')\r\n",
        "axes[1].grid(True)\r\n",
        "pf.plot_drawdown_underwater(returns=returns, ax=axes[2])\r\n",
        "axes[2].grid(True)\r\n",
        "pf.plot_rolling_sharpe(returns=returns, ax=axes[3])\r\n",
        "axes[3].grid(True)\r\n",
        "\r\n",
        "plt.grid(True)\r\n",
        "plt.legend()\r\n",
        "plt.tight_layout()\r\n",
        "from google.colab import files\r\n",
        "plt.savefig(\"Merged-4852.png\")\r\n",
        "files.download(\"Merged-4852.png\")"
      ],
      "execution_count": 312,
      "outputs": [
        {
          "output_type": "display_data",
          "data": {
            "application/javascript": [
              "\n",
              "    async function download(id, filename, size) {\n",
              "      if (!google.colab.kernel.accessAllowed) {\n",
              "        return;\n",
              "      }\n",
              "      const div = document.createElement('div');\n",
              "      const label = document.createElement('label');\n",
              "      label.textContent = `Downloading \"${filename}\": `;\n",
              "      div.appendChild(label);\n",
              "      const progress = document.createElement('progress');\n",
              "      progress.max = size;\n",
              "      div.appendChild(progress);\n",
              "      document.body.appendChild(div);\n",
              "\n",
              "      const buffers = [];\n",
              "      let downloaded = 0;\n",
              "\n",
              "      const channel = await google.colab.kernel.comms.open(id);\n",
              "      // Send a message to notify the kernel that we're ready.\n",
              "      channel.send({})\n",
              "\n",
              "      for await (const message of channel.messages) {\n",
              "        // Send a message to notify the kernel that we're ready.\n",
              "        channel.send({})\n",
              "        if (message.buffers) {\n",
              "          for (const buffer of message.buffers) {\n",
              "            buffers.push(buffer);\n",
              "            downloaded += buffer.byteLength;\n",
              "            progress.value = downloaded;\n",
              "          }\n",
              "        }\n",
              "      }\n",
              "      const blob = new Blob(buffers, {type: 'application/binary'});\n",
              "      const a = document.createElement('a');\n",
              "      a.href = window.URL.createObjectURL(blob);\n",
              "      a.download = filename;\n",
              "      div.appendChild(a);\n",
              "      a.click();\n",
              "      div.remove();\n",
              "    }\n",
              "  "
            ],
            "text/plain": [
              "<IPython.core.display.Javascript object>"
            ]
          },
          "metadata": {
            "tags": []
          }
        },
        {
          "output_type": "display_data",
          "data": {
            "application/javascript": [
              "download(\"download_12ec5718-60c8-4af5-bcf9-22ae7cb144fe\", \"Merged-4852.png\", 102419)"
            ],
            "text/plain": [
              "<IPython.core.display.Javascript object>"
            ]
          },
          "metadata": {
            "tags": []
          }
        },
        {
          "output_type": "display_data",
          "data": {
            "image/png": "[encoded data removed]",
            "text/plain": [
              "<Figure size 1152x648 with 4 Axes>"
            ]
          },
          "metadata": {
            "tags": [],
            "needs_background": "light"
          }
        }
      ]
    },
    {
      "cell_type": "markdown",
      "metadata": {
        "id": "RrFNo-e_ATpl"
      },
      "source": [
        "# Plotting the 48/52 strategies."
      ]
    }
  ]
}